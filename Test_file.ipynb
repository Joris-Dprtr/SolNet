{
 "cells": [
  {
   "cell_type": "code",
   "execution_count": 6,
   "id": "98ad5f3e",
   "metadata": {},
   "outputs": [
    {
     "name": "stdout",
     "output_type": "stream",
     "text": [
      "Requirement already satisfied: requests in c:\\users\\joris\\anaconda3\\envs\\solnet\\lib\\site-packages (2.28.1)\n",
      "Requirement already satisfied: urllib3<1.27,>=1.21.1 in c:\\users\\joris\\anaconda3\\envs\\solnet\\lib\\site-packages (from requests) (1.26.12)\n",
      "Requirement already satisfied: idna<4,>=2.5 in c:\\users\\joris\\anaconda3\\envs\\solnet\\lib\\site-packages (from requests) (3.4)\n",
      "Requirement already satisfied: charset-normalizer<3,>=2 in c:\\users\\joris\\anaconda3\\envs\\solnet\\lib\\site-packages (from requests) (2.1.1)\n",
      "Requirement already satisfied: certifi>=2017.4.17 in c:\\users\\joris\\anaconda3\\envs\\solnet\\lib\\site-packages (from requests) (2022.9.14)\n",
      "Requirement already satisfied: pandas in c:\\users\\joris\\anaconda3\\envs\\solnet\\lib\\site-packages (1.5.0)\n",
      "Requirement already satisfied: python-dateutil>=2.8.1 in c:\\users\\joris\\anaconda3\\envs\\solnet\\lib\\site-packages (from pandas) (2.8.2)\n",
      "Requirement already satisfied: numpy>=1.20.3 in c:\\users\\joris\\anaconda3\\envs\\solnet\\lib\\site-packages (from pandas) (1.23.3)\n",
      "Requirement already satisfied: pytz>=2020.1 in c:\\users\\joris\\anaconda3\\envs\\solnet\\lib\\site-packages (from pandas) (2022.2.1)\n",
      "Requirement already satisfied: six>=1.5 in c:\\users\\joris\\anaconda3\\envs\\solnet\\lib\\site-packages (from python-dateutil>=2.8.1->pandas) (1.16.0)\n",
      "Collecting pvlib\n",
      "  Downloading pvlib-0.9.3-py3-none-any.whl (29.0 MB)\n",
      "     --------------------------------------- 29.0/29.0 MB 13.4 MB/s eta 0:00:00\n",
      "Requirement already satisfied: numpy>=1.16.0 in c:\\users\\joris\\anaconda3\\envs\\solnet\\lib\\site-packages (from pvlib) (1.23.3)\n",
      "Collecting scipy>=1.2.0\n",
      "  Downloading scipy-1.9.1-cp39-cp39-win_amd64.whl (38.6 MB)\n",
      "     --------------------------------------- 38.6/38.6 MB 18.7 MB/s eta 0:00:00\n",
      "Requirement already satisfied: pytz in c:\\users\\joris\\anaconda3\\envs\\solnet\\lib\\site-packages (from pvlib) (2022.2.1)\n",
      "Requirement already satisfied: requests in c:\\users\\joris\\anaconda3\\envs\\solnet\\lib\\site-packages (from pvlib) (2.28.1)\n",
      "Collecting h5py\n",
      "  Using cached h5py-3.7.0-cp39-cp39-win_amd64.whl (2.6 MB)\n",
      "Requirement already satisfied: pandas>=0.25.0 in c:\\users\\joris\\anaconda3\\envs\\solnet\\lib\\site-packages (from pvlib) (1.5.0)\n",
      "Requirement already satisfied: python-dateutil>=2.8.1 in c:\\users\\joris\\anaconda3\\envs\\solnet\\lib\\site-packages (from pandas>=0.25.0->pvlib) (2.8.2)\n",
      "Requirement already satisfied: urllib3<1.27,>=1.21.1 in c:\\users\\joris\\anaconda3\\envs\\solnet\\lib\\site-packages (from requests->pvlib) (1.26.12)\n",
      "Requirement already satisfied: charset-normalizer<3,>=2 in c:\\users\\joris\\anaconda3\\envs\\solnet\\lib\\site-packages (from requests->pvlib) (2.1.1)\n",
      "Requirement already satisfied: certifi>=2017.4.17 in c:\\users\\joris\\anaconda3\\envs\\solnet\\lib\\site-packages (from requests->pvlib) (2022.9.14)\n",
      "Requirement already satisfied: idna<4,>=2.5 in c:\\users\\joris\\anaconda3\\envs\\solnet\\lib\\site-packages (from requests->pvlib) (3.4)\n",
      "Requirement already satisfied: six>=1.5 in c:\\users\\joris\\anaconda3\\envs\\solnet\\lib\\site-packages (from python-dateutil>=2.8.1->pandas>=0.25.0->pvlib) (1.16.0)\n",
      "Installing collected packages: scipy, h5py, pvlib\n",
      "Successfully installed h5py-3.7.0 pvlib-0.9.3 scipy-1.9.1\n"
     ]
    }
   ],
   "source": [
    "%pip install requests\n",
    "%pip install pandas\n",
    "%pip install pvlib"
   ]
  },
  {
   "cell_type": "code",
   "execution_count": 7,
   "metadata": {},
   "outputs": [],
   "source": [
    "import SolNet"
   ]
  },
  {
   "cell_type": "code",
   "execution_count": 8,
   "id": "adf3aa45",
   "metadata": {},
   "outputs": [
    {
     "name": "stdout",
     "output_type": "stream",
     "text": [
      "Fetching Source Model data\n",
      "\n",
      "Data gathered\n",
      "\n"
     ]
    }
   ],
   "source": [
    "myData = SolNet.SolNet.sourceModel(50,20,None)"
   ]
  },
  {
   "cell_type": "code",
   "execution_count": 9,
   "id": "d5468ed3",
   "metadata": {},
   "outputs": [
    {
     "data": {
      "text/plain": [
       "(                           poa_direct  poa_sky_diffuse  poa_ground_diffuse  \\\n",
       " time                                                                         \n",
       " 2005-01-01 00:10:00+00:00         0.0              0.0                 0.0   \n",
       " 2005-01-01 01:10:00+00:00         0.0              0.0                 0.0   \n",
       " 2005-01-01 02:10:00+00:00         0.0              0.0                 0.0   \n",
       " 2005-01-01 03:10:00+00:00         0.0              0.0                 0.0   \n",
       " 2005-01-01 04:10:00+00:00         0.0              0.0                 0.0   \n",
       " ...                               ...              ...                 ...   \n",
       " 2020-12-31 19:10:00+00:00         0.0              0.0                 0.0   \n",
       " 2020-12-31 20:10:00+00:00         0.0              0.0                 0.0   \n",
       " 2020-12-31 21:10:00+00:00         0.0              0.0                 0.0   \n",
       " 2020-12-31 22:10:00+00:00         0.0              0.0                 0.0   \n",
       " 2020-12-31 23:10:00+00:00         0.0              0.0                 0.0   \n",
       " \n",
       "                            solar_elevation  temp_air  wind_speed  Int  \n",
       " time                                                                   \n",
       " 2005-01-01 00:10:00+00:00              0.0      1.51        2.41    0  \n",
       " 2005-01-01 01:10:00+00:00              0.0      1.67        2.28    0  \n",
       " 2005-01-01 02:10:00+00:00              0.0      1.73        2.28    0  \n",
       " 2005-01-01 03:10:00+00:00              0.0      1.71        2.34    0  \n",
       " 2005-01-01 04:10:00+00:00              0.0      1.85        2.41    0  \n",
       " ...                                    ...       ...         ...  ...  \n",
       " 2020-12-31 19:10:00+00:00              0.0      0.95        0.97    0  \n",
       " 2020-12-31 20:10:00+00:00              0.0      0.59        0.97    0  \n",
       " 2020-12-31 21:10:00+00:00              0.0      0.33        0.83    0  \n",
       " 2020-12-31 22:10:00+00:00              0.0     -0.22        0.90    0  \n",
       " 2020-12-31 23:10:00+00:00              0.0     -0.58        0.83    0  \n",
       " \n",
       " [140256 rows x 7 columns],\n",
       " {'location': {'latitude': 50.0, 'longitude': 20.0, 'elevation': 240.0},\n",
       "  'meteo_data': {'radiation_db': 'PVGIS-SARAH2',\n",
       "   'meteo_db': 'ERA-Interim',\n",
       "   'year_min': 2005,\n",
       "   'year_max': 2020,\n",
       "   'use_horizon': True,\n",
       "   'horizon_db': None,\n",
       "   'horizon_data': 'DEM-calculated'},\n",
       "  'mounting_system': {'fixed': {'slope': {'value': 38, 'optimal': True},\n",
       "    'azimuth': {'value': -3, 'optimal': True},\n",
       "    'type': 'free-standing'}},\n",
       "  'pv_module': {'technology': None, 'peak_power': None, 'system_loss': None}},\n",
       " {'inputs': {'location': {'description': 'Selected location',\n",
       "    'variables': {'latitude': {'description': 'Latitude',\n",
       "      'units': 'decimal degree'},\n",
       "     'longitude': {'description': 'Longitude', 'units': 'decimal degree'},\n",
       "     'elevation': {'description': 'Elevation', 'units': 'm'}}},\n",
       "   'meteo_data': {'description': 'Sources of meteorological data',\n",
       "    'variables': {'radiation_db': {'description': 'Solar radiation database'},\n",
       "     'meteo_db': {'description': 'Database used for meteorological variables other than solar radiation'},\n",
       "     'year_min': {'description': 'First year of the calculations'},\n",
       "     'year_max': {'description': 'Last year of the calculations'},\n",
       "     'use_horizon': {'description': 'Include horizon shadows'},\n",
       "     'horizon_db': {'description': 'Source of horizon data'}}},\n",
       "   'mounting_system': {'description': 'Mounting system',\n",
       "    'choices': 'fixed, vertical_axis, inclined_axis, two_axis',\n",
       "    'fields': {'slope': {'description': 'Inclination angle from the horizontal plane',\n",
       "      'units': 'degree'},\n",
       "     'azimuth': {'description': 'Orientation (azimuth) angle of the (fixed) PV system (0 = S, 90 = W, -90 = E)',\n",
       "      'units': 'degree'}}},\n",
       "   'pv_module': {'description': 'PV module parameters',\n",
       "    'variables': {'technology': {'description': 'PV technology'},\n",
       "     'peak_power': {'description': 'Nominal (peak) power of the PV module',\n",
       "      'units': 'kW'},\n",
       "     'system_loss': {'description': 'Sum of system losses', 'units': '%'}}}},\n",
       "  'outputs': {'hourly': {'type': 'time series',\n",
       "    'timestamp': 'hourly averages',\n",
       "    'variables': {'Gb(i)': {'description': 'Beam (direct) irradiance on the inclined plane (plane of the array)',\n",
       "      'units': 'W/m2'},\n",
       "     'Gd(i)': {'description': 'Diffuse irradiance on the inclined plane (plane of the array)',\n",
       "      'units': 'W/m2'},\n",
       "     'Gr(i)': {'description': 'Reflected irradiance on the inclined plane (plane of the array)',\n",
       "      'units': 'W/m2'},\n",
       "     'H_sun': {'description': 'Sun height', 'units': 'degree'},\n",
       "     'T2m': {'description': '2-m air temperature', 'units': 'degree Celsius'},\n",
       "     'WS10m': {'description': '10-m total wind speed', 'units': 'm/s'},\n",
       "     'Int': {'description': '1 means solar radiation values are reconstructed'}}}}})"
      ]
     },
     "execution_count": 9,
     "metadata": {},
     "output_type": "execute_result"
    }
   ],
   "source": [
    "myData"
   ]
  },
  {
   "cell_type": "code",
   "execution_count": null,
   "id": "13627238",
   "metadata": {},
   "outputs": [],
   "source": []
  }
 ],
 "metadata": {
  "kernelspec": {
   "display_name": "Python 3.9.13 ('SolNet')",
   "language": "python",
   "name": "python3"
  },
  "language_info": {
   "codemirror_mode": {
    "name": "ipython",
    "version": 3
   },
   "file_extension": ".py",
   "mimetype": "text/x-python",
   "name": "python",
   "nbconvert_exporter": "python",
   "pygments_lexer": "ipython3",
   "version": "3.9.13"
  },
  "vscode": {
   "interpreter": {
    "hash": "37e3c597340914aeacb28f6610e1c5d62700be25eb707acc782f3abfa944e096"
   }
  }
 },
 "nbformat": 4,
 "nbformat_minor": 5
}
