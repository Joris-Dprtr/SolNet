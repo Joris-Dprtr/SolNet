{
 "cells": [
  {
   "cell_type": "code",
   "execution_count": 5,
   "metadata": {
    "ExecuteTime": {
     "end_time": "2023-11-23T13:26:05.660979500Z",
     "start_time": "2023-11-23T13:25:46.141128Z"
    }
   },
   "outputs": [
    {
     "name": "stdout",
     "output_type": "stream",
     "text": [
      "Gathering data from base location...\n",
      "Gathering data from additional location 1...\n"
     ]
    },
    {
     "data": {
      "text/plain": "'dataset_231123_1426.pkl'"
     },
     "execution_count": 5,
     "metadata": {},
     "output_type": "execute_result"
    }
   ],
   "source": [
    "# Import the datafetcher class\n",
    "from src.data.datafetcher import DataFetcher\n",
    "\n",
    "# Set parameters\n",
    "latitude = 50\n",
    "longitude = 10\n",
    "peakPower = 2.4\n",
    "tilt = 33\n",
    "azimuth = 0\n",
    "\n",
    "# Fetch data from PVGIS\n",
    "data = DataFetcher(latitude,longitude,peakPower,tilt,azimuth,locations=2)\n",
    "\n",
    "# Save the data in the data folder\n",
    "path = data.save_data()\n",
    "path"
   ]
  },
  {
   "cell_type": "code",
   "execution_count": 3,
   "metadata": {},
   "outputs": [
    {
     "data": {
      "text/html": [
       "<div>\n",
       "<style scoped>\n",
       "    .dataframe tbody tr th:only-of-type {\n",
       "        vertical-align: middle;\n",
       "    }\n",
       "\n",
       "    .dataframe tbody tr th {\n",
       "        vertical-align: top;\n",
       "    }\n",
       "\n",
       "    .dataframe thead th {\n",
       "        text-align: right;\n",
       "    }\n",
       "</style>\n",
       "<table border=\"1\" class=\"dataframe\">\n",
       "  <thead>\n",
       "    <tr style=\"text-align: right;\">\n",
       "      <th></th>\n",
       "      <th>P</th>\n",
       "      <th>Gb(i)</th>\n",
       "      <th>Gd(i)</th>\n",
       "      <th>Gr(i)</th>\n",
       "      <th>H_sun</th>\n",
       "      <th>T2m</th>\n",
       "      <th>WS10m</th>\n",
       "      <th>Int</th>\n",
       "    </tr>\n",
       "    <tr>\n",
       "      <th>time</th>\n",
       "      <th></th>\n",
       "      <th></th>\n",
       "      <th></th>\n",
       "      <th></th>\n",
       "      <th></th>\n",
       "      <th></th>\n",
       "      <th></th>\n",
       "      <th></th>\n",
       "    </tr>\n",
       "  </thead>\n",
       "  <tbody>\n",
       "    <tr>\n",
       "      <th>2005-01-01 00:00:00</th>\n",
       "      <td>0.0</td>\n",
       "      <td>0.0</td>\n",
       "      <td>0.0</td>\n",
       "      <td>0.0</td>\n",
       "      <td>0.0</td>\n",
       "      <td>4.21</td>\n",
       "      <td>3.03</td>\n",
       "      <td>0</td>\n",
       "    </tr>\n",
       "    <tr>\n",
       "      <th>2005-01-01 01:00:00</th>\n",
       "      <td>0.0</td>\n",
       "      <td>0.0</td>\n",
       "      <td>0.0</td>\n",
       "      <td>0.0</td>\n",
       "      <td>0.0</td>\n",
       "      <td>4.36</td>\n",
       "      <td>2.83</td>\n",
       "      <td>0</td>\n",
       "    </tr>\n",
       "    <tr>\n",
       "      <th>2005-01-01 02:00:00</th>\n",
       "      <td>0.0</td>\n",
       "      <td>0.0</td>\n",
       "      <td>0.0</td>\n",
       "      <td>0.0</td>\n",
       "      <td>0.0</td>\n",
       "      <td>4.44</td>\n",
       "      <td>2.69</td>\n",
       "      <td>0</td>\n",
       "    </tr>\n",
       "    <tr>\n",
       "      <th>2005-01-01 03:00:00</th>\n",
       "      <td>0.0</td>\n",
       "      <td>0.0</td>\n",
       "      <td>0.0</td>\n",
       "      <td>0.0</td>\n",
       "      <td>0.0</td>\n",
       "      <td>4.53</td>\n",
       "      <td>2.62</td>\n",
       "      <td>0</td>\n",
       "    </tr>\n",
       "    <tr>\n",
       "      <th>2005-01-01 04:00:00</th>\n",
       "      <td>0.0</td>\n",
       "      <td>0.0</td>\n",
       "      <td>0.0</td>\n",
       "      <td>0.0</td>\n",
       "      <td>0.0</td>\n",
       "      <td>4.66</td>\n",
       "      <td>2.69</td>\n",
       "      <td>0</td>\n",
       "    </tr>\n",
       "  </tbody>\n",
       "</table>\n",
       "</div>"
      ],
      "text/plain": [
       "                       P  Gb(i)  Gd(i)  Gr(i)  H_sun   T2m  WS10m  Int\n",
       "time                                                                  \n",
       "2005-01-01 00:00:00  0.0    0.0    0.0    0.0    0.0  4.21   3.03    0\n",
       "2005-01-01 01:00:00  0.0    0.0    0.0    0.0    0.0  4.36   2.83    0\n",
       "2005-01-01 02:00:00  0.0    0.0    0.0    0.0    0.0  4.44   2.69    0\n",
       "2005-01-01 03:00:00  0.0    0.0    0.0    0.0    0.0  4.53   2.62    0\n",
       "2005-01-01 04:00:00  0.0    0.0    0.0    0.0    0.0  4.66   2.69    0"
      ]
     },
     "execution_count": 3,
     "metadata": {},
     "output_type": "execute_result"
    }
   ],
   "source": [
    "# Show some of the data\n",
    "data.dataset[0].head()"
   ]
  },
  {
   "cell_type": "code",
   "execution_count": 4,
   "metadata": {},
   "outputs": [],
   "source": [
    "# Import the featurisation class\n",
    "from src.data.featurisation import Featurisation\n",
    "\n",
    "# Decide on the features to use in making the model (Note that 'P' should always be included since it's the target variable)\n",
    "dataset = Featurisation(data.dataset).base_features(['P', 'Gb(i)', 'T2m'])\n",
    "\n",
    "# Use hourly cyclic features as well\n",
    "dataset = Featurisation(dataset).cyclic_features()"
   ]
  },
  {
   "cell_type": "code",
   "execution_count": 5,
   "metadata": {},
   "outputs": [
    {
     "data": {
      "text/html": [
       "<div>\n",
       "<style scoped>\n",
       "    .dataframe tbody tr th:only-of-type {\n",
       "        vertical-align: middle;\n",
       "    }\n",
       "\n",
       "    .dataframe tbody tr th {\n",
       "        vertical-align: top;\n",
       "    }\n",
       "\n",
       "    .dataframe thead th {\n",
       "        text-align: right;\n",
       "    }\n",
       "</style>\n",
       "<table border=\"1\" class=\"dataframe\">\n",
       "  <thead>\n",
       "    <tr style=\"text-align: right;\">\n",
       "      <th></th>\n",
       "      <th>P</th>\n",
       "      <th>Gb(i)</th>\n",
       "      <th>T2m</th>\n",
       "      <th>hour_sin</th>\n",
       "      <th>hour_cos</th>\n",
       "      <th>month_sin</th>\n",
       "      <th>month_cos</th>\n",
       "    </tr>\n",
       "    <tr>\n",
       "      <th>time</th>\n",
       "      <th></th>\n",
       "      <th></th>\n",
       "      <th></th>\n",
       "      <th></th>\n",
       "      <th></th>\n",
       "      <th></th>\n",
       "      <th></th>\n",
       "    </tr>\n",
       "  </thead>\n",
       "  <tbody>\n",
       "    <tr>\n",
       "      <th>2005-01-01 00:00:00</th>\n",
       "      <td>0.0</td>\n",
       "      <td>0.0</td>\n",
       "      <td>4.21</td>\n",
       "      <td>0.000000</td>\n",
       "      <td>1.000000</td>\n",
       "      <td>0.5</td>\n",
       "      <td>0.866025</td>\n",
       "    </tr>\n",
       "    <tr>\n",
       "      <th>2005-01-01 01:00:00</th>\n",
       "      <td>0.0</td>\n",
       "      <td>0.0</td>\n",
       "      <td>4.36</td>\n",
       "      <td>0.258819</td>\n",
       "      <td>0.965926</td>\n",
       "      <td>0.5</td>\n",
       "      <td>0.866025</td>\n",
       "    </tr>\n",
       "    <tr>\n",
       "      <th>2005-01-01 02:00:00</th>\n",
       "      <td>0.0</td>\n",
       "      <td>0.0</td>\n",
       "      <td>4.44</td>\n",
       "      <td>0.500000</td>\n",
       "      <td>0.866025</td>\n",
       "      <td>0.5</td>\n",
       "      <td>0.866025</td>\n",
       "    </tr>\n",
       "    <tr>\n",
       "      <th>2005-01-01 03:00:00</th>\n",
       "      <td>0.0</td>\n",
       "      <td>0.0</td>\n",
       "      <td>4.53</td>\n",
       "      <td>0.707107</td>\n",
       "      <td>0.707107</td>\n",
       "      <td>0.5</td>\n",
       "      <td>0.866025</td>\n",
       "    </tr>\n",
       "    <tr>\n",
       "      <th>2005-01-01 04:00:00</th>\n",
       "      <td>0.0</td>\n",
       "      <td>0.0</td>\n",
       "      <td>4.66</td>\n",
       "      <td>0.866025</td>\n",
       "      <td>0.500000</td>\n",
       "      <td>0.5</td>\n",
       "      <td>0.866025</td>\n",
       "    </tr>\n",
       "  </tbody>\n",
       "</table>\n",
       "</div>"
      ],
      "text/plain": [
       "                       P  Gb(i)   T2m  hour_sin  hour_cos  month_sin  \\\n",
       "time                                                                   \n",
       "2005-01-01 00:00:00  0.0    0.0  4.21  0.000000  1.000000        0.5   \n",
       "2005-01-01 01:00:00  0.0    0.0  4.36  0.258819  0.965926        0.5   \n",
       "2005-01-01 02:00:00  0.0    0.0  4.44  0.500000  0.866025        0.5   \n",
       "2005-01-01 03:00:00  0.0    0.0  4.53  0.707107  0.707107        0.5   \n",
       "2005-01-01 04:00:00  0.0    0.0  4.66  0.866025  0.500000        0.5   \n",
       "\n",
       "                     month_cos  \n",
       "time                            \n",
       "2005-01-01 00:00:00   0.866025  \n",
       "2005-01-01 01:00:00   0.866025  \n",
       "2005-01-01 02:00:00   0.866025  \n",
       "2005-01-01 03:00:00   0.866025  \n",
       "2005-01-01 04:00:00   0.866025  "
      ]
     },
     "execution_count": 5,
     "metadata": {},
     "output_type": "execute_result"
    }
   ],
   "source": [
    "# Show the featurized dataset\n",
    "dataset[0].head()"
   ]
  },
  {
   "cell_type": "code",
   "execution_count": 6,
   "metadata": {},
   "outputs": [
    {
     "data": {
      "text/plain": [
       "(torch.Size([9348, 24, 7]),\n",
       " torch.Size([2338, 24, 7]),\n",
       " torch.Size([9348, 24, 1]),\n",
       " torch.Size([2338, 24, 1]))"
      ]
     },
     "execution_count": 6,
     "metadata": {},
     "output_type": "execute_result"
    }
   ],
   "source": [
    "# Import the tensorisation class to transform the data into tensors for use in pytorch models\n",
    "from src.tensors.tensorisation import Tensorisation\n",
    "import torch\n",
    "\n",
    "# Get the list of features\n",
    "features = list(dataset[0].columns)\n",
    "lags = 24\n",
    "forecast_period = 24\n",
    "\n",
    "# Get the tensors\n",
    "X_train_tot = torch.empty(0, dtype=torch.float32)\n",
    "X_test_tot = torch.empty(0, dtype=torch.float32)\n",
    "y_train_tot = torch.empty(0, dtype=torch.float32)\n",
    "y_test_tot = torch.empty(0, dtype=torch.float32)\n",
    "\n",
    "for i in range(len(dataset)):\n",
    "    tensors = Tensorisation(dataset[i], 'P', features, lags, forecast_period)\n",
    "    X_train, X_test, y_train, y_test = tensors.tensor_creation()\n",
    "    X_train_tot = torch.concat([X_train_tot, X_train])\n",
    "    X_test_tot = torch.concat([X_test_tot, X_test])\n",
    "    y_train_tot = torch.concat([y_train_tot, y_train])\n",
    "    y_test_tot = torch.concat([y_test_tot, y_test])\n",
    "    \n",
    "X_train_tot.shape, X_test_tot.shape, y_train_tot.shape, y_test_tot.shape"
   ]
  },
  {
   "cell_type": "code",
   "execution_count": 7,
   "metadata": {},
   "outputs": [
    {
     "data": {
      "text/plain": [
       "LSTM(\n",
       "  (lstm): LSTM(7, 100, num_layers=3, batch_first=True, dropout=0.3)\n",
       "  (linear): Linear(in_features=100, out_features=24, bias=True)\n",
       ")"
      ]
     },
     "execution_count": 7,
     "metadata": {},
     "output_type": "execute_result"
    }
   ],
   "source": [
    "# Import the lstm class to create an untrained LSTM\n",
    "from src.models.lstm import LSTM\n",
    "\n",
    "# Set the parameters for the lstm\n",
    "input_size = len(features)\n",
    "hidden_size = 100\n",
    "num_layers = 3\n",
    "dropout = 0.3\n",
    "device = torch.device(\"cuda\" if torch.cuda.is_available() else \"cpu\")\n",
    "\n",
    "my_lstm = LSTM(input_size,hidden_size,num_layers, forecast_period, dropout).to(device)\n",
    "my_lstm"
   ]
  },
  {
   "cell_type": "code",
   "execution_count": 8,
   "metadata": {},
   "outputs": [
    {
     "name": "stdout",
     "output_type": "stream",
     "text": [
      "Step 0: Average train loss: 0.0227 | Average test loss: 0.0157\n",
      "Step 5: Average train loss: 0.0161 | Average test loss: 0.0154\n",
      "Step 10: Average train loss: 0.0159 | Average test loss: 0.0152\n",
      "Step 15: Average train loss: 0.0158 | Average test loss: 0.0152\n",
      "Step 20: Average train loss: 0.0157 | Average test loss: 0.0151\n",
      "Step 25: Average train loss: 0.0155 | Average test loss: 0.0151\n",
      "Step 30: Average train loss: 0.0154 | Average test loss: 0.0151\n",
      "Step 35: Average train loss: 0.0153 | Average test loss: 0.0151\n",
      "Step 40: Average train loss: 0.0153 | Average test loss: 0.0151\n",
      "Step 45: Average train loss: 0.0152 | Average test loss: 0.0152\n",
      "Best Epoch: 33\n"
     ]
    },
    {
     "data": {
      "image/png": "[encoded data removed]",
      "text/plain": [
       "<Figure size 640x480 with 1 Axes>"
      ]
     },
     "metadata": {},
     "output_type": "display_data"
    }
   ],
   "source": [
    "# Import the training class to train the model\n",
    "from src.models.training import Training\n",
    "\n",
    "# Set the training parameters\n",
    "epochs = 50\n",
    "\n",
    "# Initialize the trainer\n",
    "training = Training(my_lstm, X_train_tot, y_train_tot, X_test_tot, y_test_tot, epochs)\n",
    "\n",
    "# Train the model and return the trained parameters and the best iteration\n",
    "state_dict_list, best_epoch = training.fit()"
   ]
  },
  {
   "cell_type": "code",
   "execution_count": 9,
   "metadata": {},
   "outputs": [
    {
     "data": {
      "text/plain": [
       "<All keys matched successfully>"
      ]
     },
     "execution_count": 9,
     "metadata": {},
     "output_type": "execute_result"
    }
   ],
   "source": [
    "# Load the state dictionary of the best performing model\n",
    "\n",
    "my_lstm.load_state_dict(state_dict_list[best_epoch])"
   ]
  },
  {
   "cell_type": "code",
   "execution_count": 10,
   "metadata": {},
   "outputs": [],
   "source": [
    "# Save the model state dictionary for later use\n",
    "Training.save_model(my_lstm, 'example_model')"
   ]
  },
  {
   "cell_type": "code",
   "execution_count": 11,
   "metadata": {},
   "outputs": [],
   "source": [
    "# Forecast with the model\n",
    "forecasts = my_lstm(X_test_tot.to(device))"
   ]
  },
  {
   "cell_type": "code",
   "execution_count": 12,
   "metadata": {},
   "outputs": [
    {
     "data": {
      "text/html": [
       "<div>\n",
       "<style scoped>\n",
       "    .dataframe tbody tr th:only-of-type {\n",
       "        vertical-align: middle;\n",
       "    }\n",
       "\n",
       "    .dataframe tbody tr th {\n",
       "        vertical-align: top;\n",
       "    }\n",
       "\n",
       "    .dataframe thead th {\n",
       "        text-align: right;\n",
       "    }\n",
       "</style>\n",
       "<table border=\"1\" class=\"dataframe\">\n",
       "  <thead>\n",
       "    <tr style=\"text-align: right;\">\n",
       "      <th></th>\n",
       "      <th>MSE</th>\n",
       "      <th>Var(x)</th>\n",
       "      <th>Var(y)</th>\n",
       "      <th>Corr</th>\n",
       "      <th>Bias</th>\n",
       "      <th>Conditional bias 1</th>\n",
       "      <th>Resolution</th>\n",
       "      <th>Conditional bias 2</th>\n",
       "      <th>Discrimination</th>\n",
       "    </tr>\n",
       "  </thead>\n",
       "  <tbody>\n",
       "    <tr>\n",
       "      <th>Metrics</th>\n",
       "      <td>0.123</td>\n",
       "      <td>0.058</td>\n",
       "      <td>0.038</td>\n",
       "      <td>0.860</td>\n",
       "      <td>0.000</td>\n",
       "      <td>0.015</td>\n",
       "      <td>0.058</td>\n",
       "      <td>0.014</td>\n",
       "      <td>0.058</td>\n",
       "    </tr>\n",
       "  </tbody>\n",
       "</table>\n",
       "</div>"
      ],
      "text/plain": [
       "          MSE  Var(x)  Var(y)  Corr  Bias  Conditional bias 1  Resolution  \\\n",
       "Metrics 0.123   0.058   0.038 0.860 0.000               0.015       0.058   \n",
       "\n",
       "         Conditional bias 2  Discrimination  \n",
       "Metrics               0.014           0.058  "
      ]
     },
     "execution_count": 12,
     "metadata": {},
     "output_type": "execute_result"
    }
   ],
   "source": [
    "# Import the evaluation script\n",
    "from src.evaluation.evaluation import Evaluation\n",
    "\n",
    "# Evaluate the model performance\n",
    "eval = Evaluation(y_test_tot.detach().flatten().numpy(), forecasts.cpu().detach().flatten().numpy())\n",
    "\n",
    "# Show the evaluation metrics\n",
    "eval.metrics()"
   ]
  }
 ],
 "metadata": {
  "kernelspec": {
   "display_name": "SolNet",
   "language": "python",
   "name": "python3"
  },
  "language_info": {
   "codemirror_mode": {
    "name": "ipython",
    "version": 3
   },
   "file_extension": ".py",
   "mimetype": "text/x-python",
   "name": "python",
   "nbconvert_exporter": "python",
   "pygments_lexer": "ipython3",
   "version": "3.9.16"
  },
  "orig_nbformat": 4
 },
 "nbformat": 4,
 "nbformat_minor": 2
}
