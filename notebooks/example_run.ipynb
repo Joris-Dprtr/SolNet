{
 "cells": [
  {
   "cell_type": "markdown",
   "source": [
    "# Creating a source model from PVGIS"
   ],
   "metadata": {
    "collapsed": false
   }
  },
  {
   "cell_type": "markdown",
   "source": [
    "In this notebook we go through the steps of creating an LSTM model that has been trained on synthetic data which we fetch from PVGIS through their API."
   ],
   "metadata": {
    "collapsed": false
   }
  },
  {
   "cell_type": "markdown",
   "source": [
    "## 1. Fetching data from PVGIS"
   ],
   "metadata": {
    "collapsed": false
   }
  },
  {
   "cell_type": "code",
   "execution_count": 1,
   "metadata": {
    "ExecuteTime": {
     "end_time": "2024-06-28T09:50:21.423473Z",
     "start_time": "2024-06-28T09:50:05.131812400Z"
    }
   },
   "outputs": [
    {
     "name": "stdout",
     "output_type": "stream",
     "text": [
      "Gathering data from base location...\n"
     ]
    },
    {
     "data": {
      "text/plain": "'dataset_240628_1150.pkl'"
     },
     "execution_count": 1,
     "metadata": {},
     "output_type": "execute_result"
    }
   ],
   "source": [
    "# Import the datafetcher class\n",
    "from src.data.datafetcher import PvFetcher\n",
    "\n",
    "# Set parameters\n",
    "latitude = 50.6\n",
    "longitude = 2.34\n",
    "peakPower = 2.4\n",
    "tilt = 33\n",
    "azimuth = 0\n",
    "\n",
    "# Fetch data from PVGIS\n",
    "data = PvFetcher(latitude,longitude,peakPower,tilt,azimuth)\n",
    "\n",
    "# Save the data in the data folder\n",
    "path = data.save_data()\n",
    "path"
   ]
  },
  {
   "cell_type": "code",
   "execution_count": 2,
   "metadata": {
    "ExecuteTime": {
     "end_time": "2024-06-28T09:50:21.436043700Z",
     "start_time": "2024-06-28T09:50:21.423473Z"
    }
   },
   "outputs": [
    {
     "data": {
      "text/plain": "                       P  Gb(i)  Gd(i)  Gr(i)  H_sun   T2m  WS10m  Int\ntime                                                                  \n2005-01-01 00:00:00  0.0    0.0    0.0    0.0    0.0  7.47   2.21    0\n2005-01-01 01:00:00  0.0    0.0    0.0    0.0    0.0  7.00   2.28    0\n2005-01-01 02:00:00  0.0    0.0    0.0    0.0    0.0  6.89   2.07    0\n2005-01-01 03:00:00  0.0    0.0    0.0    0.0    0.0  6.69   2.00    0\n2005-01-01 04:00:00  0.0    0.0    0.0    0.0    0.0  6.53   2.21    0",
      "text/html": "<div>\n<style scoped>\n    .dataframe tbody tr th:only-of-type {\n        vertical-align: middle;\n    }\n\n    .dataframe tbody tr th {\n        vertical-align: top;\n    }\n\n    .dataframe thead th {\n        text-align: right;\n    }\n</style>\n<table border=\"1\" class=\"dataframe\">\n  <thead>\n    <tr style=\"text-align: right;\">\n      <th></th>\n      <th>P</th>\n      <th>Gb(i)</th>\n      <th>Gd(i)</th>\n      <th>Gr(i)</th>\n      <th>H_sun</th>\n      <th>T2m</th>\n      <th>WS10m</th>\n      <th>Int</th>\n    </tr>\n    <tr>\n      <th>time</th>\n      <th></th>\n      <th></th>\n      <th></th>\n      <th></th>\n      <th></th>\n      <th></th>\n      <th></th>\n      <th></th>\n    </tr>\n  </thead>\n  <tbody>\n    <tr>\n      <th>2005-01-01 00:00:00</th>\n      <td>0.0</td>\n      <td>0.0</td>\n      <td>0.0</td>\n      <td>0.0</td>\n      <td>0.0</td>\n      <td>7.47</td>\n      <td>2.21</td>\n      <td>0</td>\n    </tr>\n    <tr>\n      <th>2005-01-01 01:00:00</th>\n      <td>0.0</td>\n      <td>0.0</td>\n      <td>0.0</td>\n      <td>0.0</td>\n      <td>0.0</td>\n      <td>7.00</td>\n      <td>2.28</td>\n      <td>0</td>\n    </tr>\n    <tr>\n      <th>2005-01-01 02:00:00</th>\n      <td>0.0</td>\n      <td>0.0</td>\n      <td>0.0</td>\n      <td>0.0</td>\n      <td>0.0</td>\n      <td>6.89</td>\n      <td>2.07</td>\n      <td>0</td>\n    </tr>\n    <tr>\n      <th>2005-01-01 03:00:00</th>\n      <td>0.0</td>\n      <td>0.0</td>\n      <td>0.0</td>\n      <td>0.0</td>\n      <td>0.0</td>\n      <td>6.69</td>\n      <td>2.00</td>\n      <td>0</td>\n    </tr>\n    <tr>\n      <th>2005-01-01 04:00:00</th>\n      <td>0.0</td>\n      <td>0.0</td>\n      <td>0.0</td>\n      <td>0.0</td>\n      <td>0.0</td>\n      <td>6.53</td>\n      <td>2.21</td>\n      <td>0</td>\n    </tr>\n  </tbody>\n</table>\n</div>"
     },
     "execution_count": 2,
     "metadata": {},
     "output_type": "execute_result"
    }
   ],
   "source": [
    "# Show some of the data\n",
    "data.dataset[0].head()"
   ]
  },
  {
   "cell_type": "code",
   "execution_count": 3,
   "outputs": [
    {
     "name": "stdout",
     "output_type": "stream",
     "text": [
      "Coordinates 50.57996368408203°N 2.389380693435669°E\n",
      "Elevation 59.0 m asl\n",
      "Timezone None None\n",
      "Timezone difference to GMT+0 0 s\n"
     ]
    }
   ],
   "source": [
    "# Import the weather datafetcher class\n",
    "from src.data.datafetcher import WeatherFetcher\n",
    "\n",
    "# Specify the parameters of interest\n",
    "weather_vars = ['diffuse_radiation', 'direct_radiation', 'temperature_2m', 'cloud_cover']\n",
    "\n",
    "# Fetch the data from Open Meteo\n",
    "weather_data = WeatherFetcher(data.location_list, weather_vars)"
   ],
   "metadata": {
    "collapsed": false,
    "ExecuteTime": {
     "end_time": "2024-06-28T09:50:21.506329800Z",
     "start_time": "2024-06-28T09:50:21.436043700Z"
    }
   }
  },
  {
   "cell_type": "markdown",
   "source": [
    "## 2. Preparing the data for use in the model"
   ],
   "metadata": {
    "collapsed": false
   }
  },
  {
   "cell_type": "code",
   "execution_count": 4,
   "outputs": [
    {
     "data": {
      "text/plain": "                     diffuse_radiation  direct_radiation  temperature_2m  \\\ndate                                                                       \n2005-01-01 00:00:00                0.0               0.0          7.4255   \n2005-01-01 01:00:00                0.0               0.0          6.9255   \n2005-01-01 02:00:00                0.0               0.0          6.7755   \n2005-01-01 03:00:00                0.0               0.0          6.5755   \n2005-01-01 04:00:00                0.0               0.0          6.3755   \n...                                ...               ...             ...   \n2020-12-31 19:00:00                0.0               0.0          0.8085   \n2020-12-31 20:00:00                0.0               0.0          0.6585   \n2020-12-31 21:00:00                0.0               0.0          0.0585   \n2020-12-31 22:00:00                0.0               0.0         -0.3415   \n2020-12-31 23:00:00                0.0               0.0         -0.4415   \n\n                     cloud_cover  \ndate                              \n2005-01-01 00:00:00    46.799999  \n2005-01-01 01:00:00    60.299999  \n2005-01-01 02:00:00    55.499996  \n2005-01-01 03:00:00    74.099998  \n2005-01-01 04:00:00    72.000000  \n...                          ...  \n2020-12-31 19:00:00    71.099998  \n2020-12-31 20:00:00    47.099998  \n2020-12-31 21:00:00    43.200001  \n2020-12-31 22:00:00    50.099998  \n2020-12-31 23:00:00    54.300003  \n\n[140256 rows x 4 columns]",
      "text/html": "<div>\n<style scoped>\n    .dataframe tbody tr th:only-of-type {\n        vertical-align: middle;\n    }\n\n    .dataframe tbody tr th {\n        vertical-align: top;\n    }\n\n    .dataframe thead th {\n        text-align: right;\n    }\n</style>\n<table border=\"1\" class=\"dataframe\">\n  <thead>\n    <tr style=\"text-align: right;\">\n      <th></th>\n      <th>diffuse_radiation</th>\n      <th>direct_radiation</th>\n      <th>temperature_2m</th>\n      <th>cloud_cover</th>\n    </tr>\n    <tr>\n      <th>date</th>\n      <th></th>\n      <th></th>\n      <th></th>\n      <th></th>\n    </tr>\n  </thead>\n  <tbody>\n    <tr>\n      <th>2005-01-01 00:00:00</th>\n      <td>0.0</td>\n      <td>0.0</td>\n      <td>7.4255</td>\n      <td>46.799999</td>\n    </tr>\n    <tr>\n      <th>2005-01-01 01:00:00</th>\n      <td>0.0</td>\n      <td>0.0</td>\n      <td>6.9255</td>\n      <td>60.299999</td>\n    </tr>\n    <tr>\n      <th>2005-01-01 02:00:00</th>\n      <td>0.0</td>\n      <td>0.0</td>\n      <td>6.7755</td>\n      <td>55.499996</td>\n    </tr>\n    <tr>\n      <th>2005-01-01 03:00:00</th>\n      <td>0.0</td>\n      <td>0.0</td>\n      <td>6.5755</td>\n      <td>74.099998</td>\n    </tr>\n    <tr>\n      <th>2005-01-01 04:00:00</th>\n      <td>0.0</td>\n      <td>0.0</td>\n      <td>6.3755</td>\n      <td>72.000000</td>\n    </tr>\n    <tr>\n      <th>...</th>\n      <td>...</td>\n      <td>...</td>\n      <td>...</td>\n      <td>...</td>\n    </tr>\n    <tr>\n      <th>2020-12-31 19:00:00</th>\n      <td>0.0</td>\n      <td>0.0</td>\n      <td>0.8085</td>\n      <td>71.099998</td>\n    </tr>\n    <tr>\n      <th>2020-12-31 20:00:00</th>\n      <td>0.0</td>\n      <td>0.0</td>\n      <td>0.6585</td>\n      <td>47.099998</td>\n    </tr>\n    <tr>\n      <th>2020-12-31 21:00:00</th>\n      <td>0.0</td>\n      <td>0.0</td>\n      <td>0.0585</td>\n      <td>43.200001</td>\n    </tr>\n    <tr>\n      <th>2020-12-31 22:00:00</th>\n      <td>0.0</td>\n      <td>0.0</td>\n      <td>-0.3415</td>\n      <td>50.099998</td>\n    </tr>\n    <tr>\n      <th>2020-12-31 23:00:00</th>\n      <td>0.0</td>\n      <td>0.0</td>\n      <td>-0.4415</td>\n      <td>54.300003</td>\n    </tr>\n  </tbody>\n</table>\n<p>140256 rows × 4 columns</p>\n</div>"
     },
     "execution_count": 4,
     "metadata": {},
     "output_type": "execute_result"
    }
   ],
   "source": [
    "weather_data.weather_dataset[0]"
   ],
   "metadata": {
    "collapsed": false,
    "ExecuteTime": {
     "end_time": "2024-06-28T09:50:21.537739500Z",
     "start_time": "2024-06-28T09:50:21.458073600Z"
    }
   }
  },
  {
   "cell_type": "code",
   "execution_count": 9,
   "outputs": [],
   "source": [
    "import pandas as pd\n",
    "\n",
    "dataset = pd.merge(data.dataset[0][['P']], weather_data.weather_dataset[0], left_index=True, right_index=True)"
   ],
   "metadata": {
    "collapsed": false,
    "ExecuteTime": {
     "end_time": "2024-06-28T10:01:46.556296600Z",
     "start_time": "2024-06-28T10:01:46.541366700Z"
    }
   }
  },
  {
   "cell_type": "markdown",
   "source": [
    "### 2.1 Selecting and adding features"
   ],
   "metadata": {
    "collapsed": false
   }
  },
  {
   "cell_type": "code",
   "execution_count": 10,
   "metadata": {
    "ExecuteTime": {
     "end_time": "2024-06-28T10:01:56.878678500Z",
     "start_time": "2024-06-28T10:01:56.787601700Z"
    }
   },
   "outputs": [],
   "source": [
    "# Import the featurisation class\n",
    "from src.data.featurisation import Featurisation\n",
    "\n",
    "# Decide on the features to use in making the model (Note that 'P' should always be included since it's the target variable)\n",
    "dataset = Featurisation(dataset).base_features(['P'] + weather_vars)\n",
    "\n",
    "# Use daily cyclic features as well\n",
    "dataset = Featurisation(dataset).cyclic_features()"
   ]
  },
  {
   "cell_type": "code",
   "execution_count": 12,
   "outputs": [],
   "source": [
    "dataset[0] = dataset[0].rename(columns={'P': 'PV_power'})"
   ],
   "metadata": {
    "collapsed": false,
    "ExecuteTime": {
     "end_time": "2024-06-28T10:11:03.248995100Z",
     "start_time": "2024-06-28T10:11:03.222921300Z"
    }
   }
  },
  {
   "cell_type": "code",
   "execution_count": 14,
   "outputs": [],
   "source": [
    "dataset = dataset[0]"
   ],
   "metadata": {
    "collapsed": false,
    "ExecuteTime": {
     "end_time": "2024-06-28T10:11:16.629753200Z",
     "start_time": "2024-06-28T10:11:16.588431500Z"
    }
   }
  },
  {
   "cell_type": "code",
   "execution_count": 13,
   "metadata": {
    "ExecuteTime": {
     "end_time": "2024-06-28T10:11:03.869403300Z",
     "start_time": "2024-06-28T10:11:03.861425800Z"
    }
   },
   "outputs": [
    {
     "data": {
      "text/plain": "                     PV_power  diffuse_radiation  direct_radiation  \\\ntime                                                                 \n2005-01-01 00:00:00       0.0                0.0               0.0   \n2005-01-01 01:00:00       0.0                0.0               0.0   \n2005-01-01 02:00:00       0.0                0.0               0.0   \n2005-01-01 03:00:00       0.0                0.0               0.0   \n2005-01-01 04:00:00       0.0                0.0               0.0   \n\n                     temperature_2m  cloud_cover  hour_sin  hour_cos  \\\ntime                                                                   \n2005-01-01 00:00:00          7.4255    46.799999  0.000000  1.000000   \n2005-01-01 01:00:00          6.9255    60.299999  0.258819  0.965926   \n2005-01-01 02:00:00          6.7755    55.499996  0.500000  0.866025   \n2005-01-01 03:00:00          6.5755    74.099998  0.707107  0.707107   \n2005-01-01 04:00:00          6.3755    72.000000  0.866025  0.500000   \n\n                     month_sin  month_cos  \ntime                                       \n2005-01-01 00:00:00        0.5   0.866025  \n2005-01-01 01:00:00        0.5   0.866025  \n2005-01-01 02:00:00        0.5   0.866025  \n2005-01-01 03:00:00        0.5   0.866025  \n2005-01-01 04:00:00        0.5   0.866025  ",
      "text/html": "<div>\n<style scoped>\n    .dataframe tbody tr th:only-of-type {\n        vertical-align: middle;\n    }\n\n    .dataframe tbody tr th {\n        vertical-align: top;\n    }\n\n    .dataframe thead th {\n        text-align: right;\n    }\n</style>\n<table border=\"1\" class=\"dataframe\">\n  <thead>\n    <tr style=\"text-align: right;\">\n      <th></th>\n      <th>PV_power</th>\n      <th>diffuse_radiation</th>\n      <th>direct_radiation</th>\n      <th>temperature_2m</th>\n      <th>cloud_cover</th>\n      <th>hour_sin</th>\n      <th>hour_cos</th>\n      <th>month_sin</th>\n      <th>month_cos</th>\n    </tr>\n    <tr>\n      <th>time</th>\n      <th></th>\n      <th></th>\n      <th></th>\n      <th></th>\n      <th></th>\n      <th></th>\n      <th></th>\n      <th></th>\n      <th></th>\n    </tr>\n  </thead>\n  <tbody>\n    <tr>\n      <th>2005-01-01 00:00:00</th>\n      <td>0.0</td>\n      <td>0.0</td>\n      <td>0.0</td>\n      <td>7.4255</td>\n      <td>46.799999</td>\n      <td>0.000000</td>\n      <td>1.000000</td>\n      <td>0.5</td>\n      <td>0.866025</td>\n    </tr>\n    <tr>\n      <th>2005-01-01 01:00:00</th>\n      <td>0.0</td>\n      <td>0.0</td>\n      <td>0.0</td>\n      <td>6.9255</td>\n      <td>60.299999</td>\n      <td>0.258819</td>\n      <td>0.965926</td>\n      <td>0.5</td>\n      <td>0.866025</td>\n    </tr>\n    <tr>\n      <th>2005-01-01 02:00:00</th>\n      <td>0.0</td>\n      <td>0.0</td>\n      <td>0.0</td>\n      <td>6.7755</td>\n      <td>55.499996</td>\n      <td>0.500000</td>\n      <td>0.866025</td>\n      <td>0.5</td>\n      <td>0.866025</td>\n    </tr>\n    <tr>\n      <th>2005-01-01 03:00:00</th>\n      <td>0.0</td>\n      <td>0.0</td>\n      <td>0.0</td>\n      <td>6.5755</td>\n      <td>74.099998</td>\n      <td>0.707107</td>\n      <td>0.707107</td>\n      <td>0.5</td>\n      <td>0.866025</td>\n    </tr>\n    <tr>\n      <th>2005-01-01 04:00:00</th>\n      <td>0.0</td>\n      <td>0.0</td>\n      <td>0.0</td>\n      <td>6.3755</td>\n      <td>72.000000</td>\n      <td>0.866025</td>\n      <td>0.500000</td>\n      <td>0.5</td>\n      <td>0.866025</td>\n    </tr>\n  </tbody>\n</table>\n</div>"
     },
     "execution_count": 13,
     "metadata": {},
     "output_type": "execute_result"
    }
   ],
   "source": [
    "# Show the featurized dataset\n",
    "dataset[0].head()"
   ]
  },
  {
   "cell_type": "markdown",
   "source": [
    "### 2.2 Transforming the dataframe to tensors"
   ],
   "metadata": {
    "collapsed": false
   }
  },
  {
   "cell_type": "code",
   "execution_count": 17,
   "outputs": [
    {
     "data": {
      "text/plain": "(torch.Size([4674, 24, 5]),\n torch.Size([1169, 24, 5]),\n torch.Size([4674, 24]),\n torch.Size([1169, 24]))"
     },
     "execution_count": 17,
     "metadata": {},
     "output_type": "execute_result"
    }
   ],
   "source": [
    "from src.tensors.tensorisation import Tensors\n",
    "import torch\n",
    "\n",
    "src_tensors = Tensors(dataset, 'PV_power', past_features=['PV_power'] , future_features=weather_vars, \n",
    "                      lags=24, forecast_period=24, gap=0, forecast_gap=0)\n",
    "\n",
    "X_train, X_test, y_train, y_test = src_tensors.create_tensor()\n",
    "X_train.shape, X_test.shape, y_train.shape, y_test.shape"
   ],
   "metadata": {
    "collapsed": false,
    "ExecuteTime": {
     "end_time": "2024-06-28T10:12:31.127686500Z",
     "start_time": "2024-06-28T10:12:31.098994700Z"
    }
   }
  },
  {
   "cell_type": "markdown",
   "source": [
    "## 3. Creating and training the model"
   ],
   "metadata": {
    "collapsed": false
   }
  },
  {
   "cell_type": "code",
   "execution_count": 18,
   "metadata": {
    "ExecuteTime": {
     "end_time": "2024-06-28T10:14:10.615922100Z",
     "start_time": "2024-06-28T10:14:10.145797700Z"
    }
   },
   "outputs": [
    {
     "data": {
      "text/plain": "LSTM(\n  (lstm): LSTM(5, 100, num_layers=3, batch_first=True, dropout=0.3)\n  (linear): Linear(in_features=100, out_features=24, bias=True)\n)"
     },
     "execution_count": 18,
     "metadata": {},
     "output_type": "execute_result"
    }
   ],
   "source": [
    "# Import the lstm class to create an untrained LSTM\n",
    "from src.models.lstm import LSTM\n",
    "\n",
    "# Set the parameters for the lstm\n",
    "input_size = len(['PV_power'] + weather_vars)\n",
    "hidden_size = 100\n",
    "num_layers = 3\n",
    "dropout = 0.3\n",
    "forecast_period = 24\n",
    "device = torch.device(\"cuda\" if torch.cuda.is_available() else \"cpu\")\n",
    "\n",
    "my_lstm = LSTM(input_size,hidden_size,num_layers, forecast_period, dropout).to(device)\n",
    "my_lstm"
   ]
  },
  {
   "cell_type": "code",
   "execution_count": 19,
   "metadata": {
    "ExecuteTime": {
     "end_time": "2024-06-28T10:16:10.107007600Z",
     "start_time": "2024-06-28T10:15:39.190259Z"
    }
   },
   "outputs": [
    {
     "name": "stdout",
     "output_type": "stream",
     "text": [
      "Step 0: Average train loss: 0.0180 | Average test loss: 0.0101\n",
      "Step 5: Average train loss: 0.0101 | Average test loss: 0.0081\n",
      "Step 10: Average train loss: 0.0095 | Average test loss: 0.0076\n",
      "Step 15: Average train loss: 0.0093 | Average test loss: 0.0072\n",
      "Step 20: Average train loss: 0.0091 | Average test loss: 0.0071\n",
      "Step 25: Average train loss: 0.0089 | Average test loss: 0.0070\n",
      "Step 30: Average train loss: 0.0088 | Average test loss: 0.0070\n",
      "Step 35: Average train loss: 0.0087 | Average test loss: 0.0069\n",
      "Step 40: Average train loss: 0.0086 | Average test loss: 0.0069\n",
      "Step 45: Average train loss: 0.0085 | Average test loss: 0.0071\n",
      "Step 50: Average train loss: 0.0085 | Average test loss: 0.0070\n",
      "Step 55: Average train loss: 0.0084 | Average test loss: 0.0072\n",
      "Step 60: Average train loss: 0.0083 | Average test loss: 0.0073\n",
      "Step 65: Average train loss: 0.0082 | Average test loss: 0.0075\n",
      "Step 70: Average train loss: 0.0081 | Average test loss: 0.0075\n",
      "Step 75: Average train loss: 0.0079 | Average test loss: 0.0076\n",
      "Step 80: Average train loss: 0.0078 | Average test loss: 0.0077\n",
      "Step 85: Average train loss: 0.0076 | Average test loss: 0.0079\n",
      "Step 90: Average train loss: 0.0074 | Average test loss: 0.0083\n",
      "Step 95: Average train loss: 0.0071 | Average test loss: 0.0085\n",
      "Best Epoch: 36\n"
     ]
    },
    {
     "data": {
      "text/plain": "<Figure size 640x480 with 1 Axes>",
      "image/png": "[encoded data removed]"
     },
     "metadata": {},
     "output_type": "display_data"
    }
   ],
   "source": [
    "# Import the training class to train the model\n",
    "from src.models.training import Training\n",
    "\n",
    "# Set the training parameters\n",
    "epochs = 100\n",
    "\n",
    "# Initialize the trainer\n",
    "training = Training(my_lstm, X_train, y_train, X_test, y_test, epochs)\n",
    "\n",
    "# Train the model and return the trained parameters and the best iteration\n",
    "state_dict_list, best_epoch = training.fit()"
   ]
  },
  {
   "cell_type": "code",
   "execution_count": 20,
   "metadata": {
    "ExecuteTime": {
     "end_time": "2024-06-28T10:16:10.107007600Z",
     "start_time": "2024-06-28T10:16:10.098027300Z"
    }
   },
   "outputs": [
    {
     "data": {
      "text/plain": "<All keys matched successfully>"
     },
     "execution_count": 20,
     "metadata": {},
     "output_type": "execute_result"
    }
   ],
   "source": [
    "# Load the state dictionary of the best performing model\n",
    "\n",
    "my_lstm.load_state_dict(state_dict_list[best_epoch])"
   ]
  },
  {
   "cell_type": "code",
   "execution_count": 21,
   "metadata": {
    "ExecuteTime": {
     "end_time": "2024-06-28T10:28:22.305014800Z",
     "start_time": "2024-06-28T10:28:22.278319100Z"
    }
   },
   "outputs": [],
   "source": [
    "# Save the model state dictionary for later use\n",
    "from src.models.training import save_model\n",
    "\n",
    "save_model(my_lstm, 'example_model')"
   ]
  },
  {
   "cell_type": "markdown",
   "source": [
    "## 4. Inference and evaluation"
   ],
   "metadata": {
    "collapsed": false
   }
  },
  {
   "cell_type": "code",
   "execution_count": 22,
   "metadata": {
    "ExecuteTime": {
     "end_time": "2024-06-28T10:28:27.687664100Z",
     "start_time": "2024-06-28T10:28:27.641328600Z"
    }
   },
   "outputs": [],
   "source": [
    "# Forecast with the model\n",
    "forecasts = my_lstm(X_test.to(device))"
   ]
  },
  {
   "cell_type": "code",
   "execution_count": 26,
   "metadata": {
    "ExecuteTime": {
     "end_time": "2024-06-28T10:29:09.873534Z",
     "start_time": "2024-06-28T10:29:08.787247500Z"
    }
   },
   "outputs": [
    {
     "data": {
      "text/plain": "         RMSE  Var(x)  Var(y)  Corr  Bias  Conditional bias 1  Resolution  \\\nMetrics 0.094   0.056   0.053 0.920 0.000               0.009       0.056   \n\n         Conditional bias 2  Discrimination  \nMetrics               0.008           0.056  ",
      "text/html": "<div>\n<style scoped>\n    .dataframe tbody tr th:only-of-type {\n        vertical-align: middle;\n    }\n\n    .dataframe tbody tr th {\n        vertical-align: top;\n    }\n\n    .dataframe thead th {\n        text-align: right;\n    }\n</style>\n<table border=\"1\" class=\"dataframe\">\n  <thead>\n    <tr style=\"text-align: right;\">\n      <th></th>\n      <th>RMSE</th>\n      <th>Var(x)</th>\n      <th>Var(y)</th>\n      <th>Corr</th>\n      <th>Bias</th>\n      <th>Conditional bias 1</th>\n      <th>Resolution</th>\n      <th>Conditional bias 2</th>\n      <th>Discrimination</th>\n    </tr>\n  </thead>\n  <tbody>\n    <tr>\n      <th>Metrics</th>\n      <td>0.094</td>\n      <td>0.056</td>\n      <td>0.053</td>\n      <td>0.920</td>\n      <td>0.000</td>\n      <td>0.009</td>\n      <td>0.056</td>\n      <td>0.008</td>\n      <td>0.056</td>\n    </tr>\n  </tbody>\n</table>\n</div>"
     },
     "execution_count": 26,
     "metadata": {},
     "output_type": "execute_result"
    }
   ],
   "source": [
    "# Import the evaluation script\n",
    "from src.evaluation.evaluation import Evaluation\n",
    "\n",
    "# Evaluate the model performance\n",
    "evaluate = Evaluation(y_test, forecasts)\n",
    "\n",
    "# Show the evaluation metrics\n",
    "evaluate.metrics()"
   ]
  },
  {
   "cell_type": "code",
   "execution_count": 29,
   "outputs": [
    {
     "data": {
      "text/plain": "<Figure size 640x480 with 1 Axes>",
      "image/png": "[encoded data removed]"
     },
     "metadata": {},
     "output_type": "display_data"
    }
   ],
   "source": [
    "# Plot some of the forecasts\n",
    "import matplotlib.pyplot as plt\n",
    "\n",
    "plt.plot(forecasts[2].cpu().detach().numpy(), label=\"Forecasts\")\n",
    "plt.plot(y_test[2], label=\"Actuals\")\n",
    "\n",
    "plt.legend()\n",
    "plt.show()"
   ],
   "metadata": {
    "collapsed": false,
    "ExecuteTime": {
     "end_time": "2024-06-28T10:36:28.168340500Z",
     "start_time": "2024-06-28T10:36:28.083750600Z"
    }
   }
  },
  {
   "cell_type": "code",
   "execution_count": 12,
   "outputs": [],
   "source": [],
   "metadata": {
    "collapsed": false,
    "ExecuteTime": {
     "end_time": "2024-03-26T12:00:37.201389700Z",
     "start_time": "2024-03-26T12:00:37.192543200Z"
    }
   }
  }
 ],
 "metadata": {
  "kernelspec": {
   "display_name": "SolNet",
   "language": "python",
   "name": "python3"
  },
  "language_info": {
   "codemirror_mode": {
    "name": "ipython",
    "version": 3
   },
   "file_extension": ".py",
   "mimetype": "text/x-python",
   "name": "python",
   "nbconvert_exporter": "python",
   "pygments_lexer": "ipython3",
   "version": "3.9.16"
  },
  "orig_nbformat": 4
 },
 "nbformat": 4,
 "nbformat_minor": 2
}
