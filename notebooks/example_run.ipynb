{
 "cells": [
  {
   "cell_type": "markdown",
   "source": [
    "# Creating a source model from PVGIS"
   ],
   "metadata": {
    "collapsed": false
   }
  },
  {
   "cell_type": "markdown",
   "source": [
    "In this notebook we go through the steps of creating an LSTM model that has been trained on synthetic data which we fetch from PVGIS through their API."
   ],
   "metadata": {
    "collapsed": false
   }
  },
  {
   "cell_type": "markdown",
   "source": [
    "![PVGIS](../../PVGIS.png)\n",
    "\n",
    "Figure 1: PVGIS"
   ],
   "metadata": {
    "collapsed": false
   }
  },
  {
   "cell_type": "markdown",
   "source": [
    "## 1. Fetching data from PVGIS"
   ],
   "metadata": {
    "collapsed": false
   }
  },
  {
   "cell_type": "code",
   "execution_count": 13,
   "metadata": {
    "ExecuteTime": {
     "end_time": "2024-03-26T12:16:30.754418200Z",
     "start_time": "2024-03-26T12:16:18.076417400Z"
    }
   },
   "outputs": [
    {
     "name": "stdout",
     "output_type": "stream",
     "text": [
      "Gathering data from base location...\n"
     ]
    },
    {
     "data": {
      "text/plain": "'dataset_240326_1316.pkl'"
     },
     "execution_count": 13,
     "metadata": {},
     "output_type": "execute_result"
    }
   ],
   "source": [
    "# Import the datafetcher class\n",
    "from src.data.datafetcher import PvFetcher\n",
    "\n",
    "# Set parameters\n",
    "latitude = 51\n",
    "longitude = 5\n",
    "peakPower = 2.4\n",
    "tilt = 33\n",
    "azimuth = 0\n",
    "\n",
    "# Fetch data from PVGIS\n",
    "data = PvFetcher(latitude,longitude,peakPower,tilt,azimuth, locations=1)\n",
    "\n",
    "# Save the data in the data folder\n",
    "path = data.save_data()\n",
    "path"
   ]
  },
  {
   "cell_type": "code",
   "execution_count": 14,
   "metadata": {
    "ExecuteTime": {
     "end_time": "2024-03-26T12:16:40.688905700Z",
     "start_time": "2024-03-26T12:16:40.676865400Z"
    }
   },
   "outputs": [
    {
     "data": {
      "text/plain": "                        P  Gb(i)  Gd(i)  Gr(i)  H_sun   T2m  WS10m  Int\ntime                                                                   \n2005-01-01 00:00:00 0.000  0.000  0.000  0.000  0.000 7.560  2.210    0\n2005-01-01 01:00:00 0.000  0.000  0.000  0.000  0.000 7.060  2.140    0\n2005-01-01 02:00:00 0.000  0.000  0.000  0.000  0.000 6.660  2.070    0\n2005-01-01 03:00:00 0.000  0.000  0.000  0.000  0.000 6.090  1.520    0\n2005-01-01 04:00:00 0.000  0.000  0.000  0.000  0.000 5.830  1.240    0",
      "text/html": "<div>\n<style scoped>\n    .dataframe tbody tr th:only-of-type {\n        vertical-align: middle;\n    }\n\n    .dataframe tbody tr th {\n        vertical-align: top;\n    }\n\n    .dataframe thead th {\n        text-align: right;\n    }\n</style>\n<table border=\"1\" class=\"dataframe\">\n  <thead>\n    <tr style=\"text-align: right;\">\n      <th></th>\n      <th>P</th>\n      <th>Gb(i)</th>\n      <th>Gd(i)</th>\n      <th>Gr(i)</th>\n      <th>H_sun</th>\n      <th>T2m</th>\n      <th>WS10m</th>\n      <th>Int</th>\n    </tr>\n    <tr>\n      <th>time</th>\n      <th></th>\n      <th></th>\n      <th></th>\n      <th></th>\n      <th></th>\n      <th></th>\n      <th></th>\n      <th></th>\n    </tr>\n  </thead>\n  <tbody>\n    <tr>\n      <th>2005-01-01 00:00:00</th>\n      <td>0.000</td>\n      <td>0.000</td>\n      <td>0.000</td>\n      <td>0.000</td>\n      <td>0.000</td>\n      <td>7.560</td>\n      <td>2.210</td>\n      <td>0</td>\n    </tr>\n    <tr>\n      <th>2005-01-01 01:00:00</th>\n      <td>0.000</td>\n      <td>0.000</td>\n      <td>0.000</td>\n      <td>0.000</td>\n      <td>0.000</td>\n      <td>7.060</td>\n      <td>2.140</td>\n      <td>0</td>\n    </tr>\n    <tr>\n      <th>2005-01-01 02:00:00</th>\n      <td>0.000</td>\n      <td>0.000</td>\n      <td>0.000</td>\n      <td>0.000</td>\n      <td>0.000</td>\n      <td>6.660</td>\n      <td>2.070</td>\n      <td>0</td>\n    </tr>\n    <tr>\n      <th>2005-01-01 03:00:00</th>\n      <td>0.000</td>\n      <td>0.000</td>\n      <td>0.000</td>\n      <td>0.000</td>\n      <td>0.000</td>\n      <td>6.090</td>\n      <td>1.520</td>\n      <td>0</td>\n    </tr>\n    <tr>\n      <th>2005-01-01 04:00:00</th>\n      <td>0.000</td>\n      <td>0.000</td>\n      <td>0.000</td>\n      <td>0.000</td>\n      <td>0.000</td>\n      <td>5.830</td>\n      <td>1.240</td>\n      <td>0</td>\n    </tr>\n  </tbody>\n</table>\n</div>"
     },
     "execution_count": 14,
     "metadata": {},
     "output_type": "execute_result"
    }
   ],
   "source": [
    "# Show some of the data\n",
    "data.dataset[0].head()"
   ]
  },
  {
   "cell_type": "markdown",
   "source": [
    "## 2. Preparing the data for use in the model"
   ],
   "metadata": {
    "collapsed": false
   }
  },
  {
   "cell_type": "markdown",
   "source": [
    "### 2.1 Selecting and adding features"
   ],
   "metadata": {
    "collapsed": false
   }
  },
  {
   "cell_type": "code",
   "execution_count": 15,
   "metadata": {
    "ExecuteTime": {
     "end_time": "2024-03-26T12:19:30.760352500Z",
     "start_time": "2024-03-26T12:19:30.706422200Z"
    }
   },
   "outputs": [],
   "source": [
    "# Import the featurisation class\n",
    "from src.data.featurisation import Featurisation\n",
    "\n",
    "# Decide on the features to use in making the model (Note that 'P' should always be included since it's the target variable)\n",
    "dataset = Featurisation(data.dataset).base_features(['P', 'Gb(i)', 'T2m'])\n",
    "\n",
    "# Use daily cyclic features as well\n",
    "dataset = Featurisation(dataset).cyclic_features()"
   ]
  },
  {
   "cell_type": "markdown",
   "source": [
    "![Cyclical_time_features](../../cosine-sine_coordinates.png)\n",
    "\n",
    "Figure 2: Using cyclical features"
   ],
   "metadata": {
    "collapsed": false
   }
  },
  {
   "cell_type": "code",
   "execution_count": 16,
   "metadata": {
    "ExecuteTime": {
     "end_time": "2024-03-26T12:19:32.533907400Z",
     "start_time": "2024-03-26T12:19:32.501383500Z"
    }
   },
   "outputs": [
    {
     "data": {
      "text/plain": "                        P  Gb(i)   T2m  hour_sin  hour_cos  month_sin  \\\ntime                                                                    \n2005-01-01 00:00:00 0.000  0.000 7.560     0.000     1.000      0.500   \n2005-01-01 01:00:00 0.000  0.000 7.060     0.259     0.966      0.500   \n2005-01-01 02:00:00 0.000  0.000 6.660     0.500     0.866      0.500   \n2005-01-01 03:00:00 0.000  0.000 6.090     0.707     0.707      0.500   \n2005-01-01 04:00:00 0.000  0.000 5.830     0.866     0.500      0.500   \n\n                     month_cos  \ntime                            \n2005-01-01 00:00:00      0.866  \n2005-01-01 01:00:00      0.866  \n2005-01-01 02:00:00      0.866  \n2005-01-01 03:00:00      0.866  \n2005-01-01 04:00:00      0.866  ",
      "text/html": "<div>\n<style scoped>\n    .dataframe tbody tr th:only-of-type {\n        vertical-align: middle;\n    }\n\n    .dataframe tbody tr th {\n        vertical-align: top;\n    }\n\n    .dataframe thead th {\n        text-align: right;\n    }\n</style>\n<table border=\"1\" class=\"dataframe\">\n  <thead>\n    <tr style=\"text-align: right;\">\n      <th></th>\n      <th>P</th>\n      <th>Gb(i)</th>\n      <th>T2m</th>\n      <th>hour_sin</th>\n      <th>hour_cos</th>\n      <th>month_sin</th>\n      <th>month_cos</th>\n    </tr>\n    <tr>\n      <th>time</th>\n      <th></th>\n      <th></th>\n      <th></th>\n      <th></th>\n      <th></th>\n      <th></th>\n      <th></th>\n    </tr>\n  </thead>\n  <tbody>\n    <tr>\n      <th>2005-01-01 00:00:00</th>\n      <td>0.000</td>\n      <td>0.000</td>\n      <td>7.560</td>\n      <td>0.000</td>\n      <td>1.000</td>\n      <td>0.500</td>\n      <td>0.866</td>\n    </tr>\n    <tr>\n      <th>2005-01-01 01:00:00</th>\n      <td>0.000</td>\n      <td>0.000</td>\n      <td>7.060</td>\n      <td>0.259</td>\n      <td>0.966</td>\n      <td>0.500</td>\n      <td>0.866</td>\n    </tr>\n    <tr>\n      <th>2005-01-01 02:00:00</th>\n      <td>0.000</td>\n      <td>0.000</td>\n      <td>6.660</td>\n      <td>0.500</td>\n      <td>0.866</td>\n      <td>0.500</td>\n      <td>0.866</td>\n    </tr>\n    <tr>\n      <th>2005-01-01 03:00:00</th>\n      <td>0.000</td>\n      <td>0.000</td>\n      <td>6.090</td>\n      <td>0.707</td>\n      <td>0.707</td>\n      <td>0.500</td>\n      <td>0.866</td>\n    </tr>\n    <tr>\n      <th>2005-01-01 04:00:00</th>\n      <td>0.000</td>\n      <td>0.000</td>\n      <td>5.830</td>\n      <td>0.866</td>\n      <td>0.500</td>\n      <td>0.500</td>\n      <td>0.866</td>\n    </tr>\n  </tbody>\n</table>\n</div>"
     },
     "execution_count": 16,
     "metadata": {},
     "output_type": "execute_result"
    }
   ],
   "source": [
    "# Show the featurized dataset\n",
    "dataset[0].head()"
   ]
  },
  {
   "cell_type": "markdown",
   "source": [
    "### 2.2 Transforming the dataframe to tensors"
   ],
   "metadata": {
    "collapsed": false
   }
  },
  {
   "cell_type": "code",
   "execution_count": 17,
   "metadata": {
    "ExecuteTime": {
     "end_time": "2024-03-26T12:22:34.977584100Z",
     "start_time": "2024-03-26T12:22:22.380695100Z"
    }
   },
   "outputs": [
    {
     "data": {
      "text/plain": "(torch.Size([4674, 24, 7]),\n torch.Size([1169, 24, 7]),\n torch.Size([4674, 24, 1]),\n torch.Size([1169, 24, 1]))"
     },
     "execution_count": 17,
     "metadata": {},
     "output_type": "execute_result"
    }
   ],
   "source": [
    "# Import the tensorisation class to transform the data into tensors for use in pytorch models\n",
    "from src.tensors.tensorisation import Tensorisation\n",
    "import torch\n",
    "\n",
    "# Get the list of features\n",
    "features = list(dataset[0].columns)\n",
    "lags = 24\n",
    "forecast_period = 24\n",
    "\n",
    "# Get the tensors\n",
    "X_train_tot = torch.empty(0, dtype=torch.float32)\n",
    "X_test_tot = torch.empty(0, dtype=torch.float32)\n",
    "y_train_tot = torch.empty(0, dtype=torch.float32)\n",
    "y_test_tot = torch.empty(0, dtype=torch.float32)\n",
    "\n",
    "for i in range(len(dataset)):\n",
    "    tensors = Tensorisation(dataset[i], 'P', features, lags, forecast_period)\n",
    "    X_train, X_test, y_train, y_test = tensors.tensor_creation()\n",
    "    X_train_tot = torch.concat([X_train_tot, X_train])\n",
    "    X_test_tot = torch.concat([X_test_tot, X_test])\n",
    "    y_train_tot = torch.concat([y_train_tot, y_train])\n",
    "    y_test_tot = torch.concat([y_test_tot, y_test])\n",
    "    \n",
    "X_train_tot.shape, X_test_tot.shape, y_train_tot.shape, y_test_tot.shape"
   ]
  },
  {
   "cell_type": "markdown",
   "source": [
    "## 3. Creating and training the model"
   ],
   "metadata": {
    "collapsed": false
   }
  },
  {
   "cell_type": "code",
   "execution_count": 18,
   "metadata": {
    "ExecuteTime": {
     "end_time": "2024-03-26T12:27:27.881658200Z",
     "start_time": "2024-03-26T12:27:27.864689400Z"
    }
   },
   "outputs": [
    {
     "data": {
      "text/plain": "LSTM(\n  (lstm): LSTM(7, 50, num_layers=2, batch_first=True, dropout=0.3)\n  (linear): Linear(in_features=50, out_features=24, bias=True)\n)"
     },
     "execution_count": 18,
     "metadata": {},
     "output_type": "execute_result"
    }
   ],
   "source": [
    "# Import the lstm class to create an untrained LSTM\n",
    "from src.models.lstm import LSTM\n",
    "\n",
    "# Set the parameters for the lstm\n",
    "input_size = len(features)\n",
    "hidden_size = 50\n",
    "num_layers = 2\n",
    "dropout = 0.3\n",
    "device = torch.device(\"cuda\" if torch.cuda.is_available() else \"cpu\")\n",
    "\n",
    "my_lstm = LSTM(input_size,hidden_size,num_layers, forecast_period, dropout).to(device)\n",
    "my_lstm"
   ]
  },
  {
   "cell_type": "code",
   "execution_count": 20,
   "metadata": {
    "ExecuteTime": {
     "end_time": "2024-03-26T12:29:34.052978Z",
     "start_time": "2024-03-26T12:29:21.382121900Z"
    }
   },
   "outputs": [
    {
     "name": "stdout",
     "output_type": "stream",
     "text": [
      "Step 0: Average train loss: 0.0245 | Average test loss: 0.0160\n",
      "Step 5: Average train loss: 0.0165 | Average test loss: 0.0154\n",
      "Step 10: Average train loss: 0.0162 | Average test loss: 0.0150\n",
      "Step 15: Average train loss: 0.0161 | Average test loss: 0.0148\n",
      "Best Epoch: 19\n"
     ]
    },
    {
     "data": {
      "text/plain": "<Figure size 640x480 with 1 Axes>",
      "image/png": "[encoded data removed]"
     },
     "metadata": {},
     "output_type": "display_data"
    }
   ],
   "source": [
    "# Import the training class to train the model\n",
    "from src.models.training import Training\n",
    "\n",
    "# Set the training parameters\n",
    "epochs = 20\n",
    "\n",
    "# Initialize the trainer\n",
    "training = Training(my_lstm, X_train_tot, y_train_tot, X_test_tot, y_test_tot, epochs)\n",
    "\n",
    "# Train the model and return the trained parameters and the best iteration\n",
    "state_dict_list, best_epoch = training.fit()"
   ]
  },
  {
   "cell_type": "code",
   "execution_count": 21,
   "metadata": {
    "ExecuteTime": {
     "end_time": "2024-03-26T12:31:16.675198600Z",
     "start_time": "2024-03-26T12:31:16.641194700Z"
    }
   },
   "outputs": [
    {
     "data": {
      "text/plain": "<All keys matched successfully>"
     },
     "execution_count": 21,
     "metadata": {},
     "output_type": "execute_result"
    }
   ],
   "source": [
    "# Load the state dictionary of the best performing model\n",
    "\n",
    "my_lstm.load_state_dict(state_dict_list[best_epoch])"
   ]
  },
  {
   "cell_type": "code",
   "execution_count": 22,
   "metadata": {
    "ExecuteTime": {
     "end_time": "2024-03-26T12:31:29.527915800Z",
     "start_time": "2024-03-26T12:31:29.485406600Z"
    }
   },
   "outputs": [],
   "source": [
    "# Save the model state dictionary for later use\n",
    "from src.models.training import save_model\n",
    "\n",
    "save_model(my_lstm, 'example_model')"
   ]
  },
  {
   "cell_type": "markdown",
   "source": [
    "## 4. Inference and evaluation"
   ],
   "metadata": {
    "collapsed": false
   }
  },
  {
   "cell_type": "code",
   "execution_count": 23,
   "metadata": {
    "ExecuteTime": {
     "end_time": "2024-03-26T12:32:08.625688100Z",
     "start_time": "2024-03-26T12:32:08.610274300Z"
    }
   },
   "outputs": [],
   "source": [
    "# Forecast with the model\n",
    "forecasts = my_lstm(X_test_tot.to(device))"
   ]
  },
  {
   "cell_type": "code",
   "execution_count": 24,
   "metadata": {
    "ExecuteTime": {
     "end_time": "2024-03-26T12:35:19.143925400Z",
     "start_time": "2024-03-26T12:35:17.468314600Z"
    }
   },
   "outputs": [
    {
     "data": {
      "text/plain": "Metrics   0.122\nName: RMSE, dtype: float32"
     },
     "execution_count": 24,
     "metadata": {},
     "output_type": "execute_result"
    }
   ],
   "source": [
    "# Import the evaluation script\n",
    "from src.evaluation.evaluation import Evaluation\n",
    "\n",
    "# Evaluate the model performance\n",
    "eval = Evaluation(y_test_tot.detach().flatten().numpy(), forecasts.cpu().detach().flatten().numpy())\n",
    "\n",
    "# Show the evaluation metrics\n",
    "eval.metrics()['RMSE']"
   ]
  },
  {
   "cell_type": "code",
   "execution_count": 25,
   "outputs": [
    {
     "data": {
      "text/plain": "<Figure size 640x480 with 1 Axes>",
      "image/png": "[encoded data removed]"
     },
     "metadata": {},
     "output_type": "display_data"
    }
   ],
   "source": [
    "# Plot some of the forecasts\n",
    "import matplotlib.pyplot as plt\n",
    "\n",
    "plt.plot(forecasts[0].cpu().detach().numpy(), label=\"Forecasts\")\n",
    "plt.plot(y_test_tot[0], label=\"Actuals\")\n",
    "\n",
    "plt.legend()\n",
    "plt.show()"
   ],
   "metadata": {
    "collapsed": false,
    "ExecuteTime": {
     "end_time": "2024-03-26T12:35:30.043294700Z",
     "start_time": "2024-03-26T12:35:29.927124300Z"
    }
   }
  },
  {
   "cell_type": "code",
   "execution_count": 12,
   "outputs": [],
   "source": [],
   "metadata": {
    "collapsed": false,
    "ExecuteTime": {
     "end_time": "2024-03-26T12:00:37.201389700Z",
     "start_time": "2024-03-26T12:00:37.192543200Z"
    }
   }
  }
 ],
 "metadata": {
  "kernelspec": {
   "display_name": "SolNet",
   "language": "python",
   "name": "python3"
  },
  "language_info": {
   "codemirror_mode": {
    "name": "ipython",
    "version": 3
   },
   "file_extension": ".py",
   "mimetype": "text/x-python",
   "name": "python",
   "nbconvert_exporter": "python",
   "pygments_lexer": "ipython3",
   "version": "3.9.16"
  },
  "orig_nbformat": 4
 },
 "nbformat": 4,
 "nbformat_minor": 2
}
