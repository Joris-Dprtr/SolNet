{
 "cells": [
  {
   "cell_type": "markdown",
   "source": [
    "# AUS dataprep"
   ],
   "metadata": {
    "collapsed": false
   }
  },
  {
   "cell_type": "markdown",
   "source": [
    "This notebook transforms the data as given by Ausgrid in a format that we can use with our models, and adds (approximate) latitude and longitude information for all the zipcodes."
   ],
   "metadata": {
    "collapsed": false
   }
  },
  {
   "cell_type": "code",
   "execution_count": 14,
   "metadata": {
    "ExecuteTime": {
     "end_time": "2023-11-27T15:33:54.544916Z",
     "start_time": "2023-11-27T15:33:54.544916Z"
    }
   },
   "outputs": [],
   "source": [
    "import pandas as pd\n",
    "import json\n",
    "from matplotlib import pyplot as plt"
   ]
  },
  {
   "cell_type": "code",
   "execution_count": 3,
   "metadata": {
    "ExecuteTime": {
     "end_time": "2023-11-27T15:31:41.969119Z",
     "start_time": "2023-11-27T15:31:40.451800600Z"
    }
   },
   "outputs": [],
   "source": [
    "aus_2012 = pd.read_csv('../data/australia/2011-2012 Solar home electricity data v2.csv')\n",
    "aus_2013 = pd.read_csv('../data/australia/2012-2013 Solar home electricity data v2.csv')"
   ]
  },
  {
   "cell_type": "code",
   "execution_count": 4,
   "metadata": {
    "ExecuteTime": {
     "end_time": "2023-11-27T15:31:45.420335200Z",
     "start_time": "2023-11-27T15:31:45.419679500Z"
    }
   },
   "outputs": [],
   "source": [
    "def aus_clean(aus_raw):\n",
    "    \"\"\"\n",
    "    Transform the Ausgrid data in a pandas dataframe which can be used in our code\n",
    "    :param aus_raw: the data in the original format, as presented in a pandas DataFrame by simply doing pd.read_csv(file) \n",
    "    :return: a new pandas DataFrame\n",
    "    \"\"\"\n",
    "    # Only keep GG for solar generation\n",
    "    # Filter the DataFrame to keep only rows with 'GG' in the 'Consumption Category' column\n",
    "    aus_df = aus_raw[aus_raw['Consumption Category'] == 'GG']\n",
    "    \n",
    "    # Extract the time columns\n",
    "    time_columns = aus_df.columns[5:-1]\n",
    "    \n",
    "    # Melt the DataFrame to combine the half-hour columns into rows under the \"Values\" column\n",
    "    aus_melted = pd.melt(aus_df, id_vars=['date', 'Customer', 'Postcode', 'Generator Capacity'], value_vars=time_columns, var_name='Time', value_name='Values')\n",
    "    \n",
    "    # Correctly set the date in the right format, as our index\n",
    "    aus_melted['date'] = aus_melted['date'] + ' ' + aus_melted['Time'] + ':00'\n",
    "    aus_melted.drop(columns=['Time'], inplace=True)\n",
    "    aus_melted.set_index('date', inplace=True)\n",
    "    aus_melted.index = pd.to_datetime(aus_melted.index, format=\"%d/%m/%Y %H:%M:%S\")\n",
    "    \n",
    "    # Sort the DataFrame by the datetime index and the customer\n",
    "    aus_melted.sort_values(by=['Customer', 'date'], inplace=True)\n",
    "    \n",
    "    return aus_melted"
   ]
  },
  {
   "cell_type": "code",
   "execution_count": 5,
   "outputs": [
    {
     "data": {
      "text/plain": "                     Customer  Postcode  Generator Capacity  Values\ndate                                                               \n2011-07-01 00:00:00         1      2076                3.78     0.0\n2011-07-01 00:30:00         1      2076                3.78     0.0\n2011-07-01 01:00:00         1      2076                3.78     0.0\n2011-07-01 01:30:00         1      2076                3.78     0.0\n2011-07-01 02:00:00         1      2076                3.78     0.0\n...                       ...       ...                 ...     ...\n2012-06-30 21:30:00       300      2086                3.36     0.0\n2012-06-30 22:00:00       300      2086                3.36     0.0\n2012-06-30 22:30:00       300      2086                3.36     0.0\n2012-06-30 23:00:00       300      2086                3.36     0.0\n2012-06-30 23:30:00       300      2086                3.36     0.0\n\n[5270400 rows x 4 columns]",
      "text/html": "<div>\n<style scoped>\n    .dataframe tbody tr th:only-of-type {\n        vertical-align: middle;\n    }\n\n    .dataframe tbody tr th {\n        vertical-align: top;\n    }\n\n    .dataframe thead th {\n        text-align: right;\n    }\n</style>\n<table border=\"1\" class=\"dataframe\">\n  <thead>\n    <tr style=\"text-align: right;\">\n      <th></th>\n      <th>Customer</th>\n      <th>Postcode</th>\n      <th>Generator Capacity</th>\n      <th>Values</th>\n    </tr>\n    <tr>\n      <th>date</th>\n      <th></th>\n      <th></th>\n      <th></th>\n      <th></th>\n    </tr>\n  </thead>\n  <tbody>\n    <tr>\n      <th>2011-07-01 00:00:00</th>\n      <td>1</td>\n      <td>2076</td>\n      <td>3.78</td>\n      <td>0.0</td>\n    </tr>\n    <tr>\n      <th>2011-07-01 00:30:00</th>\n      <td>1</td>\n      <td>2076</td>\n      <td>3.78</td>\n      <td>0.0</td>\n    </tr>\n    <tr>\n      <th>2011-07-01 01:00:00</th>\n      <td>1</td>\n      <td>2076</td>\n      <td>3.78</td>\n      <td>0.0</td>\n    </tr>\n    <tr>\n      <th>2011-07-01 01:30:00</th>\n      <td>1</td>\n      <td>2076</td>\n      <td>3.78</td>\n      <td>0.0</td>\n    </tr>\n    <tr>\n      <th>2011-07-01 02:00:00</th>\n      <td>1</td>\n      <td>2076</td>\n      <td>3.78</td>\n      <td>0.0</td>\n    </tr>\n    <tr>\n      <th>...</th>\n      <td>...</td>\n      <td>...</td>\n      <td>...</td>\n      <td>...</td>\n    </tr>\n    <tr>\n      <th>2012-06-30 21:30:00</th>\n      <td>300</td>\n      <td>2086</td>\n      <td>3.36</td>\n      <td>0.0</td>\n    </tr>\n    <tr>\n      <th>2012-06-30 22:00:00</th>\n      <td>300</td>\n      <td>2086</td>\n      <td>3.36</td>\n      <td>0.0</td>\n    </tr>\n    <tr>\n      <th>2012-06-30 22:30:00</th>\n      <td>300</td>\n      <td>2086</td>\n      <td>3.36</td>\n      <td>0.0</td>\n    </tr>\n    <tr>\n      <th>2012-06-30 23:00:00</th>\n      <td>300</td>\n      <td>2086</td>\n      <td>3.36</td>\n      <td>0.0</td>\n    </tr>\n    <tr>\n      <th>2012-06-30 23:30:00</th>\n      <td>300</td>\n      <td>2086</td>\n      <td>3.36</td>\n      <td>0.0</td>\n    </tr>\n  </tbody>\n</table>\n<p>5270400 rows × 4 columns</p>\n</div>"
     },
     "execution_count": 5,
     "metadata": {},
     "output_type": "execute_result"
    }
   ],
   "source": [
    "# Get the 2012 data\n",
    "aus_2012_clean = aus_clean(aus_2012)\n",
    "aus_2012_clean"
   ],
   "metadata": {
    "collapsed": false,
    "ExecuteTime": {
     "end_time": "2023-11-27T15:32:00.676440500Z",
     "start_time": "2023-11-27T15:31:45.906764400Z"
    }
   }
  },
  {
   "cell_type": "code",
   "execution_count": 6,
   "outputs": [
    {
     "data": {
      "text/plain": "                     Customer  Postcode  Generator Capacity  Values\ndate                                                               \n2012-07-01 00:00:00       1.0    2076.0                3.78     0.0\n2012-07-01 00:30:00       1.0    2076.0                3.78     0.0\n2012-07-01 01:00:00       1.0    2076.0                3.78     0.0\n2012-07-01 01:30:00       1.0    2076.0                3.78     0.0\n2012-07-01 02:00:00       1.0    2076.0                3.78     0.0\n...                       ...       ...                 ...     ...\n2013-06-30 21:30:00     300.0    2086.0                3.36     0.0\n2013-06-30 22:00:00     300.0    2086.0                3.36     0.0\n2013-06-30 22:30:00     300.0    2086.0                3.36     0.0\n2013-06-30 23:00:00     300.0    2086.0                3.36     0.0\n2013-06-30 23:30:00     300.0    2086.0                3.36     0.0\n\n[5252112 rows x 4 columns]",
      "text/html": "<div>\n<style scoped>\n    .dataframe tbody tr th:only-of-type {\n        vertical-align: middle;\n    }\n\n    .dataframe tbody tr th {\n        vertical-align: top;\n    }\n\n    .dataframe thead th {\n        text-align: right;\n    }\n</style>\n<table border=\"1\" class=\"dataframe\">\n  <thead>\n    <tr style=\"text-align: right;\">\n      <th></th>\n      <th>Customer</th>\n      <th>Postcode</th>\n      <th>Generator Capacity</th>\n      <th>Values</th>\n    </tr>\n    <tr>\n      <th>date</th>\n      <th></th>\n      <th></th>\n      <th></th>\n      <th></th>\n    </tr>\n  </thead>\n  <tbody>\n    <tr>\n      <th>2012-07-01 00:00:00</th>\n      <td>1.0</td>\n      <td>2076.0</td>\n      <td>3.78</td>\n      <td>0.0</td>\n    </tr>\n    <tr>\n      <th>2012-07-01 00:30:00</th>\n      <td>1.0</td>\n      <td>2076.0</td>\n      <td>3.78</td>\n      <td>0.0</td>\n    </tr>\n    <tr>\n      <th>2012-07-01 01:00:00</th>\n      <td>1.0</td>\n      <td>2076.0</td>\n      <td>3.78</td>\n      <td>0.0</td>\n    </tr>\n    <tr>\n      <th>2012-07-01 01:30:00</th>\n      <td>1.0</td>\n      <td>2076.0</td>\n      <td>3.78</td>\n      <td>0.0</td>\n    </tr>\n    <tr>\n      <th>2012-07-01 02:00:00</th>\n      <td>1.0</td>\n      <td>2076.0</td>\n      <td>3.78</td>\n      <td>0.0</td>\n    </tr>\n    <tr>\n      <th>...</th>\n      <td>...</td>\n      <td>...</td>\n      <td>...</td>\n      <td>...</td>\n    </tr>\n    <tr>\n      <th>2013-06-30 21:30:00</th>\n      <td>300.0</td>\n      <td>2086.0</td>\n      <td>3.36</td>\n      <td>0.0</td>\n    </tr>\n    <tr>\n      <th>2013-06-30 22:00:00</th>\n      <td>300.0</td>\n      <td>2086.0</td>\n      <td>3.36</td>\n      <td>0.0</td>\n    </tr>\n    <tr>\n      <th>2013-06-30 22:30:00</th>\n      <td>300.0</td>\n      <td>2086.0</td>\n      <td>3.36</td>\n      <td>0.0</td>\n    </tr>\n    <tr>\n      <th>2013-06-30 23:00:00</th>\n      <td>300.0</td>\n      <td>2086.0</td>\n      <td>3.36</td>\n      <td>0.0</td>\n    </tr>\n    <tr>\n      <th>2013-06-30 23:30:00</th>\n      <td>300.0</td>\n      <td>2086.0</td>\n      <td>3.36</td>\n      <td>0.0</td>\n    </tr>\n  </tbody>\n</table>\n<p>5252112 rows × 4 columns</p>\n</div>"
     },
     "execution_count": 6,
     "metadata": {},
     "output_type": "execute_result"
    }
   ],
   "source": [
    "# Get the 2013 data\n",
    "aus_2013_clean = aus_clean(aus_2013)\n",
    "aus_2013_clean"
   ],
   "metadata": {
    "collapsed": false,
    "ExecuteTime": {
     "end_time": "2023-11-27T15:32:15.305448700Z",
     "start_time": "2023-11-27T15:32:00.676440500Z"
    }
   }
  },
  {
   "cell_type": "code",
   "execution_count": 28,
   "outputs": [
    {
     "data": {
      "text/plain": "                     Customer  Postcode  Generator Capacity  Values\ndate                                                               \n2011-07-01 00:00:00       1.0    2076.0                3.78     0.0\n2011-07-01 00:30:00       1.0    2076.0                3.78     0.0\n2011-07-01 01:00:00       1.0    2076.0                3.78     0.0\n2011-07-01 01:30:00       1.0    2076.0                3.78     0.0\n2011-07-01 02:00:00       1.0    2076.0                3.78     0.0\n...                       ...       ...                 ...     ...\n2013-06-30 21:30:00     300.0    2086.0                3.36     0.0\n2013-06-30 22:00:00     300.0    2086.0                3.36     0.0\n2013-06-30 22:30:00     300.0    2086.0                3.36     0.0\n2013-06-30 23:00:00     300.0    2086.0                3.36     0.0\n2013-06-30 23:30:00     300.0    2086.0                3.36     0.0\n\n[10522512 rows x 4 columns]",
      "text/html": "<div>\n<style scoped>\n    .dataframe tbody tr th:only-of-type {\n        vertical-align: middle;\n    }\n\n    .dataframe tbody tr th {\n        vertical-align: top;\n    }\n\n    .dataframe thead th {\n        text-align: right;\n    }\n</style>\n<table border=\"1\" class=\"dataframe\">\n  <thead>\n    <tr style=\"text-align: right;\">\n      <th></th>\n      <th>Customer</th>\n      <th>Postcode</th>\n      <th>Generator Capacity</th>\n      <th>Values</th>\n    </tr>\n    <tr>\n      <th>date</th>\n      <th></th>\n      <th></th>\n      <th></th>\n      <th></th>\n    </tr>\n  </thead>\n  <tbody>\n    <tr>\n      <th>2011-07-01 00:00:00</th>\n      <td>1.0</td>\n      <td>2076.0</td>\n      <td>3.78</td>\n      <td>0.0</td>\n    </tr>\n    <tr>\n      <th>2011-07-01 00:30:00</th>\n      <td>1.0</td>\n      <td>2076.0</td>\n      <td>3.78</td>\n      <td>0.0</td>\n    </tr>\n    <tr>\n      <th>2011-07-01 01:00:00</th>\n      <td>1.0</td>\n      <td>2076.0</td>\n      <td>3.78</td>\n      <td>0.0</td>\n    </tr>\n    <tr>\n      <th>2011-07-01 01:30:00</th>\n      <td>1.0</td>\n      <td>2076.0</td>\n      <td>3.78</td>\n      <td>0.0</td>\n    </tr>\n    <tr>\n      <th>2011-07-01 02:00:00</th>\n      <td>1.0</td>\n      <td>2076.0</td>\n      <td>3.78</td>\n      <td>0.0</td>\n    </tr>\n    <tr>\n      <th>...</th>\n      <td>...</td>\n      <td>...</td>\n      <td>...</td>\n      <td>...</td>\n    </tr>\n    <tr>\n      <th>2013-06-30 21:30:00</th>\n      <td>300.0</td>\n      <td>2086.0</td>\n      <td>3.36</td>\n      <td>0.0</td>\n    </tr>\n    <tr>\n      <th>2013-06-30 22:00:00</th>\n      <td>300.0</td>\n      <td>2086.0</td>\n      <td>3.36</td>\n      <td>0.0</td>\n    </tr>\n    <tr>\n      <th>2013-06-30 22:30:00</th>\n      <td>300.0</td>\n      <td>2086.0</td>\n      <td>3.36</td>\n      <td>0.0</td>\n    </tr>\n    <tr>\n      <th>2013-06-30 23:00:00</th>\n      <td>300.0</td>\n      <td>2086.0</td>\n      <td>3.36</td>\n      <td>0.0</td>\n    </tr>\n    <tr>\n      <th>2013-06-30 23:30:00</th>\n      <td>300.0</td>\n      <td>2086.0</td>\n      <td>3.36</td>\n      <td>0.0</td>\n    </tr>\n  </tbody>\n</table>\n<p>10522512 rows × 4 columns</p>\n</div>"
     },
     "execution_count": 28,
     "metadata": {},
     "output_type": "execute_result"
    }
   ],
   "source": [
    "# Concatenate the two dataframes and sort the values\n",
    "aus_combined = pd.concat([aus_2012_clean,aus_2013_clean], axis=0)\n",
    "aus_combined.sort_values(by=['Customer', 'date'], inplace=True)\n",
    "\n",
    "aus_combined"
   ],
   "metadata": {
    "collapsed": false,
    "ExecuteTime": {
     "end_time": "2023-11-27T15:36:42.864073100Z",
     "start_time": "2023-11-27T15:36:41.174917300Z"
    }
   }
  },
  {
   "cell_type": "code",
   "execution_count": 8,
   "outputs": [
    {
     "data": {
      "text/plain": "{1.0: DatetimeIndex([], dtype='datetime64[ns]', freq='30T'),\n 2.0: DatetimeIndex(['2012-10-12 00:00:00', '2012-10-12 00:30:00',\n                '2012-10-12 01:00:00', '2012-10-12 01:30:00',\n                '2012-10-12 02:00:00', '2012-10-12 02:30:00',\n                '2012-10-12 03:00:00', '2012-10-12 03:30:00',\n                '2012-10-12 04:00:00', '2012-10-12 04:30:00',\n                ...\n                '2012-12-31 19:00:00', '2012-12-31 19:30:00',\n                '2012-12-31 20:00:00', '2012-12-31 20:30:00',\n                '2012-12-31 21:00:00', '2012-12-31 21:30:00',\n                '2012-12-31 22:00:00', '2012-12-31 22:30:00',\n                '2012-12-31 23:00:00', '2012-12-31 23:30:00'],\n               dtype='datetime64[ns]', length=3888, freq='30T'),\n 3.0: DatetimeIndex([], dtype='datetime64[ns]', freq='30T'),\n 4.0: DatetimeIndex([], dtype='datetime64[ns]', freq='30T'),\n 5.0: DatetimeIndex([], dtype='datetime64[ns]', freq='30T'),\n 6.0: DatetimeIndex([], dtype='datetime64[ns]', freq='30T'),\n 7.0: DatetimeIndex([], dtype='datetime64[ns]', freq='30T'),\n 8.0: DatetimeIndex([], dtype='datetime64[ns]', freq='30T'),\n 9.0: DatetimeIndex([], dtype='datetime64[ns]', freq='30T'),\n 10.0: DatetimeIndex([], dtype='datetime64[ns]', freq='30T'),\n 11.0: DatetimeIndex([], dtype='datetime64[ns]', freq='30T'),\n 12.0: DatetimeIndex([], dtype='datetime64[ns]', freq='30T'),\n 13.0: DatetimeIndex([], dtype='datetime64[ns]', freq='30T'),\n 14.0: DatetimeIndex([], dtype='datetime64[ns]', freq='30T'),\n 15.0: DatetimeIndex([], dtype='datetime64[ns]', freq='30T'),\n 16.0: DatetimeIndex([], dtype='datetime64[ns]', freq='30T'),\n 17.0: DatetimeIndex([], dtype='datetime64[ns]', freq='30T'),\n 18.0: DatetimeIndex([], dtype='datetime64[ns]', freq='30T'),\n 19.0: DatetimeIndex([], dtype='datetime64[ns]', freq='30T'),\n 20.0: DatetimeIndex([], dtype='datetime64[ns]', freq='30T'),\n 21.0: DatetimeIndex([], dtype='datetime64[ns]', freq='30T'),\n 22.0: DatetimeIndex([], dtype='datetime64[ns]', freq='30T'),\n 23.0: DatetimeIndex([], dtype='datetime64[ns]', freq='30T'),\n 24.0: DatetimeIndex([], dtype='datetime64[ns]', freq='30T'),\n 25.0: DatetimeIndex([], dtype='datetime64[ns]', freq='30T'),\n 26.0: DatetimeIndex([], dtype='datetime64[ns]', freq='30T'),\n 27.0: DatetimeIndex([], dtype='datetime64[ns]', freq='30T'),\n 28.0: DatetimeIndex([], dtype='datetime64[ns]', freq='30T'),\n 29.0: DatetimeIndex([], dtype='datetime64[ns]', freq='30T'),\n 30.0: DatetimeIndex([], dtype='datetime64[ns]', freq='30T'),\n 31.0: DatetimeIndex([], dtype='datetime64[ns]', freq='30T'),\n 32.0: DatetimeIndex([], dtype='datetime64[ns]', freq='30T'),\n 33.0: DatetimeIndex([], dtype='datetime64[ns]', freq='30T'),\n 34.0: DatetimeIndex([], dtype='datetime64[ns]', freq='30T'),\n 35.0: DatetimeIndex([], dtype='datetime64[ns]', freq='30T'),\n 36.0: DatetimeIndex([], dtype='datetime64[ns]', freq='30T'),\n 37.0: DatetimeIndex([], dtype='datetime64[ns]', freq='30T'),\n 38.0: DatetimeIndex([], dtype='datetime64[ns]', freq='30T'),\n 39.0: DatetimeIndex([], dtype='datetime64[ns]', freq='30T'),\n 40.0: DatetimeIndex([], dtype='datetime64[ns]', freq='30T'),\n 41.0: DatetimeIndex([], dtype='datetime64[ns]', freq='30T'),\n 42.0: DatetimeIndex([], dtype='datetime64[ns]', freq='30T'),\n 43.0: DatetimeIndex([], dtype='datetime64[ns]', freq='30T'),\n 44.0: DatetimeIndex([], dtype='datetime64[ns]', freq='30T'),\n 45.0: DatetimeIndex([], dtype='datetime64[ns]', freq='30T'),\n 46.0: DatetimeIndex([], dtype='datetime64[ns]', freq='30T'),\n 47.0: DatetimeIndex([], dtype='datetime64[ns]', freq='30T'),\n 48.0: DatetimeIndex([], dtype='datetime64[ns]', freq='30T'),\n 49.0: DatetimeIndex([], dtype='datetime64[ns]', freq='30T'),\n 50.0: DatetimeIndex([], dtype='datetime64[ns]', freq='30T'),\n 51.0: DatetimeIndex([], dtype='datetime64[ns]', freq='30T'),\n 52.0: DatetimeIndex([], dtype='datetime64[ns]', freq='30T'),\n 53.0: DatetimeIndex([], dtype='datetime64[ns]', freq='30T'),\n 54.0: DatetimeIndex([], dtype='datetime64[ns]', freq='30T'),\n 55.0: DatetimeIndex([], dtype='datetime64[ns]', freq='30T'),\n 56.0: DatetimeIndex([], dtype='datetime64[ns]', freq='30T'),\n 57.0: DatetimeIndex([], dtype='datetime64[ns]', freq='30T'),\n 58.0: DatetimeIndex([], dtype='datetime64[ns]', freq='30T'),\n 59.0: DatetimeIndex([], dtype='datetime64[ns]', freq='30T'),\n 60.0: DatetimeIndex([], dtype='datetime64[ns]', freq='30T'),\n 61.0: DatetimeIndex([], dtype='datetime64[ns]', freq='30T'),\n 62.0: DatetimeIndex([], dtype='datetime64[ns]', freq='30T'),\n 63.0: DatetimeIndex([], dtype='datetime64[ns]', freq='30T'),\n 64.0: DatetimeIndex([], dtype='datetime64[ns]', freq='30T'),\n 65.0: DatetimeIndex([], dtype='datetime64[ns]', freq='30T'),\n 66.0: DatetimeIndex([], dtype='datetime64[ns]', freq='30T'),\n 67.0: DatetimeIndex([], dtype='datetime64[ns]', freq='30T'),\n 68.0: DatetimeIndex([], dtype='datetime64[ns]', freq='30T'),\n 69.0: DatetimeIndex([], dtype='datetime64[ns]', freq='30T'),\n 70.0: DatetimeIndex([], dtype='datetime64[ns]', freq='30T'),\n 71.0: DatetimeIndex([], dtype='datetime64[ns]', freq='30T'),\n 72.0: DatetimeIndex([], dtype='datetime64[ns]', freq='30T'),\n 73.0: DatetimeIndex([], dtype='datetime64[ns]', freq='30T'),\n 74.0: DatetimeIndex([], dtype='datetime64[ns]', freq='30T'),\n 75.0: DatetimeIndex([], dtype='datetime64[ns]', freq='30T'),\n 76.0: DatetimeIndex([], dtype='datetime64[ns]', freq='30T'),\n 77.0: DatetimeIndex([], dtype='datetime64[ns]', freq='30T'),\n 78.0: DatetimeIndex([], dtype='datetime64[ns]', freq='30T'),\n 79.0: DatetimeIndex([], dtype='datetime64[ns]', freq='30T'),\n 80.0: DatetimeIndex([], dtype='datetime64[ns]', freq='30T'),\n 81.0: DatetimeIndex([], dtype='datetime64[ns]', freq='30T'),\n 82.0: DatetimeIndex([], dtype='datetime64[ns]', freq='30T'),\n 83.0: DatetimeIndex([], dtype='datetime64[ns]', freq='30T'),\n 84.0: DatetimeIndex([], dtype='datetime64[ns]', freq='30T'),\n 85.0: DatetimeIndex([], dtype='datetime64[ns]', freq='30T'),\n 86.0: DatetimeIndex([], dtype='datetime64[ns]', freq='30T'),\n 87.0: DatetimeIndex([], dtype='datetime64[ns]', freq='30T'),\n 88.0: DatetimeIndex([], dtype='datetime64[ns]', freq='30T'),\n 89.0: DatetimeIndex([], dtype='datetime64[ns]', freq='30T'),\n 90.0: DatetimeIndex([], dtype='datetime64[ns]', freq='30T'),\n 91.0: DatetimeIndex([], dtype='datetime64[ns]', freq='30T'),\n 92.0: DatetimeIndex([], dtype='datetime64[ns]', freq='30T'),\n 93.0: DatetimeIndex([], dtype='datetime64[ns]', freq='30T'),\n 94.0: DatetimeIndex([], dtype='datetime64[ns]', freq='30T'),\n 95.0: DatetimeIndex([], dtype='datetime64[ns]', freq='30T'),\n 96.0: DatetimeIndex([], dtype='datetime64[ns]', freq='30T'),\n 97.0: DatetimeIndex([], dtype='datetime64[ns]', freq='30T'),\n 98.0: DatetimeIndex([], dtype='datetime64[ns]', freq='30T'),\n 99.0: DatetimeIndex([], dtype='datetime64[ns]', freq='30T'),\n 100.0: DatetimeIndex([], dtype='datetime64[ns]', freq='30T'),\n 101.0: DatetimeIndex([], dtype='datetime64[ns]', freq='30T'),\n 102.0: DatetimeIndex([], dtype='datetime64[ns]', freq='30T'),\n 103.0: DatetimeIndex([], dtype='datetime64[ns]', freq='30T'),\n 104.0: DatetimeIndex([], dtype='datetime64[ns]', freq='30T'),\n 105.0: DatetimeIndex([], dtype='datetime64[ns]', freq='30T'),\n 106.0: DatetimeIndex([], dtype='datetime64[ns]', freq='30T'),\n 107.0: DatetimeIndex([], dtype='datetime64[ns]', freq='30T'),\n 108.0: DatetimeIndex([], dtype='datetime64[ns]', freq='30T'),\n 109.0: DatetimeIndex([], dtype='datetime64[ns]', freq='30T'),\n 110.0: DatetimeIndex([], dtype='datetime64[ns]', freq='30T'),\n 111.0: DatetimeIndex([], dtype='datetime64[ns]', freq='30T'),\n 112.0: DatetimeIndex([], dtype='datetime64[ns]', freq='30T'),\n 113.0: DatetimeIndex([], dtype='datetime64[ns]', freq='30T'),\n 114.0: DatetimeIndex([], dtype='datetime64[ns]', freq='30T'),\n 115.0: DatetimeIndex([], dtype='datetime64[ns]', freq='30T'),\n 116.0: DatetimeIndex([], dtype='datetime64[ns]', freq='30T'),\n 117.0: DatetimeIndex([], dtype='datetime64[ns]', freq='30T'),\n 118.0: DatetimeIndex([], dtype='datetime64[ns]', freq='30T'),\n 119.0: DatetimeIndex([], dtype='datetime64[ns]', freq='30T'),\n 120.0: DatetimeIndex([], dtype='datetime64[ns]', freq='30T'),\n 121.0: DatetimeIndex([], dtype='datetime64[ns]', freq='30T'),\n 122.0: DatetimeIndex([], dtype='datetime64[ns]', freq='30T'),\n 123.0: DatetimeIndex([], dtype='datetime64[ns]', freq='30T'),\n 124.0: DatetimeIndex([], dtype='datetime64[ns]', freq='30T'),\n 125.0: DatetimeIndex([], dtype='datetime64[ns]', freq='30T'),\n 126.0: DatetimeIndex([], dtype='datetime64[ns]', freq='30T'),\n 127.0: DatetimeIndex([], dtype='datetime64[ns]', freq='30T'),\n 128.0: DatetimeIndex([], dtype='datetime64[ns]', freq='30T'),\n 129.0: DatetimeIndex([], dtype='datetime64[ns]', freq='30T'),\n 130.0: DatetimeIndex([], dtype='datetime64[ns]', freq='30T'),\n 131.0: DatetimeIndex([], dtype='datetime64[ns]', freq='30T'),\n 132.0: DatetimeIndex([], dtype='datetime64[ns]', freq='30T'),\n 133.0: DatetimeIndex([], dtype='datetime64[ns]', freq='30T'),\n 134.0: DatetimeIndex([], dtype='datetime64[ns]', freq='30T'),\n 135.0: DatetimeIndex([], dtype='datetime64[ns]', freq='30T'),\n 136.0: DatetimeIndex([], dtype='datetime64[ns]', freq='30T'),\n 137.0: DatetimeIndex([], dtype='datetime64[ns]', freq='30T'),\n 138.0: DatetimeIndex([], dtype='datetime64[ns]', freq='30T'),\n 139.0: DatetimeIndex([], dtype='datetime64[ns]', freq='30T'),\n 140.0: DatetimeIndex([], dtype='datetime64[ns]', freq='30T'),\n 141.0: DatetimeIndex([], dtype='datetime64[ns]', freq='30T'),\n 142.0: DatetimeIndex([], dtype='datetime64[ns]', freq='30T'),\n 143.0: DatetimeIndex([], dtype='datetime64[ns]', freq='30T'),\n 144.0: DatetimeIndex([], dtype='datetime64[ns]', freq='30T'),\n 145.0: DatetimeIndex([], dtype='datetime64[ns]', freq='30T'),\n 146.0: DatetimeIndex([], dtype='datetime64[ns]', freq='30T'),\n 147.0: DatetimeIndex([], dtype='datetime64[ns]', freq='30T'),\n 148.0: DatetimeIndex([], dtype='datetime64[ns]', freq='30T'),\n 149.0: DatetimeIndex([], dtype='datetime64[ns]', freq='30T'),\n 150.0: DatetimeIndex([], dtype='datetime64[ns]', freq='30T'),\n 151.0: DatetimeIndex([], dtype='datetime64[ns]', freq='30T'),\n 152.0: DatetimeIndex([], dtype='datetime64[ns]', freq='30T'),\n 153.0: DatetimeIndex([], dtype='datetime64[ns]', freq='30T'),\n 154.0: DatetimeIndex([], dtype='datetime64[ns]', freq='30T'),\n 155.0: DatetimeIndex([], dtype='datetime64[ns]', freq='30T'),\n 156.0: DatetimeIndex([], dtype='datetime64[ns]', freq='30T'),\n 157.0: DatetimeIndex([], dtype='datetime64[ns]', freq='30T'),\n 158.0: DatetimeIndex([], dtype='datetime64[ns]', freq='30T'),\n 159.0: DatetimeIndex([], dtype='datetime64[ns]', freq='30T'),\n 160.0: DatetimeIndex([], dtype='datetime64[ns]', freq='30T'),\n 161.0: DatetimeIndex([], dtype='datetime64[ns]', freq='30T'),\n 162.0: DatetimeIndex([], dtype='datetime64[ns]', freq='30T'),\n 163.0: DatetimeIndex([], dtype='datetime64[ns]', freq='30T'),\n 164.0: DatetimeIndex([], dtype='datetime64[ns]', freq='30T'),\n 165.0: DatetimeIndex([], dtype='datetime64[ns]', freq='30T'),\n 166.0: DatetimeIndex([], dtype='datetime64[ns]', freq='30T'),\n 167.0: DatetimeIndex([], dtype='datetime64[ns]', freq='30T'),\n 168.0: DatetimeIndex([], dtype='datetime64[ns]', freq='30T'),\n 169.0: DatetimeIndex([], dtype='datetime64[ns]', freq='30T'),\n 170.0: DatetimeIndex([], dtype='datetime64[ns]', freq='30T'),\n 171.0: DatetimeIndex([], dtype='datetime64[ns]', freq='30T'),\n 172.0: DatetimeIndex([], dtype='datetime64[ns]', freq='30T'),\n 173.0: DatetimeIndex([], dtype='datetime64[ns]', freq='30T'),\n 174.0: DatetimeIndex([], dtype='datetime64[ns]', freq='30T'),\n 175.0: DatetimeIndex([], dtype='datetime64[ns]', freq='30T'),\n 176.0: DatetimeIndex([], dtype='datetime64[ns]', freq='30T'),\n 177.0: DatetimeIndex([], dtype='datetime64[ns]', freq='30T'),\n 178.0: DatetimeIndex([], dtype='datetime64[ns]', freq='30T'),\n 179.0: DatetimeIndex([], dtype='datetime64[ns]', freq='30T'),\n 180.0: DatetimeIndex([], dtype='datetime64[ns]', freq='30T'),\n 181.0: DatetimeIndex([], dtype='datetime64[ns]', freq='30T'),\n 182.0: DatetimeIndex([], dtype='datetime64[ns]', freq='30T'),\n 183.0: DatetimeIndex([], dtype='datetime64[ns]', freq='30T'),\n 184.0: DatetimeIndex([], dtype='datetime64[ns]', freq='30T'),\n 185.0: DatetimeIndex([], dtype='datetime64[ns]', freq='30T'),\n 186.0: DatetimeIndex([], dtype='datetime64[ns]', freq='30T'),\n 187.0: DatetimeIndex([], dtype='datetime64[ns]', freq='30T'),\n 188.0: DatetimeIndex([], dtype='datetime64[ns]', freq='30T'),\n 189.0: DatetimeIndex([], dtype='datetime64[ns]', freq='30T'),\n 190.0: DatetimeIndex([], dtype='datetime64[ns]', freq='30T'),\n 191.0: DatetimeIndex([], dtype='datetime64[ns]', freq='30T'),\n 192.0: DatetimeIndex([], dtype='datetime64[ns]', freq='30T'),\n 193.0: DatetimeIndex([], dtype='datetime64[ns]', freq='30T'),\n 194.0: DatetimeIndex([], dtype='datetime64[ns]', freq='30T'),\n 195.0: DatetimeIndex([], dtype='datetime64[ns]', freq='30T'),\n 196.0: DatetimeIndex([], dtype='datetime64[ns]', freq='30T'),\n 197.0: DatetimeIndex([], dtype='datetime64[ns]', freq='30T'),\n 198.0: DatetimeIndex([], dtype='datetime64[ns]', freq='30T'),\n 199.0: DatetimeIndex([], dtype='datetime64[ns]', freq='30T'),\n 200.0: DatetimeIndex([], dtype='datetime64[ns]', freq='30T'),\n 201.0: DatetimeIndex([], dtype='datetime64[ns]', freq='30T'),\n 202.0: DatetimeIndex([], dtype='datetime64[ns]', freq='30T'),\n 203.0: DatetimeIndex([], dtype='datetime64[ns]', freq='30T'),\n 204.0: DatetimeIndex([], dtype='datetime64[ns]', freq='30T'),\n 205.0: DatetimeIndex([], dtype='datetime64[ns]', freq='30T'),\n 206.0: DatetimeIndex([], dtype='datetime64[ns]', freq='30T'),\n 207.0: DatetimeIndex([], dtype='datetime64[ns]', freq='30T'),\n 208.0: DatetimeIndex([], dtype='datetime64[ns]', freq='30T'),\n 209.0: DatetimeIndex([], dtype='datetime64[ns]', freq='30T'),\n 210.0: DatetimeIndex([], dtype='datetime64[ns]', freq='30T'),\n 211.0: DatetimeIndex([], dtype='datetime64[ns]', freq='30T'),\n 212.0: DatetimeIndex([], dtype='datetime64[ns]', freq='30T'),\n 213.0: DatetimeIndex([], dtype='datetime64[ns]', freq='30T'),\n 214.0: DatetimeIndex([], dtype='datetime64[ns]', freq='30T'),\n 215.0: DatetimeIndex([], dtype='datetime64[ns]', freq='30T'),\n 216.0: DatetimeIndex([], dtype='datetime64[ns]', freq='30T'),\n 217.0: DatetimeIndex([], dtype='datetime64[ns]', freq='30T'),\n 218.0: DatetimeIndex([], dtype='datetime64[ns]', freq='30T'),\n 219.0: DatetimeIndex([], dtype='datetime64[ns]', freq='30T'),\n 220.0: DatetimeIndex([], dtype='datetime64[ns]', freq='30T'),\n 221.0: DatetimeIndex([], dtype='datetime64[ns]', freq='30T'),\n 222.0: DatetimeIndex([], dtype='datetime64[ns]', freq='30T'),\n 223.0: DatetimeIndex([], dtype='datetime64[ns]', freq='30T'),\n 224.0: DatetimeIndex([], dtype='datetime64[ns]', freq='30T'),\n 225.0: DatetimeIndex([], dtype='datetime64[ns]', freq='30T'),\n 226.0: DatetimeIndex([], dtype='datetime64[ns]', freq='30T'),\n 227.0: DatetimeIndex([], dtype='datetime64[ns]', freq='30T'),\n 228.0: DatetimeIndex([], dtype='datetime64[ns]', freq='30T'),\n 229.0: DatetimeIndex([], dtype='datetime64[ns]', freq='30T'),\n 230.0: DatetimeIndex([], dtype='datetime64[ns]', freq='30T'),\n 231.0: DatetimeIndex([], dtype='datetime64[ns]', freq='30T'),\n 232.0: DatetimeIndex([], dtype='datetime64[ns]', freq='30T'),\n 233.0: DatetimeIndex([], dtype='datetime64[ns]', freq='30T'),\n 234.0: DatetimeIndex([], dtype='datetime64[ns]', freq='30T'),\n 235.0: DatetimeIndex([], dtype='datetime64[ns]', freq='30T'),\n 236.0: DatetimeIndex([], dtype='datetime64[ns]', freq='30T'),\n 237.0: DatetimeIndex([], dtype='datetime64[ns]', freq='30T'),\n 238.0: DatetimeIndex([], dtype='datetime64[ns]', freq='30T'),\n 239.0: DatetimeIndex([], dtype='datetime64[ns]', freq='30T'),\n 240.0: DatetimeIndex([], dtype='datetime64[ns]', freq='30T'),\n 241.0: DatetimeIndex([], dtype='datetime64[ns]', freq='30T'),\n 242.0: DatetimeIndex([], dtype='datetime64[ns]', freq='30T'),\n 243.0: DatetimeIndex([], dtype='datetime64[ns]', freq='30T'),\n 244.0: DatetimeIndex([], dtype='datetime64[ns]', freq='30T'),\n 245.0: DatetimeIndex([], dtype='datetime64[ns]', freq='30T'),\n 246.0: DatetimeIndex([], dtype='datetime64[ns]', freq='30T'),\n 247.0: DatetimeIndex([], dtype='datetime64[ns]', freq='30T'),\n 248.0: DatetimeIndex([], dtype='datetime64[ns]', freq='30T'),\n 249.0: DatetimeIndex([], dtype='datetime64[ns]', freq='30T'),\n 250.0: DatetimeIndex([], dtype='datetime64[ns]', freq='30T'),\n 251.0: DatetimeIndex([], dtype='datetime64[ns]', freq='30T'),\n 252.0: DatetimeIndex([], dtype='datetime64[ns]', freq='30T'),\n 253.0: DatetimeIndex([], dtype='datetime64[ns]', freq='30T'),\n 254.0: DatetimeIndex([], dtype='datetime64[ns]', freq='30T'),\n 255.0: DatetimeIndex([], dtype='datetime64[ns]', freq='30T'),\n 256.0: DatetimeIndex([], dtype='datetime64[ns]', freq='30T'),\n 257.0: DatetimeIndex([], dtype='datetime64[ns]', freq='30T'),\n 258.0: DatetimeIndex([], dtype='datetime64[ns]', freq='30T'),\n 259.0: DatetimeIndex([], dtype='datetime64[ns]', freq='30T'),\n 260.0: DatetimeIndex([], dtype='datetime64[ns]', freq='30T'),\n 261.0: DatetimeIndex([], dtype='datetime64[ns]', freq='30T'),\n 262.0: DatetimeIndex([], dtype='datetime64[ns]', freq='30T'),\n 263.0: DatetimeIndex([], dtype='datetime64[ns]', freq='30T'),\n 264.0: DatetimeIndex([], dtype='datetime64[ns]', freq='30T'),\n 265.0: DatetimeIndex([], dtype='datetime64[ns]', freq='30T'),\n 266.0: DatetimeIndex([], dtype='datetime64[ns]', freq='30T'),\n 267.0: DatetimeIndex([], dtype='datetime64[ns]', freq='30T'),\n 268.0: DatetimeIndex([], dtype='datetime64[ns]', freq='30T'),\n 269.0: DatetimeIndex([], dtype='datetime64[ns]', freq='30T'),\n 270.0: DatetimeIndex([], dtype='datetime64[ns]', freq='30T'),\n 271.0: DatetimeIndex([], dtype='datetime64[ns]', freq='30T'),\n 272.0: DatetimeIndex([], dtype='datetime64[ns]', freq='30T'),\n 273.0: DatetimeIndex([], dtype='datetime64[ns]', freq='30T'),\n 274.0: DatetimeIndex([], dtype='datetime64[ns]', freq='30T'),\n 275.0: DatetimeIndex([], dtype='datetime64[ns]', freq='30T'),\n 276.0: DatetimeIndex([], dtype='datetime64[ns]', freq='30T'),\n 277.0: DatetimeIndex([], dtype='datetime64[ns]', freq='30T'),\n 278.0: DatetimeIndex([], dtype='datetime64[ns]', freq='30T'),\n 279.0: DatetimeIndex([], dtype='datetime64[ns]', freq='30T'),\n 280.0: DatetimeIndex([], dtype='datetime64[ns]', freq='30T'),\n 281.0: DatetimeIndex([], dtype='datetime64[ns]', freq='30T'),\n 282.0: DatetimeIndex([], dtype='datetime64[ns]', freq='30T'),\n 283.0: DatetimeIndex([], dtype='datetime64[ns]', freq='30T'),\n 284.0: DatetimeIndex([], dtype='datetime64[ns]', freq='30T'),\n 285.0: DatetimeIndex([], dtype='datetime64[ns]', freq='30T'),\n 286.0: DatetimeIndex([], dtype='datetime64[ns]', freq='30T'),\n 287.0: DatetimeIndex([], dtype='datetime64[ns]', freq='30T'),\n 288.0: DatetimeIndex([], dtype='datetime64[ns]', freq='30T'),\n 289.0: DatetimeIndex([], dtype='datetime64[ns]', freq='30T'),\n 290.0: DatetimeIndex([], dtype='datetime64[ns]', freq='30T'),\n 291.0: DatetimeIndex([], dtype='datetime64[ns]', freq='30T'),\n 292.0: DatetimeIndex([], dtype='datetime64[ns]', freq='30T'),\n 293.0: DatetimeIndex([], dtype='datetime64[ns]', freq='30T'),\n 294.0: DatetimeIndex([], dtype='datetime64[ns]', freq='30T'),\n 295.0: DatetimeIndex([], dtype='datetime64[ns]', freq='30T'),\n 296.0: DatetimeIndex([], dtype='datetime64[ns]', freq='30T'),\n 297.0: DatetimeIndex([], dtype='datetime64[ns]', freq='30T'),\n 298.0: DatetimeIndex([], dtype='datetime64[ns]', freq='30T'),\n 299.0: DatetimeIndex([], dtype='datetime64[ns]', freq='30T'),\n 300.0: DatetimeIndex([], dtype='datetime64[ns]', freq='30T')}"
     },
     "execution_count": 8,
     "metadata": {},
     "output_type": "execute_result"
    }
   ],
   "source": [
    "# Get unique customer IDs\n",
    "customer_ids = aus_combined['Customer'].unique()\n",
    "\n",
    "# Find missing dates for each customer\n",
    "missing_dates = {}\n",
    "for customer_id in customer_ids:\n",
    "    customer_data = aus_combined[aus_combined['Customer'] == customer_id]\n",
    "    date_range = pd.date_range(start='2011-07-01', end='2013-07-01', freq='30T')\n",
    "    date_range = date_range[:-1]\n",
    "    missing_dates[customer_id] = date_range[~date_range.isin(customer_data.index)]\n",
    "    \n",
    "missing_dates"
   ],
   "metadata": {
    "collapsed": false,
    "ExecuteTime": {
     "end_time": "2023-11-27T15:32:25.889942400Z",
     "start_time": "2023-11-27T15:32:23.065396300Z"
    }
   }
  },
  {
   "cell_type": "code",
   "execution_count": 9,
   "outputs": [
    {
     "data": {
      "text/plain": "[<matplotlib.lines.Line2D at 0x235a2c0c2d0>]"
     },
     "execution_count": 9,
     "metadata": {},
     "output_type": "execute_result"
    },
    {
     "data": {
      "text/plain": "<Figure size 640x480 with 1 Axes>",
      "image/png": "[encoded data removed]"
     },
     "metadata": {},
     "output_type": "display_data"
    }
   ],
   "source": [
    "# Plot the missing dates\n",
    "plt.plot(aus_combined[aus_combined['Customer'] == 2]['Values'])"
   ],
   "metadata": {
    "collapsed": false,
    "ExecuteTime": {
     "end_time": "2023-11-27T15:32:36.619059100Z",
     "start_time": "2023-11-27T15:32:36.398587400Z"
    }
   }
  },
  {
   "cell_type": "code",
   "execution_count": 10,
   "outputs": [],
   "source": [
    "# Remove customer 2 from the final DataFrame\n",
    "aus_combined = aus_combined[aus_combined['Customer'] != 2.0]"
   ],
   "metadata": {
    "collapsed": false,
    "ExecuteTime": {
     "end_time": "2023-11-27T15:32:38.253484500Z",
     "start_time": "2023-11-27T15:32:38.104060200Z"
    }
   }
  },
  {
   "cell_type": "code",
   "execution_count": 20,
   "outputs": [],
   "source": [
    "# Load our lat/long data for the zipcodes\n",
    "with open(\"../data/australia/location_dict.json\", 'r') as file:\n",
    "    location_dict = json.load(file)"
   ],
   "metadata": {
    "collapsed": false,
    "ExecuteTime": {
     "end_time": "2023-11-27T15:35:40.290496Z",
     "start_time": "2023-11-27T15:35:40.280313600Z"
    }
   }
  },
  {
   "cell_type": "code",
   "execution_count": 27,
   "outputs": [
    {
     "data": {
      "text/plain": "{'latitude': -33.69699153381296, 'longitude': 151.13077966206853}"
     },
     "execution_count": 27,
     "metadata": {},
     "output_type": "execute_result"
    }
   ],
   "source": [
    "location_dict['2076']"
   ],
   "metadata": {
    "collapsed": false,
    "ExecuteTime": {
     "end_time": "2023-11-27T15:36:33.121760900Z",
     "start_time": "2023-11-27T15:36:33.121254100Z"
    }
   }
  },
  {
   "cell_type": "code",
   "execution_count": 29,
   "outputs": [],
   "source": [
    "# Transform the Postcode column into strings to fit the dictionary\n",
    "aus_combined['Postcode'] = aus_combined['Postcode'].astype(int).astype(str)"
   ],
   "metadata": {
    "collapsed": false,
    "ExecuteTime": {
     "end_time": "2023-11-27T15:37:05.178605Z",
     "start_time": "2023-11-27T15:37:02.829587400Z"
    }
   }
  },
  {
   "cell_type": "code",
   "execution_count": 31,
   "outputs": [],
   "source": [
    "# Use the map function to create 'latitude' and 'longitude' columns\n",
    "aus_combined['latitude'] = aus_combined['Postcode'].map({postcode: data['latitude'] for postcode, data in location_dict.items()})\n",
    "aus_combined['longitude'] = aus_combined['Postcode'].map({postcode: data['longitude'] for postcode, data in location_dict.items()})"
   ],
   "metadata": {
    "collapsed": false,
    "ExecuteTime": {
     "end_time": "2023-11-27T15:37:11.145888800Z",
     "start_time": "2023-11-27T15:37:10.434086900Z"
    }
   }
  },
  {
   "cell_type": "code",
   "execution_count": 32,
   "outputs": [
    {
     "data": {
      "text/plain": "                     Customer Postcode  Generator Capacity  Values   latitude  \\\ndate                                                                            \n2011-07-01 00:00:00       1.0     2076                3.78     0.0 -33.696992   \n2011-07-01 00:30:00       1.0     2076                3.78     0.0 -33.696992   \n2011-07-01 01:00:00       1.0     2076                3.78     0.0 -33.696992   \n2011-07-01 01:30:00       1.0     2076                3.78     0.0 -33.696992   \n2011-07-01 02:00:00       1.0     2076                3.78     0.0 -33.696992   \n...                       ...      ...                 ...     ...        ...   \n2013-06-30 21:30:00     300.0     2086                3.36     0.0 -33.747942   \n2013-06-30 22:00:00     300.0     2086                3.36     0.0 -33.747942   \n2013-06-30 22:30:00     300.0     2086                3.36     0.0 -33.747942   \n2013-06-30 23:00:00     300.0     2086                3.36     0.0 -33.747942   \n2013-06-30 23:30:00     300.0     2086                3.36     0.0 -33.747942   \n\n                      longitude  \ndate                             \n2011-07-01 00:00:00  151.130780  \n2011-07-01 00:30:00  151.130780  \n2011-07-01 01:00:00  151.130780  \n2011-07-01 01:30:00  151.130780  \n2011-07-01 02:00:00  151.130780  \n...                         ...  \n2013-06-30 21:30:00  151.228045  \n2013-06-30 22:00:00  151.228045  \n2013-06-30 22:30:00  151.228045  \n2013-06-30 23:00:00  151.228045  \n2013-06-30 23:30:00  151.228045  \n\n[10522512 rows x 6 columns]",
      "text/html": "<div>\n<style scoped>\n    .dataframe tbody tr th:only-of-type {\n        vertical-align: middle;\n    }\n\n    .dataframe tbody tr th {\n        vertical-align: top;\n    }\n\n    .dataframe thead th {\n        text-align: right;\n    }\n</style>\n<table border=\"1\" class=\"dataframe\">\n  <thead>\n    <tr style=\"text-align: right;\">\n      <th></th>\n      <th>Customer</th>\n      <th>Postcode</th>\n      <th>Generator Capacity</th>\n      <th>Values</th>\n      <th>latitude</th>\n      <th>longitude</th>\n    </tr>\n    <tr>\n      <th>date</th>\n      <th></th>\n      <th></th>\n      <th></th>\n      <th></th>\n      <th></th>\n      <th></th>\n    </tr>\n  </thead>\n  <tbody>\n    <tr>\n      <th>2011-07-01 00:00:00</th>\n      <td>1.0</td>\n      <td>2076</td>\n      <td>3.78</td>\n      <td>0.0</td>\n      <td>-33.696992</td>\n      <td>151.130780</td>\n    </tr>\n    <tr>\n      <th>2011-07-01 00:30:00</th>\n      <td>1.0</td>\n      <td>2076</td>\n      <td>3.78</td>\n      <td>0.0</td>\n      <td>-33.696992</td>\n      <td>151.130780</td>\n    </tr>\n    <tr>\n      <th>2011-07-01 01:00:00</th>\n      <td>1.0</td>\n      <td>2076</td>\n      <td>3.78</td>\n      <td>0.0</td>\n      <td>-33.696992</td>\n      <td>151.130780</td>\n    </tr>\n    <tr>\n      <th>2011-07-01 01:30:00</th>\n      <td>1.0</td>\n      <td>2076</td>\n      <td>3.78</td>\n      <td>0.0</td>\n      <td>-33.696992</td>\n      <td>151.130780</td>\n    </tr>\n    <tr>\n      <th>2011-07-01 02:00:00</th>\n      <td>1.0</td>\n      <td>2076</td>\n      <td>3.78</td>\n      <td>0.0</td>\n      <td>-33.696992</td>\n      <td>151.130780</td>\n    </tr>\n    <tr>\n      <th>...</th>\n      <td>...</td>\n      <td>...</td>\n      <td>...</td>\n      <td>...</td>\n      <td>...</td>\n      <td>...</td>\n    </tr>\n    <tr>\n      <th>2013-06-30 21:30:00</th>\n      <td>300.0</td>\n      <td>2086</td>\n      <td>3.36</td>\n      <td>0.0</td>\n      <td>-33.747942</td>\n      <td>151.228045</td>\n    </tr>\n    <tr>\n      <th>2013-06-30 22:00:00</th>\n      <td>300.0</td>\n      <td>2086</td>\n      <td>3.36</td>\n      <td>0.0</td>\n      <td>-33.747942</td>\n      <td>151.228045</td>\n    </tr>\n    <tr>\n      <th>2013-06-30 22:30:00</th>\n      <td>300.0</td>\n      <td>2086</td>\n      <td>3.36</td>\n      <td>0.0</td>\n      <td>-33.747942</td>\n      <td>151.228045</td>\n    </tr>\n    <tr>\n      <th>2013-06-30 23:00:00</th>\n      <td>300.0</td>\n      <td>2086</td>\n      <td>3.36</td>\n      <td>0.0</td>\n      <td>-33.747942</td>\n      <td>151.228045</td>\n    </tr>\n    <tr>\n      <th>2013-06-30 23:30:00</th>\n      <td>300.0</td>\n      <td>2086</td>\n      <td>3.36</td>\n      <td>0.0</td>\n      <td>-33.747942</td>\n      <td>151.228045</td>\n    </tr>\n  </tbody>\n</table>\n<p>10522512 rows × 6 columns</p>\n</div>"
     },
     "execution_count": 32,
     "metadata": {},
     "output_type": "execute_result"
    }
   ],
   "source": [
    "aus_combined"
   ],
   "metadata": {
    "collapsed": false,
    "ExecuteTime": {
     "end_time": "2023-11-27T15:37:11.904268400Z",
     "start_time": "2023-11-27T15:37:11.901755600Z"
    }
   }
  },
  {
   "cell_type": "code",
   "execution_count": null,
   "metadata": {},
   "outputs": [],
   "source": [
    "# Save as a parquet file\n",
    "aus_combined.to_parquet('../data/australia/aus_production.parquet')"
   ]
  }
 ],
 "metadata": {
  "kernelspec": {
   "display_name": "SolNet_2",
   "language": "python",
   "name": "python3"
  },
  "language_info": {
   "codemirror_mode": {
    "name": "ipython",
    "version": 3
   },
   "file_extension": ".py",
   "mimetype": "text/x-python",
   "name": "python",
   "nbconvert_exporter": "python",
   "pygments_lexer": "ipython3",
   "version": "3.9.16"
  },
  "orig_nbformat": 4
 },
 "nbformat": 4,
 "nbformat_minor": 2
}
