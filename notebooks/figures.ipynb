{
 "cells": [
  {
   "cell_type": "code",
   "execution_count": null,
   "outputs": [],
   "source": [
    "# Decide what location to get the results from\n",
    "folder = 'NL'\n",
    "# Decide on the metrics\n",
    "metrics = 'RMSE'"
   ],
   "metadata": {
    "collapsed": false
   },
   "id": "ec6a5a300226d6b7"
  },
  {
   "cell_type": "markdown",
   "source": [
    "# Figures from the paper"
   ],
   "metadata": {
    "collapsed": false
   },
   "id": "d1c5222ea887bbdc"
  },
  {
   "cell_type": "code",
   "execution_count": null,
   "outputs": [],
   "source": [
    "from src.util import paper_figures as fig"
   ],
   "metadata": {
    "collapsed": false
   },
   "id": "initial_id"
  },
  {
   "cell_type": "code",
   "execution_count": null,
   "outputs": [],
   "source": [
    "if metrics == 'RMSE':\n",
    "    groups = ['Baseline RMSE','Target RMSE','Transfer RMSE']\n",
    "elif metrics == 'MBE':\n",
    "    groups = ['Baseline MBE','Target MBE','Transfer MBE']\n",
    "else:\n",
    "    groups = ['Baseline MAE','Target MAE','Transfer MAE']"
   ],
   "metadata": {
    "collapsed": false
   },
   "id": "c531c9329307bac3"
  },
  {
   "cell_type": "markdown",
   "source": [
    "# Figure 3"
   ],
   "metadata": {
    "collapsed": false
   },
   "id": "f968587b42e72bee"
  },
  {
   "cell_type": "markdown",
   "source": [
    "Base analysis"
   ],
   "metadata": {
    "collapsed": false
   },
   "id": "f90d6c6d9233ec23"
  },
  {
   "cell_type": "code",
   "execution_count": null,
   "outputs": [],
   "source": [
    "months = ['0m', '1m', '2m', '3m', '4m', '5m', '6m', '7m', '8m', '9m', '10m', '11m', '12m']\n",
    "base, target, transfer = fig.metric_table(folder, groups, months, '_base_')"
   ],
   "metadata": {
    "collapsed": false
   },
   "id": "b55bc586f63b4dd"
  },
  {
   "cell_type": "code",
   "execution_count": null,
   "outputs": [],
   "source": [
    "# In australia we have a lot more systems so we used the 90% quantile to filter out some of the noise of the outliers\n",
    "if folder == 'AUS':\n",
    "    fig.main_figure(base, target, transfer, metrics, months, quantile_min=0.05, quantile_max=0.95)\n",
    "else:\n",
    "    fig.main_figure(base, target, transfer, metrics, months)"
   ],
   "metadata": {
    "collapsed": false
   },
   "id": "44a12cfa247c70ac"
  },
  {
   "cell_type": "markdown",
   "source": [
    "# Figure 4"
   ],
   "metadata": {
    "collapsed": false
   },
   "id": "ed4eb2743e16974c"
  },
  {
   "cell_type": "markdown",
   "source": [
    "Weather variables"
   ],
   "metadata": {
    "collapsed": false
   },
   "id": "1908e4557672ca02"
  },
  {
   "cell_type": "code",
   "execution_count": null,
   "outputs": [],
   "source": [
    "months = ['0m', '1m', '2m', '3m', '4m', '5m', '6m', '7m', '8m']\n",
    "base, target, transfer = fig.metric_table(folder, groups, months, '_weather_')"
   ],
   "metadata": {
    "collapsed": false
   },
   "id": "2ac9c23c26619fdd"
  },
  {
   "cell_type": "code",
   "execution_count": null,
   "outputs": [],
   "source": [
    "fig.main_figure(base, target, transfer, metrics, months)"
   ],
   "metadata": {
    "collapsed": false
   },
   "id": "b45227fd11dda0d9"
  },
  {
   "cell_type": "markdown",
   "source": [
    "# Figure 5.a"
   ],
   "metadata": {
    "collapsed": false
   },
   "id": "6bc00a559abfab1"
  },
  {
   "cell_type": "markdown",
   "source": [
    "Distance - No weather"
   ],
   "metadata": {
    "collapsed": false
   },
   "id": "708d617503f57689"
  },
  {
   "cell_type": "code",
   "execution_count": null,
   "outputs": [],
   "source": [
    "months = ['0m', '1m', '2m', '3m', '4m', '5m', '6m', '7m', '8m']\n",
    "base, target, transfer = fig.metric_table(folder, groups, months, '_distance_')"
   ],
   "metadata": {
    "collapsed": false
   },
   "id": "9e7c21afa67bf108"
  },
  {
   "cell_type": "code",
   "execution_count": null,
   "outputs": [],
   "source": [
    "distances = ['_0km', '_100km', '_200km', '_400km', '_800km', '_1600km']\n",
    "fig.distance_figure(base, target, transfer, metrics, months, distances, quantile_min=0.25, quantile_max=0.75)"
   ],
   "metadata": {
    "collapsed": false
   },
   "id": "c0af97d6e8061bc4"
  },
  {
   "cell_type": "markdown",
   "source": [
    "# Figure 5.b"
   ],
   "metadata": {
    "collapsed": false
   },
   "id": "9a2c9669f36e97c9"
  },
  {
   "cell_type": "markdown",
   "source": [
    "Distance - weather"
   ],
   "metadata": {
    "collapsed": false
   },
   "id": "335c8ca8ac5d6a54"
  },
  {
   "cell_type": "code",
   "execution_count": null,
   "outputs": [],
   "source": [
    "months = ['0m', '1m', '2m', '3m', '4m', '5m', '6m', '7m', '8m']\n",
    "base, target, transfer = fig.metric_table(folder, groups, months, '_distance&weather_')"
   ],
   "metadata": {
    "collapsed": false
   },
   "id": "589a163a1737673e"
  },
  {
   "cell_type": "code",
   "execution_count": null,
   "outputs": [],
   "source": [
    "distances = ['_0km', '_100km', '_200km', '_400km', '_800km', '_1600km']\n",
    "fig.distance_figure(base, target, transfer, metrics, months, distances, quantile_min=0.25, quantile_max=0.75)"
   ],
   "metadata": {
    "collapsed": false
   },
   "id": "88b785157ed4fc08"
  },
  {
   "cell_type": "markdown",
   "source": [
    "# Table 1"
   ],
   "metadata": {
    "collapsed": false
   },
   "id": "24cdc5c31f7712b"
  },
  {
   "cell_type": "markdown",
   "source": [
    "Seasons"
   ],
   "metadata": {
    "collapsed": false
   },
   "id": "834f3ddd121583f8"
  },
  {
   "cell_type": "code",
   "execution_count": null,
   "outputs": [],
   "source": [
    "months = ['0m', '1m', '2m', '3m', '4m', '5m', '6m', '7m', '8m', '9m', '10m', '11m', '12m']\n",
    "base, target, transfer = fig.metric_table(folder, groups, months, '_seasonal_')"
   ],
   "metadata": {
    "collapsed": false
   },
   "id": "4e3e8af95c370a81"
  },
  {
   "cell_type": "code",
   "execution_count": null,
   "outputs": [],
   "source": [
    "target.columns = target.columns.get_level_values(0)\n",
    "base.columns = base.columns.get_level_values(0)"
   ],
   "metadata": {
    "collapsed": false
   },
   "id": "aee4604420be323e"
  },
  {
   "cell_type": "code",
   "execution_count": null,
   "outputs": [],
   "source": [
    "target/base - 1"
   ],
   "metadata": {
    "collapsed": false
   },
   "id": "ebe357a55a0cc794"
  },
  {
   "cell_type": "code",
   "execution_count": null,
   "outputs": [],
   "source": [
    "distances + ['Median Naive']"
   ],
   "metadata": {
    "collapsed": false
   },
   "id": "ef298f132c0da8bb"
  },
  {
   "cell_type": "code",
   "execution_count": null,
   "outputs": [],
   "source": [],
   "metadata": {
    "collapsed": false
   },
   "id": "b728eaab6ca87ffc"
  }
 ],
 "metadata": {
  "kernelspec": {
   "display_name": "Python 3",
   "language": "python",
   "name": "python3"
  },
  "language_info": {
   "codemirror_mode": {
    "name": "ipython",
    "version": 2
   },
   "file_extension": ".py",
   "mimetype": "text/x-python",
   "name": "python",
   "nbconvert_exporter": "python",
   "pygments_lexer": "ipython2",
   "version": "2.7.6"
  }
 },
 "nbformat": 4,
 "nbformat_minor": 5
}
