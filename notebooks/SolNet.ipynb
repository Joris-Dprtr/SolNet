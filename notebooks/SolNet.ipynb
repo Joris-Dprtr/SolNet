{
 "cells": [
  {
   "cell_type": "code",
   "execution_count": null,
   "id": "initial_id",
   "metadata": {
    "collapsed": true
   },
   "outputs": [],
   "source": [
    "# Base library imports\n",
    "import pandas as pd\n",
    "import torch\n",
    "import numpy as np\n",
    "from matplotlib import pyplot as plt\n",
    "\n",
    "# SolNet imports\n",
    "from src.data.datafetcher import PvFetcher\n",
    "from src.data.featurisation import Featurisation\n",
    "from src.tensors.tensorisation import Tensors\n",
    "from src.models.lstm import LSTM\n",
    "from src.models.training import Training\n",
    "from src.models.training import save_model\n",
    "from src.evaluation.evaluation import Evaluation\n",
    "from src.util.open_meteo_api import Open_meteo"
   ]
  },
  {
   "cell_type": "markdown",
   "source": [
    "# Specify the parameters"
   ],
   "metadata": {
    "collapsed": false
   },
   "id": "158a3f42f6c2f041"
  },
  {
   "cell_type": "code",
   "execution_count": null,
   "outputs": [],
   "source": [
    "# Hyperparameters needed for a run:\n",
    "\n",
    "# Data fetching\n",
    "latitude = 52.30864 # °\n",
    "longitude = 4.88959 # °\n",
    "azimuth = None\n",
    "tilt = None\n",
    "optimal_angles = 1\n",
    "peak_power = 2.48 # kWp\n",
    "\n",
    "# Forecasting parameters\n",
    "target = 'P'\n",
    "past_features = ['P']\n",
    "future_features = ['hour_sin','hour_cos','relative_humidity_2m','diffuse_radiation', 'direct_radiation']\n",
    "weather_features = True\n",
    "open_meteo_variables = ['relative_humidity_2m','diffuse_radiation', 'direct_radiation']\n",
    "lags = 24\n",
    "forecast_period = 24\n",
    "gap = 0 \n",
    "forecast_gap = 0\n",
    "\n",
    "# Lstm parameters\n",
    "hidden_size = 200\n",
    "num_layers = 3\n",
    "dropout = 0.5\n",
    "device = torch.device(\"cuda\" if torch.cuda.is_available() else \"cpu\")\n",
    "\n",
    "# Training parameters\n",
    "epochs = 100\n",
    "batch_size = 32\n",
    "learning_rate = 0.001\n",
    "\n",
    "# Model\n",
    "model_name = 'Amstelveen'"
   ],
   "metadata": {
    "collapsed": false
   },
   "id": "3195a5aba663d80c"
  },
  {
   "cell_type": "markdown",
   "source": [
    "# Gather data"
   ],
   "metadata": {
    "collapsed": false
   },
   "id": "9156235e0e457f09"
  },
  {
   "cell_type": "code",
   "execution_count": null,
   "outputs": [],
   "source": [
    "# Fetch data from PVGIS\n",
    "data_PVGIS = PvFetcher(latitude,longitude,peak_power, tilt, azimuth,optimal_angles=optimal_angles)\n",
    "# We take the location we want from our list\n",
    "data = [data_PVGIS.dataset[0]]"
   ],
   "metadata": {
    "collapsed": false
   },
   "id": "e6669971c7720d39"
  },
  {
   "cell_type": "code",
   "execution_count": null,
   "outputs": [],
   "source": [
    "# Decide on the features to use in making the model (Note that 'P' should always be included since it's the target variable)\n",
    "dataset = Featurisation(data).base_features(past_features)\n",
    "\n",
    "# Use cyclic features as well\n",
    "dataset = Featurisation(dataset).cyclic_features(yearly=False)\n",
    "features = dataset[0].columns # update the features\n",
    "source_data = dataset[0].copy()"
   ],
   "metadata": {
    "collapsed": false
   },
   "id": "9d915c81f6103bac"
  },
  {
   "cell_type": "code",
   "execution_count": null,
   "outputs": [],
   "source": [
    "if weather_features is True:\n",
    "    \n",
    "    start = dataset[0].index[0].date()\n",
    "    end = dataset[0].index[-1].date()\n",
    "    weather_fetcher = Open_meteo(latitude, longitude, open_meteo_variables, start, end)\n",
    "    \n",
    "    weather_data = weather_fetcher.get_open_meteo_hourly()\n",
    "    weather_data.set_index('date', inplace=True)\n",
    "    weather_data = weather_data.tz_localize(None)\n",
    "    \n",
    "    source_data = pd.concat([dataset[0], weather_data], axis=1)\n",
    "    source_data = source_data.loc[start:end]"
   ],
   "metadata": {
    "collapsed": false
   },
   "id": "d2295ceade68f18b"
  },
  {
   "cell_type": "code",
   "execution_count": null,
   "outputs": [],
   "source": [
    "source_data.head()"
   ],
   "metadata": {
    "collapsed": false
   },
   "id": "e64c2f5333e53cce"
  },
  {
   "cell_type": "markdown",
   "source": [
    "# Transform the data into tensors"
   ],
   "metadata": {
    "collapsed": false
   },
   "id": "2fee0eaf4cbc084a"
  },
  {
   "cell_type": "code",
   "execution_count": null,
   "outputs": [],
   "source": [
    "# Get the data in the torch.tensor format\n",
    "src_tensors = Tensors(source_data, 'P', past_features , future_features, lags, forecast_period, gap=gap, forecast_gap=forecast_gap)\n",
    "\n",
    "# Split the data into train and test sets with separate tensors for features (X) and the target (y)\n",
    "X_train_src, X_test_src, y_train_src, y_test_src = src_tensors.create_tensor()\n",
    "X_train_src.shape, X_test_src.shape, y_train_src.shape, y_test_src.shape"
   ],
   "metadata": {
    "collapsed": false
   },
   "id": "3e62df4cd0f491f7"
  },
  {
   "cell_type": "markdown",
   "source": [
    "# Create and train a source model"
   ],
   "metadata": {
    "collapsed": false
   },
   "id": "36af46844ba6af69"
  },
  {
   "cell_type": "code",
   "execution_count": null,
   "outputs": [],
   "source": [
    "# Set the parameters for the lstm\n",
    "input_size = len(past_features + future_features)\n",
    "\n",
    "my_lstm = LSTM(input_size,hidden_size,num_layers, forecast_period, dropout).to(device)\n",
    "my_lstm"
   ],
   "metadata": {
    "collapsed": false
   },
   "id": "3697f6874f83762c"
  },
  {
   "cell_type": "code",
   "execution_count": null,
   "outputs": [],
   "source": [
    "# Initialize the trainer\n",
    "training = Training(my_lstm, X_train_src, y_train_src, X_test_src, y_test_src, epochs,batch_size=batch_size, learning_rate=learning_rate)\n",
    "\n",
    "# Train the model and return the trained parameters and the best iteration\n",
    "state_dict_list, best_epoch = training.fit(verbose=True)"
   ],
   "metadata": {
    "collapsed": false
   },
   "id": "cb541574686b8d75"
  },
  {
   "cell_type": "code",
   "execution_count": null,
   "outputs": [],
   "source": [
    "# Load the state dictionary of the best performing model\n",
    "my_lstm.load_state_dict(state_dict_list[best_epoch])\n",
    "\n",
    "# Save the model state dictionary for later use \n",
    "save_model(my_lstm, 'SolNet/' + model_name)"
   ],
   "metadata": {
    "collapsed": false
   },
   "id": "3be75139ba8ef4ec"
  },
  {
   "cell_type": "code",
   "execution_count": null,
   "outputs": [],
   "source": [
    "# Forecast with the model\n",
    "forecasts = my_lstm(X_test_src.to(device))\n",
    "\n",
    "# Evaluate the model performance\n",
    "source_eval = Evaluation(y_test_src.detach().flatten().numpy(), forecasts.cpu().detach().flatten().numpy())"
   ],
   "metadata": {
    "collapsed": false
   },
   "id": "b1d7bdc3ca2d3bd0"
  },
  {
   "cell_type": "code",
   "execution_count": null,
   "outputs": [],
   "source": [
    "source_eval.metrics()[source_eval.metrics().columns[:3]]"
   ],
   "metadata": {
    "collapsed": false
   },
   "id": "7b2adf5904aaebcd"
  },
  {
   "cell_type": "code",
   "execution_count": null,
   "outputs": [],
   "source": [
    "source_eval.plot_joint(levels=10, no_zero=True)"
   ],
   "metadata": {
    "collapsed": false
   },
   "id": "c2fdee1a71cfabc6"
  },
  {
   "cell_type": "markdown",
   "source": [
    "# Optional: Transfer learning"
   ],
   "metadata": {
    "collapsed": false
   },
   "id": "85b3ffb5702f9878"
  },
  {
   "cell_type": "markdown",
   "source": [
    "## Fetch your own data"
   ],
   "metadata": {
    "collapsed": false
   },
   "id": "dadf1eabc4f45451"
  },
  {
   "cell_type": "markdown",
   "source": [
    "### ! This data is not publicly available and only serves as a template. The user should plug in their own data in this section."
   ],
   "metadata": {
    "collapsed": false
   },
   "id": "97160a1f675f5af1"
  },
  {
   "cell_type": "code",
   "execution_count": null,
   "outputs": [],
   "source": [
    "system_id = 0\n",
    "# Get the list of ID codes\n",
    "id_list = pd.read_csv('../data/netherlands/id_list.csv',header=None)\n",
    "\n",
    "# We need the meta-data for the source location\n",
    "meta_data_nl = pd.read_csv('../data/netherlands/installations Netherlands.csv', delimiter=';')\n",
    "\n",
    "# Decide on the location\n",
    "installation = meta_data_nl.index[meta_data_nl['id'] == id_list.loc[system_id].values[0]][0]\n",
    "site_id = meta_data_nl.iloc[installation]['id']"
   ],
   "metadata": {
    "collapsed": false
   },
   "id": "47ec765e4783e26a"
  },
  {
   "cell_type": "code",
   "execution_count": null,
   "outputs": [],
   "source": [
    "data_nl = pd.read_parquet('../data/netherlands/production.parquet', engine='pyarrow')\n",
    "data_nl = data_nl.loc[site_id]\n",
    "data_nl = data_nl.resample('H').mean()\n",
    "data_nl = data_nl.rename(columns={\"watt\":\"P\"})\n",
    "\n",
    "# Avoid data leakage for this example\n",
    "first_index = data_nl[(data_nl.index.hour == 0) & (data_nl.index.day == 1) & (data_nl.index.month == 1) & (data_nl.index.year == 2020)].index[0]\n",
    "\n",
    "target_data = data_nl.loc[first_index:]"
   ],
   "metadata": {
    "collapsed": false
   },
   "id": "94f63ed02ec30d6b"
  },
  {
   "cell_type": "code",
   "execution_count": null,
   "outputs": [],
   "source": [
    "target_data.head()"
   ],
   "metadata": {
    "collapsed": false
   },
   "id": "84135ed9399adc2e"
  },
  {
   "cell_type": "markdown",
   "source": [
    "## Featurise the data"
   ],
   "metadata": {
    "collapsed": false
   },
   "id": "1c2c19cf174c5f11"
  },
  {
   "cell_type": "code",
   "execution_count": null,
   "outputs": [],
   "source": [
    "target_featurisation = Featurisation([target_data])\n",
    "target_data = target_featurisation.cyclic_features(yearly=False)[0]"
   ],
   "metadata": {
    "collapsed": false
   },
   "id": "edfd0e5c31d7a36c"
  },
  {
   "cell_type": "code",
   "execution_count": null,
   "outputs": [],
   "source": [
    "if weather_features is True:\n",
    "    \n",
    "    start = target_data.index[0].date()\n",
    "    end = target_data.index[-1].date()\n",
    "    weather_fetcher = Open_meteo(latitude, longitude, open_meteo_variables, start, end)\n",
    "    \n",
    "    weather_data = weather_fetcher.get_open_meteo_hourly()\n",
    "    weather_data.set_index('date', inplace=True)\n",
    "    weather_data = weather_data.tz_localize(None)\n",
    "    \n",
    "    target_data = pd.concat([target_data, weather_data], axis=1)\n",
    "    target_data = target_data.loc[start:end]"
   ],
   "metadata": {
    "collapsed": false
   },
   "id": "318cfd41baba2be"
  },
  {
   "cell_type": "markdown",
   "source": [
    "## Create tensors"
   ],
   "metadata": {
    "collapsed": false
   },
   "id": "bb9558c35a008376"
  },
  {
   "cell_type": "code",
   "execution_count": null,
   "outputs": [],
   "source": [
    "# Get the data in the torch.tensor format\n",
    "target_tensors = Tensors(target_data, 'P', past_features , future_features, lags, forecast_period, gap=gap, forecast_gap=forecast_gap)\n",
    "\n",
    "# Split the data into train and test sets with separate tensors for features (X) and the target (y)\n",
    "X_train, X_test, y_train, y_test = target_tensors.create_tensor()\n",
    "X_train.shape, X_test.shape, y_train.shape, y_test.shape"
   ],
   "metadata": {
    "collapsed": false
   },
   "id": "ecb5353f04dc8318"
  },
  {
   "cell_type": "markdown",
   "source": [
    "## Create a transfer model"
   ],
   "metadata": {
    "collapsed": false
   },
   "id": "2ec3b30994947484"
  },
  {
   "cell_type": "code",
   "execution_count": null,
   "outputs": [],
   "source": [
    "# Create a transfer model\n",
    "transfer_model  = LSTM(input_size,hidden_size,num_layers, forecast_period, dropout).to(device)\n",
    "\n",
    "# Load the state dictionary from the source model into the transfer model \n",
    "transfer_model.load_state_dict(torch.load('../models/SolNet/' + model_name))"
   ],
   "metadata": {
    "collapsed": false
   },
   "id": "866fbd8b6f9c8976"
  },
  {
   "cell_type": "markdown",
   "source": [
    "## Train / Finetune the transfer model"
   ],
   "metadata": {
    "collapsed": false
   },
   "id": "9c7baa5ccfe329d"
  },
  {
   "cell_type": "code",
   "execution_count": null,
   "outputs": [],
   "source": [
    "for name, _ in transfer_model.lstm.named_parameters():\n",
    "    print(name)"
   ],
   "metadata": {
    "collapsed": false
   },
   "id": "8ec14f2d451a4b40"
  },
  {
   "cell_type": "code",
   "execution_count": null,
   "outputs": [],
   "source": [
    "# Layers to freeze\n",
    "freezing = []\n",
    "\n",
    "for name, _ in my_lstm.lstm.named_parameters():\n",
    "    freezing.append(name)\n",
    "    \n",
    "freezing = freezing[:4]\n",
    "freezing"
   ],
   "metadata": {
    "collapsed": false
   },
   "id": "165ecc852c960a07"
  },
  {
   "cell_type": "code",
   "execution_count": null,
   "outputs": [],
   "source": [
    "# Specify that the frozen weights and biases do not require training\n",
    "for name, param in transfer_model.lstm.named_parameters():\n",
    "    if any(freezing_name in name for freezing_name in freezing):\n",
    "        param.requires_grad = False"
   ],
   "metadata": {
    "collapsed": false
   },
   "id": "4bb9b31341a7799e"
  },
  {
   "cell_type": "code",
   "execution_count": null,
   "outputs": [],
   "source": [
    "# initialize the trainer\n",
    "training = Training(transfer_model, \n",
    "                    X_train, \n",
    "                    y_train, \n",
    "                    X_test, \n",
    "                    y_test, \n",
    "                    epochs=50, batch_size = batch_size, learning_rate =learning_rate/10)"
   ],
   "metadata": {
    "collapsed": false
   },
   "id": "979822366affbaab"
  },
  {
   "cell_type": "code",
   "execution_count": null,
   "outputs": [],
   "source": [
    "# Train the model and return the trained parameters and the best iteration\n",
    "state_dict_list, best_epoch = training.fit(verbose=True)"
   ],
   "metadata": {
    "collapsed": false
   },
   "id": "f837f8194272916f"
  },
  {
   "cell_type": "code",
   "execution_count": null,
   "outputs": [],
   "source": [
    "# Load the best performing model\n",
    "transfer_model.load_state_dict(state_dict_list[best_epoch])"
   ],
   "metadata": {
    "collapsed": false
   },
   "id": "4101956c5d711123"
  },
  {
   "cell_type": "code",
   "execution_count": null,
   "outputs": [],
   "source": [
    "# Forecast with the source model\n",
    "forecasts_source = my_lstm(X_test.to(device))\n",
    "forecasts_transfer = transfer_model(X_test.to(device))\n",
    "\n",
    "# Evaluate the model performance\n",
    "source_eval = Evaluation(y_test.detach().flatten().numpy(), forecasts_source.cpu().detach().flatten().numpy())\n",
    "target_eval = Evaluation(y_test.detach().flatten().numpy(), forecasts_transfer.cpu().detach().flatten().numpy())"
   ],
   "metadata": {
    "collapsed": false
   },
   "id": "18c0c78cd4e1245"
  },
  {
   "cell_type": "code",
   "execution_count": null,
   "outputs": [],
   "source": [
    "# Extract the first 3 columns\n",
    "cols_to_plot = source_eval.metrics().columns[:3]\n",
    "df1_values = source_eval.metrics()[cols_to_plot].values.flatten()\n",
    "df2_values = target_eval.metrics()[cols_to_plot].values.flatten()\n",
    "\n",
    "# Define bar width and positions\n",
    "x = np.arange(len(cols_to_plot))  # X locations for clusters\n",
    "bar_width = 0.35  \n",
    "\n",
    "# Create the plot\n",
    "fig, ax = plt.subplots(figsize=(8, 5))\n",
    "ax.bar(x - bar_width/2, df1_values, bar_width, label='Source model', color='b')\n",
    "ax.bar(x + bar_width/2, df2_values, bar_width, label='Transfer model', color='r')\n",
    "\n",
    "# Labels and Formatting\n",
    "ax.set_xticks(x)\n",
    "ax.set_xticklabels(cols_to_plot)\n",
    "ax.set_title(\"Evaluation metric comparison\")\n",
    "ax.legend()\n",
    "\n",
    "# Show plot\n",
    "plt.show()"
   ],
   "metadata": {
    "collapsed": false
   },
   "id": "bdd687cb832bc187"
  },
  {
   "cell_type": "code",
   "execution_count": null,
   "outputs": [],
   "source": [],
   "metadata": {
    "collapsed": false
   },
   "id": "9c8ac03e27468ada"
  }
 ],
 "metadata": {
  "kernelspec": {
   "display_name": "Python 3",
   "language": "python",
   "name": "python3"
  },
  "language_info": {
   "codemirror_mode": {
    "name": "ipython",
    "version": 2
   },
   "file_extension": ".py",
   "mimetype": "text/x-python",
   "name": "python",
   "nbconvert_exporter": "python",
   "pygments_lexer": "ipython2",
   "version": "2.7.6"
  }
 },
 "nbformat": 4,
 "nbformat_minor": 5
}
