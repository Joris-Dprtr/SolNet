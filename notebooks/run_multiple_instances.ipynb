{
 "cells": [
  {
   "cell_type": "markdown",
   "source": [
    "# Dataset loop"
   ],
   "metadata": {
    "collapsed": false
   }
  },
  {
   "cell_type": "markdown",
   "source": [
    "This notebook loops through the base_notebooks, changing only the customer ID for easy execution of all customers\n",
    "\n",
    "! Important: MAKE SURE TO ALSO SET THE PARAMETERS IN THE NL NOTEBOOK, IN THE FIRST CELL!"
   ],
   "metadata": {
    "collapsed": false
   }
  },
  {
   "cell_type": "markdown",
   "source": [
    "For id_value in range(X,Y)\n",
    "- AUS: X = 1, Y = 301\n",
    "- NL: X = 0, Y = 40\n",
    "\n",
    "for distance in distances\n",
    "[0,100,200,400,800,1600]"
   ],
   "metadata": {
    "collapsed": false
   }
  },
  {
   "cell_type": "code",
   "execution_count": 1,
   "outputs": [],
   "source": [
    "import nbformat\n",
    "from nbconvert.preprocessors import ExecutePreprocessor"
   ],
   "metadata": {
    "collapsed": false,
    "ExecuteTime": {
     "end_time": "2024-10-25T13:46:08.743049600Z",
     "start_time": "2024-10-25T13:46:08.502711200Z"
    }
   }
  },
  {
   "cell_type": "code",
   "execution_count": 2,
   "outputs": [],
   "source": [
    "notebook_path = \"./base_notebook_NL.ipynb\""
   ],
   "metadata": {
    "collapsed": false,
    "ExecuteTime": {
     "end_time": "2024-10-25T13:46:08.749711700Z",
     "start_time": "2024-10-25T13:46:08.743049600Z"
    }
   }
  },
  {
   "cell_type": "code",
   "execution_count": 3,
   "outputs": [],
   "source": [
    "# Location = NL or AUS\n",
    "location = 'NL'\n",
    "# analysis = base, distance or seasonal\n",
    "analysis = 'base'"
   ],
   "metadata": {
    "collapsed": false,
    "ExecuteTime": {
     "end_time": "2024-10-25T13:46:08.757071200Z",
     "start_time": "2024-10-25T13:46:08.745704900Z"
    }
   }
  },
  {
   "cell_type": "code",
   "execution_count": 4,
   "outputs": [],
   "source": [
    "id_value_NL = range(0,3)\n",
    "# terug op 40 zetten\n",
    "id_value_AUS = range(1,301)\n",
    "distance_range = [0, 800, 1600]\n",
    "# terug op 0,100,200,400,800,1600 zetten\n",
    "seasonal_combos = [[2021, 'jan'], [2020,'dec'], [2020,'nov'], [2020,'oct'], [2020,'sep'], [2020,'aug'], [2020,'jul'], [2020,'jun'], \n",
    "                   [2020,'may'], [2020,'apr'], [2020,'mar'], [2020,'feb']]\n",
    "if location == 'NL':\n",
    "    id_values = id_value_NL\n",
    "else:\n",
    "    id_values = id_value_AUS"
   ],
   "metadata": {
    "collapsed": false,
    "ExecuteTime": {
     "end_time": "2024-10-25T13:46:08.768287300Z",
     "start_time": "2024-10-25T13:46:08.758070900Z"
    }
   }
  },
  {
   "cell_type": "code",
   "execution_count": null,
   "outputs": [
    {
     "name": "stdout",
     "output_type": "stream",
     "text": [
      "Execution complete for id=0\n"
     ]
    }
   ],
   "source": [
    "# Read the notebook in\n",
    "with open(notebook_path, \"r\") as f:\n",
    "    notebook_content = f.read()\n",
    "\n",
    "if analysis == 'base':\n",
    "    for id_value in id_values:\n",
    "        # Replace the 'id' value for each iteration\n",
    "        modified_notebook_content = notebook_content.replace(\"system_id = 0\", f\"system_id = {id_value}\")\n",
    "    \n",
    "        # Create a temporary modified notebook\n",
    "        modified_notebook = nbformat.reads(modified_notebook_content, as_version=nbformat.NO_CONVERT)\n",
    "    \n",
    "        # Execute the modified notebook\n",
    "        execute_preprocessor = ExecutePreprocessor(timeout=-1)  # Set the timeout as needed\n",
    "        try:\n",
    "            execute_preprocessor.preprocess(modified_notebook)\n",
    "        except:\n",
    "            print(f\"Error for id={id_value}\")\n",
    "        print(f\"Execution complete for id={id_value}\")\n",
    "        \n",
    "elif analysis == 'distance':  \n",
    "\n",
    "    for id_value in id_values:\n",
    "        for distance in distance_range:\n",
    "            # Replace the 'id' value and 'km' value for each iteration\n",
    "            modified_notebook_content = notebook_content.replace(\"system_id = 0\", f\"system_id = {id_value}\").replace(\"kilometers = 0\", f\"kilometers = {distance}\")\n",
    "                   \n",
    "            # Create a temporary modified notebook\n",
    "            modified_notebook = nbformat.reads(modified_notebook_content, as_version=nbformat.NO_CONVERT)\n",
    "            \n",
    "            # Execute the modified notebook\n",
    "            execute_preprocessor = ExecutePreprocessor(timeout=-1)  # Set the timeout as needed\n",
    "            try:\n",
    "                execute_preprocessor.preprocess(modified_notebook)\n",
    "            except:\n",
    "                print(f\"Error for distance={distance}\")\n",
    "            print(f\"Execution complete for distance={distance}\")\n",
    "        print(f\"Execution complete for id={id_value}\")\n",
    "        \n",
    "else:\n",
    "\n",
    "    for id_value in id_values:\n",
    "        for seasonal_combo in seasonal_combos:\n",
    "            # Replace the 'id' value for each iteration\n",
    "                    \n",
    "            modified_notebook_content = notebook_content.replace(\"system_id = 0\", f\"system_id = {id_value}\").replace(\"year = 2021\", f\"year = {seasonal_combo[0]}\").replace(\"month = 'jan'\", f\"month = '{seasonal_combo[1]}'\")\n",
    "            \n",
    "                \n",
    "            # Create a temporary modified notebook\n",
    "            modified_notebook = nbformat.reads(modified_notebook_content, as_version=nbformat.NO_CONVERT)\n",
    "            \n",
    "            # Execute the modified notebook\n",
    "            execute_preprocessor = ExecutePreprocessor(timeout=-1)  # Set the timeout as needed\n",
    "            try:\n",
    "                execute_preprocessor.preprocess(modified_notebook)\n",
    "            except:\n",
    "                print(f\"Error for season={seasonal_combo}\")\n",
    "            print(f\"Execution complete for season={seasonal_combo}\")\n",
    "        print(f\"Execution complete for id={id_value}\")    "
   ],
   "metadata": {
    "collapsed": false,
    "is_executing": true,
    "ExecuteTime": {
     "start_time": "2024-10-25T13:46:08.773241700Z"
    }
   }
  },
  {
   "cell_type": "code",
   "execution_count": null,
   "outputs": [],
   "source": [],
   "metadata": {
    "collapsed": false,
    "is_executing": true
   }
  }
 ],
 "metadata": {
  "kernelspec": {
   "display_name": "SolNet",
   "language": "python",
   "name": "python3"
  },
  "language_info": {
   "codemirror_mode": {
    "name": "ipython",
    "version": 3
   },
   "file_extension": ".py",
   "mimetype": "text/x-python",
   "name": "python",
   "nbconvert_exporter": "python",
   "pygments_lexer": "ipython3",
   "version": "3.9.16"
  },
  "orig_nbformat": 4
 },
 "nbformat": 4,
 "nbformat_minor": 2
}
