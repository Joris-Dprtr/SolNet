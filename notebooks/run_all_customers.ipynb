{
 "cells": [
  {
   "cell_type": "markdown",
   "source": [
    "# Dataset loop"
   ],
   "metadata": {
    "collapsed": false
   }
  },
  {
   "cell_type": "markdown",
   "source": [
    "This notebook loops through the AUS_base_notebook.ipynb, changing only the customer ID for easy execution of all 299 customers"
   ],
   "metadata": {
    "collapsed": false
   }
  },
  {
   "cell_type": "code",
   "execution_count": 1,
   "outputs": [],
   "source": [
    "import nbformat\n",
    "from nbconvert.preprocessors import ExecutePreprocessor"
   ],
   "metadata": {
    "collapsed": false,
    "ExecuteTime": {
     "end_time": "2023-11-28T11:09:56.413070700Z",
     "start_time": "2023-11-28T11:09:56.130144800Z"
    }
   }
  },
  {
   "cell_type": "code",
   "execution_count": null,
   "metadata": {
    "is_executing": true,
    "ExecuteTime": {
     "start_time": "2023-11-28T11:09:58.191105200Z"
    }
   },
   "outputs": [
    {
     "name": "stdout",
     "output_type": "stream",
     "text": [
      "Error for id=0\n",
      "Execution complete for id=0\n",
      "Error for id=1\n",
      "Execution complete for id=1\n",
      "Error for id=2\n",
      "Execution complete for id=2\n",
      "Error for id=3\n",
      "Execution complete for id=3\n",
      "Error for id=4\n",
      "Execution complete for id=4\n",
      "Error for id=5\n",
      "Execution complete for id=5\n",
      "Error for id=6\n",
      "Execution complete for id=6\n"
     ]
    },
    {
     "name": "stderr",
     "output_type": "stream",
     "text": [
      "Task exception was never retrieved\n",
      "future: <Task finished name='Task-235' coro=<NotebookClient.async_start_new_kernel() done, defined at C:\\Users\\jdepoort\\Anaconda3\\envs\\SolNet_Clean\\Lib\\site-packages\\nbclient\\client.py:490> exception=KeyboardInterrupt()>\n",
      "Traceback (most recent call last):\n",
      "  File \"C:\\Users\\jdepoort\\AppData\\Local\\Temp\\ipykernel_7000\\1523240689.py\", line 21, in <module>\n",
      "    execute_preprocessor.preprocess(modified_notebook)\n",
      "  File \"C:\\Users\\jdepoort\\Anaconda3\\envs\\SolNet_Clean\\Lib\\site-packages\\nbconvert\\preprocessors\\execute.py\", line 85, in preprocess\n",
      "    with self.setup_kernel():\n",
      "  File \"C:\\Users\\jdepoort\\Anaconda3\\envs\\SolNet_Clean\\Lib\\contextlib.py\", line 137, in __enter__\n",
      "    return next(self.gen)\n",
      "           ^^^^^^^^^^^^^^\n",
      "  File \"C:\\Users\\jdepoort\\Anaconda3\\envs\\SolNet_Clean\\Lib\\site-packages\\nbclient\\client.py\", line 561, in setup_kernel\n",
      "    self.start_new_kernel(**kwargs)\n",
      "  File \"C:\\Users\\jdepoort\\Anaconda3\\envs\\SolNet_Clean\\Lib\\site-packages\\nbclient\\util.py\", line 84, in wrapped\n",
      "    return just_run(coro(*args, **kwargs))\n",
      "           ^^^^^^^^^^^^^^^^^^^^^^^^^^^^^^^\n",
      "  File \"C:\\Users\\jdepoort\\Anaconda3\\envs\\SolNet_Clean\\Lib\\site-packages\\nbclient\\util.py\", line 62, in just_run\n",
      "    return loop.run_until_complete(coro)\n",
      "           ^^^^^^^^^^^^^^^^^^^^^^^^^^^^^\n",
      "  File \"C:\\Users\\jdepoort\\Anaconda3\\envs\\SolNet_Clean\\Lib\\site-packages\\nest_asyncio.py\", line 84, in run_until_complete\n",
      "    self._run_once()\n",
      "  File \"C:\\Users\\jdepoort\\Anaconda3\\envs\\SolNet_Clean\\Lib\\site-packages\\nest_asyncio.py\", line 120, in _run_once\n",
      "    handle._run()\n",
      "  File \"C:\\Users\\jdepoort\\Anaconda3\\envs\\SolNet_Clean\\Lib\\asyncio\\events.py\", line 80, in _run\n",
      "    self._context.run(self._callback, *self._args)\n",
      "  File \"C:\\Users\\jdepoort\\Anaconda3\\envs\\SolNet_Clean\\Lib\\site-packages\\nest_asyncio.py\", line 196, in step\n",
      "    step_orig(task, exc)\n",
      "  File \"C:\\Users\\jdepoort\\Anaconda3\\envs\\SolNet_Clean\\Lib\\asyncio\\tasks.py\", line 267, in __step\n",
      "    result = coro.send(None)\n",
      "             ^^^^^^^^^^^^^^^\n",
      "  File \"C:\\Users\\jdepoort\\Anaconda3\\envs\\SolNet_Clean\\Lib\\site-packages\\nbclient\\client.py\", line 516, in async_start_new_kernel\n",
      "    await ensure_async(self.km.start_kernel(extra_arguments=self.extra_arguments, **kwargs))\n",
      "  File \"C:\\Users\\jdepoort\\Anaconda3\\envs\\SolNet_Clean\\Lib\\site-packages\\nbclient\\util.py\", line 96, in ensure_async\n",
      "    result = await obj\n",
      "             ^^^^^^^^^\n",
      "  File \"C:\\Users\\jdepoort\\Anaconda3\\envs\\SolNet_Clean\\Lib\\site-packages\\jupyter_client\\manager.py\", line 82, in wrapper\n",
      "    out = await method(self, *args, **kwargs)\n",
      "          ^^^^^^^^^^^^^^^^^^^^^^^^^^^^^^^^^^^\n",
      "  File \"C:\\Users\\jdepoort\\Anaconda3\\envs\\SolNet_Clean\\Lib\\site-packages\\jupyter_client\\manager.py\", line 395, in _async_start_kernel\n",
      "    await ensure_async(self._launch_kernel(kernel_cmd, **kw))\n",
      "  File \"C:\\Users\\jdepoort\\Anaconda3\\envs\\SolNet_Clean\\Lib\\site-packages\\jupyter_client\\utils.py\", line 38, in ensure_async\n",
      "    return await obj\n",
      "           ^^^^^^^^^\n",
      "  File \"C:\\Users\\jdepoort\\Anaconda3\\envs\\SolNet_Clean\\Lib\\site-packages\\jupyter_client\\manager.py\", line 311, in _async_launch_kernel\n",
      "    connection_info = await self.provisioner.launch_kernel(kernel_cmd, **kw)\n",
      "                      ^^^^^^^^^^^^^^^^^^^^^^^^^^^^^^^^^^^^^^^^^^^^^^^^^^^^^^\n",
      "  File \"C:\\Users\\jdepoort\\Anaconda3\\envs\\SolNet_Clean\\Lib\\site-packages\\jupyter_client\\provisioning\\local_provisioner.py\", line 204, in launch_kernel\n",
      "    self.process = launch_kernel(cmd, **scrubbed_kwargs)\n",
      "                   ^^^^^^^^^^^^^^^^^^^^^^^^^^^^^^^^^^^^^\n",
      "  File \"C:\\Users\\jdepoort\\Anaconda3\\envs\\SolNet_Clean\\Lib\\site-packages\\jupyter_client\\launcher.py\", line 158, in launch_kernel\n",
      "    proc = Popen(cmd, **kwargs)\n",
      "           ^^^^^^^^^^^^^^^^^^^^\n",
      "  File \"C:\\Users\\jdepoort\\Anaconda3\\envs\\SolNet_Clean\\Lib\\subprocess.py\", line 1026, in __init__\n",
      "    self._execute_child(args, executable, preexec_fn, close_fds,\n",
      "  File \"C:\\Users\\jdepoort\\Anaconda3\\envs\\SolNet_Clean\\Lib\\subprocess.py\", line 1538, in _execute_child\n",
      "    hp, ht, pid, tid = _winapi.CreateProcess(executable, args,\n",
      "                       ^^^^^^^^^^^^^^^^^^^^^^^^^^^^^^^^^^^^^^^\n",
      "KeyboardInterrupt\n"
     ]
    },
    {
     "name": "stdout",
     "output_type": "stream",
     "text": [
      "Error for id=7\n",
      "Execution complete for id=7\n",
      "Error for id=8\n",
      "Execution complete for id=8\n",
      "Error for id=9\n",
      "Execution complete for id=9\n"
     ]
    }
   ],
   "source": [
    "notebook_path = \"./AUS_base_notebook.ipynb\"\n",
    "\n",
    "# Read the notebook in\n",
    "with open(notebook_path, \"r\") as f:\n",
    "    notebook_content = f.read()\n",
    "\n",
    "# Get the customer ID as a changeable variable\n",
    "customer_id = notebook_content.replace(\"customer_id = 1\", \"id = {id_value}\")\n",
    "\n",
    "# Update the 'customer_id' value in the first notebook cell\n",
    "for id_value in range(1, 300):\n",
    "    # Replace the 'id' value for each iteration\n",
    "    modified_id = customer_id.replace(\"{id_value}\", str(id_value))\n",
    "\n",
    "    # Create a temporary modified notebook\n",
    "    modified_notebook = nbformat.reads(modified_id, as_version=nbformat.NO_CONVERT)\n",
    "\n",
    "    # Execute the modified notebook\n",
    "    execute_preprocessor = ExecutePreprocessor(timeout=-1)  # Set the timeout as needed\n",
    "    try:\n",
    "        execute_preprocessor.preprocess(modified_notebook)\n",
    "    except:\n",
    "        print(f\"Error for id={id_value}\")\n",
    "    print(f\"Execution complete for id={id_value}\")"
   ]
  },
  {
   "cell_type": "code",
   "execution_count": null,
   "outputs": [],
   "source": [],
   "metadata": {
    "collapsed": false
   }
  }
 ],
 "metadata": {
  "kernelspec": {
   "display_name": "SolNet",
   "language": "python",
   "name": "python3"
  },
  "language_info": {
   "codemirror_mode": {
    "name": "ipython",
    "version": 3
   },
   "file_extension": ".py",
   "mimetype": "text/x-python",
   "name": "python",
   "nbconvert_exporter": "python",
   "pygments_lexer": "ipython3",
   "version": "3.9.16"
  },
  "orig_nbformat": 4
 },
 "nbformat": 4,
 "nbformat_minor": 2
}
