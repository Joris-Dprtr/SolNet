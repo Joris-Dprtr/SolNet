{
 "cells": [
  {
   "cell_type": "markdown",
   "source": [
    "# Dataset loop"
   ],
   "metadata": {
    "collapsed": false
   }
  },
  {
   "cell_type": "markdown",
   "source": [
    "This notebook loops through the AUS_base_notebook.ipynb, changing only the customer ID for easy execution of all 299 customers"
   ],
   "metadata": {
    "collapsed": false
   }
  },
  {
   "cell_type": "code",
   "execution_count": null,
   "outputs": [],
   "source": [
    "import nbformat\n",
    "from nbconvert.preprocessors import ExecutePreprocessor"
   ],
   "metadata": {
    "collapsed": false
   }
  },
  {
   "cell_type": "code",
   "execution_count": null,
   "metadata": {
    "is_executing": true
   },
   "outputs": [],
   "source": [
    "notebook_path = \"./AUS_base_notebook.ipynb\"\n",
    "\n",
    "# Read the notebook in\n",
    "with open(notebook_path, \"r\") as f:\n",
    "    notebook_content = f.read()\n",
    "\n",
    "# Get the customer ID as a changeable variable\n",
    "customer_id = notebook_content.replace(\"customer_id = 1\", \"id = {id_value}\")\n",
    "\n",
    "# Update the 'customer_id' value in the first notebook cell\n",
    "for id_value in range(1, 300):\n",
    "    # Replace the 'id' value for each iteration\n",
    "    modified_id = customer_id.replace(\"{id_value}\", str(id_value))\n",
    "\n",
    "    # Create a temporary modified notebook\n",
    "    modified_notebook = nbformat.reads(modified_id, as_version=nbformat.NO_CONVERT)\n",
    "\n",
    "    # Execute the modified notebook\n",
    "    execute_preprocessor = ExecutePreprocessor(timeout=-1)  # Set the timeout as needed\n",
    "    try:\n",
    "        execute_preprocessor.preprocess(modified_notebook)\n",
    "    except:\n",
    "        print(f\"Error for id={id_value}\")\n",
    "    print(f\"Execution complete for id={id_value}\")"
   ]
  },
  {
   "cell_type": "code",
   "execution_count": null,
   "outputs": [],
   "source": [],
   "metadata": {
    "collapsed": false
   }
  }
 ],
 "metadata": {
  "kernelspec": {
   "display_name": "SolNet",
   "language": "python",
   "name": "python3"
  },
  "language_info": {
   "codemirror_mode": {
    "name": "ipython",
    "version": 3
   },
   "file_extension": ".py",
   "mimetype": "text/x-python",
   "name": "python",
   "nbconvert_exporter": "python",
   "pygments_lexer": "ipython3",
   "version": "3.9.16"
  },
  "orig_nbformat": 4
 },
 "nbformat": 4,
 "nbformat_minor": 2
}
