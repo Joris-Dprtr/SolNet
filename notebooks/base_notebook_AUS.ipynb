{
 "cells": [
  {
   "cell_type": "code",
   "execution_count": 2,
   "outputs": [],
   "source": [
    "# THIS PARAMETER IS USED FOR LOOPING OVER THE NOTEBOOK IN THE \"run_all_customers\" NOTEBOOK\n",
    "system_id = 1"
   ],
   "metadata": {
    "collapsed": false,
    "ExecuteTime": {
     "end_time": "2025-03-12T17:40:32.986230800Z",
     "start_time": "2025-03-12T17:40:32.890483900Z"
    }
   },
   "id": "49eef3da1999505"
  },
  {
   "cell_type": "code",
   "execution_count": 3,
   "id": "initial_id",
   "metadata": {
    "collapsed": true,
    "ExecuteTime": {
     "end_time": "2025-03-12T17:40:37.480045900Z",
     "start_time": "2025-03-12T17:40:32.894658Z"
    }
   },
   "outputs": [],
   "source": [
    "# Base library imports\n",
    "import pandas as pd\n",
    "import torch\n",
    "import os\n",
    "from matplotlib import pyplot as plt\n",
    "\n",
    "# SolNet imports\n",
    "from src.data.datafetcher import PvFetcher\n",
    "from src.data.featurisation import Featurisation\n",
    "from src.tensors.tensorisation import Tensors\n",
    "from src.models.lstm import LSTM\n",
    "from src.models.training import Training\n",
    "from src.models.training import save_model\n",
    "from src.evaluation.evaluation import Evaluation"
   ]
  },
  {
   "cell_type": "code",
   "execution_count": 4,
   "outputs": [],
   "source": [
    "# Hyperparameters needed for a run:\n",
    "\n",
    "# Data fetching\n",
    "locations_used = 1\n",
    "start_date = 2005\n",
    "end_date = 2010\n",
    "\n",
    "# Forecasting parameters\n",
    "target = 'P'\n",
    "past_features = ['P']\n",
    "future_features = ['hour_sin','hour_cos']\n",
    "lags = 24\n",
    "forecast_period = 24\n",
    "gap = 0 \n",
    "forecast_gap = 0\n",
    "\n",
    "# Lstm parameters\n",
    "hidden_size = 400\n",
    "num_layers = 3\n",
    "dropout = 0.5\n",
    "device = torch.device(\"cuda\" if torch.cuda.is_available() else \"cpu\")\n",
    "\n",
    "# Training parameters\n",
    "epochs = 200\n",
    "batch_size = 32\n",
    "learning_rate = 0.0001"
   ],
   "metadata": {
    "collapsed": false,
    "ExecuteTime": {
     "end_time": "2025-03-12T17:40:37.575831700Z",
     "start_time": "2025-03-12T17:40:37.569418900Z"
    }
   },
   "id": "194e4f3040adb64d"
  },
  {
   "cell_type": "markdown",
   "source": [
    "## 1. Target location"
   ],
   "metadata": {
    "collapsed": false
   },
   "id": "4ed10c4c3f4d379e"
  },
  {
   "cell_type": "code",
   "execution_count": 5,
   "outputs": [
    {
     "data": {
      "text/plain": "                     Customer  Postcode  Generator Capacity  Values  \\\ndate                                                                  \n2011-07-01 00:00:00       1.0      2076                3.78     0.0   \n2011-07-01 00:30:00       1.0      2076                3.78     0.0   \n2011-07-01 01:00:00       1.0      2076                3.78     0.0   \n2011-07-01 01:30:00       1.0      2076                3.78     0.0   \n2011-07-01 02:00:00       1.0      2076                3.78     0.0   \n...                       ...       ...                 ...     ...   \n2013-06-30 21:30:00       1.0      2076                3.78     0.0   \n2013-06-30 22:00:00       1.0      2076                3.78     0.0   \n2013-06-30 22:30:00       1.0      2076                3.78     0.0   \n2013-06-30 23:00:00       1.0      2076                3.78     0.0   \n2013-06-30 23:30:00       1.0      2076                3.78     0.0   \n\n                      latitude  longitude  \ndate                                       \n2011-07-01 00:00:00 -33.696992  151.13078  \n2011-07-01 00:30:00 -33.696992  151.13078  \n2011-07-01 01:00:00 -33.696992  151.13078  \n2011-07-01 01:30:00 -33.696992  151.13078  \n2011-07-01 02:00:00 -33.696992  151.13078  \n...                        ...        ...  \n2013-06-30 21:30:00 -33.696992  151.13078  \n2013-06-30 22:00:00 -33.696992  151.13078  \n2013-06-30 22:30:00 -33.696992  151.13078  \n2013-06-30 23:00:00 -33.696992  151.13078  \n2013-06-30 23:30:00 -33.696992  151.13078  \n\n[35088 rows x 6 columns]",
      "text/html": "<div>\n<style scoped>\n    .dataframe tbody tr th:only-of-type {\n        vertical-align: middle;\n    }\n\n    .dataframe tbody tr th {\n        vertical-align: top;\n    }\n\n    .dataframe thead th {\n        text-align: right;\n    }\n</style>\n<table border=\"1\" class=\"dataframe\">\n  <thead>\n    <tr style=\"text-align: right;\">\n      <th></th>\n      <th>Customer</th>\n      <th>Postcode</th>\n      <th>Generator Capacity</th>\n      <th>Values</th>\n      <th>latitude</th>\n      <th>longitude</th>\n    </tr>\n    <tr>\n      <th>date</th>\n      <th></th>\n      <th></th>\n      <th></th>\n      <th></th>\n      <th></th>\n      <th></th>\n    </tr>\n  </thead>\n  <tbody>\n    <tr>\n      <th>2011-07-01 00:00:00</th>\n      <td>1.0</td>\n      <td>2076</td>\n      <td>3.78</td>\n      <td>0.0</td>\n      <td>-33.696992</td>\n      <td>151.13078</td>\n    </tr>\n    <tr>\n      <th>2011-07-01 00:30:00</th>\n      <td>1.0</td>\n      <td>2076</td>\n      <td>3.78</td>\n      <td>0.0</td>\n      <td>-33.696992</td>\n      <td>151.13078</td>\n    </tr>\n    <tr>\n      <th>2011-07-01 01:00:00</th>\n      <td>1.0</td>\n      <td>2076</td>\n      <td>3.78</td>\n      <td>0.0</td>\n      <td>-33.696992</td>\n      <td>151.13078</td>\n    </tr>\n    <tr>\n      <th>2011-07-01 01:30:00</th>\n      <td>1.0</td>\n      <td>2076</td>\n      <td>3.78</td>\n      <td>0.0</td>\n      <td>-33.696992</td>\n      <td>151.13078</td>\n    </tr>\n    <tr>\n      <th>2011-07-01 02:00:00</th>\n      <td>1.0</td>\n      <td>2076</td>\n      <td>3.78</td>\n      <td>0.0</td>\n      <td>-33.696992</td>\n      <td>151.13078</td>\n    </tr>\n    <tr>\n      <th>...</th>\n      <td>...</td>\n      <td>...</td>\n      <td>...</td>\n      <td>...</td>\n      <td>...</td>\n      <td>...</td>\n    </tr>\n    <tr>\n      <th>2013-06-30 21:30:00</th>\n      <td>1.0</td>\n      <td>2076</td>\n      <td>3.78</td>\n      <td>0.0</td>\n      <td>-33.696992</td>\n      <td>151.13078</td>\n    </tr>\n    <tr>\n      <th>2013-06-30 22:00:00</th>\n      <td>1.0</td>\n      <td>2076</td>\n      <td>3.78</td>\n      <td>0.0</td>\n      <td>-33.696992</td>\n      <td>151.13078</td>\n    </tr>\n    <tr>\n      <th>2013-06-30 22:30:00</th>\n      <td>1.0</td>\n      <td>2076</td>\n      <td>3.78</td>\n      <td>0.0</td>\n      <td>-33.696992</td>\n      <td>151.13078</td>\n    </tr>\n    <tr>\n      <th>2013-06-30 23:00:00</th>\n      <td>1.0</td>\n      <td>2076</td>\n      <td>3.78</td>\n      <td>0.0</td>\n      <td>-33.696992</td>\n      <td>151.13078</td>\n    </tr>\n    <tr>\n      <th>2013-06-30 23:30:00</th>\n      <td>1.0</td>\n      <td>2076</td>\n      <td>3.78</td>\n      <td>0.0</td>\n      <td>-33.696992</td>\n      <td>151.13078</td>\n    </tr>\n  </tbody>\n</table>\n<p>35088 rows × 6 columns</p>\n</div>"
     },
     "execution_count": 5,
     "metadata": {},
     "output_type": "execute_result"
    }
   ],
   "source": [
    "data_aus = pd.read_parquet('../data/australia/aus_production.parquet', engine='pyarrow')\n",
    "data_aus = data_aus[data_aus['Customer'] == system_id]\n",
    "data_aus"
   ],
   "metadata": {
    "collapsed": false,
    "ExecuteTime": {
     "end_time": "2025-03-12T17:40:37.883799400Z",
     "start_time": "2025-03-12T17:40:37.573835100Z"
    }
   },
   "id": "693853afcf60f671"
  },
  {
   "cell_type": "code",
   "execution_count": 6,
   "outputs": [
    {
     "data": {
      "text/plain": "(-33.69699153381296, 151.13077966206853, 3.78, 0, 0)"
     },
     "execution_count": 6,
     "metadata": {},
     "output_type": "execute_result"
    }
   ],
   "source": [
    "# Hyperparams from the data\n",
    "peak_power = data_aus['Generator Capacity'].iloc[0]\n",
    "latitude = data_aus['latitude'].iloc[0]\n",
    "longitude = data_aus['longitude'].iloc[0]\n",
    "\n",
    "# Hyperparams not included in the data\n",
    "tilt = 0\n",
    "azimuth = 0\n",
    "# The optimal angles replaces the tilt and azimuth by \"ideal\" settings\n",
    "optimalangles = True\n",
    "\n",
    "latitude, longitude, peak_power, tilt, azimuth"
   ],
   "metadata": {
    "collapsed": false,
    "ExecuteTime": {
     "end_time": "2025-03-12T17:40:37.884793200Z",
     "start_time": "2025-03-12T17:40:37.859251300Z"
    }
   },
   "id": "879cf97881ff0aa1"
  },
  {
   "cell_type": "code",
   "execution_count": 7,
   "outputs": [
    {
     "data": {
      "text/plain": "'base_australia_1'"
     },
     "execution_count": 7,
     "metadata": {},
     "output_type": "execute_result"
    }
   ],
   "source": [
    "# Unique name for the data, model and metrics\n",
    "data_name = 'base_' + 'australia' '_' + str(system_id)\n",
    "data_name"
   ],
   "metadata": {
    "collapsed": false,
    "ExecuteTime": {
     "end_time": "2025-03-12T17:40:37.885794900Z",
     "start_time": "2025-03-12T17:40:37.864806100Z"
    }
   },
   "id": "6b98fe610c8948df"
  },
  {
   "cell_type": "code",
   "execution_count": 8,
   "outputs": [],
   "source": [
    "# Create the folders to save the data and models\n",
    "data_folder = '../results/AUS/'\n",
    "model_folder = '../models/AUS/' + data_name\n",
    "if not os.path.exists(data_folder):\n",
    "    os.makedirs(data_folder)\n",
    "if not os.path.exists(model_folder):\n",
    "    os.makedirs(model_folder)"
   ],
   "metadata": {
    "collapsed": false,
    "ExecuteTime": {
     "end_time": "2025-03-12T17:40:37.885794900Z",
     "start_time": "2025-03-12T17:40:37.873202400Z"
    }
   },
   "id": "d86a576bc67d4a1"
  },
  {
   "cell_type": "code",
   "execution_count": 9,
   "outputs": [
    {
     "data": {
      "text/plain": "                       P\ndate                    \n2011-07-01 00:00:00  0.0\n2011-07-01 01:00:00  0.0\n2011-07-01 02:00:00  0.0\n2011-07-01 03:00:00  0.0\n2011-07-01 04:00:00  0.0\n...                  ...\n2013-06-30 19:00:00  0.0\n2013-06-30 20:00:00  0.0\n2013-06-30 21:00:00  0.0\n2013-06-30 22:00:00  0.0\n2013-06-30 23:00:00  0.0\n\n[17544 rows x 1 columns]",
      "text/html": "<div>\n<style scoped>\n    .dataframe tbody tr th:only-of-type {\n        vertical-align: middle;\n    }\n\n    .dataframe tbody tr th {\n        vertical-align: top;\n    }\n\n    .dataframe thead th {\n        text-align: right;\n    }\n</style>\n<table border=\"1\" class=\"dataframe\">\n  <thead>\n    <tr style=\"text-align: right;\">\n      <th></th>\n      <th>P</th>\n    </tr>\n    <tr>\n      <th>date</th>\n      <th></th>\n    </tr>\n  </thead>\n  <tbody>\n    <tr>\n      <th>2011-07-01 00:00:00</th>\n      <td>0.0</td>\n    </tr>\n    <tr>\n      <th>2011-07-01 01:00:00</th>\n      <td>0.0</td>\n    </tr>\n    <tr>\n      <th>2011-07-01 02:00:00</th>\n      <td>0.0</td>\n    </tr>\n    <tr>\n      <th>2011-07-01 03:00:00</th>\n      <td>0.0</td>\n    </tr>\n    <tr>\n      <th>2011-07-01 04:00:00</th>\n      <td>0.0</td>\n    </tr>\n    <tr>\n      <th>...</th>\n      <td>...</td>\n    </tr>\n    <tr>\n      <th>2013-06-30 19:00:00</th>\n      <td>0.0</td>\n    </tr>\n    <tr>\n      <th>2013-06-30 20:00:00</th>\n      <td>0.0</td>\n    </tr>\n    <tr>\n      <th>2013-06-30 21:00:00</th>\n      <td>0.0</td>\n    </tr>\n    <tr>\n      <th>2013-06-30 22:00:00</th>\n      <td>0.0</td>\n    </tr>\n    <tr>\n      <th>2013-06-30 23:00:00</th>\n      <td>0.0</td>\n    </tr>\n  </tbody>\n</table>\n<p>17544 rows × 1 columns</p>\n</div>"
     },
     "execution_count": 9,
     "metadata": {},
     "output_type": "execute_result"
    }
   ],
   "source": [
    "# Transform the dataframe to one retaining only the power output\n",
    "data_aus = pd.DataFrame(data_aus['Values'])\n",
    "data_aus = data_aus.resample('H').sum()\n",
    "data_aus = data_aus.rename(columns={\"Values\":\"P\"})\n",
    "\n",
    "target_data = data_aus\n",
    "target_data"
   ],
   "metadata": {
    "collapsed": false,
    "ExecuteTime": {
     "end_time": "2025-03-12T17:40:37.939072100Z",
     "start_time": "2025-03-12T17:40:37.881474300Z"
    }
   },
   "id": "c19895e1ca9836a2"
  },
  {
   "cell_type": "markdown",
   "source": [
    "## 2. Source location"
   ],
   "metadata": {
    "collapsed": false
   },
   "id": "baaa56493597bd4a"
  },
  {
   "cell_type": "code",
   "execution_count": 10,
   "outputs": [
    {
     "name": "stdout",
     "output_type": "stream",
     "text": [
      "Gathering data from base location...\n"
     ]
    }
   ],
   "source": [
    "# Fetch data from PVGIS\n",
    "data_PVGIS = PvFetcher(latitude,longitude,peak_power, tilt, azimuth, locations=locations_used, start_date=start_date, end_date=end_date,optimal_angles=1)"
   ],
   "metadata": {
    "collapsed": false,
    "ExecuteTime": {
     "end_time": "2025-03-12T17:40:44.062940600Z",
     "start_time": "2025-03-12T17:40:37.904638300Z"
    }
   },
   "id": "30957dec88587bd9"
  },
  {
   "cell_type": "code",
   "execution_count": 11,
   "outputs": [],
   "source": [
    "# Get the data from the fetcher\n",
    "data = [data_PVGIS.dataset[0]]\n",
    "\n",
    "# Localize the data so that hours align\n",
    "data[0] = data[0].tz_localize('UTC').tz_convert('Australia/Sydney').tz_localize(None)\n",
    "\n",
    "# Remove the hours before and after that do not make up a complete day\n",
    "data[0] = data[0][13:-11]"
   ],
   "metadata": {
    "collapsed": false,
    "ExecuteTime": {
     "end_time": "2025-03-12T17:40:44.119707700Z",
     "start_time": "2025-03-12T17:40:44.064891100Z"
    }
   },
   "id": "a6a9c09603b07cd7"
  },
  {
   "cell_type": "markdown",
   "source": [
    "# 3. Featurisation"
   ],
   "metadata": {
    "collapsed": false
   },
   "id": "1c0927a4cbed4240"
  },
  {
   "cell_type": "markdown",
   "source": [
    "## 3.1 Source"
   ],
   "metadata": {
    "collapsed": false
   },
   "id": "ab1ac8eb1137604f"
  },
  {
   "cell_type": "markdown",
   "source": [
    "Cyclical features"
   ],
   "metadata": {
    "collapsed": false
   },
   "id": "c53875ac2a81ecd0"
  },
  {
   "cell_type": "code",
   "execution_count": 12,
   "outputs": [],
   "source": [
    "# Decide on the features to use in making the model (Note that 'P' should always be included since it's the target variable)\n",
    "dataset = Featurisation(data).base_features(past_features)\n",
    "\n",
    "# Include cyclical features\n",
    "dataset = Featurisation(dataset).cyclic_features(yearly=False)\n",
    "features = dataset[0].columns # update the features\n",
    "source_data = dataset[0].copy()"
   ],
   "metadata": {
    "collapsed": false,
    "ExecuteTime": {
     "end_time": "2025-03-12T17:40:44.132429800Z",
     "start_time": "2025-03-12T17:40:44.115657100Z"
    }
   },
   "id": "2f205764b73ce294"
  },
  {
   "cell_type": "markdown",
   "source": [
    "## 3.2 Target"
   ],
   "metadata": {
    "collapsed": false
   },
   "id": "f5f3f7a9d43b9fd1"
  },
  {
   "cell_type": "markdown",
   "source": [
    "Cyclical features"
   ],
   "metadata": {
    "collapsed": false
   },
   "id": "da22dbc59d930a02"
  },
  {
   "cell_type": "code",
   "execution_count": 13,
   "outputs": [],
   "source": [
    "# Identical to the source domain\n",
    "target_featurisation = Featurisation([target_data])\n",
    "target_data = target_featurisation.cyclic_features()[0]"
   ],
   "metadata": {
    "collapsed": false,
    "ExecuteTime": {
     "end_time": "2025-03-12T17:40:44.133429300Z",
     "start_time": "2025-03-12T17:40:44.126701500Z"
    }
   },
   "id": "15f13f0391f4a6fb"
  },
  {
   "cell_type": "code",
   "execution_count": 14,
   "outputs": [],
   "source": [
    "# Include domain knowledge into the target domain for scaling purposes\n",
    "# We know that the minimum power is always 0\n",
    "domain_min = [0.0]\n",
    "# We are going to assume that the maximum is the peak rated power times some degradation factor. In the paper we assume this degradation is 14%, this is the number also used by PVGIS\n",
    "# cf. https://joint-research-centre.ec.europa.eu/photovoltaic-geographical-information-system-pvgis/getting-started-pvgis/pvgis-user-manual_en#ref-9-hourly-solar-radiation-and-pv-data\n",
    "domain_max = [peak_power*0.86]\n",
    "\n",
    "# For other features we just assume that the minimum and maximum are what we have seen in the source data, this data is freely available, so this is not a stretch\n",
    "other_features = past_features[1:] + future_features\n",
    "for i in range(len(other_features)):\n",
    "    domain_min.append(min(source_data[other_features[i]]))\n",
    "    domain_max.append(max(source_data[other_features[i]]))"
   ],
   "metadata": {
    "collapsed": false,
    "ExecuteTime": {
     "end_time": "2025-03-12T17:40:44.166967900Z",
     "start_time": "2025-03-12T17:40:44.136430300Z"
    }
   },
   "id": "442eef9d63a6aad9"
  },
  {
   "cell_type": "markdown",
   "source": [
    "# 4. Tensors"
   ],
   "metadata": {
    "collapsed": false
   },
   "id": "33755eed0dac848c"
  },
  {
   "cell_type": "markdown",
   "source": [
    "## 4.1 Source"
   ],
   "metadata": {
    "collapsed": false
   },
   "id": "6f798611c3d20350"
  },
  {
   "cell_type": "code",
   "execution_count": 15,
   "outputs": [
    {
     "data": {
      "text/plain": "(torch.Size([1751, 24, 3]),\n torch.Size([438, 24, 3]),\n torch.Size([1751, 24]),\n torch.Size([438, 24]))"
     },
     "execution_count": 15,
     "metadata": {},
     "output_type": "execute_result"
    }
   ],
   "source": [
    "# Get the data in the torch.tensor format\n",
    "src_tensors = Tensors(source_data, 'P', past_features , future_features, lags, forecast_period, gap=gap, forecast_gap=forecast_gap)\n",
    "\n",
    "# Split the data into train and test sets with separate tensors for features (X) and the target (y)\n",
    "X_train_src, X_test_src, y_train_src, y_test_src = src_tensors.create_tensor()\n",
    "X_train_src.shape, X_test_src.shape, y_train_src.shape, y_test_src.shape"
   ],
   "metadata": {
    "collapsed": false,
    "ExecuteTime": {
     "end_time": "2025-03-12T17:40:44.199048100Z",
     "start_time": "2025-03-12T17:40:44.154575900Z"
    }
   },
   "id": "e368d2ed7f223ac4"
  },
  {
   "cell_type": "markdown",
   "source": [
    "## 4.2 Target"
   ],
   "metadata": {
    "collapsed": false
   },
   "id": "5659b927ee23db17"
  },
  {
   "cell_type": "markdown",
   "source": [
    "For the target dataset we require a separate \"evaluation set\" of a full year, apart from the train and test set. This makes the tensorisation of the data a bit more complex than what we did for the source domain."
   ],
   "metadata": {
    "collapsed": false
   },
   "id": "d2f90c883f4676c2"
  },
  {
   "cell_type": "code",
   "execution_count": 16,
   "outputs": [],
   "source": [
    "# Take apart the train and test data\n",
    "target_excl_eval = target_data[:-365*24]"
   ],
   "metadata": {
    "collapsed": false,
    "ExecuteTime": {
     "end_time": "2025-03-12T17:40:44.199048100Z",
     "start_time": "2025-03-12T17:40:44.189374300Z"
    }
   },
   "id": "79aaf7cd590d4383"
  },
  {
   "cell_type": "code",
   "execution_count": 17,
   "outputs": [],
   "source": [
    "# Get the months we have available for training. We need this info to make separate cases for each unique case of having \"X months\" of data in the target domain\n",
    "training_months = list(target_excl_eval.index.month.unique())"
   ],
   "metadata": {
    "collapsed": false,
    "ExecuteTime": {
     "end_time": "2025-03-12T17:40:44.229288400Z",
     "start_time": "2025-03-12T17:40:44.191392100Z"
    }
   },
   "id": "9aa969d15791db38"
  },
  {
   "cell_type": "code",
   "execution_count": 18,
   "outputs": [],
   "source": [
    "# the timestamps of the training start points for each case of having \"X months\" of data\n",
    "train_starts = []\n",
    "for i in range(len(training_months)):\n",
    "    train_start = target_excl_eval[(target_excl_eval.index.month ==training_months[i])].index[0]\n",
    "    train_starts.append(train_start)\n",
    "    \n",
    "train_starts = list(reversed(train_starts))"
   ],
   "metadata": {
    "collapsed": false,
    "ExecuteTime": {
     "end_time": "2025-03-12T17:40:44.246017700Z",
     "start_time": "2025-03-12T17:40:44.200045700Z"
    }
   },
   "id": "9a38ed6bf8227881"
  },
  {
   "cell_type": "code",
   "execution_count": 19,
   "outputs": [
    {
     "name": "stdout",
     "output_type": "stream",
     "text": [
      "torch.Size([23, 24, 3]) torch.Size([6, 24, 3]) torch.Size([364, 24, 3]) torch.Size([23, 24]) torch.Size([6, 24]) torch.Size([364, 24])\n",
      "torch.Size([48, 24, 3]) torch.Size([12, 24, 3]) torch.Size([364, 24, 3]) torch.Size([48, 24]) torch.Size([12, 24]) torch.Size([364, 24])\n",
      "torch.Size([72, 24, 3]) torch.Size([18, 24, 3]) torch.Size([364, 24, 3]) torch.Size([72, 24]) torch.Size([18, 24]) torch.Size([364, 24])\n",
      "torch.Size([97, 24, 3]) torch.Size([24, 24, 3]) torch.Size([364, 24, 3]) torch.Size([97, 24]) torch.Size([24, 24]) torch.Size([364, 24])\n",
      "torch.Size([120, 24, 3]) torch.Size([30, 24, 3]) torch.Size([364, 24, 3]) torch.Size([120, 24]) torch.Size([30, 24]) torch.Size([364, 24])\n",
      "torch.Size([145, 24, 3]) torch.Size([36, 24, 3]) torch.Size([364, 24, 3]) torch.Size([145, 24]) torch.Size([36, 24]) torch.Size([364, 24])\n",
      "torch.Size([170, 24, 3]) torch.Size([42, 24, 3]) torch.Size([364, 24, 3]) torch.Size([170, 24]) torch.Size([42, 24]) torch.Size([364, 24])\n",
      "torch.Size([194, 24, 3]) torch.Size([48, 24, 3]) torch.Size([364, 24, 3]) torch.Size([194, 24]) torch.Size([48, 24]) torch.Size([364, 24])\n",
      "torch.Size([218, 24, 3]) torch.Size([55, 24, 3]) torch.Size([364, 24, 3]) torch.Size([218, 24]) torch.Size([55, 24]) torch.Size([364, 24])\n",
      "torch.Size([242, 24, 3]) torch.Size([61, 24, 3]) torch.Size([364, 24, 3]) torch.Size([242, 24]) torch.Size([61, 24]) torch.Size([364, 24])\n",
      "torch.Size([267, 24, 3]) torch.Size([67, 24, 3]) torch.Size([364, 24, 3]) torch.Size([267, 24]) torch.Size([67, 24]) torch.Size([364, 24])\n",
      "torch.Size([292, 24, 3]) torch.Size([73, 24, 3]) torch.Size([364, 24, 3]) torch.Size([292, 24]) torch.Size([73, 24]) torch.Size([364, 24])\n"
     ]
    }
   ],
   "source": [
    "# Get the target data in lists holding all the tensors for each of the \"X months\" cases. This time with a train and test set, as well as a separate evaluation set. \n",
    "X_train_target_list = []\n",
    "X_test_target_list = []\n",
    "X_eval_target_list = []\n",
    "y_train_target_list = []\n",
    "y_test_target_list = []\n",
    "y_eval_target_list = []\n",
    "\n",
    "for i in range(len(training_months)):\n",
    "    tgt_tensors = Tensors(target_data.loc[train_starts[i]:], 'P', past_features , future_features, lags, forecast_period, gap=gap, forecast_gap=forecast_gap, evaluation_length=24*365, domain_min=domain_min, domain_max=domain_max)\n",
    "    X_train_tgt, X_test_tgt, X_eval_tgt, y_train_tgt, y_test_tgt, y_eval_tgt = tgt_tensors.create_tensor()\n",
    "    X_train_target_list.append(X_train_tgt)\n",
    "    X_test_target_list.append(X_test_tgt)\n",
    "    X_eval_target_list.append(X_eval_tgt)\n",
    "    y_train_target_list.append(y_train_tgt)\n",
    "    y_test_target_list.append(y_test_tgt)\n",
    "    y_eval_target_list.append(y_eval_tgt) \n",
    "    print(X_train_tgt.shape, X_test_tgt.shape, X_eval_tgt.shape, y_train_tgt.shape, y_test_tgt.shape, y_eval_tgt.shape)"
   ],
   "metadata": {
    "collapsed": false,
    "ExecuteTime": {
     "end_time": "2025-03-12T17:40:44.248076900Z",
     "start_time": "2025-03-12T17:40:44.210007500Z"
    }
   },
   "id": "3cdbbb4f080be078"
  },
  {
   "cell_type": "markdown",
   "source": [
    "# 5. Source model"
   ],
   "metadata": {
    "collapsed": false
   },
   "id": "3786957ed4b4b06b"
  },
  {
   "cell_type": "code",
   "execution_count": 20,
   "outputs": [
    {
     "data": {
      "text/plain": "LSTM(\n  (lstm): LSTM(3, 400, num_layers=3, batch_first=True, dropout=0.5)\n  (linear): Linear(in_features=400, out_features=24, bias=True)\n)"
     },
     "execution_count": 20,
     "metadata": {},
     "output_type": "execute_result"
    }
   ],
   "source": [
    "# Set the parameters for the lstm\n",
    "input_size = len(past_features + future_features)\n",
    "\n",
    "my_lstm = LSTM(input_size,hidden_size,num_layers, forecast_period, dropout).to(device)\n",
    "my_lstm"
   ],
   "metadata": {
    "collapsed": false,
    "ExecuteTime": {
     "end_time": "2025-03-12T17:40:44.527358800Z",
     "start_time": "2025-03-12T17:40:44.235053600Z"
    }
   },
   "id": "b5bf308c1fc0b7bb"
  },
  {
   "cell_type": "code",
   "execution_count": 21,
   "outputs": [
    {
     "name": "stdout",
     "output_type": "stream",
     "text": [
      "Step 0: Average train loss: 0.0342 | Average test loss: 0.0148\n",
      "Step 5: Average train loss: 0.0086 | Average test loss: 0.0108\n",
      "Step 10: Average train loss: 0.0080 | Average test loss: 0.0105\n",
      "Step 15: Average train loss: 0.0079 | Average test loss: 0.0103\n",
      "Step 20: Average train loss: 0.0077 | Average test loss: 0.0102\n",
      "Step 25: Average train loss: 0.0076 | Average test loss: 0.0101\n",
      "Step 30: Average train loss: 0.0075 | Average test loss: 0.0100\n",
      "Step 35: Average train loss: 0.0075 | Average test loss: 0.0099\n",
      "Step 40: Average train loss: 0.0075 | Average test loss: 0.0098\n",
      "Step 45: Average train loss: 0.0074 | Average test loss: 0.0098\n",
      "Step 50: Average train loss: 0.0073 | Average test loss: 0.0097\n",
      "Step 55: Average train loss: 0.0072 | Average test loss: 0.0097\n",
      "Step 60: Average train loss: 0.0072 | Average test loss: 0.0095\n",
      "Step 65: Average train loss: 0.0071 | Average test loss: 0.0095\n",
      "Step 70: Average train loss: 0.0071 | Average test loss: 0.0094\n",
      "Step 75: Average train loss: 0.0071 | Average test loss: 0.0093\n",
      "Step 80: Average train loss: 0.0070 | Average test loss: 0.0093\n",
      "Step 85: Average train loss: 0.0070 | Average test loss: 0.0092\n",
      "Step 90: Average train loss: 0.0070 | Average test loss: 0.0092\n",
      "Step 95: Average train loss: 0.0070 | Average test loss: 0.0092\n",
      "Step 100: Average train loss: 0.0069 | Average test loss: 0.0092\n",
      "Step 105: Average train loss: 0.0069 | Average test loss: 0.0091\n",
      "Step 110: Average train loss: 0.0069 | Average test loss: 0.0091\n",
      "Step 115: Average train loss: 0.0069 | Average test loss: 0.0091\n",
      "Step 120: Average train loss: 0.0069 | Average test loss: 0.0091\n",
      "Step 125: Average train loss: 0.0069 | Average test loss: 0.0091\n",
      "Step 130: Average train loss: 0.0068 | Average test loss: 0.0091\n",
      "Step 135: Average train loss: 0.0068 | Average test loss: 0.0091\n",
      "Step 140: Average train loss: 0.0068 | Average test loss: 0.0091\n",
      "Step 145: Average train loss: 0.0067 | Average test loss: 0.0090\n",
      "Step 150: Average train loss: 0.0068 | Average test loss: 0.0090\n",
      "Step 155: Average train loss: 0.0067 | Average test loss: 0.0089\n",
      "Step 160: Average train loss: 0.0067 | Average test loss: 0.0089\n",
      "Step 165: Average train loss: 0.0067 | Average test loss: 0.0089\n",
      "Step 170: Average train loss: 0.0066 | Average test loss: 0.0089\n",
      "Step 175: Average train loss: 0.0065 | Average test loss: 0.0088\n",
      "Step 180: Average train loss: 0.0065 | Average test loss: 0.0089\n",
      "Step 185: Average train loss: 0.0066 | Average test loss: 0.0088\n",
      "Step 190: Average train loss: 0.0065 | Average test loss: 0.0089\n",
      "Step 195: Average train loss: 0.0064 | Average test loss: 0.0088\n",
      "Best Epoch: 187\n"
     ]
    }
   ],
   "source": [
    "# Initialize the trainer\n",
    "training = Training(my_lstm, X_train_src, y_train_src, X_test_src, y_test_src, epochs,batch_size=batch_size, learning_rate=learning_rate)\n",
    "\n",
    "# Train the model and return the trained parameters and the best iteration\n",
    "state_dict_list, best_epoch = training.fit()"
   ],
   "metadata": {
    "collapsed": false,
    "ExecuteTime": {
     "end_time": "2025-03-12T17:41:53.526495300Z",
     "start_time": "2025-03-12T17:40:44.519939200Z"
    }
   },
   "id": "17feb56dd0a55ab0"
  },
  {
   "cell_type": "code",
   "execution_count": 22,
   "outputs": [],
   "source": [
    "# Load the state dictionary of the best performing model\n",
    "my_lstm.load_state_dict(state_dict_list[best_epoch])\n",
    "\n",
    "# Save the model state dictionary for later use \n",
    "save_model(my_lstm, 'AUS/' + data_name + '/model_' + data_name + '_transfer_0')"
   ],
   "metadata": {
    "collapsed": false,
    "ExecuteTime": {
     "end_time": "2025-03-12T17:41:53.569420600Z",
     "start_time": "2025-03-12T17:41:53.519747500Z"
    }
   },
   "id": "78309de0faa97b09"
  },
  {
   "cell_type": "code",
   "execution_count": 23,
   "outputs": [],
   "source": [
    "# Forecast with the model\n",
    "forecasts = my_lstm(X_test_src.to(device))\n",
    "\n",
    "# Evaluate the model performance\n",
    "source_eval = Evaluation(y_test_src.detach().flatten().numpy(), forecasts.cpu().detach().flatten().numpy())"
   ],
   "metadata": {
    "collapsed": false,
    "ExecuteTime": {
     "end_time": "2025-03-12T17:41:53.583316300Z",
     "start_time": "2025-03-12T17:41:53.553997900Z"
    }
   },
   "id": "cbc2960f198f7417"
  },
  {
   "cell_type": "markdown",
   "source": [
    "# 6. Target model"
   ],
   "metadata": {
    "collapsed": false
   },
   "id": "2ed943c74f35620"
  },
  {
   "cell_type": "code",
   "execution_count": 24,
   "outputs": [],
   "source": [
    "# Set the parameters for the lstm\n",
    "input_size = len(past_features + future_features)\n",
    "\n",
    "# Create empty models for each of the periods\n",
    "target_lstm_list = []\n",
    "\n",
    "for i in range(len(training_months)+1):\n",
    "    target_lstm_list.append(LSTM(input_size,hidden_size,num_layers, forecast_period, dropout).to(device))\n",
    "\n",
    "# The \"0 months\" case is basically random initialization of the weights, so we can already save this model as the target_0 model    \n",
    "torch.save(target_lstm_list[0].state_dict(), '../models/AUS/' + data_name + '/model_' + data_name + '_target_0')"
   ],
   "metadata": {
    "collapsed": false,
    "ExecuteTime": {
     "end_time": "2025-03-12T17:41:53.762722800Z",
     "start_time": "2025-03-12T17:41:53.575859300Z"
    }
   },
   "id": "172a0306b3cfa853"
  },
  {
   "cell_type": "code",
   "execution_count": 25,
   "outputs": [
    {
     "name": "stdout",
     "output_type": "stream",
     "text": [
      "Step 0: Average train loss: 0.0409 | Average test loss: 0.0433\n",
      "Step 5: Average train loss: 0.0356 | Average test loss: 0.0374\n",
      "Step 10: Average train loss: 0.0301 | Average test loss: 0.0308\n",
      "Step 15: Average train loss: 0.0234 | Average test loss: 0.0222\n",
      "Step 20: Average train loss: 0.0145 | Average test loss: 0.0107\n",
      "Step 25: Average train loss: 0.0130 | Average test loss: 0.0075\n",
      "Step 30: Average train loss: 0.0102 | Average test loss: 0.0068\n",
      "Step 35: Average train loss: 0.0108 | Average test loss: 0.0084\n",
      "Step 40: Average train loss: 0.0106 | Average test loss: 0.0075\n",
      "Step 45: Average train loss: 0.0106 | Average test loss: 0.0064\n",
      "Step 50: Average train loss: 0.0107 | Average test loss: 0.0063\n",
      "Step 55: Average train loss: 0.0104 | Average test loss: 0.0067\n",
      "Step 60: Average train loss: 0.0101 | Average test loss: 0.0068\n",
      "Step 65: Average train loss: 0.0104 | Average test loss: 0.0066\n",
      "Step 70: Average train loss: 0.0104 | Average test loss: 0.0064\n",
      "Step 75: Average train loss: 0.0105 | Average test loss: 0.0065\n",
      "Step 80: Average train loss: 0.0102 | Average test loss: 0.0067\n",
      "Step 85: Average train loss: 0.0100 | Average test loss: 0.0066\n",
      "Step 90: Average train loss: 0.0102 | Average test loss: 0.0065\n",
      "Step 95: Average train loss: 0.0101 | Average test loss: 0.0065\n",
      "Step 100: Average train loss: 0.0100 | Average test loss: 0.0065\n",
      "Step 105: Average train loss: 0.0103 | Average test loss: 0.0065\n",
      "Step 110: Average train loss: 0.0103 | Average test loss: 0.0065\n",
      "Step 115: Average train loss: 0.0103 | Average test loss: 0.0065\n",
      "Step 120: Average train loss: 0.0098 | Average test loss: 0.0065\n",
      "Step 125: Average train loss: 0.0102 | Average test loss: 0.0065\n",
      "Step 130: Average train loss: 0.0100 | Average test loss: 0.0065\n",
      "Step 135: Average train loss: 0.0100 | Average test loss: 0.0065\n",
      "Step 140: Average train loss: 0.0100 | Average test loss: 0.0065\n",
      "Step 145: Average train loss: 0.0103 | Average test loss: 0.0065\n",
      "Step 150: Average train loss: 0.0099 | Average test loss: 0.0065\n",
      "Step 155: Average train loss: 0.0100 | Average test loss: 0.0064\n",
      "Step 160: Average train loss: 0.0101 | Average test loss: 0.0065\n",
      "Step 165: Average train loss: 0.0103 | Average test loss: 0.0065\n",
      "Step 170: Average train loss: 0.0100 | Average test loss: 0.0064\n",
      "Step 175: Average train loss: 0.0101 | Average test loss: 0.0064\n",
      "Step 180: Average train loss: 0.0099 | Average test loss: 0.0064\n",
      "Step 185: Average train loss: 0.0099 | Average test loss: 0.0064\n",
      "Step 190: Average train loss: 0.0102 | Average test loss: 0.0064\n",
      "Step 195: Average train loss: 0.0099 | Average test loss: 0.0064\n",
      "Best Epoch: 28\n",
      "Step 0: Average train loss: 0.0469 | Average test loss: 0.0423\n",
      "Step 5: Average train loss: 0.0361 | Average test loss: 0.0313\n",
      "Step 10: Average train loss: 0.0198 | Average test loss: 0.0130\n",
      "Step 15: Average train loss: 0.0112 | Average test loss: 0.0072\n",
      "Step 20: Average train loss: 0.0112 | Average test loss: 0.0077\n",
      "Step 25: Average train loss: 0.0103 | Average test loss: 0.0073\n",
      "Step 30: Average train loss: 0.0101 | Average test loss: 0.0072\n",
      "Step 35: Average train loss: 0.0105 | Average test loss: 0.0071\n",
      "Step 40: Average train loss: 0.0104 | Average test loss: 0.0071\n",
      "Step 45: Average train loss: 0.0104 | Average test loss: 0.0071\n",
      "Step 50: Average train loss: 0.0104 | Average test loss: 0.0071\n",
      "Step 55: Average train loss: 0.0103 | Average test loss: 0.0071\n",
      "Step 60: Average train loss: 0.0103 | Average test loss: 0.0071\n",
      "Step 65: Average train loss: 0.0103 | Average test loss: 0.0071\n",
      "Step 70: Average train loss: 0.0102 | Average test loss: 0.0071\n",
      "Step 75: Average train loss: 0.0105 | Average test loss: 0.0071\n",
      "Step 80: Average train loss: 0.0103 | Average test loss: 0.0071\n",
      "Step 85: Average train loss: 0.0102 | Average test loss: 0.0071\n",
      "Step 90: Average train loss: 0.0099 | Average test loss: 0.0070\n",
      "Step 95: Average train loss: 0.0100 | Average test loss: 0.0070\n",
      "Step 100: Average train loss: 0.0098 | Average test loss: 0.0070\n",
      "Step 105: Average train loss: 0.0101 | Average test loss: 0.0070\n",
      "Step 110: Average train loss: 0.0100 | Average test loss: 0.0070\n",
      "Step 115: Average train loss: 0.0097 | Average test loss: 0.0070\n",
      "Step 120: Average train loss: 0.0099 | Average test loss: 0.0070\n",
      "Step 125: Average train loss: 0.0095 | Average test loss: 0.0070\n",
      "Step 130: Average train loss: 0.0096 | Average test loss: 0.0070\n",
      "Step 135: Average train loss: 0.0095 | Average test loss: 0.0071\n",
      "Step 140: Average train loss: 0.0092 | Average test loss: 0.0071\n",
      "Step 145: Average train loss: 0.0090 | Average test loss: 0.0071\n",
      "Step 150: Average train loss: 0.0092 | Average test loss: 0.0072\n",
      "Step 155: Average train loss: 0.0089 | Average test loss: 0.0073\n",
      "Step 160: Average train loss: 0.0094 | Average test loss: 0.0073\n",
      "Step 165: Average train loss: 0.0090 | Average test loss: 0.0073\n",
      "Step 170: Average train loss: 0.0092 | Average test loss: 0.0073\n",
      "Step 175: Average train loss: 0.0094 | Average test loss: 0.0073\n",
      "Step 180: Average train loss: 0.0090 | Average test loss: 0.0073\n",
      "Step 185: Average train loss: 0.0090 | Average test loss: 0.0073\n",
      "Step 190: Average train loss: 0.0092 | Average test loss: 0.0073\n",
      "Step 195: Average train loss: 0.0090 | Average test loss: 0.0073\n",
      "Best Epoch: 123\n",
      "Step 0: Average train loss: 0.0628 | Average test loss: 0.0480\n",
      "Step 5: Average train loss: 0.0388 | Average test loss: 0.0238\n",
      "Step 10: Average train loss: 0.0116 | Average test loss: 0.0084\n",
      "Step 15: Average train loss: 0.0124 | Average test loss: 0.0094\n",
      "Step 20: Average train loss: 0.0121 | Average test loss: 0.0084\n",
      "Step 25: Average train loss: 0.0119 | Average test loss: 0.0087\n",
      "Step 30: Average train loss: 0.0119 | Average test loss: 0.0086\n",
      "Step 35: Average train loss: 0.0116 | Average test loss: 0.0085\n",
      "Step 40: Average train loss: 0.0117 | Average test loss: 0.0087\n",
      "Step 45: Average train loss: 0.0116 | Average test loss: 0.0086\n",
      "Step 50: Average train loss: 0.0116 | Average test loss: 0.0086\n",
      "Step 55: Average train loss: 0.0115 | Average test loss: 0.0086\n",
      "Step 60: Average train loss: 0.0114 | Average test loss: 0.0086\n",
      "Step 65: Average train loss: 0.0111 | Average test loss: 0.0086\n",
      "Step 70: Average train loss: 0.0111 | Average test loss: 0.0086\n",
      "Step 75: Average train loss: 0.0109 | Average test loss: 0.0086\n",
      "Step 80: Average train loss: 0.0107 | Average test loss: 0.0087\n",
      "Step 85: Average train loss: 0.0104 | Average test loss: 0.0086\n",
      "Step 90: Average train loss: 0.0102 | Average test loss: 0.0088\n",
      "Step 95: Average train loss: 0.0100 | Average test loss: 0.0087\n",
      "Step 100: Average train loss: 0.0101 | Average test loss: 0.0087\n",
      "Step 105: Average train loss: 0.0100 | Average test loss: 0.0088\n",
      "Step 110: Average train loss: 0.0099 | Average test loss: 0.0088\n",
      "Step 115: Average train loss: 0.0101 | Average test loss: 0.0087\n",
      "Step 120: Average train loss: 0.0099 | Average test loss: 0.0088\n",
      "Step 125: Average train loss: 0.0102 | Average test loss: 0.0089\n",
      "Step 130: Average train loss: 0.0099 | Average test loss: 0.0088\n",
      "Step 135: Average train loss: 0.0098 | Average test loss: 0.0088\n",
      "Step 140: Average train loss: 0.0101 | Average test loss: 0.0088\n",
      "Step 145: Average train loss: 0.0100 | Average test loss: 0.0088\n",
      "Step 150: Average train loss: 0.0099 | Average test loss: 0.0089\n",
      "Step 155: Average train loss: 0.0100 | Average test loss: 0.0089\n",
      "Step 160: Average train loss: 0.0104 | Average test loss: 0.0089\n",
      "Step 165: Average train loss: 0.0100 | Average test loss: 0.0089\n",
      "Step 170: Average train loss: 0.0099 | Average test loss: 0.0089\n",
      "Step 175: Average train loss: 0.0101 | Average test loss: 0.0090\n",
      "Step 180: Average train loss: 0.0102 | Average test loss: 0.0089\n",
      "Step 185: Average train loss: 0.0100 | Average test loss: 0.0089\n",
      "Step 190: Average train loss: 0.0099 | Average test loss: 0.0089\n",
      "Step 195: Average train loss: 0.0099 | Average test loss: 0.0090\n",
      "Best Epoch: 19\n",
      "Step 0: Average train loss: 0.0637 | Average test loss: 0.0408\n",
      "Step 5: Average train loss: 0.0312 | Average test loss: 0.0121\n",
      "Step 10: Average train loss: 0.0167 | Average test loss: 0.0096\n",
      "Step 15: Average train loss: 0.0150 | Average test loss: 0.0104\n",
      "Step 20: Average train loss: 0.0148 | Average test loss: 0.0108\n",
      "Step 25: Average train loss: 0.0147 | Average test loss: 0.0105\n",
      "Step 30: Average train loss: 0.0149 | Average test loss: 0.0103\n",
      "Step 35: Average train loss: 0.0147 | Average test loss: 0.0103\n",
      "Step 40: Average train loss: 0.0150 | Average test loss: 0.0101\n",
      "Step 45: Average train loss: 0.0149 | Average test loss: 0.0104\n",
      "Step 50: Average train loss: 0.0149 | Average test loss: 0.0102\n",
      "Step 55: Average train loss: 0.0137 | Average test loss: 0.0098\n",
      "Step 60: Average train loss: 0.0135 | Average test loss: 0.0098\n",
      "Step 65: Average train loss: 0.0131 | Average test loss: 0.0095\n",
      "Step 70: Average train loss: 0.0128 | Average test loss: 0.0096\n",
      "Step 75: Average train loss: 0.0129 | Average test loss: 0.0096\n",
      "Step 80: Average train loss: 0.0129 | Average test loss: 0.0095\n",
      "Step 85: Average train loss: 0.0127 | Average test loss: 0.0095\n",
      "Step 90: Average train loss: 0.0126 | Average test loss: 0.0094\n",
      "Step 95: Average train loss: 0.0127 | Average test loss: 0.0094\n",
      "Step 100: Average train loss: 0.0126 | Average test loss: 0.0094\n",
      "Step 105: Average train loss: 0.0125 | Average test loss: 0.0095\n",
      "Step 110: Average train loss: 0.0122 | Average test loss: 0.0094\n",
      "Step 115: Average train loss: 0.0125 | Average test loss: 0.0095\n",
      "Step 120: Average train loss: 0.0120 | Average test loss: 0.0093\n",
      "Step 125: Average train loss: 0.0120 | Average test loss: 0.0095\n",
      "Step 130: Average train loss: 0.0118 | Average test loss: 0.0095\n",
      "Step 135: Average train loss: 0.0118 | Average test loss: 0.0095\n",
      "Step 140: Average train loss: 0.0119 | Average test loss: 0.0094\n",
      "Step 145: Average train loss: 0.0122 | Average test loss: 0.0094\n",
      "Step 150: Average train loss: 0.0118 | Average test loss: 0.0095\n",
      "Step 155: Average train loss: 0.0118 | Average test loss: 0.0096\n",
      "Step 160: Average train loss: 0.0118 | Average test loss: 0.0095\n",
      "Step 165: Average train loss: 0.0114 | Average test loss: 0.0096\n",
      "Step 170: Average train loss: 0.0115 | Average test loss: 0.0095\n",
      "Step 175: Average train loss: 0.0119 | Average test loss: 0.0096\n",
      "Step 180: Average train loss: 0.0116 | Average test loss: 0.0097\n",
      "Step 185: Average train loss: 0.0115 | Average test loss: 0.0098\n",
      "Step 190: Average train loss: 0.0114 | Average test loss: 0.0101\n",
      "Step 195: Average train loss: 0.0107 | Average test loss: 0.0098\n",
      "Best Epoch: 137\n",
      "Step 0: Average train loss: 0.0963 | Average test loss: 0.0414\n",
      "Step 5: Average train loss: 0.0459 | Average test loss: 0.0118\n",
      "Step 10: Average train loss: 0.0196 | Average test loss: 0.0183\n",
      "Step 15: Average train loss: 0.0176 | Average test loss: 0.0188\n",
      "Step 20: Average train loss: 0.0174 | Average test loss: 0.0191\n",
      "Step 25: Average train loss: 0.0175 | Average test loss: 0.0193\n",
      "Step 30: Average train loss: 0.0171 | Average test loss: 0.0192\n",
      "Step 35: Average train loss: 0.0170 | Average test loss: 0.0189\n",
      "Step 40: Average train loss: 0.0170 | Average test loss: 0.0186\n",
      "Step 45: Average train loss: 0.0168 | Average test loss: 0.0185\n",
      "Step 50: Average train loss: 0.0169 | Average test loss: 0.0180\n",
      "Step 55: Average train loss: 0.0166 | Average test loss: 0.0168\n",
      "Step 60: Average train loss: 0.0164 | Average test loss: 0.0162\n",
      "Step 65: Average train loss: 0.0163 | Average test loss: 0.0152\n",
      "Step 70: Average train loss: 0.0160 | Average test loss: 0.0141\n",
      "Step 75: Average train loss: 0.0161 | Average test loss: 0.0136\n",
      "Step 80: Average train loss: 0.0161 | Average test loss: 0.0136\n",
      "Step 85: Average train loss: 0.0158 | Average test loss: 0.0138\n",
      "Step 90: Average train loss: 0.0160 | Average test loss: 0.0139\n",
      "Step 95: Average train loss: 0.0158 | Average test loss: 0.0134\n",
      "Step 100: Average train loss: 0.0158 | Average test loss: 0.0133\n",
      "Step 105: Average train loss: 0.0159 | Average test loss: 0.0132\n",
      "Step 110: Average train loss: 0.0156 | Average test loss: 0.0133\n",
      "Step 115: Average train loss: 0.0159 | Average test loss: 0.0135\n",
      "Step 120: Average train loss: 0.0158 | Average test loss: 0.0134\n",
      "Step 125: Average train loss: 0.0159 | Average test loss: 0.0131\n",
      "Step 130: Average train loss: 0.0157 | Average test loss: 0.0133\n",
      "Step 135: Average train loss: 0.0157 | Average test loss: 0.0130\n",
      "Step 140: Average train loss: 0.0156 | Average test loss: 0.0131\n",
      "Step 145: Average train loss: 0.0155 | Average test loss: 0.0131\n",
      "Step 150: Average train loss: 0.0156 | Average test loss: 0.0130\n",
      "Step 155: Average train loss: 0.0155 | Average test loss: 0.0132\n",
      "Step 160: Average train loss: 0.0155 | Average test loss: 0.0130\n",
      "Step 165: Average train loss: 0.0155 | Average test loss: 0.0129\n",
      "Step 170: Average train loss: 0.0156 | Average test loss: 0.0131\n",
      "Step 175: Average train loss: 0.0152 | Average test loss: 0.0134\n",
      "Step 180: Average train loss: 0.0153 | Average test loss: 0.0129\n",
      "Step 185: Average train loss: 0.0153 | Average test loss: 0.0132\n",
      "Step 190: Average train loss: 0.0154 | Average test loss: 0.0131\n",
      "Step 195: Average train loss: 0.0155 | Average test loss: 0.0126\n",
      "Best Epoch: 5\n",
      "Step 0: Average train loss: 0.0980 | Average test loss: 0.0415\n",
      "Step 5: Average train loss: 0.0317 | Average test loss: 0.0350\n",
      "Step 10: Average train loss: 0.0205 | Average test loss: 0.0179\n",
      "Step 15: Average train loss: 0.0197 | Average test loss: 0.0162\n",
      "Step 20: Average train loss: 0.0193 | Average test loss: 0.0157\n",
      "Step 25: Average train loss: 0.0194 | Average test loss: 0.0155\n",
      "Step 30: Average train loss: 0.0189 | Average test loss: 0.0156\n",
      "Step 35: Average train loss: 0.0190 | Average test loss: 0.0144\n",
      "Step 40: Average train loss: 0.0185 | Average test loss: 0.0131\n",
      "Step 45: Average train loss: 0.0180 | Average test loss: 0.0120\n",
      "Step 50: Average train loss: 0.0179 | Average test loss: 0.0107\n",
      "Step 55: Average train loss: 0.0177 | Average test loss: 0.0104\n",
      "Step 60: Average train loss: 0.0176 | Average test loss: 0.0101\n",
      "Step 65: Average train loss: 0.0176 | Average test loss: 0.0102\n",
      "Step 70: Average train loss: 0.0176 | Average test loss: 0.0099\n",
      "Step 75: Average train loss: 0.0173 | Average test loss: 0.0100\n",
      "Step 80: Average train loss: 0.0175 | Average test loss: 0.0099\n",
      "Step 85: Average train loss: 0.0173 | Average test loss: 0.0098\n",
      "Step 90: Average train loss: 0.0173 | Average test loss: 0.0097\n",
      "Step 95: Average train loss: 0.0172 | Average test loss: 0.0093\n",
      "Step 100: Average train loss: 0.0173 | Average test loss: 0.0092\n",
      "Step 105: Average train loss: 0.0170 | Average test loss: 0.0094\n",
      "Step 110: Average train loss: 0.0172 | Average test loss: 0.0095\n",
      "Step 115: Average train loss: 0.0171 | Average test loss: 0.0095\n",
      "Step 120: Average train loss: 0.0172 | Average test loss: 0.0095\n",
      "Step 125: Average train loss: 0.0170 | Average test loss: 0.0096\n",
      "Step 130: Average train loss: 0.0172 | Average test loss: 0.0093\n",
      "Step 135: Average train loss: 0.0171 | Average test loss: 0.0093\n",
      "Step 140: Average train loss: 0.0173 | Average test loss: 0.0094\n",
      "Step 145: Average train loss: 0.0169 | Average test loss: 0.0095\n",
      "Step 150: Average train loss: 0.0172 | Average test loss: 0.0091\n",
      "Step 155: Average train loss: 0.0168 | Average test loss: 0.0089\n",
      "Step 160: Average train loss: 0.0169 | Average test loss: 0.0089\n",
      "Step 165: Average train loss: 0.0170 | Average test loss: 0.0090\n",
      "Step 170: Average train loss: 0.0168 | Average test loss: 0.0089\n",
      "Step 175: Average train loss: 0.0167 | Average test loss: 0.0087\n",
      "Step 180: Average train loss: 0.0169 | Average test loss: 0.0095\n",
      "Step 185: Average train loss: 0.0164 | Average test loss: 0.0090\n",
      "Step 190: Average train loss: 0.0166 | Average test loss: 0.0088\n",
      "Step 195: Average train loss: 0.0167 | Average test loss: 0.0093\n",
      "Best Epoch: 188\n",
      "Step 0: Average train loss: 0.0919 | Average test loss: 0.0368\n",
      "Step 5: Average train loss: 0.0207 | Average test loss: 0.0147\n",
      "Step 10: Average train loss: 0.0202 | Average test loss: 0.0191\n",
      "Step 15: Average train loss: 0.0198 | Average test loss: 0.0213\n",
      "Step 20: Average train loss: 0.0195 | Average test loss: 0.0206\n",
      "Step 25: Average train loss: 0.0197 | Average test loss: 0.0199\n",
      "Step 30: Average train loss: 0.0192 | Average test loss: 0.0195\n",
      "Step 35: Average train loss: 0.0189 | Average test loss: 0.0180\n",
      "Step 40: Average train loss: 0.0186 | Average test loss: 0.0162\n",
      "Step 45: Average train loss: 0.0184 | Average test loss: 0.0157\n",
      "Step 50: Average train loss: 0.0183 | Average test loss: 0.0155\n",
      "Step 55: Average train loss: 0.0185 | Average test loss: 0.0152\n",
      "Step 60: Average train loss: 0.0182 | Average test loss: 0.0151\n",
      "Step 65: Average train loss: 0.0182 | Average test loss: 0.0150\n",
      "Step 70: Average train loss: 0.0182 | Average test loss: 0.0149\n",
      "Step 75: Average train loss: 0.0181 | Average test loss: 0.0145\n",
      "Step 80: Average train loss: 0.0178 | Average test loss: 0.0145\n",
      "Step 85: Average train loss: 0.0179 | Average test loss: 0.0141\n",
      "Step 90: Average train loss: 0.0179 | Average test loss: 0.0142\n",
      "Step 95: Average train loss: 0.0178 | Average test loss: 0.0139\n",
      "Step 100: Average train loss: 0.0178 | Average test loss: 0.0133\n",
      "Step 105: Average train loss: 0.0177 | Average test loss: 0.0133\n",
      "Step 110: Average train loss: 0.0178 | Average test loss: 0.0135\n",
      "Step 115: Average train loss: 0.0174 | Average test loss: 0.0135\n",
      "Step 120: Average train loss: 0.0174 | Average test loss: 0.0131\n",
      "Step 125: Average train loss: 0.0173 | Average test loss: 0.0133\n",
      "Step 130: Average train loss: 0.0174 | Average test loss: 0.0130\n",
      "Step 135: Average train loss: 0.0173 | Average test loss: 0.0127\n",
      "Step 140: Average train loss: 0.0172 | Average test loss: 0.0127\n",
      "Step 145: Average train loss: 0.0168 | Average test loss: 0.0125\n",
      "Step 150: Average train loss: 0.0169 | Average test loss: 0.0128\n",
      "Step 155: Average train loss: 0.0171 | Average test loss: 0.0130\n",
      "Step 160: Average train loss: 0.0171 | Average test loss: 0.0129\n",
      "Step 165: Average train loss: 0.0169 | Average test loss: 0.0126\n",
      "Step 170: Average train loss: 0.0170 | Average test loss: 0.0128\n",
      "Step 175: Average train loss: 0.0167 | Average test loss: 0.0127\n",
      "Step 180: Average train loss: 0.0168 | Average test loss: 0.0124\n",
      "Step 185: Average train loss: 0.0168 | Average test loss: 0.0121\n",
      "Step 190: Average train loss: 0.0169 | Average test loss: 0.0124\n",
      "Step 195: Average train loss: 0.0168 | Average test loss: 0.0126\n",
      "Best Epoch: 198\n",
      "Step 0: Average train loss: 0.1014 | Average test loss: 0.0414\n",
      "Step 5: Average train loss: 0.0233 | Average test loss: 0.0168\n",
      "Step 10: Average train loss: 0.0211 | Average test loss: 0.0198\n",
      "Step 15: Average train loss: 0.0209 | Average test loss: 0.0198\n",
      "Step 20: Average train loss: 0.0209 | Average test loss: 0.0189\n",
      "Step 25: Average train loss: 0.0203 | Average test loss: 0.0182\n",
      "Step 30: Average train loss: 0.0199 | Average test loss: 0.0159\n",
      "Step 35: Average train loss: 0.0197 | Average test loss: 0.0152\n",
      "Step 40: Average train loss: 0.0198 | Average test loss: 0.0152\n",
      "Step 45: Average train loss: 0.0195 | Average test loss: 0.0150\n",
      "Step 50: Average train loss: 0.0193 | Average test loss: 0.0144\n",
      "Step 55: Average train loss: 0.0194 | Average test loss: 0.0150\n",
      "Step 60: Average train loss: 0.0195 | Average test loss: 0.0141\n",
      "Step 65: Average train loss: 0.0192 | Average test loss: 0.0138\n",
      "Step 70: Average train loss: 0.0192 | Average test loss: 0.0138\n",
      "Step 75: Average train loss: 0.0191 | Average test loss: 0.0141\n",
      "Step 80: Average train loss: 0.0189 | Average test loss: 0.0135\n",
      "Step 85: Average train loss: 0.0190 | Average test loss: 0.0133\n",
      "Step 90: Average train loss: 0.0187 | Average test loss: 0.0127\n",
      "Step 95: Average train loss: 0.0187 | Average test loss: 0.0122\n",
      "Step 100: Average train loss: 0.0188 | Average test loss: 0.0123\n",
      "Step 105: Average train loss: 0.0184 | Average test loss: 0.0124\n",
      "Step 110: Average train loss: 0.0186 | Average test loss: 0.0125\n",
      "Step 115: Average train loss: 0.0187 | Average test loss: 0.0119\n",
      "Step 120: Average train loss: 0.0184 | Average test loss: 0.0115\n",
      "Step 125: Average train loss: 0.0182 | Average test loss: 0.0117\n",
      "Step 130: Average train loss: 0.0183 | Average test loss: 0.0118\n",
      "Step 135: Average train loss: 0.0183 | Average test loss: 0.0122\n",
      "Step 140: Average train loss: 0.0184 | Average test loss: 0.0118\n",
      "Step 145: Average train loss: 0.0182 | Average test loss: 0.0114\n",
      "Step 150: Average train loss: 0.0180 | Average test loss: 0.0118\n",
      "Step 155: Average train loss: 0.0181 | Average test loss: 0.0120\n",
      "Step 160: Average train loss: 0.0184 | Average test loss: 0.0117\n",
      "Step 165: Average train loss: 0.0179 | Average test loss: 0.0112\n",
      "Step 170: Average train loss: 0.0179 | Average test loss: 0.0119\n",
      "Step 175: Average train loss: 0.0181 | Average test loss: 0.0119\n",
      "Step 180: Average train loss: 0.0180 | Average test loss: 0.0115\n",
      "Step 185: Average train loss: 0.0182 | Average test loss: 0.0118\n",
      "Step 190: Average train loss: 0.0177 | Average test loss: 0.0113\n",
      "Step 195: Average train loss: 0.0180 | Average test loss: 0.0114\n",
      "Best Epoch: 184\n",
      "Step 0: Average train loss: 0.1028 | Average test loss: 0.0414\n",
      "Step 5: Average train loss: 0.0255 | Average test loss: 0.0186\n",
      "Step 10: Average train loss: 0.0233 | Average test loss: 0.0223\n",
      "Step 15: Average train loss: 0.0230 | Average test loss: 0.0217\n",
      "Step 20: Average train loss: 0.0227 | Average test loss: 0.0201\n",
      "Step 25: Average train loss: 0.0216 | Average test loss: 0.0180\n",
      "Step 30: Average train loss: 0.0212 | Average test loss: 0.0155\n",
      "Step 35: Average train loss: 0.0209 | Average test loss: 0.0153\n",
      "Step 40: Average train loss: 0.0210 | Average test loss: 0.0152\n",
      "Step 45: Average train loss: 0.0209 | Average test loss: 0.0153\n",
      "Step 50: Average train loss: 0.0208 | Average test loss: 0.0153\n",
      "Step 55: Average train loss: 0.0209 | Average test loss: 0.0148\n",
      "Step 60: Average train loss: 0.0207 | Average test loss: 0.0147\n",
      "Step 65: Average train loss: 0.0208 | Average test loss: 0.0146\n",
      "Step 70: Average train loss: 0.0210 | Average test loss: 0.0146\n",
      "Step 75: Average train loss: 0.0206 | Average test loss: 0.0143\n",
      "Step 80: Average train loss: 0.0203 | Average test loss: 0.0142\n",
      "Step 85: Average train loss: 0.0207 | Average test loss: 0.0142\n",
      "Step 90: Average train loss: 0.0207 | Average test loss: 0.0138\n",
      "Step 95: Average train loss: 0.0201 | Average test loss: 0.0134\n",
      "Step 100: Average train loss: 0.0205 | Average test loss: 0.0137\n",
      "Step 105: Average train loss: 0.0205 | Average test loss: 0.0135\n",
      "Step 110: Average train loss: 0.0202 | Average test loss: 0.0132\n",
      "Step 115: Average train loss: 0.0203 | Average test loss: 0.0132\n",
      "Step 120: Average train loss: 0.0204 | Average test loss: 0.0129\n",
      "Step 125: Average train loss: 0.0203 | Average test loss: 0.0129\n",
      "Step 130: Average train loss: 0.0202 | Average test loss: 0.0130\n",
      "Step 135: Average train loss: 0.0198 | Average test loss: 0.0126\n",
      "Step 140: Average train loss: 0.0201 | Average test loss: 0.0127\n",
      "Step 145: Average train loss: 0.0202 | Average test loss: 0.0126\n",
      "Step 150: Average train loss: 0.0201 | Average test loss: 0.0128\n",
      "Step 155: Average train loss: 0.0198 | Average test loss: 0.0124\n",
      "Step 160: Average train loss: 0.0200 | Average test loss: 0.0124\n",
      "Step 165: Average train loss: 0.0197 | Average test loss: 0.0126\n",
      "Step 170: Average train loss: 0.0200 | Average test loss: 0.0125\n",
      "Step 175: Average train loss: 0.0200 | Average test loss: 0.0127\n",
      "Step 180: Average train loss: 0.0201 | Average test loss: 0.0123\n",
      "Step 185: Average train loss: 0.0198 | Average test loss: 0.0125\n",
      "Step 190: Average train loss: 0.0199 | Average test loss: 0.0125\n",
      "Step 195: Average train loss: 0.0199 | Average test loss: 0.0124\n",
      "Best Epoch: 197\n",
      "Step 0: Average train loss: 0.1009 | Average test loss: 0.0420\n",
      "Step 5: Average train loss: 0.0263 | Average test loss: 0.0244\n",
      "Step 10: Average train loss: 0.0238 | Average test loss: 0.0198\n",
      "Step 15: Average train loss: 0.0235 | Average test loss: 0.0199\n",
      "Step 20: Average train loss: 0.0228 | Average test loss: 0.0185\n",
      "Step 25: Average train loss: 0.0217 | Average test loss: 0.0158\n",
      "Step 30: Average train loss: 0.0217 | Average test loss: 0.0145\n",
      "Step 35: Average train loss: 0.0216 | Average test loss: 0.0144\n",
      "Step 40: Average train loss: 0.0215 | Average test loss: 0.0142\n",
      "Step 45: Average train loss: 0.0216 | Average test loss: 0.0141\n",
      "Step 50: Average train loss: 0.0217 | Average test loss: 0.0142\n",
      "Step 55: Average train loss: 0.0215 | Average test loss: 0.0139\n",
      "Step 60: Average train loss: 0.0213 | Average test loss: 0.0137\n",
      "Step 65: Average train loss: 0.0213 | Average test loss: 0.0137\n",
      "Step 70: Average train loss: 0.0212 | Average test loss: 0.0135\n",
      "Step 75: Average train loss: 0.0216 | Average test loss: 0.0137\n",
      "Step 80: Average train loss: 0.0211 | Average test loss: 0.0136\n",
      "Step 85: Average train loss: 0.0212 | Average test loss: 0.0134\n",
      "Step 90: Average train loss: 0.0214 | Average test loss: 0.0134\n",
      "Step 95: Average train loss: 0.0212 | Average test loss: 0.0130\n",
      "Step 100: Average train loss: 0.0213 | Average test loss: 0.0130\n",
      "Step 105: Average train loss: 0.0211 | Average test loss: 0.0132\n",
      "Step 110: Average train loss: 0.0210 | Average test loss: 0.0128\n",
      "Step 115: Average train loss: 0.0209 | Average test loss: 0.0128\n",
      "Step 120: Average train loss: 0.0211 | Average test loss: 0.0127\n",
      "Step 125: Average train loss: 0.0209 | Average test loss: 0.0122\n",
      "Step 130: Average train loss: 0.0207 | Average test loss: 0.0123\n",
      "Step 135: Average train loss: 0.0208 | Average test loss: 0.0121\n",
      "Step 140: Average train loss: 0.0206 | Average test loss: 0.0122\n",
      "Step 145: Average train loss: 0.0207 | Average test loss: 0.0122\n",
      "Step 150: Average train loss: 0.0205 | Average test loss: 0.0120\n",
      "Step 155: Average train loss: 0.0205 | Average test loss: 0.0122\n",
      "Step 160: Average train loss: 0.0206 | Average test loss: 0.0121\n",
      "Step 165: Average train loss: 0.0204 | Average test loss: 0.0120\n",
      "Step 170: Average train loss: 0.0203 | Average test loss: 0.0118\n",
      "Step 175: Average train loss: 0.0205 | Average test loss: 0.0118\n",
      "Step 180: Average train loss: 0.0202 | Average test loss: 0.0119\n",
      "Step 185: Average train loss: 0.0203 | Average test loss: 0.0118\n",
      "Step 190: Average train loss: 0.0203 | Average test loss: 0.0118\n",
      "Step 195: Average train loss: 0.0202 | Average test loss: 0.0118\n",
      "Best Epoch: 193\n",
      "Step 0: Average train loss: 0.1067 | Average test loss: 0.0493\n",
      "Step 5: Average train loss: 0.0247 | Average test loss: 0.0188\n",
      "Step 10: Average train loss: 0.0235 | Average test loss: 0.0160\n",
      "Step 15: Average train loss: 0.0230 | Average test loss: 0.0155\n",
      "Step 20: Average train loss: 0.0225 | Average test loss: 0.0142\n",
      "Step 25: Average train loss: 0.0216 | Average test loss: 0.0118\n",
      "Step 30: Average train loss: 0.0214 | Average test loss: 0.0114\n",
      "Step 35: Average train loss: 0.0212 | Average test loss: 0.0114\n",
      "Step 40: Average train loss: 0.0214 | Average test loss: 0.0112\n",
      "Step 45: Average train loss: 0.0215 | Average test loss: 0.0112\n",
      "Step 50: Average train loss: 0.0212 | Average test loss: 0.0111\n",
      "Step 55: Average train loss: 0.0212 | Average test loss: 0.0111\n",
      "Step 60: Average train loss: 0.0212 | Average test loss: 0.0108\n",
      "Step 65: Average train loss: 0.0210 | Average test loss: 0.0109\n",
      "Step 70: Average train loss: 0.0211 | Average test loss: 0.0107\n",
      "Step 75: Average train loss: 0.0211 | Average test loss: 0.0106\n",
      "Step 80: Average train loss: 0.0208 | Average test loss: 0.0103\n",
      "Step 85: Average train loss: 0.0207 | Average test loss: 0.0102\n",
      "Step 90: Average train loss: 0.0209 | Average test loss: 0.0103\n",
      "Step 95: Average train loss: 0.0207 | Average test loss: 0.0102\n",
      "Step 100: Average train loss: 0.0211 | Average test loss: 0.0101\n",
      "Step 105: Average train loss: 0.0208 | Average test loss: 0.0099\n",
      "Step 110: Average train loss: 0.0206 | Average test loss: 0.0097\n",
      "Step 115: Average train loss: 0.0204 | Average test loss: 0.0098\n",
      "Step 120: Average train loss: 0.0205 | Average test loss: 0.0097\n",
      "Step 125: Average train loss: 0.0206 | Average test loss: 0.0096\n",
      "Step 130: Average train loss: 0.0204 | Average test loss: 0.0096\n",
      "Step 135: Average train loss: 0.0201 | Average test loss: 0.0095\n",
      "Step 140: Average train loss: 0.0200 | Average test loss: 0.0094\n",
      "Step 145: Average train loss: 0.0201 | Average test loss: 0.0096\n",
      "Step 150: Average train loss: 0.0200 | Average test loss: 0.0096\n",
      "Step 155: Average train loss: 0.0200 | Average test loss: 0.0092\n",
      "Step 160: Average train loss: 0.0200 | Average test loss: 0.0093\n",
      "Step 165: Average train loss: 0.0202 | Average test loss: 0.0095\n",
      "Step 170: Average train loss: 0.0202 | Average test loss: 0.0096\n",
      "Step 175: Average train loss: 0.0199 | Average test loss: 0.0096\n",
      "Step 180: Average train loss: 0.0198 | Average test loss: 0.0094\n",
      "Step 185: Average train loss: 0.0201 | Average test loss: 0.0093\n",
      "Step 190: Average train loss: 0.0198 | Average test loss: 0.0092\n",
      "Step 195: Average train loss: 0.0198 | Average test loss: 0.0092\n",
      "Best Epoch: 193\n",
      "Step 0: Average train loss: 0.0898 | Average test loss: 0.0396\n",
      "Step 5: Average train loss: 0.0243 | Average test loss: 0.0188\n",
      "Step 10: Average train loss: 0.0241 | Average test loss: 0.0174\n",
      "Step 15: Average train loss: 0.0236 | Average test loss: 0.0171\n",
      "Step 20: Average train loss: 0.0229 | Average test loss: 0.0159\n",
      "Step 25: Average train loss: 0.0218 | Average test loss: 0.0139\n",
      "Step 30: Average train loss: 0.0221 | Average test loss: 0.0127\n",
      "Step 35: Average train loss: 0.0215 | Average test loss: 0.0128\n",
      "Step 40: Average train loss: 0.0214 | Average test loss: 0.0125\n",
      "Step 45: Average train loss: 0.0213 | Average test loss: 0.0123\n",
      "Step 50: Average train loss: 0.0213 | Average test loss: 0.0123\n",
      "Step 55: Average train loss: 0.0212 | Average test loss: 0.0122\n",
      "Step 60: Average train loss: 0.0211 | Average test loss: 0.0121\n",
      "Step 65: Average train loss: 0.0212 | Average test loss: 0.0118\n",
      "Step 70: Average train loss: 0.0210 | Average test loss: 0.0119\n",
      "Step 75: Average train loss: 0.0214 | Average test loss: 0.0118\n",
      "Step 80: Average train loss: 0.0210 | Average test loss: 0.0116\n",
      "Step 85: Average train loss: 0.0208 | Average test loss: 0.0114\n",
      "Step 90: Average train loss: 0.0207 | Average test loss: 0.0114\n",
      "Step 95: Average train loss: 0.0206 | Average test loss: 0.0115\n",
      "Step 100: Average train loss: 0.0204 | Average test loss: 0.0111\n",
      "Step 105: Average train loss: 0.0206 | Average test loss: 0.0111\n",
      "Step 110: Average train loss: 0.0205 | Average test loss: 0.0110\n",
      "Step 115: Average train loss: 0.0203 | Average test loss: 0.0108\n",
      "Step 120: Average train loss: 0.0204 | Average test loss: 0.0108\n",
      "Step 125: Average train loss: 0.0203 | Average test loss: 0.0112\n",
      "Step 130: Average train loss: 0.0202 | Average test loss: 0.0111\n",
      "Step 135: Average train loss: 0.0201 | Average test loss: 0.0110\n",
      "Step 140: Average train loss: 0.0202 | Average test loss: 0.0110\n",
      "Step 145: Average train loss: 0.0199 | Average test loss: 0.0109\n",
      "Step 150: Average train loss: 0.0199 | Average test loss: 0.0110\n",
      "Step 155: Average train loss: 0.0199 | Average test loss: 0.0111\n",
      "Step 160: Average train loss: 0.0200 | Average test loss: 0.0109\n",
      "Step 165: Average train loss: 0.0201 | Average test loss: 0.0109\n",
      "Step 170: Average train loss: 0.0200 | Average test loss: 0.0107\n",
      "Step 175: Average train loss: 0.0197 | Average test loss: 0.0106\n",
      "Step 180: Average train loss: 0.0197 | Average test loss: 0.0106\n",
      "Step 185: Average train loss: 0.0197 | Average test loss: 0.0105\n",
      "Step 190: Average train loss: 0.0198 | Average test loss: 0.0107\n",
      "Step 195: Average train loss: 0.0199 | Average test loss: 0.0107\n",
      "Best Epoch: 185\n"
     ]
    }
   ],
   "source": [
    "# Keep track of the best performing iteration\n",
    "target_best_epochs = [0]\n",
    "\n",
    "for i in range(len(training_months)):\n",
    "    # Initialize the trainer\n",
    "    training = Training(target_lstm_list[i+1], X_train_target_list[i], y_train_target_list[i], X_test_target_list[i], y_test_target_list[i], epochs, learning_rate=learning_rate)\n",
    "\n",
    "    # Train the model and return the trained parameters and the best iteration\n",
    "    state_dict_list, best_epoch = training.fit()\n",
    "    \n",
    "    # Load the state dictionary of the best performing model\n",
    "    target_lstm_list[i+1].load_state_dict(state_dict_list[best_epoch])\n",
    "    target_best_epochs.append(best_epoch)"
   ],
   "metadata": {
    "collapsed": false,
    "ExecuteTime": {
     "end_time": "2025-03-12T17:43:17.998496500Z",
     "start_time": "2025-03-12T17:41:53.765670800Z"
    }
   },
   "id": "a707dd96e1a14b7f"
  },
  {
   "cell_type": "code",
   "execution_count": 26,
   "outputs": [],
   "source": [
    "# Maintain lists with all three evaluation metrics used in the paper\n",
    "target_RMSEs = []\n",
    "target_MBEs = []\n",
    "target_MAEs = []\n",
    "\n",
    "# Evaluate a clean model\n",
    "forecasts = target_lstm_list[0](X_eval_target_list[0].to(device))\n",
    "source_eval = Evaluation(y_eval_target_list[0].detach().flatten().numpy(), forecasts.cpu().detach().flatten().numpy())\n",
    "\n",
    "target_RMSEs.append(source_eval.metrics()['RMSE'].values[0])\n",
    "target_MBEs.append(source_eval.metrics()['MBE'].values[0])\n",
    "target_MAEs.append(source_eval.metrics()['MAE'].values[0])\n",
    "\n",
    "for i in range(len(training_months)):\n",
    "    # Forecast with the model\n",
    "    forecasts = target_lstm_list[i+1](X_eval_target_list[i].to(device))\n",
    "    # Evaluate the model performance\n",
    "    source_eval = Evaluation(y_eval_target_list[i].detach().flatten().numpy(), forecasts.cpu().detach().flatten().numpy())\n",
    "\n",
    "    # Append the evaluation metrics\n",
    "    target_RMSEs.append(source_eval.metrics()['RMSE'].values[0])\n",
    "    target_MBEs.append(source_eval.metrics()['MBE'].values[0])\n",
    "    target_MAEs.append(source_eval.metrics()['MAE'].values[0])"
   ],
   "metadata": {
    "collapsed": false,
    "ExecuteTime": {
     "end_time": "2025-03-12T17:43:26.836967500Z",
     "start_time": "2025-03-12T17:43:17.998496500Z"
    }
   },
   "id": "de0660e76f1cde60"
  },
  {
   "cell_type": "markdown",
   "source": [
    "# 7. Transfer model"
   ],
   "metadata": {
    "collapsed": false
   },
   "id": "ee1aa75c7d725d84"
  },
  {
   "cell_type": "code",
   "execution_count": 27,
   "outputs": [
    {
     "data": {
      "text/plain": "['weight_ih_l0', 'weight_hh_l0', 'bias_ih_l0', 'bias_hh_l0']"
     },
     "execution_count": 27,
     "metadata": {},
     "output_type": "execute_result"
    }
   ],
   "source": [
    "# We freeze the weights and biases of the first layer\n",
    "freezing = []\n",
    "\n",
    "for name, _ in my_lstm.lstm.named_parameters():\n",
    "    freezing.append(name)\n",
    "    \n",
    "freezing = freezing[:4]\n",
    "freezing"
   ],
   "metadata": {
    "collapsed": false,
    "ExecuteTime": {
     "end_time": "2025-03-12T17:43:26.848368100Z",
     "start_time": "2025-03-12T17:43:26.837967100Z"
    }
   },
   "id": "5a1ee9bd9bff6639"
  },
  {
   "cell_type": "code",
   "execution_count": 28,
   "outputs": [
    {
     "name": "stdout",
     "output_type": "stream",
     "text": [
      "Step 0: Average train loss: 0.0140 | Average test loss: 0.0111\n",
      "Step 5: Average train loss: 0.0137 | Average test loss: 0.0106\n",
      "Step 10: Average train loss: 0.0131 | Average test loss: 0.0101\n",
      "Step 15: Average train loss: 0.0127 | Average test loss: 0.0098\n",
      "Step 20: Average train loss: 0.0121 | Average test loss: 0.0094\n",
      "Step 25: Average train loss: 0.0115 | Average test loss: 0.0092\n",
      "Step 30: Average train loss: 0.0116 | Average test loss: 0.0089\n",
      "Step 35: Average train loss: 0.0114 | Average test loss: 0.0087\n",
      "Step 40: Average train loss: 0.0111 | Average test loss: 0.0085\n",
      "Step 45: Average train loss: 0.0110 | Average test loss: 0.0084\n",
      "Step 50: Average train loss: 0.0108 | Average test loss: 0.0082\n",
      "Step 55: Average train loss: 0.0109 | Average test loss: 0.0081\n",
      "Step 60: Average train loss: 0.0107 | Average test loss: 0.0080\n",
      "Step 65: Average train loss: 0.0104 | Average test loss: 0.0080\n",
      "Step 70: Average train loss: 0.0097 | Average test loss: 0.0079\n",
      "Step 75: Average train loss: 0.0100 | Average test loss: 0.0079\n",
      "Step 80: Average train loss: 0.0097 | Average test loss: 0.0078\n",
      "Step 85: Average train loss: 0.0101 | Average test loss: 0.0078\n",
      "Step 90: Average train loss: 0.0095 | Average test loss: 0.0077\n",
      "Step 95: Average train loss: 0.0099 | Average test loss: 0.0077\n",
      "Step 100: Average train loss: 0.0094 | Average test loss: 0.0077\n",
      "Step 105: Average train loss: 0.0100 | Average test loss: 0.0077\n",
      "Step 110: Average train loss: 0.0096 | Average test loss: 0.0077\n",
      "Step 115: Average train loss: 0.0094 | Average test loss: 0.0077\n",
      "Step 120: Average train loss: 0.0096 | Average test loss: 0.0077\n",
      "Step 125: Average train loss: 0.0090 | Average test loss: 0.0077\n",
      "Step 130: Average train loss: 0.0097 | Average test loss: 0.0077\n",
      "Step 135: Average train loss: 0.0091 | Average test loss: 0.0077\n",
      "Step 140: Average train loss: 0.0087 | Average test loss: 0.0077\n",
      "Step 145: Average train loss: 0.0089 | Average test loss: 0.0077\n",
      "Step 150: Average train loss: 0.0091 | Average test loss: 0.0077\n",
      "Step 155: Average train loss: 0.0095 | Average test loss: 0.0077\n",
      "Step 160: Average train loss: 0.0091 | Average test loss: 0.0077\n",
      "Step 165: Average train loss: 0.0092 | Average test loss: 0.0077\n",
      "Step 170: Average train loss: 0.0085 | Average test loss: 0.0077\n",
      "Step 175: Average train loss: 0.0089 | Average test loss: 0.0077\n",
      "Step 180: Average train loss: 0.0090 | Average test loss: 0.0077\n",
      "Step 185: Average train loss: 0.0087 | Average test loss: 0.0077\n",
      "Step 190: Average train loss: 0.0094 | Average test loss: 0.0077\n",
      "Step 195: Average train loss: 0.0094 | Average test loss: 0.0077\n",
      "Best Epoch: 129\n",
      "Step 0: Average train loss: 0.0126 | Average test loss: 0.0112\n",
      "Step 5: Average train loss: 0.0117 | Average test loss: 0.0104\n",
      "Step 10: Average train loss: 0.0110 | Average test loss: 0.0099\n",
      "Step 15: Average train loss: 0.0110 | Average test loss: 0.0094\n",
      "Step 20: Average train loss: 0.0103 | Average test loss: 0.0090\n",
      "Step 25: Average train loss: 0.0100 | Average test loss: 0.0087\n",
      "Step 30: Average train loss: 0.0102 | Average test loss: 0.0085\n",
      "Step 35: Average train loss: 0.0099 | Average test loss: 0.0083\n",
      "Step 40: Average train loss: 0.0097 | Average test loss: 0.0082\n",
      "Step 45: Average train loss: 0.0097 | Average test loss: 0.0081\n",
      "Step 50: Average train loss: 0.0097 | Average test loss: 0.0080\n",
      "Step 55: Average train loss: 0.0095 | Average test loss: 0.0079\n",
      "Step 60: Average train loss: 0.0095 | Average test loss: 0.0079\n",
      "Step 65: Average train loss: 0.0095 | Average test loss: 0.0078\n",
      "Step 70: Average train loss: 0.0093 | Average test loss: 0.0078\n",
      "Step 75: Average train loss: 0.0092 | Average test loss: 0.0077\n",
      "Step 80: Average train loss: 0.0091 | Average test loss: 0.0077\n",
      "Step 85: Average train loss: 0.0088 | Average test loss: 0.0077\n",
      "Step 90: Average train loss: 0.0091 | Average test loss: 0.0077\n",
      "Step 95: Average train loss: 0.0089 | Average test loss: 0.0077\n",
      "Step 100: Average train loss: 0.0088 | Average test loss: 0.0077\n",
      "Step 105: Average train loss: 0.0093 | Average test loss: 0.0076\n",
      "Step 110: Average train loss: 0.0093 | Average test loss: 0.0076\n",
      "Step 115: Average train loss: 0.0088 | Average test loss: 0.0076\n",
      "Step 120: Average train loss: 0.0088 | Average test loss: 0.0076\n",
      "Step 125: Average train loss: 0.0089 | Average test loss: 0.0076\n",
      "Step 130: Average train loss: 0.0087 | Average test loss: 0.0076\n",
      "Step 135: Average train loss: 0.0084 | Average test loss: 0.0076\n",
      "Step 140: Average train loss: 0.0088 | Average test loss: 0.0076\n",
      "Step 145: Average train loss: 0.0088 | Average test loss: 0.0076\n",
      "Step 150: Average train loss: 0.0086 | Average test loss: 0.0076\n",
      "Step 155: Average train loss: 0.0085 | Average test loss: 0.0076\n",
      "Step 160: Average train loss: 0.0090 | Average test loss: 0.0076\n",
      "Step 165: Average train loss: 0.0086 | Average test loss: 0.0076\n",
      "Step 170: Average train loss: 0.0087 | Average test loss: 0.0076\n",
      "Step 175: Average train loss: 0.0089 | Average test loss: 0.0076\n",
      "Step 180: Average train loss: 0.0087 | Average test loss: 0.0076\n",
      "Step 185: Average train loss: 0.0087 | Average test loss: 0.0076\n",
      "Step 190: Average train loss: 0.0088 | Average test loss: 0.0076\n",
      "Step 195: Average train loss: 0.0083 | Average test loss: 0.0076\n",
      "Best Epoch: 187\n",
      "Step 0: Average train loss: 0.0123 | Average test loss: 0.0123\n",
      "Step 5: Average train loss: 0.0116 | Average test loss: 0.0117\n",
      "Step 10: Average train loss: 0.0107 | Average test loss: 0.0113\n",
      "Step 15: Average train loss: 0.0104 | Average test loss: 0.0109\n",
      "Step 20: Average train loss: 0.0104 | Average test loss: 0.0108\n",
      "Step 25: Average train loss: 0.0098 | Average test loss: 0.0107\n",
      "Step 30: Average train loss: 0.0101 | Average test loss: 0.0106\n",
      "Step 35: Average train loss: 0.0096 | Average test loss: 0.0105\n",
      "Step 40: Average train loss: 0.0099 | Average test loss: 0.0105\n",
      "Step 45: Average train loss: 0.0094 | Average test loss: 0.0105\n",
      "Step 50: Average train loss: 0.0099 | Average test loss: 0.0104\n",
      "Step 55: Average train loss: 0.0093 | Average test loss: 0.0104\n",
      "Step 60: Average train loss: 0.0098 | Average test loss: 0.0104\n",
      "Step 65: Average train loss: 0.0092 | Average test loss: 0.0105\n",
      "Step 70: Average train loss: 0.0095 | Average test loss: 0.0105\n",
      "Step 75: Average train loss: 0.0095 | Average test loss: 0.0104\n",
      "Step 80: Average train loss: 0.0095 | Average test loss: 0.0105\n",
      "Step 85: Average train loss: 0.0094 | Average test loss: 0.0106\n",
      "Step 90: Average train loss: 0.0096 | Average test loss: 0.0105\n",
      "Step 95: Average train loss: 0.0098 | Average test loss: 0.0105\n",
      "Step 100: Average train loss: 0.0097 | Average test loss: 0.0104\n",
      "Step 105: Average train loss: 0.0093 | Average test loss: 0.0105\n",
      "Step 110: Average train loss: 0.0093 | Average test loss: 0.0104\n",
      "Step 115: Average train loss: 0.0089 | Average test loss: 0.0104\n",
      "Step 120: Average train loss: 0.0094 | Average test loss: 0.0106\n",
      "Step 125: Average train loss: 0.0091 | Average test loss: 0.0107\n",
      "Step 130: Average train loss: 0.0092 | Average test loss: 0.0106\n",
      "Step 135: Average train loss: 0.0092 | Average test loss: 0.0107\n",
      "Step 140: Average train loss: 0.0091 | Average test loss: 0.0105\n",
      "Step 145: Average train loss: 0.0092 | Average test loss: 0.0105\n",
      "Step 150: Average train loss: 0.0090 | Average test loss: 0.0107\n",
      "Step 155: Average train loss: 0.0092 | Average test loss: 0.0108\n",
      "Step 160: Average train loss: 0.0093 | Average test loss: 0.0105\n",
      "Step 165: Average train loss: 0.0090 | Average test loss: 0.0105\n",
      "Step 170: Average train loss: 0.0093 | Average test loss: 0.0106\n",
      "Step 175: Average train loss: 0.0090 | Average test loss: 0.0106\n",
      "Step 180: Average train loss: 0.0089 | Average test loss: 0.0104\n",
      "Step 185: Average train loss: 0.0089 | Average test loss: 0.0107\n",
      "Step 190: Average train loss: 0.0088 | Average test loss: 0.0106\n",
      "Step 195: Average train loss: 0.0091 | Average test loss: 0.0104\n",
      "Best Epoch: 173\n",
      "Step 0: Average train loss: 0.0140 | Average test loss: 0.0129\n",
      "Step 5: Average train loss: 0.0128 | Average test loss: 0.0119\n",
      "Step 10: Average train loss: 0.0124 | Average test loss: 0.0112\n",
      "Step 15: Average train loss: 0.0120 | Average test loss: 0.0108\n",
      "Step 20: Average train loss: 0.0115 | Average test loss: 0.0106\n",
      "Step 25: Average train loss: 0.0113 | Average test loss: 0.0105\n",
      "Step 30: Average train loss: 0.0113 | Average test loss: 0.0104\n",
      "Step 35: Average train loss: 0.0113 | Average test loss: 0.0103\n",
      "Step 40: Average train loss: 0.0111 | Average test loss: 0.0103\n",
      "Step 45: Average train loss: 0.0111 | Average test loss: 0.0103\n",
      "Step 50: Average train loss: 0.0110 | Average test loss: 0.0103\n",
      "Step 55: Average train loss: 0.0108 | Average test loss: 0.0103\n",
      "Step 60: Average train loss: 0.0107 | Average test loss: 0.0103\n",
      "Step 65: Average train loss: 0.0108 | Average test loss: 0.0103\n",
      "Step 70: Average train loss: 0.0105 | Average test loss: 0.0103\n",
      "Step 75: Average train loss: 0.0109 | Average test loss: 0.0103\n",
      "Step 80: Average train loss: 0.0106 | Average test loss: 0.0104\n",
      "Step 85: Average train loss: 0.0104 | Average test loss: 0.0104\n",
      "Step 90: Average train loss: 0.0104 | Average test loss: 0.0104\n",
      "Step 95: Average train loss: 0.0103 | Average test loss: 0.0104\n",
      "Step 100: Average train loss: 0.0105 | Average test loss: 0.0104\n",
      "Step 105: Average train loss: 0.0105 | Average test loss: 0.0104\n",
      "Step 110: Average train loss: 0.0104 | Average test loss: 0.0104\n",
      "Step 115: Average train loss: 0.0104 | Average test loss: 0.0104\n",
      "Step 120: Average train loss: 0.0104 | Average test loss: 0.0105\n",
      "Step 125: Average train loss: 0.0104 | Average test loss: 0.0105\n",
      "Step 130: Average train loss: 0.0100 | Average test loss: 0.0105\n",
      "Step 135: Average train loss: 0.0100 | Average test loss: 0.0105\n",
      "Step 140: Average train loss: 0.0101 | Average test loss: 0.0105\n",
      "Step 145: Average train loss: 0.0101 | Average test loss: 0.0105\n",
      "Step 150: Average train loss: 0.0100 | Average test loss: 0.0105\n",
      "Step 155: Average train loss: 0.0102 | Average test loss: 0.0105\n",
      "Step 160: Average train loss: 0.0100 | Average test loss: 0.0106\n",
      "Step 165: Average train loss: 0.0100 | Average test loss: 0.0106\n",
      "Step 170: Average train loss: 0.0100 | Average test loss: 0.0106\n",
      "Step 175: Average train loss: 0.0102 | Average test loss: 0.0106\n",
      "Step 180: Average train loss: 0.0101 | Average test loss: 0.0106\n",
      "Step 185: Average train loss: 0.0099 | Average test loss: 0.0106\n",
      "Step 190: Average train loss: 0.0100 | Average test loss: 0.0106\n",
      "Step 195: Average train loss: 0.0100 | Average test loss: 0.0106\n",
      "Best Epoch: 47\n",
      "Step 0: Average train loss: 0.0192 | Average test loss: 0.0132\n",
      "Step 5: Average train loss: 0.0177 | Average test loss: 0.0123\n",
      "Step 10: Average train loss: 0.0167 | Average test loss: 0.0118\n",
      "Step 15: Average train loss: 0.0159 | Average test loss: 0.0116\n",
      "Step 20: Average train loss: 0.0159 | Average test loss: 0.0115\n",
      "Step 25: Average train loss: 0.0156 | Average test loss: 0.0115\n",
      "Step 30: Average train loss: 0.0155 | Average test loss: 0.0115\n",
      "Step 35: Average train loss: 0.0151 | Average test loss: 0.0116\n",
      "Step 40: Average train loss: 0.0152 | Average test loss: 0.0116\n",
      "Step 45: Average train loss: 0.0152 | Average test loss: 0.0117\n",
      "Step 50: Average train loss: 0.0151 | Average test loss: 0.0117\n",
      "Step 55: Average train loss: 0.0149 | Average test loss: 0.0118\n",
      "Step 60: Average train loss: 0.0148 | Average test loss: 0.0118\n",
      "Step 65: Average train loss: 0.0148 | Average test loss: 0.0118\n",
      "Step 70: Average train loss: 0.0149 | Average test loss: 0.0119\n",
      "Step 75: Average train loss: 0.0147 | Average test loss: 0.0119\n",
      "Step 80: Average train loss: 0.0147 | Average test loss: 0.0119\n",
      "Step 85: Average train loss: 0.0147 | Average test loss: 0.0119\n",
      "Step 90: Average train loss: 0.0148 | Average test loss: 0.0119\n",
      "Step 95: Average train loss: 0.0147 | Average test loss: 0.0120\n",
      "Step 100: Average train loss: 0.0145 | Average test loss: 0.0119\n",
      "Step 105: Average train loss: 0.0147 | Average test loss: 0.0119\n",
      "Step 110: Average train loss: 0.0147 | Average test loss: 0.0119\n",
      "Step 115: Average train loss: 0.0146 | Average test loss: 0.0119\n",
      "Step 120: Average train loss: 0.0147 | Average test loss: 0.0119\n",
      "Step 125: Average train loss: 0.0146 | Average test loss: 0.0119\n",
      "Step 130: Average train loss: 0.0145 | Average test loss: 0.0119\n",
      "Step 135: Average train loss: 0.0147 | Average test loss: 0.0119\n",
      "Step 140: Average train loss: 0.0145 | Average test loss: 0.0119\n",
      "Step 145: Average train loss: 0.0146 | Average test loss: 0.0119\n",
      "Step 150: Average train loss: 0.0145 | Average test loss: 0.0119\n",
      "Step 155: Average train loss: 0.0145 | Average test loss: 0.0119\n",
      "Step 160: Average train loss: 0.0146 | Average test loss: 0.0119\n",
      "Step 165: Average train loss: 0.0146 | Average test loss: 0.0119\n",
      "Step 170: Average train loss: 0.0143 | Average test loss: 0.0119\n",
      "Step 175: Average train loss: 0.0145 | Average test loss: 0.0119\n",
      "Step 180: Average train loss: 0.0144 | Average test loss: 0.0119\n",
      "Step 185: Average train loss: 0.0143 | Average test loss: 0.0119\n",
      "Step 190: Average train loss: 0.0145 | Average test loss: 0.0119\n",
      "Step 195: Average train loss: 0.0143 | Average test loss: 0.0119\n",
      "Best Epoch: 25\n",
      "Step 0: Average train loss: 0.0213 | Average test loss: 0.0092\n",
      "Step 5: Average train loss: 0.0193 | Average test loss: 0.0083\n",
      "Step 10: Average train loss: 0.0181 | Average test loss: 0.0078\n",
      "Step 15: Average train loss: 0.0175 | Average test loss: 0.0075\n",
      "Step 20: Average train loss: 0.0170 | Average test loss: 0.0074\n",
      "Step 25: Average train loss: 0.0167 | Average test loss: 0.0074\n",
      "Step 30: Average train loss: 0.0169 | Average test loss: 0.0073\n",
      "Step 35: Average train loss: 0.0166 | Average test loss: 0.0074\n",
      "Step 40: Average train loss: 0.0166 | Average test loss: 0.0074\n",
      "Step 45: Average train loss: 0.0163 | Average test loss: 0.0074\n",
      "Step 50: Average train loss: 0.0163 | Average test loss: 0.0074\n",
      "Step 55: Average train loss: 0.0165 | Average test loss: 0.0075\n",
      "Step 60: Average train loss: 0.0161 | Average test loss: 0.0075\n",
      "Step 65: Average train loss: 0.0163 | Average test loss: 0.0075\n",
      "Step 70: Average train loss: 0.0162 | Average test loss: 0.0076\n",
      "Step 75: Average train loss: 0.0161 | Average test loss: 0.0076\n",
      "Step 80: Average train loss: 0.0161 | Average test loss: 0.0076\n",
      "Step 85: Average train loss: 0.0161 | Average test loss: 0.0076\n",
      "Step 90: Average train loss: 0.0162 | Average test loss: 0.0076\n",
      "Step 95: Average train loss: 0.0161 | Average test loss: 0.0076\n",
      "Step 100: Average train loss: 0.0160 | Average test loss: 0.0076\n",
      "Step 105: Average train loss: 0.0161 | Average test loss: 0.0076\n",
      "Step 110: Average train loss: 0.0161 | Average test loss: 0.0076\n",
      "Step 115: Average train loss: 0.0160 | Average test loss: 0.0076\n",
      "Step 120: Average train loss: 0.0159 | Average test loss: 0.0076\n",
      "Step 125: Average train loss: 0.0162 | Average test loss: 0.0076\n",
      "Step 130: Average train loss: 0.0158 | Average test loss: 0.0076\n",
      "Step 135: Average train loss: 0.0160 | Average test loss: 0.0076\n",
      "Step 140: Average train loss: 0.0159 | Average test loss: 0.0076\n",
      "Step 145: Average train loss: 0.0157 | Average test loss: 0.0076\n",
      "Step 150: Average train loss: 0.0157 | Average test loss: 0.0076\n",
      "Step 155: Average train loss: 0.0159 | Average test loss: 0.0076\n",
      "Step 160: Average train loss: 0.0159 | Average test loss: 0.0076\n",
      "Step 165: Average train loss: 0.0159 | Average test loss: 0.0076\n",
      "Step 170: Average train loss: 0.0157 | Average test loss: 0.0076\n",
      "Step 175: Average train loss: 0.0157 | Average test loss: 0.0076\n",
      "Step 180: Average train loss: 0.0158 | Average test loss: 0.0076\n",
      "Step 185: Average train loss: 0.0159 | Average test loss: 0.0076\n",
      "Step 190: Average train loss: 0.0157 | Average test loss: 0.0076\n",
      "Step 195: Average train loss: 0.0157 | Average test loss: 0.0076\n",
      "Best Epoch: 31\n",
      "Step 0: Average train loss: 0.0224 | Average test loss: 0.0123\n",
      "Step 5: Average train loss: 0.0196 | Average test loss: 0.0110\n",
      "Step 10: Average train loss: 0.0186 | Average test loss: 0.0105\n",
      "Step 15: Average train loss: 0.0177 | Average test loss: 0.0103\n",
      "Step 20: Average train loss: 0.0175 | Average test loss: 0.0102\n",
      "Step 25: Average train loss: 0.0170 | Average test loss: 0.0102\n",
      "Step 30: Average train loss: 0.0172 | Average test loss: 0.0103\n",
      "Step 35: Average train loss: 0.0170 | Average test loss: 0.0103\n",
      "Step 40: Average train loss: 0.0167 | Average test loss: 0.0104\n",
      "Step 45: Average train loss: 0.0168 | Average test loss: 0.0105\n",
      "Step 50: Average train loss: 0.0166 | Average test loss: 0.0106\n",
      "Step 55: Average train loss: 0.0164 | Average test loss: 0.0107\n",
      "Step 60: Average train loss: 0.0166 | Average test loss: 0.0107\n",
      "Step 65: Average train loss: 0.0164 | Average test loss: 0.0108\n",
      "Step 70: Average train loss: 0.0163 | Average test loss: 0.0108\n",
      "Step 75: Average train loss: 0.0164 | Average test loss: 0.0109\n",
      "Step 80: Average train loss: 0.0162 | Average test loss: 0.0109\n",
      "Step 85: Average train loss: 0.0162 | Average test loss: 0.0109\n",
      "Step 90: Average train loss: 0.0162 | Average test loss: 0.0110\n",
      "Step 95: Average train loss: 0.0162 | Average test loss: 0.0110\n",
      "Step 100: Average train loss: 0.0163 | Average test loss: 0.0110\n",
      "Step 105: Average train loss: 0.0161 | Average test loss: 0.0111\n",
      "Step 110: Average train loss: 0.0163 | Average test loss: 0.0111\n",
      "Step 115: Average train loss: 0.0162 | Average test loss: 0.0111\n",
      "Step 120: Average train loss: 0.0162 | Average test loss: 0.0112\n",
      "Step 125: Average train loss: 0.0162 | Average test loss: 0.0112\n",
      "Step 130: Average train loss: 0.0162 | Average test loss: 0.0112\n",
      "Step 135: Average train loss: 0.0161 | Average test loss: 0.0112\n",
      "Step 140: Average train loss: 0.0160 | Average test loss: 0.0112\n",
      "Step 145: Average train loss: 0.0159 | Average test loss: 0.0113\n",
      "Step 150: Average train loss: 0.0162 | Average test loss: 0.0113\n",
      "Step 155: Average train loss: 0.0161 | Average test loss: 0.0113\n",
      "Step 160: Average train loss: 0.0161 | Average test loss: 0.0113\n",
      "Step 165: Average train loss: 0.0160 | Average test loss: 0.0114\n",
      "Step 170: Average train loss: 0.0160 | Average test loss: 0.0114\n",
      "Step 175: Average train loss: 0.0160 | Average test loss: 0.0114\n",
      "Step 180: Average train loss: 0.0159 | Average test loss: 0.0114\n",
      "Step 185: Average train loss: 0.0159 | Average test loss: 0.0114\n",
      "Step 190: Average train loss: 0.0160 | Average test loss: 0.0114\n",
      "Step 195: Average train loss: 0.0160 | Average test loss: 0.0114\n",
      "Best Epoch: 21\n",
      "Step 0: Average train loss: 0.0224 | Average test loss: 0.0118\n",
      "Step 5: Average train loss: 0.0201 | Average test loss: 0.0106\n",
      "Step 10: Average train loss: 0.0187 | Average test loss: 0.0101\n",
      "Step 15: Average train loss: 0.0184 | Average test loss: 0.0100\n",
      "Step 20: Average train loss: 0.0180 | Average test loss: 0.0100\n",
      "Step 25: Average train loss: 0.0179 | Average test loss: 0.0100\n",
      "Step 30: Average train loss: 0.0178 | Average test loss: 0.0101\n",
      "Step 35: Average train loss: 0.0178 | Average test loss: 0.0101\n",
      "Step 40: Average train loss: 0.0177 | Average test loss: 0.0102\n",
      "Step 45: Average train loss: 0.0176 | Average test loss: 0.0102\n",
      "Step 50: Average train loss: 0.0175 | Average test loss: 0.0103\n",
      "Step 55: Average train loss: 0.0175 | Average test loss: 0.0103\n",
      "Step 60: Average train loss: 0.0174 | Average test loss: 0.0104\n",
      "Step 65: Average train loss: 0.0175 | Average test loss: 0.0104\n",
      "Step 70: Average train loss: 0.0173 | Average test loss: 0.0105\n",
      "Step 75: Average train loss: 0.0174 | Average test loss: 0.0105\n",
      "Step 80: Average train loss: 0.0174 | Average test loss: 0.0105\n",
      "Step 85: Average train loss: 0.0174 | Average test loss: 0.0106\n",
      "Step 90: Average train loss: 0.0174 | Average test loss: 0.0106\n",
      "Step 95: Average train loss: 0.0174 | Average test loss: 0.0107\n",
      "Step 100: Average train loss: 0.0171 | Average test loss: 0.0107\n",
      "Step 105: Average train loss: 0.0172 | Average test loss: 0.0107\n",
      "Step 110: Average train loss: 0.0172 | Average test loss: 0.0107\n",
      "Step 115: Average train loss: 0.0170 | Average test loss: 0.0107\n",
      "Step 120: Average train loss: 0.0172 | Average test loss: 0.0108\n",
      "Step 125: Average train loss: 0.0171 | Average test loss: 0.0108\n",
      "Step 130: Average train loss: 0.0171 | Average test loss: 0.0108\n",
      "Step 135: Average train loss: 0.0172 | Average test loss: 0.0108\n",
      "Step 140: Average train loss: 0.0171 | Average test loss: 0.0108\n",
      "Step 145: Average train loss: 0.0170 | Average test loss: 0.0109\n",
      "Step 150: Average train loss: 0.0170 | Average test loss: 0.0109\n",
      "Step 155: Average train loss: 0.0171 | Average test loss: 0.0109\n",
      "Step 160: Average train loss: 0.0170 | Average test loss: 0.0109\n",
      "Step 165: Average train loss: 0.0170 | Average test loss: 0.0109\n",
      "Step 170: Average train loss: 0.0169 | Average test loss: 0.0110\n",
      "Step 175: Average train loss: 0.0170 | Average test loss: 0.0110\n",
      "Step 180: Average train loss: 0.0169 | Average test loss: 0.0110\n",
      "Step 185: Average train loss: 0.0168 | Average test loss: 0.0109\n",
      "Step 190: Average train loss: 0.0169 | Average test loss: 0.0110\n",
      "Step 195: Average train loss: 0.0168 | Average test loss: 0.0110\n",
      "Best Epoch: 19\n",
      "Step 0: Average train loss: 0.0248 | Average test loss: 0.0116\n",
      "Step 5: Average train loss: 0.0218 | Average test loss: 0.0106\n",
      "Step 10: Average train loss: 0.0209 | Average test loss: 0.0102\n",
      "Step 15: Average train loss: 0.0203 | Average test loss: 0.0101\n",
      "Step 20: Average train loss: 0.0202 | Average test loss: 0.0101\n",
      "Step 25: Average train loss: 0.0199 | Average test loss: 0.0102\n",
      "Step 30: Average train loss: 0.0200 | Average test loss: 0.0102\n",
      "Step 35: Average train loss: 0.0198 | Average test loss: 0.0103\n",
      "Step 40: Average train loss: 0.0196 | Average test loss: 0.0103\n",
      "Step 45: Average train loss: 0.0196 | Average test loss: 0.0104\n",
      "Step 50: Average train loss: 0.0197 | Average test loss: 0.0104\n",
      "Step 55: Average train loss: 0.0196 | Average test loss: 0.0104\n",
      "Step 60: Average train loss: 0.0197 | Average test loss: 0.0105\n",
      "Step 65: Average train loss: 0.0197 | Average test loss: 0.0105\n",
      "Step 70: Average train loss: 0.0195 | Average test loss: 0.0105\n",
      "Step 75: Average train loss: 0.0196 | Average test loss: 0.0105\n",
      "Step 80: Average train loss: 0.0197 | Average test loss: 0.0105\n",
      "Step 85: Average train loss: 0.0197 | Average test loss: 0.0105\n",
      "Step 90: Average train loss: 0.0196 | Average test loss: 0.0105\n",
      "Step 95: Average train loss: 0.0195 | Average test loss: 0.0105\n",
      "Step 100: Average train loss: 0.0194 | Average test loss: 0.0105\n",
      "Step 105: Average train loss: 0.0195 | Average test loss: 0.0105\n",
      "Step 110: Average train loss: 0.0194 | Average test loss: 0.0105\n",
      "Step 115: Average train loss: 0.0195 | Average test loss: 0.0105\n",
      "Step 120: Average train loss: 0.0194 | Average test loss: 0.0105\n",
      "Step 125: Average train loss: 0.0195 | Average test loss: 0.0105\n",
      "Step 130: Average train loss: 0.0192 | Average test loss: 0.0105\n",
      "Step 135: Average train loss: 0.0195 | Average test loss: 0.0105\n",
      "Step 140: Average train loss: 0.0194 | Average test loss: 0.0105\n",
      "Step 145: Average train loss: 0.0194 | Average test loss: 0.0105\n",
      "Step 150: Average train loss: 0.0194 | Average test loss: 0.0105\n",
      "Step 155: Average train loss: 0.0193 | Average test loss: 0.0105\n",
      "Step 160: Average train loss: 0.0193 | Average test loss: 0.0105\n",
      "Step 165: Average train loss: 0.0195 | Average test loss: 0.0105\n",
      "Step 170: Average train loss: 0.0194 | Average test loss: 0.0105\n",
      "Step 175: Average train loss: 0.0194 | Average test loss: 0.0105\n",
      "Step 180: Average train loss: 0.0193 | Average test loss: 0.0105\n",
      "Step 185: Average train loss: 0.0194 | Average test loss: 0.0105\n",
      "Step 190: Average train loss: 0.0194 | Average test loss: 0.0105\n",
      "Step 195: Average train loss: 0.0195 | Average test loss: 0.0105\n",
      "Best Epoch: 18\n",
      "Step 0: Average train loss: 0.0241 | Average test loss: 0.0112\n",
      "Step 5: Average train loss: 0.0219 | Average test loss: 0.0103\n",
      "Step 10: Average train loss: 0.0210 | Average test loss: 0.0100\n",
      "Step 15: Average train loss: 0.0208 | Average test loss: 0.0099\n",
      "Step 20: Average train loss: 0.0206 | Average test loss: 0.0099\n",
      "Step 25: Average train loss: 0.0203 | Average test loss: 0.0099\n",
      "Step 30: Average train loss: 0.0202 | Average test loss: 0.0099\n",
      "Step 35: Average train loss: 0.0203 | Average test loss: 0.0099\n",
      "Step 40: Average train loss: 0.0201 | Average test loss: 0.0099\n",
      "Step 45: Average train loss: 0.0201 | Average test loss: 0.0100\n",
      "Step 50: Average train loss: 0.0201 | Average test loss: 0.0100\n",
      "Step 55: Average train loss: 0.0200 | Average test loss: 0.0100\n",
      "Step 60: Average train loss: 0.0200 | Average test loss: 0.0100\n",
      "Step 65: Average train loss: 0.0202 | Average test loss: 0.0100\n",
      "Step 70: Average train loss: 0.0200 | Average test loss: 0.0100\n",
      "Step 75: Average train loss: 0.0200 | Average test loss: 0.0100\n",
      "Step 80: Average train loss: 0.0199 | Average test loss: 0.0100\n",
      "Step 85: Average train loss: 0.0199 | Average test loss: 0.0100\n",
      "Step 90: Average train loss: 0.0200 | Average test loss: 0.0100\n",
      "Step 95: Average train loss: 0.0200 | Average test loss: 0.0100\n",
      "Step 100: Average train loss: 0.0200 | Average test loss: 0.0100\n",
      "Step 105: Average train loss: 0.0200 | Average test loss: 0.0100\n",
      "Step 110: Average train loss: 0.0200 | Average test loss: 0.0100\n",
      "Step 115: Average train loss: 0.0200 | Average test loss: 0.0100\n",
      "Step 120: Average train loss: 0.0199 | Average test loss: 0.0100\n",
      "Step 125: Average train loss: 0.0198 | Average test loss: 0.0100\n",
      "Step 130: Average train loss: 0.0198 | Average test loss: 0.0100\n",
      "Step 135: Average train loss: 0.0198 | Average test loss: 0.0099\n",
      "Step 140: Average train loss: 0.0198 | Average test loss: 0.0099\n",
      "Step 145: Average train loss: 0.0199 | Average test loss: 0.0099\n",
      "Step 150: Average train loss: 0.0197 | Average test loss: 0.0099\n",
      "Step 155: Average train loss: 0.0198 | Average test loss: 0.0099\n",
      "Step 160: Average train loss: 0.0199 | Average test loss: 0.0099\n",
      "Step 165: Average train loss: 0.0197 | Average test loss: 0.0099\n",
      "Step 170: Average train loss: 0.0197 | Average test loss: 0.0099\n",
      "Step 175: Average train loss: 0.0199 | Average test loss: 0.0099\n",
      "Step 180: Average train loss: 0.0198 | Average test loss: 0.0099\n",
      "Step 185: Average train loss: 0.0198 | Average test loss: 0.0099\n",
      "Step 190: Average train loss: 0.0198 | Average test loss: 0.0099\n",
      "Step 195: Average train loss: 0.0196 | Average test loss: 0.0099\n",
      "Best Epoch: 19\n",
      "Step 0: Average train loss: 0.0233 | Average test loss: 0.0090\n",
      "Step 5: Average train loss: 0.0210 | Average test loss: 0.0082\n",
      "Step 10: Average train loss: 0.0204 | Average test loss: 0.0079\n",
      "Step 15: Average train loss: 0.0200 | Average test loss: 0.0078\n",
      "Step 20: Average train loss: 0.0198 | Average test loss: 0.0077\n",
      "Step 25: Average train loss: 0.0197 | Average test loss: 0.0077\n",
      "Step 30: Average train loss: 0.0197 | Average test loss: 0.0077\n",
      "Step 35: Average train loss: 0.0195 | Average test loss: 0.0077\n",
      "Step 40: Average train loss: 0.0196 | Average test loss: 0.0077\n",
      "Step 45: Average train loss: 0.0196 | Average test loss: 0.0077\n",
      "Step 50: Average train loss: 0.0193 | Average test loss: 0.0077\n",
      "Step 55: Average train loss: 0.0196 | Average test loss: 0.0077\n",
      "Step 60: Average train loss: 0.0194 | Average test loss: 0.0076\n",
      "Step 65: Average train loss: 0.0196 | Average test loss: 0.0076\n",
      "Step 70: Average train loss: 0.0195 | Average test loss: 0.0076\n",
      "Step 75: Average train loss: 0.0195 | Average test loss: 0.0076\n",
      "Step 80: Average train loss: 0.0194 | Average test loss: 0.0076\n",
      "Step 85: Average train loss: 0.0194 | Average test loss: 0.0076\n",
      "Step 90: Average train loss: 0.0193 | Average test loss: 0.0075\n",
      "Step 95: Average train loss: 0.0194 | Average test loss: 0.0075\n",
      "Step 100: Average train loss: 0.0192 | Average test loss: 0.0075\n",
      "Step 105: Average train loss: 0.0192 | Average test loss: 0.0075\n",
      "Step 110: Average train loss: 0.0193 | Average test loss: 0.0075\n",
      "Step 115: Average train loss: 0.0193 | Average test loss: 0.0075\n",
      "Step 120: Average train loss: 0.0193 | Average test loss: 0.0075\n",
      "Step 125: Average train loss: 0.0192 | Average test loss: 0.0075\n",
      "Step 130: Average train loss: 0.0192 | Average test loss: 0.0074\n",
      "Step 135: Average train loss: 0.0193 | Average test loss: 0.0074\n",
      "Step 140: Average train loss: 0.0191 | Average test loss: 0.0074\n",
      "Step 145: Average train loss: 0.0192 | Average test loss: 0.0074\n",
      "Step 150: Average train loss: 0.0193 | Average test loss: 0.0074\n",
      "Step 155: Average train loss: 0.0192 | Average test loss: 0.0074\n",
      "Step 160: Average train loss: 0.0192 | Average test loss: 0.0074\n",
      "Step 165: Average train loss: 0.0192 | Average test loss: 0.0074\n",
      "Step 170: Average train loss: 0.0192 | Average test loss: 0.0074\n",
      "Step 175: Average train loss: 0.0193 | Average test loss: 0.0074\n",
      "Step 180: Average train loss: 0.0191 | Average test loss: 0.0074\n",
      "Step 185: Average train loss: 0.0191 | Average test loss: 0.0074\n",
      "Step 190: Average train loss: 0.0191 | Average test loss: 0.0074\n",
      "Step 195: Average train loss: 0.0190 | Average test loss: 0.0074\n",
      "Best Epoch: 192\n",
      "Step 0: Average train loss: 0.0228 | Average test loss: 0.0111\n",
      "Step 5: Average train loss: 0.0204 | Average test loss: 0.0100\n",
      "Step 10: Average train loss: 0.0201 | Average test loss: 0.0097\n",
      "Step 15: Average train loss: 0.0196 | Average test loss: 0.0096\n",
      "Step 20: Average train loss: 0.0196 | Average test loss: 0.0095\n",
      "Step 25: Average train loss: 0.0194 | Average test loss: 0.0095\n",
      "Step 30: Average train loss: 0.0195 | Average test loss: 0.0095\n",
      "Step 35: Average train loss: 0.0190 | Average test loss: 0.0095\n",
      "Step 40: Average train loss: 0.0192 | Average test loss: 0.0095\n",
      "Step 45: Average train loss: 0.0192 | Average test loss: 0.0095\n",
      "Step 50: Average train loss: 0.0190 | Average test loss: 0.0096\n",
      "Step 55: Average train loss: 0.0192 | Average test loss: 0.0095\n",
      "Step 60: Average train loss: 0.0189 | Average test loss: 0.0096\n",
      "Step 65: Average train loss: 0.0190 | Average test loss: 0.0096\n",
      "Step 70: Average train loss: 0.0190 | Average test loss: 0.0096\n",
      "Step 75: Average train loss: 0.0190 | Average test loss: 0.0096\n",
      "Step 80: Average train loss: 0.0191 | Average test loss: 0.0096\n",
      "Step 85: Average train loss: 0.0190 | Average test loss: 0.0096\n",
      "Step 90: Average train loss: 0.0189 | Average test loss: 0.0096\n",
      "Step 95: Average train loss: 0.0189 | Average test loss: 0.0096\n",
      "Step 100: Average train loss: 0.0190 | Average test loss: 0.0096\n",
      "Step 105: Average train loss: 0.0188 | Average test loss: 0.0097\n",
      "Step 110: Average train loss: 0.0191 | Average test loss: 0.0097\n",
      "Step 115: Average train loss: 0.0190 | Average test loss: 0.0097\n",
      "Step 120: Average train loss: 0.0187 | Average test loss: 0.0098\n",
      "Step 125: Average train loss: 0.0189 | Average test loss: 0.0097\n",
      "Step 130: Average train loss: 0.0189 | Average test loss: 0.0098\n",
      "Step 135: Average train loss: 0.0186 | Average test loss: 0.0098\n",
      "Step 140: Average train loss: 0.0187 | Average test loss: 0.0098\n",
      "Step 145: Average train loss: 0.0188 | Average test loss: 0.0098\n",
      "Step 150: Average train loss: 0.0187 | Average test loss: 0.0099\n",
      "Step 155: Average train loss: 0.0188 | Average test loss: 0.0099\n",
      "Step 160: Average train loss: 0.0187 | Average test loss: 0.0099\n",
      "Step 165: Average train loss: 0.0187 | Average test loss: 0.0099\n",
      "Step 170: Average train loss: 0.0186 | Average test loss: 0.0099\n",
      "Step 175: Average train loss: 0.0188 | Average test loss: 0.0099\n",
      "Step 180: Average train loss: 0.0187 | Average test loss: 0.0100\n",
      "Step 185: Average train loss: 0.0186 | Average test loss: 0.0100\n",
      "Step 190: Average train loss: 0.0185 | Average test loss: 0.0100\n",
      "Step 195: Average train loss: 0.0187 | Average test loss: 0.0100\n",
      "Best Epoch: 26\n"
     ]
    }
   ],
   "source": [
    "transfer_models = []\n",
    "transfer_best_epochs = [0]\n",
    "\n",
    "for i in range(len(training_months)):\n",
    "    transfer_model  = LSTM(input_size,hidden_size,num_layers, forecast_period, dropout).to(device)\n",
    "    transfer_model.load_state_dict(torch.load('../models/AUS/' + data_name + '/model_' + data_name + '_transfer_0'))\n",
    "       \n",
    "    for name, param in transfer_model.lstm.named_parameters():\n",
    "        if any(freezing_name in name for freezing_name in freezing):\n",
    "            param.requires_grad = False\n",
    "\n",
    "    # Initialize the trainer\n",
    "    training = Training(transfer_model, \n",
    "                              X_train_target_list[i], y_train_target_list[i], X_test_target_list[i], y_test_target_list[i], \n",
    "                              epochs=epochs, batch_size = batch_size, learning_rate =learning_rate/10)\n",
    "\n",
    "    # Train the model and return the trained parameters and the best iteration\n",
    "    state_dict_list, best_epoch = training.fit()\n",
    "    \n",
    "    # Load the state dictionary of the best performing model\n",
    "    transfer_model.load_state_dict(state_dict_list[best_epoch])\n",
    "    \n",
    "    transfer_best_epochs.append(best_epoch)\n",
    "    transfer_models.append(transfer_model)"
   ],
   "metadata": {
    "collapsed": false,
    "ExecuteTime": {
     "end_time": "2025-03-12T17:44:47.402741Z",
     "start_time": "2025-03-12T17:43:26.848368100Z"
    }
   },
   "id": "350c3b23d316dd6c"
  },
  {
   "cell_type": "code",
   "execution_count": 29,
   "outputs": [],
   "source": [
    "transfer_RMSEs = []\n",
    "transfer_MBEs = []\n",
    "transfer_MAEs = []\n",
    "\n",
    "# Evaluate a clean model\n",
    "\n",
    "transfer_model = LSTM(input_size,hidden_size,num_layers, forecast_period, dropout).to(device)\n",
    "transfer_model.load_state_dict(torch.load('../models/AUS/' + data_name + '/model_' + data_name + '_transfer_0'))\n",
    "\n",
    "forecasts = transfer_model(X_eval_target_list[0].to(device))\n",
    "source_eval = Evaluation(y_eval_target_list[0].detach().flatten().numpy(), forecasts.cpu().detach().flatten().numpy())\n",
    "\n",
    "transfer_RMSEs.append(source_eval.metrics()['RMSE'].values[0])\n",
    "transfer_MBEs.append(source_eval.metrics()['MBE'].values[0])\n",
    "transfer_MAEs.append(source_eval.metrics()['MAE'].values[0])\n",
    "\n",
    "for i in range(len(training_months)):\n",
    "    # Forecast with the model\n",
    "    forecasts = transfer_models[i](X_eval_target_list[i].to(device))\n",
    "    # Evaluate the model performance\n",
    "    source_eval = Evaluation(y_eval_target_list[i].detach().flatten().numpy(), forecasts.cpu().detach().flatten().numpy())\n",
    "\n",
    "    # Show the evaluation metrics\n",
    "    transfer_RMSEs.append(source_eval.metrics()['RMSE'].values[0])\n",
    "    transfer_MBEs.append(source_eval.metrics()['MBE'].values[0])\n",
    "    transfer_MAEs.append(source_eval.metrics()['MAE'].values[0])"
   ],
   "metadata": {
    "collapsed": false,
    "ExecuteTime": {
     "end_time": "2025-03-12T17:44:56.204995600Z",
     "start_time": "2025-03-12T17:44:47.401328Z"
    }
   },
   "id": "ef5a423788b3e209"
  },
  {
   "cell_type": "markdown",
   "source": [
    "# 8. Baseline"
   ],
   "metadata": {
    "collapsed": false
   },
   "id": "fa98825b51380"
  },
  {
   "cell_type": "code",
   "execution_count": 30,
   "outputs": [],
   "source": [
    "baseline_RMSEs = []\n",
    "baseline_MBEs = []\n",
    "baseline_MAEs = []\n",
    "\n",
    "# Evaluate a clean model, our forecast in this case is basically the first feature in our features tensor, as we predict the next day to be the previous one \n",
    "forecasts = X_eval_target_list[0][:,:,0]\n",
    "source_eval = Evaluation(y_eval_target_list[0].detach().flatten().numpy(), forecasts.cpu().detach().flatten().numpy())\n",
    "\n",
    "baseline_RMSEs.append(source_eval.metrics()['RMSE'].values[0])\n",
    "baseline_MBEs.append(source_eval.metrics()['MBE'].values[0])\n",
    "baseline_MAEs.append(source_eval.metrics()['MAE'].values[0])\n",
    "\n",
    "for i in range(len(training_months)):\n",
    "    # Forecast with the model\n",
    "    forecasts = X_eval_target_list[i][:,:,0]\n",
    "    # Evaluate the model performance\n",
    "    source_eval = Evaluation(y_eval_target_list[i].detach().flatten().numpy(), forecasts.cpu().detach().flatten().numpy())\n",
    "\n",
    "    # Show the evaluation metrics\n",
    "    baseline_RMSEs.append(source_eval.metrics()['RMSE'].values[0])\n",
    "    baseline_MBEs.append(source_eval.metrics()['MBE'].values[0])\n",
    "    baseline_MAEs.append(source_eval.metrics()['MAE'].values[0])"
   ],
   "metadata": {
    "collapsed": false,
    "ExecuteTime": {
     "end_time": "2025-03-12T17:44:59.162447600Z",
     "start_time": "2025-03-12T17:44:56.206995500Z"
    }
   },
   "id": "fa9a67df5080bb4a"
  },
  {
   "cell_type": "markdown",
   "source": [
    "# 9. Final visualisation and export"
   ],
   "metadata": {
    "collapsed": false
   },
   "id": "e19632e7bcce954a"
  },
  {
   "cell_type": "code",
   "execution_count": 31,
   "outputs": [
    {
     "data": {
      "text/plain": "<matplotlib.legend.Legend at 0x237d38f1610>"
     },
     "execution_count": 31,
     "metadata": {},
     "output_type": "execute_result"
    },
    {
     "data": {
      "text/plain": "<Figure size 640x480 with 1 Axes>",
      "image/png": "[encoded data removed]"
     },
     "metadata": {},
     "output_type": "display_data"
    }
   ],
   "source": [
    "plt.plot(target_RMSEs,label='target')\n",
    "plt.plot(transfer_RMSEs,label='transfer')\n",
    "plt.plot(baseline_RMSEs, label='baseline')\n",
    "plt.legend()"
   ],
   "metadata": {
    "collapsed": false,
    "ExecuteTime": {
     "end_time": "2025-03-12T17:44:59.294477700Z",
     "start_time": "2025-03-12T17:44:59.164448400Z"
    }
   },
   "id": "1a796e9ba899736a"
  },
  {
   "cell_type": "code",
   "execution_count": 32,
   "outputs": [],
   "source": [
    "column_names = []\n",
    "\n",
    "for i in range(len(training_months)+1):\n",
    "    column_names.append(str(i) + 'm')"
   ],
   "metadata": {
    "collapsed": false,
    "ExecuteTime": {
     "end_time": "2025-03-12T17:44:59.304839800Z",
     "start_time": "2025-03-12T17:44:59.295477100Z"
    }
   },
   "id": "68f738ffd4e8f96d"
  },
  {
   "cell_type": "code",
   "execution_count": 33,
   "outputs": [
    {
     "data": {
      "text/plain": "     Baseline RMSE  Target RMSE  Transfer RMSE  Baseline MBE  Target MBE  \\\n0m           0.173        0.337          0.143        -0.000       0.176   \n1m           0.173        0.180          0.152        -0.000       0.069   \n2m           0.173        0.198          0.146        -0.000       0.006   \n3m           0.173        0.158          0.143        -0.000       0.023   \n4m           0.173        0.155          0.144        -0.000       0.042   \n5m           0.173        0.151          0.144        -0.000       0.017   \n6m           0.173        0.152          0.144        -0.000       0.020   \n7m           0.173        0.150          0.145        -0.000       0.021   \n8m           0.173        0.147          0.143        -0.000       0.021   \n9m           0.173        0.149          0.144        -0.000       0.019   \n10m          0.173        0.145          0.141        -0.000       0.012   \n11m          0.173        0.145          0.141        -0.000       0.015   \n12m          0.173        0.144          0.144        -0.000       0.017   \n\n     Transfer MBE  Baseline MAE  Target MAE  Transfer MAE  Target epoch  \\\n0m         -0.005         0.077       0.195         0.079             0   \n1m          0.035         0.077       0.098         0.081            28   \n2m          0.026         0.077       0.100         0.078           123   \n3m          0.017         0.077       0.082         0.075            19   \n4m          0.023         0.077       0.084         0.077           137   \n5m          0.013         0.077       0.084         0.078             5   \n6m          0.012         0.077       0.084         0.078           188   \n7m          0.017         0.077       0.082         0.079           198   \n8m          0.015         0.077       0.080         0.077           184   \n9m          0.013         0.077       0.083         0.079           197   \n10m         0.011         0.077       0.080         0.076           193   \n11m         0.014         0.077       0.079         0.076           193   \n12m         0.017         0.077       0.079         0.077           185   \n\n     Transfer epoch  \n0m                0  \n1m              129  \n2m              187  \n3m              173  \n4m               47  \n5m               25  \n6m               31  \n7m               21  \n8m               19  \n9m               18  \n10m              19  \n11m             192  \n12m              26  ",
      "text/html": "<div>\n<style scoped>\n    .dataframe tbody tr th:only-of-type {\n        vertical-align: middle;\n    }\n\n    .dataframe tbody tr th {\n        vertical-align: top;\n    }\n\n    .dataframe thead th {\n        text-align: right;\n    }\n</style>\n<table border=\"1\" class=\"dataframe\">\n  <thead>\n    <tr style=\"text-align: right;\">\n      <th></th>\n      <th>Baseline RMSE</th>\n      <th>Target RMSE</th>\n      <th>Transfer RMSE</th>\n      <th>Baseline MBE</th>\n      <th>Target MBE</th>\n      <th>Transfer MBE</th>\n      <th>Baseline MAE</th>\n      <th>Target MAE</th>\n      <th>Transfer MAE</th>\n      <th>Target epoch</th>\n      <th>Transfer epoch</th>\n    </tr>\n  </thead>\n  <tbody>\n    <tr>\n      <th>0m</th>\n      <td>0.173</td>\n      <td>0.337</td>\n      <td>0.143</td>\n      <td>-0.000</td>\n      <td>0.176</td>\n      <td>-0.005</td>\n      <td>0.077</td>\n      <td>0.195</td>\n      <td>0.079</td>\n      <td>0</td>\n      <td>0</td>\n    </tr>\n    <tr>\n      <th>1m</th>\n      <td>0.173</td>\n      <td>0.180</td>\n      <td>0.152</td>\n      <td>-0.000</td>\n      <td>0.069</td>\n      <td>0.035</td>\n      <td>0.077</td>\n      <td>0.098</td>\n      <td>0.081</td>\n      <td>28</td>\n      <td>129</td>\n    </tr>\n    <tr>\n      <th>2m</th>\n      <td>0.173</td>\n      <td>0.198</td>\n      <td>0.146</td>\n      <td>-0.000</td>\n      <td>0.006</td>\n      <td>0.026</td>\n      <td>0.077</td>\n      <td>0.100</td>\n      <td>0.078</td>\n      <td>123</td>\n      <td>187</td>\n    </tr>\n    <tr>\n      <th>3m</th>\n      <td>0.173</td>\n      <td>0.158</td>\n      <td>0.143</td>\n      <td>-0.000</td>\n      <td>0.023</td>\n      <td>0.017</td>\n      <td>0.077</td>\n      <td>0.082</td>\n      <td>0.075</td>\n      <td>19</td>\n      <td>173</td>\n    </tr>\n    <tr>\n      <th>4m</th>\n      <td>0.173</td>\n      <td>0.155</td>\n      <td>0.144</td>\n      <td>-0.000</td>\n      <td>0.042</td>\n      <td>0.023</td>\n      <td>0.077</td>\n      <td>0.084</td>\n      <td>0.077</td>\n      <td>137</td>\n      <td>47</td>\n    </tr>\n    <tr>\n      <th>5m</th>\n      <td>0.173</td>\n      <td>0.151</td>\n      <td>0.144</td>\n      <td>-0.000</td>\n      <td>0.017</td>\n      <td>0.013</td>\n      <td>0.077</td>\n      <td>0.084</td>\n      <td>0.078</td>\n      <td>5</td>\n      <td>25</td>\n    </tr>\n    <tr>\n      <th>6m</th>\n      <td>0.173</td>\n      <td>0.152</td>\n      <td>0.144</td>\n      <td>-0.000</td>\n      <td>0.020</td>\n      <td>0.012</td>\n      <td>0.077</td>\n      <td>0.084</td>\n      <td>0.078</td>\n      <td>188</td>\n      <td>31</td>\n    </tr>\n    <tr>\n      <th>7m</th>\n      <td>0.173</td>\n      <td>0.150</td>\n      <td>0.145</td>\n      <td>-0.000</td>\n      <td>0.021</td>\n      <td>0.017</td>\n      <td>0.077</td>\n      <td>0.082</td>\n      <td>0.079</td>\n      <td>198</td>\n      <td>21</td>\n    </tr>\n    <tr>\n      <th>8m</th>\n      <td>0.173</td>\n      <td>0.147</td>\n      <td>0.143</td>\n      <td>-0.000</td>\n      <td>0.021</td>\n      <td>0.015</td>\n      <td>0.077</td>\n      <td>0.080</td>\n      <td>0.077</td>\n      <td>184</td>\n      <td>19</td>\n    </tr>\n    <tr>\n      <th>9m</th>\n      <td>0.173</td>\n      <td>0.149</td>\n      <td>0.144</td>\n      <td>-0.000</td>\n      <td>0.019</td>\n      <td>0.013</td>\n      <td>0.077</td>\n      <td>0.083</td>\n      <td>0.079</td>\n      <td>197</td>\n      <td>18</td>\n    </tr>\n    <tr>\n      <th>10m</th>\n      <td>0.173</td>\n      <td>0.145</td>\n      <td>0.141</td>\n      <td>-0.000</td>\n      <td>0.012</td>\n      <td>0.011</td>\n      <td>0.077</td>\n      <td>0.080</td>\n      <td>0.076</td>\n      <td>193</td>\n      <td>19</td>\n    </tr>\n    <tr>\n      <th>11m</th>\n      <td>0.173</td>\n      <td>0.145</td>\n      <td>0.141</td>\n      <td>-0.000</td>\n      <td>0.015</td>\n      <td>0.014</td>\n      <td>0.077</td>\n      <td>0.079</td>\n      <td>0.076</td>\n      <td>193</td>\n      <td>192</td>\n    </tr>\n    <tr>\n      <th>12m</th>\n      <td>0.173</td>\n      <td>0.144</td>\n      <td>0.144</td>\n      <td>-0.000</td>\n      <td>0.017</td>\n      <td>0.017</td>\n      <td>0.077</td>\n      <td>0.079</td>\n      <td>0.077</td>\n      <td>185</td>\n      <td>26</td>\n    </tr>\n  </tbody>\n</table>\n</div>"
     },
     "execution_count": 33,
     "metadata": {},
     "output_type": "execute_result"
    }
   ],
   "source": [
    "all_metrics = pd.DataFrame([baseline_RMSEs, target_RMSEs, transfer_RMSEs,\n",
    "                            baseline_MBEs, target_MBEs, transfer_MBEs,\n",
    "                            baseline_MAEs, target_MAEs, transfer_MAEs, \n",
    "                            target_best_epochs, transfer_best_epochs],\n",
    "                           columns=column_names, index=['Baseline RMSE', 'Target RMSE', 'Transfer RMSE', \n",
    "                                                        'Baseline MBE', 'Target MBE', 'Transfer MBE', \n",
    "                                                        'Baseline MAE', 'Target MAE', 'Transfer MAE', \n",
    "                                                        'Target epoch', 'Transfer epoch']).transpose()\n",
    "\n",
    "all_metrics['Target epoch'] = all_metrics['Target epoch'].astype(int)\n",
    "all_metrics['Transfer epoch'] = all_metrics['Transfer epoch'].astype(int)\n",
    "all_metrics"
   ],
   "metadata": {
    "collapsed": false,
    "ExecuteTime": {
     "end_time": "2025-03-12T17:44:59.319488400Z",
     "start_time": "2025-03-12T17:44:59.301549800Z"
    }
   },
   "id": "74cc8e6ba8e067e2"
  },
  {
   "cell_type": "code",
   "execution_count": 34,
   "outputs": [],
   "source": [
    "all_metrics.to_csv('../results/AUS/' + 'summary_table_' + data_name + '.csv')"
   ],
   "metadata": {
    "collapsed": false,
    "ExecuteTime": {
     "end_time": "2025-03-12T17:44:59.403478200Z",
     "start_time": "2025-03-12T17:44:59.317487300Z"
    }
   },
   "id": "4e911dfa55c19f92"
  },
  {
   "cell_type": "code",
   "execution_count": 35,
   "outputs": [
    {
     "data": {
      "text/plain": "'base_australia_1'"
     },
     "execution_count": 35,
     "metadata": {},
     "output_type": "execute_result"
    }
   ],
   "source": [
    "data_name"
   ],
   "metadata": {
    "collapsed": false,
    "ExecuteTime": {
     "end_time": "2025-03-12T17:44:59.404478100Z",
     "start_time": "2025-03-12T17:44:59.328346500Z"
    }
   },
   "id": "62ad32304b2e2f"
  }
 ],
 "metadata": {
  "kernelspec": {
   "display_name": "Python 3",
   "language": "python",
   "name": "python3"
  },
  "language_info": {
   "codemirror_mode": {
    "name": "ipython",
    "version": 2
   },
   "file_extension": ".py",
   "mimetype": "text/x-python",
   "name": "python",
   "nbconvert_exporter": "python",
   "pygments_lexer": "ipython2",
   "version": "2.7.6"
  }
 },
 "nbformat": 4,
 "nbformat_minor": 5
}
