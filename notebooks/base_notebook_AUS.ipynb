{
 "cells": [
  {
   "cell_type": "code",
   "execution_count": 51,
   "outputs": [],
   "source": [
    "# THIS PARAMETER IS USED FOR LOOPING OVER THE NOTEBOOK IN THE \"run_all_customers\" NOTEBOOK\n",
    "system_id = 1"
   ],
   "metadata": {
    "collapsed": false,
    "ExecuteTime": {
     "end_time": "2024-10-21T14:34:35.458381800Z",
     "start_time": "2024-10-21T14:34:35.438953400Z"
    }
   },
   "id": "49eef3da1999505"
  },
  {
   "cell_type": "code",
   "execution_count": 52,
   "id": "initial_id",
   "metadata": {
    "collapsed": true,
    "ExecuteTime": {
     "end_time": "2024-10-21T14:34:35.819448100Z",
     "start_time": "2024-10-21T14:34:35.810716200Z"
    }
   },
   "outputs": [],
   "source": [
    "# Base library imports\n",
    "import pandas as pd\n",
    "import torch\n",
    "import os\n",
    "from matplotlib import pyplot as plt\n",
    "\n",
    "# SolNet imports\n",
    "from src.data.datafetcher import PvFetcher\n",
    "from src.data.featurisation import Featurisation\n",
    "from src.tensors.tensorisation import Tensors\n",
    "from src.models.lstm import LSTM\n",
    "from src.models.training import Training\n",
    "from src.models.training import save_model\n",
    "from src.evaluation.evaluation import Evaluation"
   ]
  },
  {
   "cell_type": "code",
   "execution_count": 53,
   "outputs": [],
   "source": [
    "# Hyperparameters needed for a run:\n",
    "\n",
    "# Data fetching\n",
    "locations_used = 1\n",
    "start_date = 2005\n",
    "end_date = 2010\n",
    "\n",
    "# Forecasting parameters\n",
    "target = 'P'\n",
    "past_features = ['P']\n",
    "future_features = ['hour_sin','hour_cos']\n",
    "lags = 24\n",
    "forecast_period = 24\n",
    "gap = 0 \n",
    "forecast_gap = 0\n",
    "\n",
    "# Lstm parameters\n",
    "hidden_size = 400\n",
    "num_layers = 3\n",
    "dropout = 0.5\n",
    "device = torch.device(\"cuda\" if torch.cuda.is_available() else \"cpu\")\n",
    "\n",
    "# Training parameters\n",
    "epochs = 200\n",
    "batch_size = 32\n",
    "learning_rate = 0.0001"
   ],
   "metadata": {
    "collapsed": false,
    "ExecuteTime": {
     "end_time": "2024-10-21T14:34:35.833235700Z",
     "start_time": "2024-10-21T14:34:35.816433400Z"
    }
   },
   "id": "194e4f3040adb64d"
  },
  {
   "cell_type": "markdown",
   "source": [
    "## 1. Target location"
   ],
   "metadata": {
    "collapsed": false
   },
   "id": "4ed10c4c3f4d379e"
  },
  {
   "cell_type": "code",
   "execution_count": 54,
   "outputs": [
    {
     "data": {
      "text/plain": "Empty DataFrame\nColumns: [Customer, Postcode, Generator Capacity, Values, latitude, longitude]\nIndex: []",
      "text/html": "<div>\n<style scoped>\n    .dataframe tbody tr th:only-of-type {\n        vertical-align: middle;\n    }\n\n    .dataframe tbody tr th {\n        vertical-align: top;\n    }\n\n    .dataframe thead th {\n        text-align: right;\n    }\n</style>\n<table border=\"1\" class=\"dataframe\">\n  <thead>\n    <tr style=\"text-align: right;\">\n      <th></th>\n      <th>Customer</th>\n      <th>Postcode</th>\n      <th>Generator Capacity</th>\n      <th>Values</th>\n      <th>latitude</th>\n      <th>longitude</th>\n    </tr>\n    <tr>\n      <th>date</th>\n      <th></th>\n      <th></th>\n      <th></th>\n      <th></th>\n      <th></th>\n      <th></th>\n    </tr>\n  </thead>\n  <tbody>\n  </tbody>\n</table>\n</div>"
     },
     "execution_count": 54,
     "metadata": {},
     "output_type": "execute_result"
    }
   ],
   "source": [
    "data_aus = pd.read_parquet('../data/australia/aus_production.parquet', engine='pyarrow')\n",
    "data_aus = data_aus[data_aus['Customer'] == system_id]\n",
    "data_aus"
   ],
   "metadata": {
    "collapsed": false,
    "ExecuteTime": {
     "end_time": "2024-10-21T14:34:36.598572300Z",
     "start_time": "2024-10-21T14:34:36.431568800Z"
    }
   },
   "id": "693853afcf60f671"
  },
  {
   "cell_type": "code",
   "execution_count": 5,
   "outputs": [
    {
     "data": {
      "text/plain": "(-33.69699153381296, 151.13077966206853, 3.78, 0, 0)"
     },
     "execution_count": 5,
     "metadata": {},
     "output_type": "execute_result"
    }
   ],
   "source": [
    "# Hyperparams from the data\n",
    "peak_power = data_aus['Generator Capacity'].iloc[0]\n",
    "latitude = data_aus['latitude'].iloc[0]\n",
    "longitude = data_aus['longitude'].iloc[0]\n",
    "\n",
    "# Hyperparams not included in the data\n",
    "tilt = 0\n",
    "azimuth = 0\n",
    "# The optimal angles replaces the tilt and azimuth by \"ideal\" settings\n",
    "optimalangles = True\n",
    "\n",
    "latitude, longitude, peak_power, tilt, azimuth"
   ],
   "metadata": {
    "collapsed": false,
    "ExecuteTime": {
     "end_time": "2024-10-21T14:29:14.088345200Z",
     "start_time": "2024-10-21T14:29:14.084974300Z"
    }
   },
   "id": "879cf97881ff0aa1"
  },
  {
   "cell_type": "code",
   "execution_count": 6,
   "outputs": [
    {
     "data": {
      "text/plain": "'australia_1'"
     },
     "execution_count": 6,
     "metadata": {},
     "output_type": "execute_result"
    }
   ],
   "source": [
    "# Unique name for the data, model and metrics\n",
    "data_name = 'base_' + 'australia' '_' + str(system_id)\n",
    "data_name"
   ],
   "metadata": {
    "collapsed": false,
    "ExecuteTime": {
     "end_time": "2024-10-21T14:29:14.103912500Z",
     "start_time": "2024-10-21T14:29:14.087338500Z"
    }
   },
   "id": "6b98fe610c8948df"
  },
  {
   "cell_type": "code",
   "execution_count": 7,
   "outputs": [],
   "source": [
    "# Create the folders to save the data and models\n",
    "data_folder = '../results/AUS/'\n",
    "model_folder = '../models/AUS/' + data_name\n",
    "if not os.path.exists(data_folder):\n",
    "    os.makedirs(data_folder)\n",
    "if not os.path.exists(model_folder):\n",
    "    os.makedirs(model_folder)"
   ],
   "metadata": {
    "collapsed": false,
    "ExecuteTime": {
     "end_time": "2024-10-21T14:29:14.125468300Z",
     "start_time": "2024-10-21T14:29:14.100956500Z"
    }
   },
   "id": "d86a576bc67d4a1"
  },
  {
   "cell_type": "code",
   "execution_count": 8,
   "outputs": [
    {
     "data": {
      "text/plain": "                       P\ndate                    \n2011-07-01 00:00:00  0.0\n2011-07-01 01:00:00  0.0\n2011-07-01 02:00:00  0.0\n2011-07-01 03:00:00  0.0\n2011-07-01 04:00:00  0.0\n...                  ...\n2013-06-30 19:00:00  0.0\n2013-06-30 20:00:00  0.0\n2013-06-30 21:00:00  0.0\n2013-06-30 22:00:00  0.0\n2013-06-30 23:00:00  0.0\n\n[17544 rows x 1 columns]",
      "text/html": "<div>\n<style scoped>\n    .dataframe tbody tr th:only-of-type {\n        vertical-align: middle;\n    }\n\n    .dataframe tbody tr th {\n        vertical-align: top;\n    }\n\n    .dataframe thead th {\n        text-align: right;\n    }\n</style>\n<table border=\"1\" class=\"dataframe\">\n  <thead>\n    <tr style=\"text-align: right;\">\n      <th></th>\n      <th>P</th>\n    </tr>\n    <tr>\n      <th>date</th>\n      <th></th>\n    </tr>\n  </thead>\n  <tbody>\n    <tr>\n      <th>2011-07-01 00:00:00</th>\n      <td>0.0</td>\n    </tr>\n    <tr>\n      <th>2011-07-01 01:00:00</th>\n      <td>0.0</td>\n    </tr>\n    <tr>\n      <th>2011-07-01 02:00:00</th>\n      <td>0.0</td>\n    </tr>\n    <tr>\n      <th>2011-07-01 03:00:00</th>\n      <td>0.0</td>\n    </tr>\n    <tr>\n      <th>2011-07-01 04:00:00</th>\n      <td>0.0</td>\n    </tr>\n    <tr>\n      <th>...</th>\n      <td>...</td>\n    </tr>\n    <tr>\n      <th>2013-06-30 19:00:00</th>\n      <td>0.0</td>\n    </tr>\n    <tr>\n      <th>2013-06-30 20:00:00</th>\n      <td>0.0</td>\n    </tr>\n    <tr>\n      <th>2013-06-30 21:00:00</th>\n      <td>0.0</td>\n    </tr>\n    <tr>\n      <th>2013-06-30 22:00:00</th>\n      <td>0.0</td>\n    </tr>\n    <tr>\n      <th>2013-06-30 23:00:00</th>\n      <td>0.0</td>\n    </tr>\n  </tbody>\n</table>\n<p>17544 rows × 1 columns</p>\n</div>"
     },
     "execution_count": 8,
     "metadata": {},
     "output_type": "execute_result"
    }
   ],
   "source": [
    "# Transform the dataframe to one retaining only the power output\n",
    "data_aus = pd.DataFrame(data_aus['Values'])\n",
    "data_aus = data_aus.resample('H').sum()\n",
    "data_aus = data_aus.rename(columns={\"Values\":\"P\"})\n",
    "\n",
    "target_data = data_aus\n",
    "target_data"
   ],
   "metadata": {
    "collapsed": false,
    "ExecuteTime": {
     "end_time": "2024-10-21T14:29:14.141148Z",
     "start_time": "2024-10-21T14:29:14.111613800Z"
    }
   },
   "id": "c19895e1ca9836a2"
  },
  {
   "cell_type": "markdown",
   "source": [
    "## 2. Source location"
   ],
   "metadata": {
    "collapsed": false
   },
   "id": "baaa56493597bd4a"
  },
  {
   "cell_type": "code",
   "execution_count": 9,
   "outputs": [
    {
     "name": "stdout",
     "output_type": "stream",
     "text": [
      "Gathering data from base location...\n"
     ]
    }
   ],
   "source": [
    "# Fetch data from PVGIS\n",
    "data_PVGIS = PvFetcher(latitude,longitude,peak_power, tilt, azimuth, locations=locations_used, start_date=start_date, end_date=end_date,optimal_angles=1)"
   ],
   "metadata": {
    "collapsed": false,
    "ExecuteTime": {
     "end_time": "2024-10-21T14:29:19.819932200Z",
     "start_time": "2024-10-21T14:29:14.127167100Z"
    }
   },
   "id": "30957dec88587bd9"
  },
  {
   "cell_type": "code",
   "execution_count": 10,
   "outputs": [],
   "source": [
    "# Get the data from the fetcher\n",
    "data = [data_PVGIS.dataset[0]]\n",
    "\n",
    "# Localize the data so that hours align\n",
    "data[0] = data[0].tz_localize('UTC').tz_convert('Australia/Sydney').tz_localize(None)\n",
    "\n",
    "# Remove the hours before and after that do not make up a complete day\n",
    "data[0] = data[0][13:-11]"
   ],
   "metadata": {
    "collapsed": false,
    "ExecuteTime": {
     "end_time": "2024-10-21T14:29:19.862503700Z",
     "start_time": "2024-10-21T14:29:19.820949500Z"
    }
   },
   "id": "a6a9c09603b07cd7"
  },
  {
   "cell_type": "markdown",
   "source": [
    "# 3. Featurisation"
   ],
   "metadata": {
    "collapsed": false
   },
   "id": "1c0927a4cbed4240"
  },
  {
   "cell_type": "markdown",
   "source": [
    "## 3.1 Source"
   ],
   "metadata": {
    "collapsed": false
   },
   "id": "ab1ac8eb1137604f"
  },
  {
   "cell_type": "markdown",
   "source": [
    "Cyclical features"
   ],
   "metadata": {
    "collapsed": false
   },
   "id": "c53875ac2a81ecd0"
  },
  {
   "cell_type": "code",
   "execution_count": 11,
   "outputs": [],
   "source": [
    "# Decide on the features to use in making the model (Note that 'P' should always be included since it's the target variable)\n",
    "dataset = Featurisation(data).base_features(past_features)\n",
    "\n",
    "# Include cyclical features\n",
    "dataset = Featurisation(dataset).cyclic_features(yearly=False)\n",
    "features = dataset[0].columns # update the features\n",
    "source_data = dataset[0].copy()"
   ],
   "metadata": {
    "collapsed": false,
    "ExecuteTime": {
     "end_time": "2024-10-21T14:29:19.872647600Z",
     "start_time": "2024-10-21T14:29:19.863515100Z"
    }
   },
   "id": "2f205764b73ce294"
  },
  {
   "cell_type": "markdown",
   "source": [
    "## 3.2 Target"
   ],
   "metadata": {
    "collapsed": false
   },
   "id": "f5f3f7a9d43b9fd1"
  },
  {
   "cell_type": "markdown",
   "source": [
    "Cyclical features"
   ],
   "metadata": {
    "collapsed": false
   },
   "id": "da22dbc59d930a02"
  },
  {
   "cell_type": "code",
   "execution_count": 12,
   "outputs": [],
   "source": [
    "# Identical to the source domain\n",
    "target_featurisation = Featurisation([target_data])\n",
    "target_data = target_featurisation.cyclic_features()[0]"
   ],
   "metadata": {
    "collapsed": false,
    "ExecuteTime": {
     "end_time": "2024-10-21T14:29:19.882890200Z",
     "start_time": "2024-10-21T14:29:19.872647600Z"
    }
   },
   "id": "15f13f0391f4a6fb"
  },
  {
   "cell_type": "code",
   "execution_count": 13,
   "outputs": [],
   "source": [
    "# Include domain knowledge into the target domain for scaling purposes\n",
    "# We know that the minimum power is always 0\n",
    "domain_min = [0.0]\n",
    "# We are going to assume that the maximum is the peak rated power times some degradation factor. In the paper we assume this degradation is 14%, this is the number also used by PVGIS\n",
    "# cf. https://joint-research-centre.ec.europa.eu/photovoltaic-geographical-information-system-pvgis/getting-started-pvgis/pvgis-user-manual_en#ref-9-hourly-solar-radiation-and-pv-data\n",
    "domain_max = [peak_power*0.86]\n",
    "\n",
    "# For other features we just assume that the minimum and maximum are what we have seen in the source data, this data is freely available, so this is not a stretch\n",
    "other_features = past_features[1:] + future_features\n",
    "for i in range(len(other_features)):\n",
    "    domain_min.append(min(source_data[other_features[i]]))\n",
    "    domain_max.append(max(source_data[other_features[i]]))"
   ],
   "metadata": {
    "collapsed": false,
    "ExecuteTime": {
     "end_time": "2024-10-21T14:29:19.914462Z",
     "start_time": "2024-10-21T14:29:19.883849400Z"
    }
   },
   "id": "442eef9d63a6aad9"
  },
  {
   "cell_type": "markdown",
   "source": [
    "# 4. Tensors"
   ],
   "metadata": {
    "collapsed": false
   },
   "id": "33755eed0dac848c"
  },
  {
   "cell_type": "markdown",
   "source": [
    "## 4.1 Source"
   ],
   "metadata": {
    "collapsed": false
   },
   "id": "6f798611c3d20350"
  },
  {
   "cell_type": "code",
   "execution_count": 14,
   "outputs": [
    {
     "data": {
      "text/plain": "(torch.Size([1751, 24, 3]),\n torch.Size([438, 24, 3]),\n torch.Size([1751, 24]),\n torch.Size([438, 24]))"
     },
     "execution_count": 14,
     "metadata": {},
     "output_type": "execute_result"
    }
   ],
   "source": [
    "# Get the data in the torch.tensor format\n",
    "src_tensors = Tensors(source_data, 'P', past_features , future_features, lags, forecast_period, gap=gap, forecast_gap=forecast_gap)\n",
    "\n",
    "# Split the data into train and test sets with separate tensors for features (X) and the target (y)\n",
    "X_train_src, X_test_src, y_train_src, y_test_src = src_tensors.create_tensor()\n",
    "X_train_src.shape, X_test_src.shape, y_train_src.shape, y_test_src.shape"
   ],
   "metadata": {
    "collapsed": false,
    "ExecuteTime": {
     "end_time": "2024-10-21T14:29:19.926578900Z",
     "start_time": "2024-10-21T14:29:19.902499400Z"
    }
   },
   "id": "e368d2ed7f223ac4"
  },
  {
   "cell_type": "markdown",
   "source": [
    "## 4.2 Target"
   ],
   "metadata": {
    "collapsed": false
   },
   "id": "5659b927ee23db17"
  },
  {
   "cell_type": "markdown",
   "source": [
    "For the target dataset we require a separate \"evaluation set\" of a full year, apart from the train and test set. This makes the tensorisation of the data a bit more complex than what we did for the source domain."
   ],
   "metadata": {
    "collapsed": false
   },
   "id": "d2f90c883f4676c2"
  },
  {
   "cell_type": "code",
   "execution_count": 55,
   "outputs": [],
   "source": [
    "# Take apart the train and test data\n",
    "target_excl_eval = target_data[:-365*24]"
   ],
   "metadata": {
    "collapsed": false,
    "ExecuteTime": {
     "end_time": "2024-10-21T14:55:32.039552100Z",
     "start_time": "2024-10-21T14:55:32.006071600Z"
    }
   },
   "id": "79aaf7cd590d4383"
  },
  {
   "cell_type": "code",
   "execution_count": 16,
   "outputs": [],
   "source": [
    "# Get the months we have available for training. We need this info to make separate cases for each unique case of having \"X months\" of data in the target domain\n",
    "training_months = list(target_excl_eval.index.month.unique())"
   ],
   "metadata": {
    "collapsed": false,
    "ExecuteTime": {
     "end_time": "2024-10-21T14:29:19.938001Z",
     "start_time": "2024-10-21T14:29:19.927609500Z"
    }
   },
   "id": "9aa969d15791db38"
  },
  {
   "cell_type": "code",
   "execution_count": 17,
   "outputs": [],
   "source": [
    "# the timestamps of the training start points for each case of having \"X months\" of data\n",
    "train_starts = []\n",
    "for i in range(len(training_months)):\n",
    "    train_start = target_excl_eval[(target_excl_eval.index.month ==training_months[i])].index[0]\n",
    "    train_starts.append(train_start)\n",
    "    \n",
    "train_starts = list(reversed(train_starts))"
   ],
   "metadata": {
    "collapsed": false,
    "ExecuteTime": {
     "end_time": "2024-10-21T14:29:19.967482700Z",
     "start_time": "2024-10-21T14:29:19.939133700Z"
    }
   },
   "id": "9a38ed6bf8227881"
  },
  {
   "cell_type": "code",
   "execution_count": 18,
   "outputs": [
    {
     "name": "stdout",
     "output_type": "stream",
     "text": [
      "torch.Size([23, 24, 3]) torch.Size([6, 24, 3]) torch.Size([364, 24, 3]) torch.Size([23, 24]) torch.Size([6, 24]) torch.Size([364, 24])\n",
      "torch.Size([48, 24, 3]) torch.Size([12, 24, 3]) torch.Size([364, 24, 3]) torch.Size([48, 24]) torch.Size([12, 24]) torch.Size([364, 24])\n",
      "torch.Size([72, 24, 3]) torch.Size([18, 24, 3]) torch.Size([364, 24, 3]) torch.Size([72, 24]) torch.Size([18, 24]) torch.Size([364, 24])\n",
      "torch.Size([97, 24, 3]) torch.Size([24, 24, 3]) torch.Size([364, 24, 3]) torch.Size([97, 24]) torch.Size([24, 24]) torch.Size([364, 24])\n",
      "torch.Size([120, 24, 3]) torch.Size([30, 24, 3]) torch.Size([364, 24, 3]) torch.Size([120, 24]) torch.Size([30, 24]) torch.Size([364, 24])\n",
      "torch.Size([145, 24, 3]) torch.Size([36, 24, 3]) torch.Size([364, 24, 3]) torch.Size([145, 24]) torch.Size([36, 24]) torch.Size([364, 24])\n",
      "torch.Size([170, 24, 3]) torch.Size([42, 24, 3]) torch.Size([364, 24, 3]) torch.Size([170, 24]) torch.Size([42, 24]) torch.Size([364, 24])\n",
      "torch.Size([194, 24, 3]) torch.Size([48, 24, 3]) torch.Size([364, 24, 3]) torch.Size([194, 24]) torch.Size([48, 24]) torch.Size([364, 24])\n",
      "torch.Size([218, 24, 3]) torch.Size([55, 24, 3]) torch.Size([364, 24, 3]) torch.Size([218, 24]) torch.Size([55, 24]) torch.Size([364, 24])\n",
      "torch.Size([242, 24, 3]) torch.Size([61, 24, 3]) torch.Size([364, 24, 3]) torch.Size([242, 24]) torch.Size([61, 24]) torch.Size([364, 24])\n",
      "torch.Size([267, 24, 3]) torch.Size([67, 24, 3]) torch.Size([364, 24, 3]) torch.Size([267, 24]) torch.Size([67, 24]) torch.Size([364, 24])\n",
      "torch.Size([292, 24, 3]) torch.Size([73, 24, 3]) torch.Size([364, 24, 3]) torch.Size([292, 24]) torch.Size([73, 24]) torch.Size([364, 24])\n"
     ]
    }
   ],
   "source": [
    "# Get the target data in lists holding all the tensors for each of the \"X months\" cases. This time with a train and test set, as well as a separate evaluation set. \n",
    "X_train_target_list = []\n",
    "X_test_target_list = []\n",
    "X_eval_target_list = []\n",
    "y_train_target_list = []\n",
    "y_test_target_list = []\n",
    "y_eval_target_list = []\n",
    "\n",
    "for i in range(len(training_months)):\n",
    "    tgt_tensors = Tensors(target_data.loc[train_starts[i]:], 'P', past_features , future_features, lags, forecast_period, gap=gap, forecast_gap=forecast_gap, evaluation_length=24*365, domain_min=domain_min, domain_max=domain_max)\n",
    "    X_train_tgt, X_test_tgt, X_eval_tgt, y_train_tgt, y_test_tgt, y_eval_tgt = tgt_tensors.create_tensor()\n",
    "    X_train_target_list.append(X_train_tgt)\n",
    "    X_test_target_list.append(X_test_tgt)\n",
    "    X_eval_target_list.append(X_eval_tgt)\n",
    "    y_train_target_list.append(y_train_tgt)\n",
    "    y_test_target_list.append(y_test_tgt)\n",
    "    y_eval_target_list.append(y_eval_tgt) \n",
    "    print(X_train_tgt.shape, X_test_tgt.shape, X_eval_tgt.shape, y_train_tgt.shape, y_test_tgt.shape, y_eval_tgt.shape)"
   ],
   "metadata": {
    "collapsed": false,
    "ExecuteTime": {
     "end_time": "2024-10-21T14:29:19.984168600Z",
     "start_time": "2024-10-21T14:29:19.954436600Z"
    }
   },
   "id": "3cdbbb4f080be078"
  },
  {
   "cell_type": "markdown",
   "source": [
    "# 5. Source model"
   ],
   "metadata": {
    "collapsed": false
   },
   "id": "3786957ed4b4b06b"
  },
  {
   "cell_type": "code",
   "execution_count": 19,
   "outputs": [
    {
     "data": {
      "text/plain": "LSTM(\n  (lstm): LSTM(3, 400, num_layers=3, batch_first=True, dropout=0.5)\n  (linear): Linear(in_features=400, out_features=24, bias=True)\n)"
     },
     "execution_count": 19,
     "metadata": {},
     "output_type": "execute_result"
    }
   ],
   "source": [
    "# Set the parameters for the lstm\n",
    "input_size = len(past_features + future_features)\n",
    "\n",
    "my_lstm = LSTM(input_size,hidden_size,num_layers, forecast_period, dropout).to(device)\n",
    "my_lstm"
   ],
   "metadata": {
    "collapsed": false,
    "ExecuteTime": {
     "end_time": "2024-10-21T14:29:20.227443400Z",
     "start_time": "2024-10-21T14:29:19.980077600Z"
    }
   },
   "id": "b5bf308c1fc0b7bb"
  },
  {
   "cell_type": "code",
   "execution_count": 20,
   "outputs": [
    {
     "name": "stdout",
     "output_type": "stream",
     "text": [
      "Step 0: Average train loss: 0.0370 | Average test loss: 0.0150\n",
      "Step 5: Average train loss: 0.0086 | Average test loss: 0.0110\n",
      "Step 10: Average train loss: 0.0081 | Average test loss: 0.0106\n",
      "Step 15: Average train loss: 0.0079 | Average test loss: 0.0104\n",
      "Step 20: Average train loss: 0.0077 | Average test loss: 0.0103\n",
      "Step 25: Average train loss: 0.0076 | Average test loss: 0.0101\n",
      "Step 30: Average train loss: 0.0076 | Average test loss: 0.0100\n",
      "Step 35: Average train loss: 0.0075 | Average test loss: 0.0100\n",
      "Step 40: Average train loss: 0.0074 | Average test loss: 0.0098\n",
      "Step 45: Average train loss: 0.0074 | Average test loss: 0.0098\n",
      "Step 50: Average train loss: 0.0073 | Average test loss: 0.0097\n",
      "Step 55: Average train loss: 0.0073 | Average test loss: 0.0097\n",
      "Step 60: Average train loss: 0.0072 | Average test loss: 0.0096\n",
      "Step 65: Average train loss: 0.0072 | Average test loss: 0.0095\n",
      "Step 70: Average train loss: 0.0071 | Average test loss: 0.0094\n",
      "Step 75: Average train loss: 0.0071 | Average test loss: 0.0094\n",
      "Step 80: Average train loss: 0.0070 | Average test loss: 0.0093\n",
      "Step 85: Average train loss: 0.0070 | Average test loss: 0.0093\n",
      "Step 90: Average train loss: 0.0070 | Average test loss: 0.0092\n",
      "Step 95: Average train loss: 0.0070 | Average test loss: 0.0092\n",
      "Step 100: Average train loss: 0.0069 | Average test loss: 0.0091\n",
      "Step 105: Average train loss: 0.0069 | Average test loss: 0.0092\n",
      "Step 110: Average train loss: 0.0069 | Average test loss: 0.0091\n",
      "Step 115: Average train loss: 0.0068 | Average test loss: 0.0090\n",
      "Step 120: Average train loss: 0.0069 | Average test loss: 0.0090\n",
      "Step 125: Average train loss: 0.0068 | Average test loss: 0.0089\n",
      "Step 130: Average train loss: 0.0068 | Average test loss: 0.0088\n",
      "Step 135: Average train loss: 0.0067 | Average test loss: 0.0088\n",
      "Step 140: Average train loss: 0.0067 | Average test loss: 0.0089\n",
      "Step 145: Average train loss: 0.0066 | Average test loss: 0.0088\n",
      "Step 150: Average train loss: 0.0066 | Average test loss: 0.0088\n",
      "Step 155: Average train loss: 0.0066 | Average test loss: 0.0088\n",
      "Step 160: Average train loss: 0.0066 | Average test loss: 0.0087\n",
      "Step 165: Average train loss: 0.0065 | Average test loss: 0.0088\n",
      "Step 170: Average train loss: 0.0065 | Average test loss: 0.0088\n",
      "Step 175: Average train loss: 0.0064 | Average test loss: 0.0087\n",
      "Step 180: Average train loss: 0.0065 | Average test loss: 0.0087\n",
      "Step 185: Average train loss: 0.0064 | Average test loss: 0.0087\n",
      "Step 190: Average train loss: 0.0064 | Average test loss: 0.0087\n",
      "Step 195: Average train loss: 0.0063 | Average test loss: 0.0087\n",
      "Best Epoch: 195\n"
     ]
    }
   ],
   "source": [
    "# Initialize the trainer\n",
    "training = Training(my_lstm, X_train_src, y_train_src, X_test_src, y_test_src, epochs,batch_size=batch_size, learning_rate=learning_rate)\n",
    "\n",
    "# Train the model and return the trained parameters and the best iteration\n",
    "state_dict_list, best_epoch = training.fit()"
   ],
   "metadata": {
    "collapsed": false,
    "ExecuteTime": {
     "end_time": "2024-10-21T14:30:27.370956300Z",
     "start_time": "2024-10-21T14:29:20.225445500Z"
    }
   },
   "id": "17feb56dd0a55ab0"
  },
  {
   "cell_type": "code",
   "execution_count": 21,
   "outputs": [],
   "source": [
    "# Load the state dictionary of the best performing model\n",
    "my_lstm.load_state_dict(state_dict_list[best_epoch])\n",
    "\n",
    "# Save the model state dictionary for later use \n",
    "save_model(my_lstm, 'AUS/' + data_name + '/model_' + data_name + '_transfer_0')"
   ],
   "metadata": {
    "collapsed": false,
    "ExecuteTime": {
     "end_time": "2024-10-21T14:30:27.390474300Z",
     "start_time": "2024-10-21T14:30:27.362325600Z"
    }
   },
   "id": "78309de0faa97b09"
  },
  {
   "cell_type": "code",
   "execution_count": 22,
   "outputs": [],
   "source": [
    "# Forecast with the model\n",
    "forecasts = my_lstm(X_test_src.to(device))\n",
    "\n",
    "# Evaluate the model performance\n",
    "source_eval = Evaluation(y_test_src.detach().flatten().numpy(), forecasts.cpu().detach().flatten().numpy())"
   ],
   "metadata": {
    "collapsed": false,
    "ExecuteTime": {
     "end_time": "2024-10-21T14:30:27.408783400Z",
     "start_time": "2024-10-21T14:30:27.385475300Z"
    }
   },
   "id": "cbc2960f198f7417"
  },
  {
   "cell_type": "markdown",
   "source": [
    "# 6. Target model"
   ],
   "metadata": {
    "collapsed": false
   },
   "id": "2ed943c74f35620"
  },
  {
   "cell_type": "code",
   "execution_count": 23,
   "outputs": [],
   "source": [
    "# Set the parameters for the lstm\n",
    "input_size = len(past_features + future_features)\n",
    "\n",
    "# Create empty models for each of the periods\n",
    "target_lstm_list = []\n",
    "\n",
    "for i in range(len(training_months)+1):\n",
    "    target_lstm_list.append(LSTM(input_size,hidden_size,num_layers, forecast_period, dropout).to(device))\n",
    "\n",
    "# The \"0 months\" case is basically random initialization of the weights, so we can already save this model as the target_0 model    \n",
    "torch.save(target_lstm_list[0].state_dict(), '../models/AUS/' + data_name + '/model_' + data_name + '_target_0')"
   ],
   "metadata": {
    "collapsed": false,
    "ExecuteTime": {
     "end_time": "2024-10-21T14:30:27.638814100Z",
     "start_time": "2024-10-21T14:30:27.410784Z"
    }
   },
   "id": "172a0306b3cfa853"
  },
  {
   "cell_type": "code",
   "execution_count": 24,
   "outputs": [
    {
     "name": "stdout",
     "output_type": "stream",
     "text": [
      "Step 0: Average train loss: 0.0457 | Average test loss: 0.0492\n",
      "Step 5: Average train loss: 0.0408 | Average test loss: 0.0436\n",
      "Step 10: Average train loss: 0.0353 | Average test loss: 0.0372\n",
      "Step 15: Average train loss: 0.0285 | Average test loss: 0.0286\n",
      "Step 20: Average train loss: 0.0186 | Average test loss: 0.0157\n",
      "Step 25: Average train loss: 0.0117 | Average test loss: 0.0075\n",
      "Step 30: Average train loss: 0.0110 | Average test loss: 0.0063\n",
      "Step 35: Average train loss: 0.0113 | Average test loss: 0.0088\n",
      "Step 40: Average train loss: 0.0110 | Average test loss: 0.0081\n",
      "Step 45: Average train loss: 0.0104 | Average test loss: 0.0065\n",
      "Step 50: Average train loss: 0.0104 | Average test loss: 0.0062\n",
      "Step 55: Average train loss: 0.0105 | Average test loss: 0.0066\n",
      "Step 60: Average train loss: 0.0103 | Average test loss: 0.0070\n",
      "Step 65: Average train loss: 0.0101 | Average test loss: 0.0067\n",
      "Step 70: Average train loss: 0.0103 | Average test loss: 0.0064\n",
      "Step 75: Average train loss: 0.0102 | Average test loss: 0.0065\n",
      "Step 80: Average train loss: 0.0099 | Average test loss: 0.0067\n",
      "Step 85: Average train loss: 0.0101 | Average test loss: 0.0066\n",
      "Step 90: Average train loss: 0.0103 | Average test loss: 0.0065\n",
      "Step 95: Average train loss: 0.0105 | Average test loss: 0.0065\n",
      "Step 100: Average train loss: 0.0102 | Average test loss: 0.0065\n",
      "Step 105: Average train loss: 0.0101 | Average test loss: 0.0065\n",
      "Step 110: Average train loss: 0.0104 | Average test loss: 0.0065\n",
      "Step 115: Average train loss: 0.0101 | Average test loss: 0.0065\n",
      "Step 120: Average train loss: 0.0101 | Average test loss: 0.0065\n",
      "Step 125: Average train loss: 0.0105 | Average test loss: 0.0065\n",
      "Step 130: Average train loss: 0.0102 | Average test loss: 0.0065\n",
      "Step 135: Average train loss: 0.0104 | Average test loss: 0.0065\n",
      "Step 140: Average train loss: 0.0102 | Average test loss: 0.0065\n",
      "Step 145: Average train loss: 0.0101 | Average test loss: 0.0065\n",
      "Step 150: Average train loss: 0.0102 | Average test loss: 0.0065\n",
      "Step 155: Average train loss: 0.0100 | Average test loss: 0.0065\n",
      "Step 160: Average train loss: 0.0102 | Average test loss: 0.0065\n",
      "Step 165: Average train loss: 0.0101 | Average test loss: 0.0065\n",
      "Step 170: Average train loss: 0.0101 | Average test loss: 0.0064\n",
      "Step 175: Average train loss: 0.0103 | Average test loss: 0.0065\n",
      "Step 180: Average train loss: 0.0099 | Average test loss: 0.0064\n",
      "Step 185: Average train loss: 0.0102 | Average test loss: 0.0065\n",
      "Step 190: Average train loss: 0.0100 | Average test loss: 0.0065\n",
      "Step 195: Average train loss: 0.0102 | Average test loss: 0.0064\n",
      "Best Epoch: 29\n",
      "Step 0: Average train loss: 0.0563 | Average test loss: 0.0519\n",
      "Step 5: Average train loss: 0.0444 | Average test loss: 0.0394\n",
      "Step 10: Average train loss: 0.0241 | Average test loss: 0.0160\n",
      "Step 15: Average train loss: 0.0110 | Average test loss: 0.0073\n",
      "Step 20: Average train loss: 0.0115 | Average test loss: 0.0080\n",
      "Step 25: Average train loss: 0.0107 | Average test loss: 0.0073\n",
      "Step 30: Average train loss: 0.0101 | Average test loss: 0.0072\n",
      "Step 35: Average train loss: 0.0105 | Average test loss: 0.0071\n",
      "Step 40: Average train loss: 0.0102 | Average test loss: 0.0071\n",
      "Step 45: Average train loss: 0.0101 | Average test loss: 0.0071\n",
      "Step 50: Average train loss: 0.0104 | Average test loss: 0.0071\n",
      "Step 55: Average train loss: 0.0105 | Average test loss: 0.0071\n",
      "Step 60: Average train loss: 0.0103 | Average test loss: 0.0071\n",
      "Step 65: Average train loss: 0.0102 | Average test loss: 0.0071\n",
      "Step 70: Average train loss: 0.0100 | Average test loss: 0.0071\n",
      "Step 75: Average train loss: 0.0100 | Average test loss: 0.0071\n",
      "Step 80: Average train loss: 0.0101 | Average test loss: 0.0071\n",
      "Step 85: Average train loss: 0.0100 | Average test loss: 0.0071\n",
      "Step 90: Average train loss: 0.0103 | Average test loss: 0.0071\n",
      "Step 95: Average train loss: 0.0103 | Average test loss: 0.0070\n",
      "Step 100: Average train loss: 0.0100 | Average test loss: 0.0070\n",
      "Step 105: Average train loss: 0.0100 | Average test loss: 0.0070\n",
      "Step 110: Average train loss: 0.0102 | Average test loss: 0.0070\n",
      "Step 115: Average train loss: 0.0099 | Average test loss: 0.0070\n",
      "Step 120: Average train loss: 0.0101 | Average test loss: 0.0070\n",
      "Step 125: Average train loss: 0.0099 | Average test loss: 0.0070\n",
      "Step 130: Average train loss: 0.0095 | Average test loss: 0.0070\n",
      "Step 135: Average train loss: 0.0096 | Average test loss: 0.0070\n",
      "Step 140: Average train loss: 0.0096 | Average test loss: 0.0070\n",
      "Step 145: Average train loss: 0.0095 | Average test loss: 0.0070\n",
      "Step 150: Average train loss: 0.0095 | Average test loss: 0.0071\n",
      "Step 155: Average train loss: 0.0095 | Average test loss: 0.0072\n",
      "Step 160: Average train loss: 0.0090 | Average test loss: 0.0072\n",
      "Step 165: Average train loss: 0.0091 | Average test loss: 0.0073\n",
      "Step 170: Average train loss: 0.0092 | Average test loss: 0.0073\n",
      "Step 175: Average train loss: 0.0091 | Average test loss: 0.0073\n",
      "Step 180: Average train loss: 0.0090 | Average test loss: 0.0073\n",
      "Step 185: Average train loss: 0.0092 | Average test loss: 0.0073\n",
      "Step 190: Average train loss: 0.0091 | Average test loss: 0.0073\n",
      "Step 195: Average train loss: 0.0092 | Average test loss: 0.0073\n",
      "Best Epoch: 132\n",
      "Step 0: Average train loss: 0.0619 | Average test loss: 0.0471\n",
      "Step 5: Average train loss: 0.0399 | Average test loss: 0.0255\n",
      "Step 10: Average train loss: 0.0123 | Average test loss: 0.0089\n",
      "Step 15: Average train loss: 0.0125 | Average test loss: 0.0087\n",
      "Step 20: Average train loss: 0.0117 | Average test loss: 0.0085\n",
      "Step 25: Average train loss: 0.0119 | Average test loss: 0.0087\n",
      "Step 30: Average train loss: 0.0120 | Average test loss: 0.0086\n",
      "Step 35: Average train loss: 0.0118 | Average test loss: 0.0086\n",
      "Step 40: Average train loss: 0.0121 | Average test loss: 0.0085\n",
      "Step 45: Average train loss: 0.0123 | Average test loss: 0.0086\n",
      "Step 50: Average train loss: 0.0115 | Average test loss: 0.0086\n",
      "Step 55: Average train loss: 0.0117 | Average test loss: 0.0086\n",
      "Step 60: Average train loss: 0.0118 | Average test loss: 0.0086\n",
      "Step 65: Average train loss: 0.0114 | Average test loss: 0.0085\n",
      "Step 70: Average train loss: 0.0111 | Average test loss: 0.0085\n",
      "Step 75: Average train loss: 0.0107 | Average test loss: 0.0087\n",
      "Step 80: Average train loss: 0.0104 | Average test loss: 0.0086\n",
      "Step 85: Average train loss: 0.0102 | Average test loss: 0.0086\n",
      "Step 90: Average train loss: 0.0103 | Average test loss: 0.0087\n",
      "Step 95: Average train loss: 0.0099 | Average test loss: 0.0088\n",
      "Step 100: Average train loss: 0.0102 | Average test loss: 0.0087\n",
      "Step 105: Average train loss: 0.0102 | Average test loss: 0.0087\n",
      "Step 110: Average train loss: 0.0103 | Average test loss: 0.0087\n",
      "Step 115: Average train loss: 0.0099 | Average test loss: 0.0088\n",
      "Step 120: Average train loss: 0.0103 | Average test loss: 0.0087\n",
      "Step 125: Average train loss: 0.0101 | Average test loss: 0.0088\n",
      "Step 130: Average train loss: 0.0099 | Average test loss: 0.0089\n",
      "Step 135: Average train loss: 0.0102 | Average test loss: 0.0088\n",
      "Step 140: Average train loss: 0.0101 | Average test loss: 0.0089\n",
      "Step 145: Average train loss: 0.0099 | Average test loss: 0.0089\n",
      "Step 150: Average train loss: 0.0100 | Average test loss: 0.0089\n",
      "Step 155: Average train loss: 0.0101 | Average test loss: 0.0089\n",
      "Step 160: Average train loss: 0.0100 | Average test loss: 0.0089\n",
      "Step 165: Average train loss: 0.0100 | Average test loss: 0.0090\n",
      "Step 170: Average train loss: 0.0100 | Average test loss: 0.0090\n",
      "Step 175: Average train loss: 0.0101 | Average test loss: 0.0089\n",
      "Step 180: Average train loss: 0.0099 | Average test loss: 0.0090\n",
      "Step 185: Average train loss: 0.0102 | Average test loss: 0.0090\n",
      "Step 190: Average train loss: 0.0099 | Average test loss: 0.0091\n",
      "Step 195: Average train loss: 0.0098 | Average test loss: 0.0090\n",
      "Best Epoch: 13\n",
      "Step 0: Average train loss: 0.0691 | Average test loss: 0.0449\n",
      "Step 5: Average train loss: 0.0324 | Average test loss: 0.0117\n",
      "Step 10: Average train loss: 0.0168 | Average test loss: 0.0096\n",
      "Step 15: Average train loss: 0.0151 | Average test loss: 0.0102\n",
      "Step 20: Average train loss: 0.0151 | Average test loss: 0.0107\n",
      "Step 25: Average train loss: 0.0151 | Average test loss: 0.0106\n",
      "Step 30: Average train loss: 0.0149 | Average test loss: 0.0104\n",
      "Step 35: Average train loss: 0.0148 | Average test loss: 0.0107\n",
      "Step 40: Average train loss: 0.0144 | Average test loss: 0.0108\n",
      "Step 45: Average train loss: 0.0143 | Average test loss: 0.0105\n",
      "Step 50: Average train loss: 0.0143 | Average test loss: 0.0102\n",
      "Step 55: Average train loss: 0.0140 | Average test loss: 0.0098\n",
      "Step 60: Average train loss: 0.0138 | Average test loss: 0.0098\n",
      "Step 65: Average train loss: 0.0132 | Average test loss: 0.0095\n",
      "Step 70: Average train loss: 0.0130 | Average test loss: 0.0096\n",
      "Step 75: Average train loss: 0.0133 | Average test loss: 0.0098\n",
      "Step 80: Average train loss: 0.0128 | Average test loss: 0.0094\n",
      "Step 85: Average train loss: 0.0129 | Average test loss: 0.0095\n",
      "Step 90: Average train loss: 0.0128 | Average test loss: 0.0095\n",
      "Step 95: Average train loss: 0.0125 | Average test loss: 0.0097\n",
      "Step 100: Average train loss: 0.0123 | Average test loss: 0.0095\n",
      "Step 105: Average train loss: 0.0125 | Average test loss: 0.0094\n",
      "Step 110: Average train loss: 0.0126 | Average test loss: 0.0094\n",
      "Step 115: Average train loss: 0.0123 | Average test loss: 0.0093\n",
      "Step 120: Average train loss: 0.0123 | Average test loss: 0.0096\n",
      "Step 125: Average train loss: 0.0124 | Average test loss: 0.0093\n",
      "Step 130: Average train loss: 0.0124 | Average test loss: 0.0095\n",
      "Step 135: Average train loss: 0.0121 | Average test loss: 0.0095\n",
      "Step 140: Average train loss: 0.0118 | Average test loss: 0.0095\n",
      "Step 145: Average train loss: 0.0118 | Average test loss: 0.0095\n",
      "Step 150: Average train loss: 0.0123 | Average test loss: 0.0094\n",
      "Step 155: Average train loss: 0.0123 | Average test loss: 0.0095\n",
      "Step 160: Average train loss: 0.0120 | Average test loss: 0.0094\n",
      "Step 165: Average train loss: 0.0122 | Average test loss: 0.0095\n",
      "Step 170: Average train loss: 0.0122 | Average test loss: 0.0096\n",
      "Step 175: Average train loss: 0.0118 | Average test loss: 0.0096\n",
      "Step 180: Average train loss: 0.0119 | Average test loss: 0.0095\n",
      "Step 185: Average train loss: 0.0118 | Average test loss: 0.0095\n",
      "Step 190: Average train loss: 0.0115 | Average test loss: 0.0098\n",
      "Step 195: Average train loss: 0.0116 | Average test loss: 0.0097\n",
      "Best Epoch: 129\n",
      "Step 0: Average train loss: 0.0950 | Average test loss: 0.0416\n",
      "Step 5: Average train loss: 0.0433 | Average test loss: 0.0125\n",
      "Step 10: Average train loss: 0.0193 | Average test loss: 0.0181\n",
      "Step 15: Average train loss: 0.0178 | Average test loss: 0.0187\n",
      "Step 20: Average train loss: 0.0172 | Average test loss: 0.0192\n",
      "Step 25: Average train loss: 0.0170 | Average test loss: 0.0193\n",
      "Step 30: Average train loss: 0.0171 | Average test loss: 0.0190\n",
      "Step 35: Average train loss: 0.0171 | Average test loss: 0.0185\n",
      "Step 40: Average train loss: 0.0168 | Average test loss: 0.0182\n",
      "Step 45: Average train loss: 0.0167 | Average test loss: 0.0175\n",
      "Step 50: Average train loss: 0.0163 | Average test loss: 0.0167\n",
      "Step 55: Average train loss: 0.0164 | Average test loss: 0.0163\n",
      "Step 60: Average train loss: 0.0161 | Average test loss: 0.0147\n",
      "Step 65: Average train loss: 0.0159 | Average test loss: 0.0143\n",
      "Step 70: Average train loss: 0.0161 | Average test loss: 0.0138\n",
      "Step 75: Average train loss: 0.0157 | Average test loss: 0.0137\n",
      "Step 80: Average train loss: 0.0158 | Average test loss: 0.0137\n",
      "Step 85: Average train loss: 0.0157 | Average test loss: 0.0138\n",
      "Step 90: Average train loss: 0.0159 | Average test loss: 0.0137\n",
      "Step 95: Average train loss: 0.0158 | Average test loss: 0.0136\n",
      "Step 100: Average train loss: 0.0159 | Average test loss: 0.0135\n",
      "Step 105: Average train loss: 0.0157 | Average test loss: 0.0134\n",
      "Step 110: Average train loss: 0.0161 | Average test loss: 0.0137\n",
      "Step 115: Average train loss: 0.0159 | Average test loss: 0.0134\n",
      "Step 120: Average train loss: 0.0159 | Average test loss: 0.0133\n",
      "Step 125: Average train loss: 0.0158 | Average test loss: 0.0134\n",
      "Step 130: Average train loss: 0.0159 | Average test loss: 0.0133\n",
      "Step 135: Average train loss: 0.0157 | Average test loss: 0.0132\n",
      "Step 140: Average train loss: 0.0158 | Average test loss: 0.0129\n",
      "Step 145: Average train loss: 0.0154 | Average test loss: 0.0135\n",
      "Step 150: Average train loss: 0.0154 | Average test loss: 0.0130\n",
      "Step 155: Average train loss: 0.0154 | Average test loss: 0.0134\n",
      "Step 160: Average train loss: 0.0155 | Average test loss: 0.0129\n",
      "Step 165: Average train loss: 0.0153 | Average test loss: 0.0130\n",
      "Step 170: Average train loss: 0.0155 | Average test loss: 0.0131\n",
      "Step 175: Average train loss: 0.0153 | Average test loss: 0.0131\n",
      "Step 180: Average train loss: 0.0154 | Average test loss: 0.0130\n",
      "Step 185: Average train loss: 0.0155 | Average test loss: 0.0130\n",
      "Step 190: Average train loss: 0.0153 | Average test loss: 0.0131\n",
      "Step 195: Average train loss: 0.0154 | Average test loss: 0.0130\n",
      "Best Epoch: 5\n",
      "Step 0: Average train loss: 0.0994 | Average test loss: 0.0425\n",
      "Step 5: Average train loss: 0.0314 | Average test loss: 0.0387\n",
      "Step 10: Average train loss: 0.0202 | Average test loss: 0.0187\n",
      "Step 15: Average train loss: 0.0197 | Average test loss: 0.0164\n",
      "Step 20: Average train loss: 0.0194 | Average test loss: 0.0158\n",
      "Step 25: Average train loss: 0.0191 | Average test loss: 0.0153\n",
      "Step 30: Average train loss: 0.0190 | Average test loss: 0.0144\n",
      "Step 35: Average train loss: 0.0185 | Average test loss: 0.0138\n",
      "Step 40: Average train loss: 0.0181 | Average test loss: 0.0123\n",
      "Step 45: Average train loss: 0.0178 | Average test loss: 0.0109\n",
      "Step 50: Average train loss: 0.0176 | Average test loss: 0.0102\n",
      "Step 55: Average train loss: 0.0178 | Average test loss: 0.0104\n",
      "Step 60: Average train loss: 0.0177 | Average test loss: 0.0101\n",
      "Step 65: Average train loss: 0.0176 | Average test loss: 0.0101\n",
      "Step 70: Average train loss: 0.0175 | Average test loss: 0.0101\n",
      "Step 75: Average train loss: 0.0176 | Average test loss: 0.0099\n",
      "Step 80: Average train loss: 0.0174 | Average test loss: 0.0100\n",
      "Step 85: Average train loss: 0.0176 | Average test loss: 0.0098\n",
      "Step 90: Average train loss: 0.0174 | Average test loss: 0.0098\n",
      "Step 95: Average train loss: 0.0175 | Average test loss: 0.0095\n",
      "Step 100: Average train loss: 0.0171 | Average test loss: 0.0096\n",
      "Step 105: Average train loss: 0.0171 | Average test loss: 0.0095\n",
      "Step 110: Average train loss: 0.0172 | Average test loss: 0.0094\n",
      "Step 115: Average train loss: 0.0171 | Average test loss: 0.0097\n",
      "Step 120: Average train loss: 0.0171 | Average test loss: 0.0095\n",
      "Step 125: Average train loss: 0.0170 | Average test loss: 0.0092\n",
      "Step 130: Average train loss: 0.0172 | Average test loss: 0.0093\n",
      "Step 135: Average train loss: 0.0169 | Average test loss: 0.0093\n",
      "Step 140: Average train loss: 0.0172 | Average test loss: 0.0094\n",
      "Step 145: Average train loss: 0.0173 | Average test loss: 0.0091\n",
      "Step 150: Average train loss: 0.0166 | Average test loss: 0.0090\n",
      "Step 155: Average train loss: 0.0171 | Average test loss: 0.0091\n",
      "Step 160: Average train loss: 0.0166 | Average test loss: 0.0090\n",
      "Step 165: Average train loss: 0.0170 | Average test loss: 0.0091\n",
      "Step 170: Average train loss: 0.0170 | Average test loss: 0.0090\n",
      "Step 175: Average train loss: 0.0169 | Average test loss: 0.0091\n",
      "Step 180: Average train loss: 0.0168 | Average test loss: 0.0093\n",
      "Step 185: Average train loss: 0.0166 | Average test loss: 0.0088\n",
      "Step 190: Average train loss: 0.0167 | Average test loss: 0.0090\n",
      "Step 195: Average train loss: 0.0166 | Average test loss: 0.0089\n",
      "Best Epoch: 197\n",
      "Step 0: Average train loss: 0.1022 | Average test loss: 0.0431\n",
      "Step 5: Average train loss: 0.0212 | Average test loss: 0.0146\n",
      "Step 10: Average train loss: 0.0200 | Average test loss: 0.0197\n",
      "Step 15: Average train loss: 0.0197 | Average test loss: 0.0213\n",
      "Step 20: Average train loss: 0.0196 | Average test loss: 0.0205\n",
      "Step 25: Average train loss: 0.0195 | Average test loss: 0.0198\n",
      "Step 30: Average train loss: 0.0192 | Average test loss: 0.0187\n",
      "Step 35: Average train loss: 0.0188 | Average test loss: 0.0176\n",
      "Step 40: Average train loss: 0.0185 | Average test loss: 0.0159\n",
      "Step 45: Average train loss: 0.0186 | Average test loss: 0.0151\n",
      "Step 50: Average train loss: 0.0183 | Average test loss: 0.0152\n",
      "Step 55: Average train loss: 0.0183 | Average test loss: 0.0154\n",
      "Step 60: Average train loss: 0.0184 | Average test loss: 0.0149\n",
      "Step 65: Average train loss: 0.0180 | Average test loss: 0.0146\n",
      "Step 70: Average train loss: 0.0181 | Average test loss: 0.0147\n",
      "Step 75: Average train loss: 0.0180 | Average test loss: 0.0141\n",
      "Step 80: Average train loss: 0.0182 | Average test loss: 0.0145\n",
      "Step 85: Average train loss: 0.0178 | Average test loss: 0.0141\n",
      "Step 90: Average train loss: 0.0178 | Average test loss: 0.0139\n",
      "Step 95: Average train loss: 0.0179 | Average test loss: 0.0136\n",
      "Step 100: Average train loss: 0.0179 | Average test loss: 0.0139\n",
      "Step 105: Average train loss: 0.0179 | Average test loss: 0.0133\n",
      "Step 110: Average train loss: 0.0177 | Average test loss: 0.0141\n",
      "Step 115: Average train loss: 0.0175 | Average test loss: 0.0132\n",
      "Step 120: Average train loss: 0.0177 | Average test loss: 0.0133\n",
      "Step 125: Average train loss: 0.0174 | Average test loss: 0.0129\n",
      "Step 130: Average train loss: 0.0174 | Average test loss: 0.0136\n",
      "Step 135: Average train loss: 0.0175 | Average test loss: 0.0132\n",
      "Step 140: Average train loss: 0.0174 | Average test loss: 0.0131\n",
      "Step 145: Average train loss: 0.0173 | Average test loss: 0.0129\n",
      "Step 150: Average train loss: 0.0170 | Average test loss: 0.0129\n",
      "Step 155: Average train loss: 0.0173 | Average test loss: 0.0128\n",
      "Step 160: Average train loss: 0.0171 | Average test loss: 0.0122\n",
      "Step 165: Average train loss: 0.0171 | Average test loss: 0.0129\n",
      "Step 170: Average train loss: 0.0169 | Average test loss: 0.0130\n",
      "Step 175: Average train loss: 0.0168 | Average test loss: 0.0130\n",
      "Step 180: Average train loss: 0.0169 | Average test loss: 0.0125\n",
      "Step 185: Average train loss: 0.0167 | Average test loss: 0.0125\n",
      "Step 190: Average train loss: 0.0170 | Average test loss: 0.0126\n",
      "Step 195: Average train loss: 0.0168 | Average test loss: 0.0123\n",
      "Best Epoch: 171\n",
      "Step 0: Average train loss: 0.0995 | Average test loss: 0.0395\n",
      "Step 5: Average train loss: 0.0235 | Average test loss: 0.0155\n",
      "Step 10: Average train loss: 0.0211 | Average test loss: 0.0209\n",
      "Step 15: Average train loss: 0.0210 | Average test loss: 0.0207\n",
      "Step 20: Average train loss: 0.0207 | Average test loss: 0.0206\n",
      "Step 25: Average train loss: 0.0205 | Average test loss: 0.0188\n",
      "Step 30: Average train loss: 0.0198 | Average test loss: 0.0168\n",
      "Step 35: Average train loss: 0.0196 | Average test loss: 0.0155\n",
      "Step 40: Average train loss: 0.0195 | Average test loss: 0.0152\n",
      "Step 45: Average train loss: 0.0195 | Average test loss: 0.0153\n",
      "Step 50: Average train loss: 0.0196 | Average test loss: 0.0151\n",
      "Step 55: Average train loss: 0.0196 | Average test loss: 0.0148\n",
      "Step 60: Average train loss: 0.0190 | Average test loss: 0.0146\n",
      "Step 65: Average train loss: 0.0194 | Average test loss: 0.0145\n",
      "Step 70: Average train loss: 0.0191 | Average test loss: 0.0142\n",
      "Step 75: Average train loss: 0.0194 | Average test loss: 0.0147\n",
      "Step 80: Average train loss: 0.0194 | Average test loss: 0.0141\n",
      "Step 85: Average train loss: 0.0192 | Average test loss: 0.0139\n",
      "Step 90: Average train loss: 0.0187 | Average test loss: 0.0135\n",
      "Step 95: Average train loss: 0.0189 | Average test loss: 0.0133\n",
      "Step 100: Average train loss: 0.0189 | Average test loss: 0.0130\n",
      "Step 105: Average train loss: 0.0185 | Average test loss: 0.0123\n",
      "Step 110: Average train loss: 0.0187 | Average test loss: 0.0127\n",
      "Step 115: Average train loss: 0.0185 | Average test loss: 0.0123\n",
      "Step 120: Average train loss: 0.0184 | Average test loss: 0.0124\n",
      "Step 125: Average train loss: 0.0186 | Average test loss: 0.0123\n",
      "Step 130: Average train loss: 0.0181 | Average test loss: 0.0122\n",
      "Step 135: Average train loss: 0.0184 | Average test loss: 0.0115\n",
      "Step 140: Average train loss: 0.0183 | Average test loss: 0.0122\n",
      "Step 145: Average train loss: 0.0182 | Average test loss: 0.0121\n",
      "Step 150: Average train loss: 0.0179 | Average test loss: 0.0113\n",
      "Step 155: Average train loss: 0.0181 | Average test loss: 0.0113\n",
      "Step 160: Average train loss: 0.0180 | Average test loss: 0.0117\n",
      "Step 165: Average train loss: 0.0182 | Average test loss: 0.0113\n",
      "Step 170: Average train loss: 0.0179 | Average test loss: 0.0114\n",
      "Step 175: Average train loss: 0.0177 | Average test loss: 0.0112\n",
      "Step 180: Average train loss: 0.0181 | Average test loss: 0.0118\n",
      "Step 185: Average train loss: 0.0179 | Average test loss: 0.0119\n",
      "Step 190: Average train loss: 0.0179 | Average test loss: 0.0114\n",
      "Step 195: Average train loss: 0.0178 | Average test loss: 0.0113\n",
      "Best Epoch: 186\n",
      "Step 0: Average train loss: 0.1078 | Average test loss: 0.0446\n",
      "Step 5: Average train loss: 0.0252 | Average test loss: 0.0181\n",
      "Step 10: Average train loss: 0.0230 | Average test loss: 0.0217\n",
      "Step 15: Average train loss: 0.0228 | Average test loss: 0.0214\n",
      "Step 20: Average train loss: 0.0223 | Average test loss: 0.0201\n",
      "Step 25: Average train loss: 0.0217 | Average test loss: 0.0178\n",
      "Step 30: Average train loss: 0.0210 | Average test loss: 0.0154\n",
      "Step 35: Average train loss: 0.0210 | Average test loss: 0.0155\n",
      "Step 40: Average train loss: 0.0208 | Average test loss: 0.0155\n",
      "Step 45: Average train loss: 0.0210 | Average test loss: 0.0154\n",
      "Step 50: Average train loss: 0.0208 | Average test loss: 0.0155\n",
      "Step 55: Average train loss: 0.0208 | Average test loss: 0.0150\n",
      "Step 60: Average train loss: 0.0209 | Average test loss: 0.0150\n",
      "Step 65: Average train loss: 0.0209 | Average test loss: 0.0147\n",
      "Step 70: Average train loss: 0.0208 | Average test loss: 0.0144\n",
      "Step 75: Average train loss: 0.0209 | Average test loss: 0.0147\n",
      "Step 80: Average train loss: 0.0205 | Average test loss: 0.0142\n",
      "Step 85: Average train loss: 0.0207 | Average test loss: 0.0141\n",
      "Step 90: Average train loss: 0.0205 | Average test loss: 0.0139\n",
      "Step 95: Average train loss: 0.0206 | Average test loss: 0.0143\n",
      "Step 100: Average train loss: 0.0206 | Average test loss: 0.0140\n",
      "Step 105: Average train loss: 0.0204 | Average test loss: 0.0141\n",
      "Step 110: Average train loss: 0.0203 | Average test loss: 0.0135\n",
      "Step 115: Average train loss: 0.0202 | Average test loss: 0.0135\n",
      "Step 120: Average train loss: 0.0203 | Average test loss: 0.0133\n",
      "Step 125: Average train loss: 0.0204 | Average test loss: 0.0130\n",
      "Step 130: Average train loss: 0.0203 | Average test loss: 0.0127\n",
      "Step 135: Average train loss: 0.0203 | Average test loss: 0.0130\n",
      "Step 140: Average train loss: 0.0204 | Average test loss: 0.0126\n",
      "Step 145: Average train loss: 0.0198 | Average test loss: 0.0126\n",
      "Step 150: Average train loss: 0.0199 | Average test loss: 0.0124\n",
      "Step 155: Average train loss: 0.0201 | Average test loss: 0.0129\n",
      "Step 160: Average train loss: 0.0201 | Average test loss: 0.0126\n",
      "Step 165: Average train loss: 0.0200 | Average test loss: 0.0129\n",
      "Step 170: Average train loss: 0.0199 | Average test loss: 0.0125\n",
      "Step 175: Average train loss: 0.0200 | Average test loss: 0.0123\n",
      "Step 180: Average train loss: 0.0196 | Average test loss: 0.0125\n",
      "Step 185: Average train loss: 0.0200 | Average test loss: 0.0122\n",
      "Step 190: Average train loss: 0.0200 | Average test loss: 0.0125\n",
      "Step 195: Average train loss: 0.0199 | Average test loss: 0.0125\n",
      "Best Epoch: 194\n",
      "Step 0: Average train loss: 0.0973 | Average test loss: 0.0396\n",
      "Step 5: Average train loss: 0.0264 | Average test loss: 0.0237\n",
      "Step 10: Average train loss: 0.0241 | Average test loss: 0.0201\n",
      "Step 15: Average train loss: 0.0237 | Average test loss: 0.0199\n",
      "Step 20: Average train loss: 0.0229 | Average test loss: 0.0183\n",
      "Step 25: Average train loss: 0.0218 | Average test loss: 0.0151\n",
      "Step 30: Average train loss: 0.0216 | Average test loss: 0.0141\n",
      "Step 35: Average train loss: 0.0219 | Average test loss: 0.0146\n",
      "Step 40: Average train loss: 0.0218 | Average test loss: 0.0141\n",
      "Step 45: Average train loss: 0.0217 | Average test loss: 0.0139\n",
      "Step 50: Average train loss: 0.0215 | Average test loss: 0.0138\n",
      "Step 55: Average train loss: 0.0213 | Average test loss: 0.0137\n",
      "Step 60: Average train loss: 0.0215 | Average test loss: 0.0136\n",
      "Step 65: Average train loss: 0.0215 | Average test loss: 0.0136\n",
      "Step 70: Average train loss: 0.0214 | Average test loss: 0.0136\n",
      "Step 75: Average train loss: 0.0213 | Average test loss: 0.0134\n",
      "Step 80: Average train loss: 0.0211 | Average test loss: 0.0134\n",
      "Step 85: Average train loss: 0.0213 | Average test loss: 0.0132\n",
      "Step 90: Average train loss: 0.0213 | Average test loss: 0.0131\n",
      "Step 95: Average train loss: 0.0211 | Average test loss: 0.0133\n",
      "Step 100: Average train loss: 0.0211 | Average test loss: 0.0130\n",
      "Step 105: Average train loss: 0.0213 | Average test loss: 0.0130\n",
      "Step 110: Average train loss: 0.0210 | Average test loss: 0.0126\n",
      "Step 115: Average train loss: 0.0208 | Average test loss: 0.0124\n",
      "Step 120: Average train loss: 0.0210 | Average test loss: 0.0123\n",
      "Step 125: Average train loss: 0.0210 | Average test loss: 0.0122\n",
      "Step 130: Average train loss: 0.0207 | Average test loss: 0.0122\n",
      "Step 135: Average train loss: 0.0209 | Average test loss: 0.0124\n",
      "Step 140: Average train loss: 0.0207 | Average test loss: 0.0122\n",
      "Step 145: Average train loss: 0.0205 | Average test loss: 0.0118\n",
      "Step 150: Average train loss: 0.0205 | Average test loss: 0.0121\n",
      "Step 155: Average train loss: 0.0203 | Average test loss: 0.0118\n",
      "Step 160: Average train loss: 0.0204 | Average test loss: 0.0119\n",
      "Step 165: Average train loss: 0.0205 | Average test loss: 0.0119\n",
      "Step 170: Average train loss: 0.0203 | Average test loss: 0.0121\n",
      "Step 175: Average train loss: 0.0204 | Average test loss: 0.0121\n",
      "Step 180: Average train loss: 0.0204 | Average test loss: 0.0119\n",
      "Step 185: Average train loss: 0.0203 | Average test loss: 0.0120\n",
      "Step 190: Average train loss: 0.0203 | Average test loss: 0.0118\n",
      "Step 195: Average train loss: 0.0205 | Average test loss: 0.0120\n",
      "Best Epoch: 190\n",
      "Step 0: Average train loss: 0.0992 | Average test loss: 0.0446\n",
      "Step 5: Average train loss: 0.0249 | Average test loss: 0.0197\n",
      "Step 10: Average train loss: 0.0235 | Average test loss: 0.0163\n",
      "Step 15: Average train loss: 0.0231 | Average test loss: 0.0152\n",
      "Step 20: Average train loss: 0.0222 | Average test loss: 0.0138\n",
      "Step 25: Average train loss: 0.0216 | Average test loss: 0.0120\n",
      "Step 30: Average train loss: 0.0212 | Average test loss: 0.0114\n",
      "Step 35: Average train loss: 0.0213 | Average test loss: 0.0113\n",
      "Step 40: Average train loss: 0.0214 | Average test loss: 0.0113\n",
      "Step 45: Average train loss: 0.0211 | Average test loss: 0.0109\n",
      "Step 50: Average train loss: 0.0211 | Average test loss: 0.0109\n",
      "Step 55: Average train loss: 0.0212 | Average test loss: 0.0109\n",
      "Step 60: Average train loss: 0.0210 | Average test loss: 0.0108\n",
      "Step 65: Average train loss: 0.0209 | Average test loss: 0.0108\n",
      "Step 70: Average train loss: 0.0209 | Average test loss: 0.0106\n",
      "Step 75: Average train loss: 0.0207 | Average test loss: 0.0104\n",
      "Step 80: Average train loss: 0.0209 | Average test loss: 0.0103\n",
      "Step 85: Average train loss: 0.0207 | Average test loss: 0.0102\n",
      "Step 90: Average train loss: 0.0208 | Average test loss: 0.0103\n",
      "Step 95: Average train loss: 0.0208 | Average test loss: 0.0100\n",
      "Step 100: Average train loss: 0.0205 | Average test loss: 0.0100\n",
      "Step 105: Average train loss: 0.0204 | Average test loss: 0.0098\n",
      "Step 110: Average train loss: 0.0204 | Average test loss: 0.0098\n",
      "Step 115: Average train loss: 0.0202 | Average test loss: 0.0095\n",
      "Step 120: Average train loss: 0.0201 | Average test loss: 0.0095\n",
      "Step 125: Average train loss: 0.0201 | Average test loss: 0.0096\n",
      "Step 130: Average train loss: 0.0203 | Average test loss: 0.0096\n",
      "Step 135: Average train loss: 0.0199 | Average test loss: 0.0095\n",
      "Step 140: Average train loss: 0.0201 | Average test loss: 0.0095\n",
      "Step 145: Average train loss: 0.0197 | Average test loss: 0.0093\n",
      "Step 150: Average train loss: 0.0200 | Average test loss: 0.0094\n",
      "Step 155: Average train loss: 0.0202 | Average test loss: 0.0095\n",
      "Step 160: Average train loss: 0.0202 | Average test loss: 0.0097\n",
      "Step 165: Average train loss: 0.0201 | Average test loss: 0.0095\n",
      "Step 170: Average train loss: 0.0199 | Average test loss: 0.0094\n",
      "Step 175: Average train loss: 0.0200 | Average test loss: 0.0093\n",
      "Step 180: Average train loss: 0.0198 | Average test loss: 0.0095\n",
      "Step 185: Average train loss: 0.0199 | Average test loss: 0.0092\n",
      "Step 190: Average train loss: 0.0200 | Average test loss: 0.0093\n",
      "Step 195: Average train loss: 0.0196 | Average test loss: 0.0091\n",
      "Best Epoch: 193\n",
      "Step 0: Average train loss: 0.0954 | Average test loss: 0.0440\n",
      "Step 5: Average train loss: 0.0244 | Average test loss: 0.0187\n",
      "Step 10: Average train loss: 0.0238 | Average test loss: 0.0174\n",
      "Step 15: Average train loss: 0.0236 | Average test loss: 0.0168\n",
      "Step 20: Average train loss: 0.0226 | Average test loss: 0.0159\n",
      "Step 25: Average train loss: 0.0220 | Average test loss: 0.0136\n",
      "Step 30: Average train loss: 0.0216 | Average test loss: 0.0128\n",
      "Step 35: Average train loss: 0.0214 | Average test loss: 0.0127\n",
      "Step 40: Average train loss: 0.0214 | Average test loss: 0.0124\n",
      "Step 45: Average train loss: 0.0211 | Average test loss: 0.0123\n",
      "Step 50: Average train loss: 0.0212 | Average test loss: 0.0123\n",
      "Step 55: Average train loss: 0.0213 | Average test loss: 0.0121\n",
      "Step 60: Average train loss: 0.0214 | Average test loss: 0.0121\n",
      "Step 65: Average train loss: 0.0212 | Average test loss: 0.0118\n",
      "Step 70: Average train loss: 0.0209 | Average test loss: 0.0119\n",
      "Step 75: Average train loss: 0.0208 | Average test loss: 0.0118\n",
      "Step 80: Average train loss: 0.0209 | Average test loss: 0.0115\n",
      "Step 85: Average train loss: 0.0207 | Average test loss: 0.0114\n",
      "Step 90: Average train loss: 0.0207 | Average test loss: 0.0115\n",
      "Step 95: Average train loss: 0.0207 | Average test loss: 0.0113\n",
      "Step 100: Average train loss: 0.0206 | Average test loss: 0.0111\n",
      "Step 105: Average train loss: 0.0204 | Average test loss: 0.0111\n",
      "Step 110: Average train loss: 0.0204 | Average test loss: 0.0109\n",
      "Step 115: Average train loss: 0.0203 | Average test loss: 0.0110\n",
      "Step 120: Average train loss: 0.0203 | Average test loss: 0.0114\n",
      "Step 125: Average train loss: 0.0200 | Average test loss: 0.0110\n",
      "Step 130: Average train loss: 0.0204 | Average test loss: 0.0110\n",
      "Step 135: Average train loss: 0.0201 | Average test loss: 0.0108\n",
      "Step 140: Average train loss: 0.0199 | Average test loss: 0.0110\n",
      "Step 145: Average train loss: 0.0199 | Average test loss: 0.0110\n",
      "Step 150: Average train loss: 0.0200 | Average test loss: 0.0109\n",
      "Step 155: Average train loss: 0.0201 | Average test loss: 0.0110\n",
      "Step 160: Average train loss: 0.0199 | Average test loss: 0.0109\n",
      "Step 165: Average train loss: 0.0199 | Average test loss: 0.0109\n",
      "Step 170: Average train loss: 0.0199 | Average test loss: 0.0106\n",
      "Step 175: Average train loss: 0.0198 | Average test loss: 0.0107\n",
      "Step 180: Average train loss: 0.0198 | Average test loss: 0.0109\n",
      "Step 185: Average train loss: 0.0197 | Average test loss: 0.0106\n",
      "Step 190: Average train loss: 0.0197 | Average test loss: 0.0107\n",
      "Step 195: Average train loss: 0.0200 | Average test loss: 0.0105\n",
      "Best Epoch: 199\n"
     ]
    }
   ],
   "source": [
    "# Keep track of the best performing iteration\n",
    "target_best_epochs = [0]\n",
    "\n",
    "for i in range(len(training_months)):\n",
    "    # Initialize the trainer\n",
    "    training = Training(target_lstm_list[i+1], X_train_target_list[i], y_train_target_list[i], X_test_target_list[i], y_test_target_list[i], epochs, learning_rate=learning_rate)\n",
    "\n",
    "    # Train the model and return the trained parameters and the best iteration\n",
    "    state_dict_list, best_epoch = training.fit()\n",
    "    \n",
    "    # Load the state dictionary of the best performing model\n",
    "    target_lstm_list[i+1].load_state_dict(state_dict_list[best_epoch])\n",
    "    target_best_epochs.append(best_epoch)"
   ],
   "metadata": {
    "collapsed": false,
    "ExecuteTime": {
     "end_time": "2024-10-21T14:31:50.486933900Z",
     "start_time": "2024-10-21T14:30:27.638814100Z"
    }
   },
   "id": "a707dd96e1a14b7f"
  },
  {
   "cell_type": "code",
   "execution_count": 25,
   "outputs": [],
   "source": [
    "# Maintain lists with all three evaluation metrics used in the paper\n",
    "target_RMSEs = []\n",
    "target_MBEs = []\n",
    "target_MAEs = []\n",
    "\n",
    "# Evaluate a clean model\n",
    "forecasts = target_lstm_list[0](X_eval_target_list[0].to(device))\n",
    "source_eval = Evaluation(y_eval_target_list[0].detach().flatten().numpy(), forecasts.cpu().detach().flatten().numpy())\n",
    "\n",
    "target_RMSEs.append(source_eval.metrics()['RMSE'].values[0])\n",
    "target_MBEs.append(source_eval.metrics()['MBE'].values[0])\n",
    "target_MAEs.append(source_eval.metrics()['MAE'].values[0])\n",
    "\n",
    "for i in range(len(training_months)):\n",
    "    # Forecast with the model\n",
    "    forecasts = target_lstm_list[i+1](X_eval_target_list[i].to(device))\n",
    "    # Evaluate the model performance\n",
    "    source_eval = Evaluation(y_eval_target_list[i].detach().flatten().numpy(), forecasts.cpu().detach().flatten().numpy())\n",
    "\n",
    "    # Append the evaluation metrics\n",
    "    target_RMSEs.append(source_eval.metrics()['RMSE'].values[0])\n",
    "    target_MBEs.append(source_eval.metrics()['MBE'].values[0])\n",
    "    target_MAEs.append(source_eval.metrics()['MAE'].values[0])"
   ],
   "metadata": {
    "collapsed": false,
    "ExecuteTime": {
     "end_time": "2024-10-21T14:32:00.659148400Z",
     "start_time": "2024-10-21T14:31:50.484989500Z"
    }
   },
   "id": "de0660e76f1cde60"
  },
  {
   "cell_type": "markdown",
   "source": [
    "# 7. Transfer model"
   ],
   "metadata": {
    "collapsed": false
   },
   "id": "ee1aa75c7d725d84"
  },
  {
   "cell_type": "code",
   "execution_count": 26,
   "outputs": [
    {
     "data": {
      "text/plain": "['weight_ih_l0', 'weight_hh_l0', 'bias_ih_l0', 'bias_hh_l0']"
     },
     "execution_count": 26,
     "metadata": {},
     "output_type": "execute_result"
    }
   ],
   "source": [
    "# We freeze the weights and biases of the first layer\n",
    "freezing = []\n",
    "\n",
    "for name, _ in my_lstm.lstm.named_parameters():\n",
    "    freezing.append(name)\n",
    "    \n",
    "freezing = freezing[:4]\n",
    "freezing"
   ],
   "metadata": {
    "collapsed": false,
    "ExecuteTime": {
     "end_time": "2024-10-21T14:32:00.668254900Z",
     "start_time": "2024-10-21T14:32:00.661158100Z"
    }
   },
   "id": "5a1ee9bd9bff6639"
  },
  {
   "cell_type": "code",
   "execution_count": 27,
   "outputs": [
    {
     "name": "stdout",
     "output_type": "stream",
     "text": [
      "Step 0: Average train loss: 0.0142 | Average test loss: 0.0110\n",
      "Step 5: Average train loss: 0.0139 | Average test loss: 0.0109\n",
      "Step 10: Average train loss: 0.0145 | Average test loss: 0.0109\n",
      "Step 15: Average train loss: 0.0146 | Average test loss: 0.0108\n",
      "Step 20: Average train loss: 0.0134 | Average test loss: 0.0107\n",
      "Step 25: Average train loss: 0.0140 | Average test loss: 0.0107\n",
      "Step 30: Average train loss: 0.0138 | Average test loss: 0.0106\n",
      "Step 35: Average train loss: 0.0141 | Average test loss: 0.0106\n",
      "Step 40: Average train loss: 0.0137 | Average test loss: 0.0105\n",
      "Step 45: Average train loss: 0.0134 | Average test loss: 0.0105\n",
      "Step 50: Average train loss: 0.0132 | Average test loss: 0.0104\n",
      "Step 55: Average train loss: 0.0133 | Average test loss: 0.0104\n",
      "Step 60: Average train loss: 0.0131 | Average test loss: 0.0103\n",
      "Step 65: Average train loss: 0.0141 | Average test loss: 0.0103\n",
      "Step 70: Average train loss: 0.0127 | Average test loss: 0.0103\n",
      "Step 75: Average train loss: 0.0132 | Average test loss: 0.0102\n",
      "Step 80: Average train loss: 0.0130 | Average test loss: 0.0102\n",
      "Step 85: Average train loss: 0.0134 | Average test loss: 0.0101\n",
      "Step 90: Average train loss: 0.0126 | Average test loss: 0.0101\n",
      "Step 95: Average train loss: 0.0127 | Average test loss: 0.0100\n",
      "Step 100: Average train loss: 0.0125 | Average test loss: 0.0100\n",
      "Step 105: Average train loss: 0.0125 | Average test loss: 0.0100\n",
      "Step 110: Average train loss: 0.0129 | Average test loss: 0.0099\n",
      "Step 115: Average train loss: 0.0129 | Average test loss: 0.0099\n",
      "Step 120: Average train loss: 0.0134 | Average test loss: 0.0098\n",
      "Step 125: Average train loss: 0.0123 | Average test loss: 0.0098\n",
      "Step 130: Average train loss: 0.0124 | Average test loss: 0.0098\n",
      "Step 135: Average train loss: 0.0124 | Average test loss: 0.0097\n",
      "Step 140: Average train loss: 0.0123 | Average test loss: 0.0097\n",
      "Step 145: Average train loss: 0.0119 | Average test loss: 0.0097\n",
      "Step 150: Average train loss: 0.0123 | Average test loss: 0.0096\n",
      "Step 155: Average train loss: 0.0130 | Average test loss: 0.0096\n",
      "Step 160: Average train loss: 0.0123 | Average test loss: 0.0096\n",
      "Step 165: Average train loss: 0.0121 | Average test loss: 0.0095\n",
      "Step 170: Average train loss: 0.0123 | Average test loss: 0.0095\n",
      "Step 175: Average train loss: 0.0121 | Average test loss: 0.0095\n",
      "Step 180: Average train loss: 0.0119 | Average test loss: 0.0094\n",
      "Step 185: Average train loss: 0.0116 | Average test loss: 0.0094\n",
      "Step 190: Average train loss: 0.0117 | Average test loss: 0.0094\n",
      "Step 195: Average train loss: 0.0112 | Average test loss: 0.0093\n",
      "Best Epoch: 199\n",
      "Step 0: Average train loss: 0.0125 | Average test loss: 0.0106\n",
      "Step 5: Average train loss: 0.0132 | Average test loss: 0.0105\n",
      "Step 10: Average train loss: 0.0119 | Average test loss: 0.0104\n",
      "Step 15: Average train loss: 0.0124 | Average test loss: 0.0104\n",
      "Step 20: Average train loss: 0.0121 | Average test loss: 0.0103\n",
      "Step 25: Average train loss: 0.0117 | Average test loss: 0.0102\n",
      "Step 30: Average train loss: 0.0119 | Average test loss: 0.0101\n",
      "Step 35: Average train loss: 0.0117 | Average test loss: 0.0101\n",
      "Step 40: Average train loss: 0.0114 | Average test loss: 0.0100\n",
      "Step 45: Average train loss: 0.0118 | Average test loss: 0.0100\n",
      "Step 50: Average train loss: 0.0114 | Average test loss: 0.0099\n",
      "Step 55: Average train loss: 0.0110 | Average test loss: 0.0098\n",
      "Step 60: Average train loss: 0.0109 | Average test loss: 0.0098\n",
      "Step 65: Average train loss: 0.0110 | Average test loss: 0.0097\n",
      "Step 70: Average train loss: 0.0112 | Average test loss: 0.0097\n",
      "Step 75: Average train loss: 0.0116 | Average test loss: 0.0096\n",
      "Step 80: Average train loss: 0.0110 | Average test loss: 0.0096\n",
      "Step 85: Average train loss: 0.0112 | Average test loss: 0.0095\n",
      "Step 90: Average train loss: 0.0110 | Average test loss: 0.0095\n",
      "Step 95: Average train loss: 0.0114 | Average test loss: 0.0095\n",
      "Step 100: Average train loss: 0.0108 | Average test loss: 0.0094\n",
      "Step 105: Average train loss: 0.0107 | Average test loss: 0.0094\n",
      "Step 110: Average train loss: 0.0110 | Average test loss: 0.0093\n",
      "Step 115: Average train loss: 0.0106 | Average test loss: 0.0093\n",
      "Step 120: Average train loss: 0.0106 | Average test loss: 0.0092\n",
      "Step 125: Average train loss: 0.0106 | Average test loss: 0.0092\n",
      "Step 130: Average train loss: 0.0105 | Average test loss: 0.0092\n",
      "Step 135: Average train loss: 0.0107 | Average test loss: 0.0091\n",
      "Step 140: Average train loss: 0.0107 | Average test loss: 0.0091\n",
      "Step 145: Average train loss: 0.0104 | Average test loss: 0.0091\n",
      "Step 150: Average train loss: 0.0102 | Average test loss: 0.0090\n",
      "Step 155: Average train loss: 0.0103 | Average test loss: 0.0090\n",
      "Step 160: Average train loss: 0.0107 | Average test loss: 0.0090\n",
      "Step 165: Average train loss: 0.0104 | Average test loss: 0.0089\n",
      "Step 170: Average train loss: 0.0102 | Average test loss: 0.0089\n",
      "Step 175: Average train loss: 0.0102 | Average test loss: 0.0089\n",
      "Step 180: Average train loss: 0.0103 | Average test loss: 0.0088\n",
      "Step 185: Average train loss: 0.0103 | Average test loss: 0.0088\n",
      "Step 190: Average train loss: 0.0098 | Average test loss: 0.0088\n",
      "Step 195: Average train loss: 0.0105 | Average test loss: 0.0087\n",
      "Best Epoch: 199\n",
      "Step 0: Average train loss: 0.0128 | Average test loss: 0.0114\n",
      "Step 5: Average train loss: 0.0128 | Average test loss: 0.0114\n",
      "Step 10: Average train loss: 0.0129 | Average test loss: 0.0113\n",
      "Step 15: Average train loss: 0.0123 | Average test loss: 0.0112\n",
      "Step 20: Average train loss: 0.0126 | Average test loss: 0.0111\n",
      "Step 25: Average train loss: 0.0119 | Average test loss: 0.0110\n",
      "Step 30: Average train loss: 0.0119 | Average test loss: 0.0110\n",
      "Step 35: Average train loss: 0.0119 | Average test loss: 0.0109\n",
      "Step 40: Average train loss: 0.0118 | Average test loss: 0.0109\n",
      "Step 45: Average train loss: 0.0119 | Average test loss: 0.0108\n",
      "Step 50: Average train loss: 0.0119 | Average test loss: 0.0108\n",
      "Step 55: Average train loss: 0.0111 | Average test loss: 0.0107\n",
      "Step 60: Average train loss: 0.0112 | Average test loss: 0.0107\n",
      "Step 65: Average train loss: 0.0113 | Average test loss: 0.0107\n",
      "Step 70: Average train loss: 0.0116 | Average test loss: 0.0106\n",
      "Step 75: Average train loss: 0.0113 | Average test loss: 0.0106\n",
      "Step 80: Average train loss: 0.0110 | Average test loss: 0.0106\n",
      "Step 85: Average train loss: 0.0113 | Average test loss: 0.0105\n",
      "Step 90: Average train loss: 0.0110 | Average test loss: 0.0105\n",
      "Step 95: Average train loss: 0.0109 | Average test loss: 0.0105\n",
      "Step 100: Average train loss: 0.0110 | Average test loss: 0.0104\n",
      "Step 105: Average train loss: 0.0106 | Average test loss: 0.0104\n",
      "Step 110: Average train loss: 0.0107 | Average test loss: 0.0104\n",
      "Step 115: Average train loss: 0.0110 | Average test loss: 0.0104\n",
      "Step 120: Average train loss: 0.0110 | Average test loss: 0.0103\n",
      "Step 125: Average train loss: 0.0108 | Average test loss: 0.0103\n",
      "Step 130: Average train loss: 0.0107 | Average test loss: 0.0103\n",
      "Step 135: Average train loss: 0.0104 | Average test loss: 0.0103\n",
      "Step 140: Average train loss: 0.0107 | Average test loss: 0.0103\n",
      "Step 145: Average train loss: 0.0109 | Average test loss: 0.0102\n",
      "Step 150: Average train loss: 0.0105 | Average test loss: 0.0102\n",
      "Step 155: Average train loss: 0.0106 | Average test loss: 0.0102\n",
      "Step 160: Average train loss: 0.0104 | Average test loss: 0.0102\n",
      "Step 165: Average train loss: 0.0108 | Average test loss: 0.0102\n",
      "Step 170: Average train loss: 0.0101 | Average test loss: 0.0102\n",
      "Step 175: Average train loss: 0.0103 | Average test loss: 0.0102\n",
      "Step 180: Average train loss: 0.0102 | Average test loss: 0.0101\n",
      "Step 185: Average train loss: 0.0104 | Average test loss: 0.0101\n",
      "Step 190: Average train loss: 0.0101 | Average test loss: 0.0101\n",
      "Step 195: Average train loss: 0.0101 | Average test loss: 0.0101\n",
      "Best Epoch: 199\n",
      "Step 0: Average train loss: 0.0142 | Average test loss: 0.0129\n",
      "Step 5: Average train loss: 0.0136 | Average test loss: 0.0127\n",
      "Step 10: Average train loss: 0.0133 | Average test loss: 0.0125\n",
      "Step 15: Average train loss: 0.0133 | Average test loss: 0.0124\n",
      "Step 20: Average train loss: 0.0133 | Average test loss: 0.0123\n",
      "Step 25: Average train loss: 0.0134 | Average test loss: 0.0121\n",
      "Step 30: Average train loss: 0.0134 | Average test loss: 0.0120\n",
      "Step 35: Average train loss: 0.0131 | Average test loss: 0.0119\n",
      "Step 40: Average train loss: 0.0132 | Average test loss: 0.0118\n",
      "Step 45: Average train loss: 0.0132 | Average test loss: 0.0117\n",
      "Step 50: Average train loss: 0.0128 | Average test loss: 0.0116\n",
      "Step 55: Average train loss: 0.0129 | Average test loss: 0.0115\n",
      "Step 60: Average train loss: 0.0129 | Average test loss: 0.0114\n",
      "Step 65: Average train loss: 0.0127 | Average test loss: 0.0113\n",
      "Step 70: Average train loss: 0.0128 | Average test loss: 0.0112\n",
      "Step 75: Average train loss: 0.0126 | Average test loss: 0.0112\n",
      "Step 80: Average train loss: 0.0128 | Average test loss: 0.0111\n",
      "Step 85: Average train loss: 0.0124 | Average test loss: 0.0110\n",
      "Step 90: Average train loss: 0.0125 | Average test loss: 0.0110\n",
      "Step 95: Average train loss: 0.0126 | Average test loss: 0.0109\n",
      "Step 100: Average train loss: 0.0124 | Average test loss: 0.0109\n",
      "Step 105: Average train loss: 0.0124 | Average test loss: 0.0108\n",
      "Step 110: Average train loss: 0.0123 | Average test loss: 0.0108\n",
      "Step 115: Average train loss: 0.0124 | Average test loss: 0.0107\n",
      "Step 120: Average train loss: 0.0122 | Average test loss: 0.0107\n",
      "Step 125: Average train loss: 0.0122 | Average test loss: 0.0106\n",
      "Step 130: Average train loss: 0.0122 | Average test loss: 0.0106\n",
      "Step 135: Average train loss: 0.0121 | Average test loss: 0.0105\n",
      "Step 140: Average train loss: 0.0121 | Average test loss: 0.0105\n",
      "Step 145: Average train loss: 0.0119 | Average test loss: 0.0105\n",
      "Step 150: Average train loss: 0.0119 | Average test loss: 0.0104\n",
      "Step 155: Average train loss: 0.0120 | Average test loss: 0.0104\n",
      "Step 160: Average train loss: 0.0122 | Average test loss: 0.0104\n",
      "Step 165: Average train loss: 0.0118 | Average test loss: 0.0103\n",
      "Step 170: Average train loss: 0.0118 | Average test loss: 0.0103\n",
      "Step 175: Average train loss: 0.0118 | Average test loss: 0.0103\n",
      "Step 180: Average train loss: 0.0117 | Average test loss: 0.0103\n",
      "Step 185: Average train loss: 0.0118 | Average test loss: 0.0103\n",
      "Step 190: Average train loss: 0.0118 | Average test loss: 0.0102\n",
      "Step 195: Average train loss: 0.0118 | Average test loss: 0.0102\n",
      "Best Epoch: 199\n",
      "Step 0: Average train loss: 0.0189 | Average test loss: 0.0134\n",
      "Step 5: Average train loss: 0.0190 | Average test loss: 0.0132\n",
      "Step 10: Average train loss: 0.0189 | Average test loss: 0.0131\n",
      "Step 15: Average train loss: 0.0183 | Average test loss: 0.0129\n",
      "Step 20: Average train loss: 0.0184 | Average test loss: 0.0127\n",
      "Step 25: Average train loss: 0.0182 | Average test loss: 0.0126\n",
      "Step 30: Average train loss: 0.0183 | Average test loss: 0.0125\n",
      "Step 35: Average train loss: 0.0183 | Average test loss: 0.0123\n",
      "Step 40: Average train loss: 0.0177 | Average test loss: 0.0122\n",
      "Step 45: Average train loss: 0.0176 | Average test loss: 0.0121\n",
      "Step 50: Average train loss: 0.0179 | Average test loss: 0.0120\n",
      "Step 55: Average train loss: 0.0177 | Average test loss: 0.0119\n",
      "Step 60: Average train loss: 0.0174 | Average test loss: 0.0118\n",
      "Step 65: Average train loss: 0.0173 | Average test loss: 0.0118\n",
      "Step 70: Average train loss: 0.0174 | Average test loss: 0.0117\n",
      "Step 75: Average train loss: 0.0172 | Average test loss: 0.0116\n",
      "Step 80: Average train loss: 0.0172 | Average test loss: 0.0116\n",
      "Step 85: Average train loss: 0.0174 | Average test loss: 0.0115\n",
      "Step 90: Average train loss: 0.0168 | Average test loss: 0.0114\n",
      "Step 95: Average train loss: 0.0169 | Average test loss: 0.0114\n",
      "Step 100: Average train loss: 0.0166 | Average test loss: 0.0113\n",
      "Step 105: Average train loss: 0.0167 | Average test loss: 0.0113\n",
      "Step 110: Average train loss: 0.0168 | Average test loss: 0.0113\n",
      "Step 115: Average train loss: 0.0165 | Average test loss: 0.0112\n",
      "Step 120: Average train loss: 0.0164 | Average test loss: 0.0112\n",
      "Step 125: Average train loss: 0.0164 | Average test loss: 0.0112\n",
      "Step 130: Average train loss: 0.0164 | Average test loss: 0.0111\n",
      "Step 135: Average train loss: 0.0164 | Average test loss: 0.0111\n",
      "Step 140: Average train loss: 0.0166 | Average test loss: 0.0111\n",
      "Step 145: Average train loss: 0.0162 | Average test loss: 0.0110\n",
      "Step 150: Average train loss: 0.0162 | Average test loss: 0.0110\n",
      "Step 155: Average train loss: 0.0162 | Average test loss: 0.0110\n",
      "Step 160: Average train loss: 0.0161 | Average test loss: 0.0110\n",
      "Step 165: Average train loss: 0.0161 | Average test loss: 0.0110\n",
      "Step 170: Average train loss: 0.0162 | Average test loss: 0.0110\n",
      "Step 175: Average train loss: 0.0160 | Average test loss: 0.0110\n",
      "Step 180: Average train loss: 0.0162 | Average test loss: 0.0109\n",
      "Step 185: Average train loss: 0.0160 | Average test loss: 0.0109\n",
      "Step 190: Average train loss: 0.0159 | Average test loss: 0.0109\n",
      "Step 195: Average train loss: 0.0157 | Average test loss: 0.0109\n",
      "Best Epoch: 199\n",
      "Step 0: Average train loss: 0.0213 | Average test loss: 0.0095\n",
      "Step 5: Average train loss: 0.0208 | Average test loss: 0.0093\n",
      "Step 10: Average train loss: 0.0206 | Average test loss: 0.0091\n",
      "Step 15: Average train loss: 0.0206 | Average test loss: 0.0089\n",
      "Step 20: Average train loss: 0.0203 | Average test loss: 0.0088\n",
      "Step 25: Average train loss: 0.0201 | Average test loss: 0.0086\n",
      "Step 30: Average train loss: 0.0201 | Average test loss: 0.0085\n",
      "Step 35: Average train loss: 0.0197 | Average test loss: 0.0084\n",
      "Step 40: Average train loss: 0.0197 | Average test loss: 0.0083\n",
      "Step 45: Average train loss: 0.0195 | Average test loss: 0.0082\n",
      "Step 50: Average train loss: 0.0192 | Average test loss: 0.0081\n",
      "Step 55: Average train loss: 0.0191 | Average test loss: 0.0080\n",
      "Step 60: Average train loss: 0.0189 | Average test loss: 0.0079\n",
      "Step 65: Average train loss: 0.0189 | Average test loss: 0.0079\n",
      "Step 70: Average train loss: 0.0189 | Average test loss: 0.0078\n",
      "Step 75: Average train loss: 0.0187 | Average test loss: 0.0077\n",
      "Step 80: Average train loss: 0.0184 | Average test loss: 0.0077\n",
      "Step 85: Average train loss: 0.0186 | Average test loss: 0.0076\n",
      "Step 90: Average train loss: 0.0185 | Average test loss: 0.0076\n",
      "Step 95: Average train loss: 0.0183 | Average test loss: 0.0075\n",
      "Step 100: Average train loss: 0.0180 | Average test loss: 0.0075\n",
      "Step 105: Average train loss: 0.0183 | Average test loss: 0.0074\n",
      "Step 110: Average train loss: 0.0180 | Average test loss: 0.0074\n",
      "Step 115: Average train loss: 0.0181 | Average test loss: 0.0074\n",
      "Step 120: Average train loss: 0.0179 | Average test loss: 0.0073\n",
      "Step 125: Average train loss: 0.0179 | Average test loss: 0.0073\n",
      "Step 130: Average train loss: 0.0180 | Average test loss: 0.0073\n",
      "Step 135: Average train loss: 0.0177 | Average test loss: 0.0072\n",
      "Step 140: Average train loss: 0.0175 | Average test loss: 0.0072\n",
      "Step 145: Average train loss: 0.0177 | Average test loss: 0.0072\n",
      "Step 150: Average train loss: 0.0177 | Average test loss: 0.0072\n",
      "Step 155: Average train loss: 0.0173 | Average test loss: 0.0072\n",
      "Step 160: Average train loss: 0.0174 | Average test loss: 0.0071\n",
      "Step 165: Average train loss: 0.0173 | Average test loss: 0.0071\n",
      "Step 170: Average train loss: 0.0173 | Average test loss: 0.0071\n",
      "Step 175: Average train loss: 0.0175 | Average test loss: 0.0071\n",
      "Step 180: Average train loss: 0.0173 | Average test loss: 0.0071\n",
      "Step 185: Average train loss: 0.0173 | Average test loss: 0.0071\n",
      "Step 190: Average train loss: 0.0172 | Average test loss: 0.0071\n",
      "Step 195: Average train loss: 0.0174 | Average test loss: 0.0071\n",
      "Best Epoch: 199\n",
      "Step 0: Average train loss: 0.0225 | Average test loss: 0.0124\n",
      "Step 5: Average train loss: 0.0218 | Average test loss: 0.0121\n",
      "Step 10: Average train loss: 0.0217 | Average test loss: 0.0119\n",
      "Step 15: Average train loss: 0.0215 | Average test loss: 0.0117\n",
      "Step 20: Average train loss: 0.0209 | Average test loss: 0.0115\n",
      "Step 25: Average train loss: 0.0209 | Average test loss: 0.0114\n",
      "Step 30: Average train loss: 0.0208 | Average test loss: 0.0112\n",
      "Step 35: Average train loss: 0.0203 | Average test loss: 0.0111\n",
      "Step 40: Average train loss: 0.0201 | Average test loss: 0.0110\n",
      "Step 45: Average train loss: 0.0200 | Average test loss: 0.0109\n",
      "Step 50: Average train loss: 0.0198 | Average test loss: 0.0107\n",
      "Step 55: Average train loss: 0.0197 | Average test loss: 0.0107\n",
      "Step 60: Average train loss: 0.0198 | Average test loss: 0.0106\n",
      "Step 65: Average train loss: 0.0194 | Average test loss: 0.0105\n",
      "Step 70: Average train loss: 0.0193 | Average test loss: 0.0104\n",
      "Step 75: Average train loss: 0.0191 | Average test loss: 0.0103\n",
      "Step 80: Average train loss: 0.0190 | Average test loss: 0.0103\n",
      "Step 85: Average train loss: 0.0191 | Average test loss: 0.0102\n",
      "Step 90: Average train loss: 0.0189 | Average test loss: 0.0102\n",
      "Step 95: Average train loss: 0.0185 | Average test loss: 0.0101\n",
      "Step 100: Average train loss: 0.0188 | Average test loss: 0.0101\n",
      "Step 105: Average train loss: 0.0182 | Average test loss: 0.0100\n",
      "Step 110: Average train loss: 0.0183 | Average test loss: 0.0100\n",
      "Step 115: Average train loss: 0.0183 | Average test loss: 0.0100\n",
      "Step 120: Average train loss: 0.0183 | Average test loss: 0.0100\n",
      "Step 125: Average train loss: 0.0184 | Average test loss: 0.0099\n",
      "Step 130: Average train loss: 0.0182 | Average test loss: 0.0099\n",
      "Step 135: Average train loss: 0.0180 | Average test loss: 0.0099\n",
      "Step 140: Average train loss: 0.0180 | Average test loss: 0.0099\n",
      "Step 145: Average train loss: 0.0178 | Average test loss: 0.0098\n",
      "Step 150: Average train loss: 0.0180 | Average test loss: 0.0098\n",
      "Step 155: Average train loss: 0.0178 | Average test loss: 0.0098\n",
      "Step 160: Average train loss: 0.0179 | Average test loss: 0.0098\n",
      "Step 165: Average train loss: 0.0178 | Average test loss: 0.0098\n",
      "Step 170: Average train loss: 0.0177 | Average test loss: 0.0098\n",
      "Step 175: Average train loss: 0.0177 | Average test loss: 0.0098\n",
      "Step 180: Average train loss: 0.0177 | Average test loss: 0.0098\n",
      "Step 185: Average train loss: 0.0176 | Average test loss: 0.0098\n",
      "Step 190: Average train loss: 0.0176 | Average test loss: 0.0098\n",
      "Step 195: Average train loss: 0.0178 | Average test loss: 0.0098\n",
      "Best Epoch: 199\n",
      "Step 0: Average train loss: 0.0227 | Average test loss: 0.0117\n",
      "Step 5: Average train loss: 0.0221 | Average test loss: 0.0114\n",
      "Step 10: Average train loss: 0.0220 | Average test loss: 0.0112\n",
      "Step 15: Average train loss: 0.0216 | Average test loss: 0.0110\n",
      "Step 20: Average train loss: 0.0214 | Average test loss: 0.0108\n",
      "Step 25: Average train loss: 0.0213 | Average test loss: 0.0107\n",
      "Step 30: Average train loss: 0.0209 | Average test loss: 0.0105\n",
      "Step 35: Average train loss: 0.0205 | Average test loss: 0.0104\n",
      "Step 40: Average train loss: 0.0206 | Average test loss: 0.0103\n",
      "Step 45: Average train loss: 0.0203 | Average test loss: 0.0102\n",
      "Step 50: Average train loss: 0.0200 | Average test loss: 0.0101\n",
      "Step 55: Average train loss: 0.0200 | Average test loss: 0.0100\n",
      "Step 60: Average train loss: 0.0196 | Average test loss: 0.0100\n",
      "Step 65: Average train loss: 0.0197 | Average test loss: 0.0099\n",
      "Step 70: Average train loss: 0.0196 | Average test loss: 0.0099\n",
      "Step 75: Average train loss: 0.0195 | Average test loss: 0.0098\n",
      "Step 80: Average train loss: 0.0194 | Average test loss: 0.0098\n",
      "Step 85: Average train loss: 0.0191 | Average test loss: 0.0097\n",
      "Step 90: Average train loss: 0.0192 | Average test loss: 0.0097\n",
      "Step 95: Average train loss: 0.0192 | Average test loss: 0.0097\n",
      "Step 100: Average train loss: 0.0191 | Average test loss: 0.0096\n",
      "Step 105: Average train loss: 0.0193 | Average test loss: 0.0096\n",
      "Step 110: Average train loss: 0.0188 | Average test loss: 0.0096\n",
      "Step 115: Average train loss: 0.0186 | Average test loss: 0.0096\n",
      "Step 120: Average train loss: 0.0189 | Average test loss: 0.0095\n",
      "Step 125: Average train loss: 0.0187 | Average test loss: 0.0095\n",
      "Step 130: Average train loss: 0.0186 | Average test loss: 0.0095\n",
      "Step 135: Average train loss: 0.0187 | Average test loss: 0.0095\n",
      "Step 140: Average train loss: 0.0187 | Average test loss: 0.0095\n",
      "Step 145: Average train loss: 0.0185 | Average test loss: 0.0095\n",
      "Step 150: Average train loss: 0.0184 | Average test loss: 0.0095\n",
      "Step 155: Average train loss: 0.0184 | Average test loss: 0.0095\n",
      "Step 160: Average train loss: 0.0185 | Average test loss: 0.0095\n",
      "Step 165: Average train loss: 0.0183 | Average test loss: 0.0095\n",
      "Step 170: Average train loss: 0.0185 | Average test loss: 0.0095\n",
      "Step 175: Average train loss: 0.0181 | Average test loss: 0.0095\n",
      "Step 180: Average train loss: 0.0185 | Average test loss: 0.0095\n",
      "Step 185: Average train loss: 0.0182 | Average test loss: 0.0095\n",
      "Step 190: Average train loss: 0.0182 | Average test loss: 0.0095\n",
      "Step 195: Average train loss: 0.0183 | Average test loss: 0.0095\n",
      "Best Epoch: 169\n",
      "Step 0: Average train loss: 0.0249 | Average test loss: 0.0116\n",
      "Step 5: Average train loss: 0.0243 | Average test loss: 0.0113\n",
      "Step 10: Average train loss: 0.0238 | Average test loss: 0.0111\n",
      "Step 15: Average train loss: 0.0235 | Average test loss: 0.0110\n",
      "Step 20: Average train loss: 0.0231 | Average test loss: 0.0108\n",
      "Step 25: Average train loss: 0.0230 | Average test loss: 0.0107\n",
      "Step 30: Average train loss: 0.0227 | Average test loss: 0.0105\n",
      "Step 35: Average train loss: 0.0226 | Average test loss: 0.0104\n",
      "Step 40: Average train loss: 0.0224 | Average test loss: 0.0103\n",
      "Step 45: Average train loss: 0.0222 | Average test loss: 0.0102\n",
      "Step 50: Average train loss: 0.0220 | Average test loss: 0.0102\n",
      "Step 55: Average train loss: 0.0218 | Average test loss: 0.0101\n",
      "Step 60: Average train loss: 0.0217 | Average test loss: 0.0100\n",
      "Step 65: Average train loss: 0.0215 | Average test loss: 0.0100\n",
      "Step 70: Average train loss: 0.0216 | Average test loss: 0.0099\n",
      "Step 75: Average train loss: 0.0215 | Average test loss: 0.0099\n",
      "Step 80: Average train loss: 0.0213 | Average test loss: 0.0099\n",
      "Step 85: Average train loss: 0.0211 | Average test loss: 0.0098\n",
      "Step 90: Average train loss: 0.0209 | Average test loss: 0.0098\n",
      "Step 95: Average train loss: 0.0212 | Average test loss: 0.0098\n",
      "Step 100: Average train loss: 0.0211 | Average test loss: 0.0097\n",
      "Step 105: Average train loss: 0.0208 | Average test loss: 0.0097\n",
      "Step 110: Average train loss: 0.0208 | Average test loss: 0.0097\n",
      "Step 115: Average train loss: 0.0207 | Average test loss: 0.0097\n",
      "Step 120: Average train loss: 0.0206 | Average test loss: 0.0097\n",
      "Step 125: Average train loss: 0.0206 | Average test loss: 0.0097\n",
      "Step 130: Average train loss: 0.0204 | Average test loss: 0.0097\n",
      "Step 135: Average train loss: 0.0206 | Average test loss: 0.0097\n",
      "Step 140: Average train loss: 0.0203 | Average test loss: 0.0096\n",
      "Step 145: Average train loss: 0.0204 | Average test loss: 0.0096\n",
      "Step 150: Average train loss: 0.0205 | Average test loss: 0.0096\n",
      "Step 155: Average train loss: 0.0204 | Average test loss: 0.0096\n",
      "Step 160: Average train loss: 0.0204 | Average test loss: 0.0096\n",
      "Step 165: Average train loss: 0.0202 | Average test loss: 0.0096\n",
      "Step 170: Average train loss: 0.0202 | Average test loss: 0.0096\n",
      "Step 175: Average train loss: 0.0202 | Average test loss: 0.0096\n",
      "Step 180: Average train loss: 0.0204 | Average test loss: 0.0096\n",
      "Step 185: Average train loss: 0.0203 | Average test loss: 0.0096\n",
      "Step 190: Average train loss: 0.0201 | Average test loss: 0.0096\n",
      "Step 195: Average train loss: 0.0202 | Average test loss: 0.0096\n",
      "Best Epoch: 165\n",
      "Step 0: Average train loss: 0.0246 | Average test loss: 0.0112\n",
      "Step 5: Average train loss: 0.0243 | Average test loss: 0.0110\n",
      "Step 10: Average train loss: 0.0237 | Average test loss: 0.0108\n",
      "Step 15: Average train loss: 0.0233 | Average test loss: 0.0106\n",
      "Step 20: Average train loss: 0.0231 | Average test loss: 0.0105\n",
      "Step 25: Average train loss: 0.0229 | Average test loss: 0.0104\n",
      "Step 30: Average train loss: 0.0227 | Average test loss: 0.0103\n",
      "Step 35: Average train loss: 0.0222 | Average test loss: 0.0102\n",
      "Step 40: Average train loss: 0.0223 | Average test loss: 0.0101\n",
      "Step 45: Average train loss: 0.0220 | Average test loss: 0.0100\n",
      "Step 50: Average train loss: 0.0220 | Average test loss: 0.0099\n",
      "Step 55: Average train loss: 0.0219 | Average test loss: 0.0099\n",
      "Step 60: Average train loss: 0.0219 | Average test loss: 0.0098\n",
      "Step 65: Average train loss: 0.0217 | Average test loss: 0.0098\n",
      "Step 70: Average train loss: 0.0217 | Average test loss: 0.0097\n",
      "Step 75: Average train loss: 0.0215 | Average test loss: 0.0097\n",
      "Step 80: Average train loss: 0.0215 | Average test loss: 0.0097\n",
      "Step 85: Average train loss: 0.0213 | Average test loss: 0.0096\n",
      "Step 90: Average train loss: 0.0214 | Average test loss: 0.0096\n",
      "Step 95: Average train loss: 0.0213 | Average test loss: 0.0096\n",
      "Step 100: Average train loss: 0.0210 | Average test loss: 0.0096\n",
      "Step 105: Average train loss: 0.0211 | Average test loss: 0.0096\n",
      "Step 110: Average train loss: 0.0211 | Average test loss: 0.0095\n",
      "Step 115: Average train loss: 0.0210 | Average test loss: 0.0095\n",
      "Step 120: Average train loss: 0.0211 | Average test loss: 0.0095\n",
      "Step 125: Average train loss: 0.0210 | Average test loss: 0.0095\n",
      "Step 130: Average train loss: 0.0210 | Average test loss: 0.0095\n",
      "Step 135: Average train loss: 0.0208 | Average test loss: 0.0095\n",
      "Step 140: Average train loss: 0.0206 | Average test loss: 0.0095\n",
      "Step 145: Average train loss: 0.0209 | Average test loss: 0.0095\n",
      "Step 150: Average train loss: 0.0205 | Average test loss: 0.0095\n",
      "Step 155: Average train loss: 0.0207 | Average test loss: 0.0095\n",
      "Step 160: Average train loss: 0.0208 | Average test loss: 0.0095\n",
      "Step 165: Average train loss: 0.0206 | Average test loss: 0.0095\n",
      "Step 170: Average train loss: 0.0208 | Average test loss: 0.0095\n",
      "Step 175: Average train loss: 0.0205 | Average test loss: 0.0094\n",
      "Step 180: Average train loss: 0.0206 | Average test loss: 0.0094\n",
      "Step 185: Average train loss: 0.0206 | Average test loss: 0.0094\n",
      "Step 190: Average train loss: 0.0207 | Average test loss: 0.0094\n",
      "Step 195: Average train loss: 0.0205 | Average test loss: 0.0094\n",
      "Best Epoch: 190\n",
      "Step 0: Average train loss: 0.0233 | Average test loss: 0.0089\n",
      "Step 5: Average train loss: 0.0233 | Average test loss: 0.0088\n",
      "Step 10: Average train loss: 0.0229 | Average test loss: 0.0086\n",
      "Step 15: Average train loss: 0.0225 | Average test loss: 0.0085\n",
      "Step 20: Average train loss: 0.0220 | Average test loss: 0.0084\n",
      "Step 25: Average train loss: 0.0220 | Average test loss: 0.0083\n",
      "Step 30: Average train loss: 0.0215 | Average test loss: 0.0082\n",
      "Step 35: Average train loss: 0.0215 | Average test loss: 0.0082\n",
      "Step 40: Average train loss: 0.0213 | Average test loss: 0.0081\n",
      "Step 45: Average train loss: 0.0212 | Average test loss: 0.0080\n",
      "Step 50: Average train loss: 0.0212 | Average test loss: 0.0080\n",
      "Step 55: Average train loss: 0.0209 | Average test loss: 0.0079\n",
      "Step 60: Average train loss: 0.0210 | Average test loss: 0.0079\n",
      "Step 65: Average train loss: 0.0210 | Average test loss: 0.0079\n",
      "Step 70: Average train loss: 0.0204 | Average test loss: 0.0078\n",
      "Step 75: Average train loss: 0.0206 | Average test loss: 0.0078\n",
      "Step 80: Average train loss: 0.0207 | Average test loss: 0.0078\n",
      "Step 85: Average train loss: 0.0204 | Average test loss: 0.0078\n",
      "Step 90: Average train loss: 0.0205 | Average test loss: 0.0077\n",
      "Step 95: Average train loss: 0.0203 | Average test loss: 0.0077\n",
      "Step 100: Average train loss: 0.0205 | Average test loss: 0.0077\n",
      "Step 105: Average train loss: 0.0202 | Average test loss: 0.0077\n",
      "Step 110: Average train loss: 0.0203 | Average test loss: 0.0077\n",
      "Step 115: Average train loss: 0.0202 | Average test loss: 0.0077\n",
      "Step 120: Average train loss: 0.0202 | Average test loss: 0.0077\n",
      "Step 125: Average train loss: 0.0202 | Average test loss: 0.0076\n",
      "Step 130: Average train loss: 0.0199 | Average test loss: 0.0076\n",
      "Step 135: Average train loss: 0.0199 | Average test loss: 0.0076\n",
      "Step 140: Average train loss: 0.0199 | Average test loss: 0.0076\n",
      "Step 145: Average train loss: 0.0200 | Average test loss: 0.0076\n",
      "Step 150: Average train loss: 0.0199 | Average test loss: 0.0076\n",
      "Step 155: Average train loss: 0.0199 | Average test loss: 0.0076\n",
      "Step 160: Average train loss: 0.0201 | Average test loss: 0.0076\n",
      "Step 165: Average train loss: 0.0201 | Average test loss: 0.0076\n",
      "Step 170: Average train loss: 0.0199 | Average test loss: 0.0076\n",
      "Step 175: Average train loss: 0.0198 | Average test loss: 0.0076\n",
      "Step 180: Average train loss: 0.0200 | Average test loss: 0.0075\n",
      "Step 185: Average train loss: 0.0199 | Average test loss: 0.0075\n",
      "Step 190: Average train loss: 0.0199 | Average test loss: 0.0075\n",
      "Step 195: Average train loss: 0.0200 | Average test loss: 0.0075\n",
      "Best Epoch: 199\n",
      "Step 0: Average train loss: 0.0234 | Average test loss: 0.0112\n",
      "Step 5: Average train loss: 0.0228 | Average test loss: 0.0110\n",
      "Step 10: Average train loss: 0.0229 | Average test loss: 0.0107\n",
      "Step 15: Average train loss: 0.0221 | Average test loss: 0.0105\n",
      "Step 20: Average train loss: 0.0222 | Average test loss: 0.0103\n",
      "Step 25: Average train loss: 0.0215 | Average test loss: 0.0102\n",
      "Step 30: Average train loss: 0.0214 | Average test loss: 0.0101\n",
      "Step 35: Average train loss: 0.0214 | Average test loss: 0.0100\n",
      "Step 40: Average train loss: 0.0210 | Average test loss: 0.0099\n",
      "Step 45: Average train loss: 0.0209 | Average test loss: 0.0098\n",
      "Step 50: Average train loss: 0.0208 | Average test loss: 0.0097\n",
      "Step 55: Average train loss: 0.0204 | Average test loss: 0.0097\n",
      "Step 60: Average train loss: 0.0206 | Average test loss: 0.0096\n",
      "Step 65: Average train loss: 0.0202 | Average test loss: 0.0096\n",
      "Step 70: Average train loss: 0.0203 | Average test loss: 0.0096\n",
      "Step 75: Average train loss: 0.0203 | Average test loss: 0.0095\n",
      "Step 80: Average train loss: 0.0200 | Average test loss: 0.0095\n",
      "Step 85: Average train loss: 0.0198 | Average test loss: 0.0095\n",
      "Step 90: Average train loss: 0.0201 | Average test loss: 0.0094\n",
      "Step 95: Average train loss: 0.0199 | Average test loss: 0.0094\n",
      "Step 100: Average train loss: 0.0200 | Average test loss: 0.0094\n",
      "Step 105: Average train loss: 0.0198 | Average test loss: 0.0094\n",
      "Step 110: Average train loss: 0.0198 | Average test loss: 0.0094\n",
      "Step 115: Average train loss: 0.0199 | Average test loss: 0.0094\n",
      "Step 120: Average train loss: 0.0198 | Average test loss: 0.0094\n",
      "Step 125: Average train loss: 0.0197 | Average test loss: 0.0094\n",
      "Step 130: Average train loss: 0.0198 | Average test loss: 0.0093\n",
      "Step 135: Average train loss: 0.0196 | Average test loss: 0.0093\n",
      "Step 140: Average train loss: 0.0198 | Average test loss: 0.0093\n",
      "Step 145: Average train loss: 0.0196 | Average test loss: 0.0093\n",
      "Step 150: Average train loss: 0.0195 | Average test loss: 0.0093\n",
      "Step 155: Average train loss: 0.0196 | Average test loss: 0.0093\n",
      "Step 160: Average train loss: 0.0194 | Average test loss: 0.0093\n",
      "Step 165: Average train loss: 0.0195 | Average test loss: 0.0093\n",
      "Step 170: Average train loss: 0.0196 | Average test loss: 0.0093\n",
      "Step 175: Average train loss: 0.0196 | Average test loss: 0.0093\n",
      "Step 180: Average train loss: 0.0195 | Average test loss: 0.0093\n",
      "Step 185: Average train loss: 0.0194 | Average test loss: 0.0093\n",
      "Step 190: Average train loss: 0.0193 | Average test loss: 0.0093\n",
      "Step 195: Average train loss: 0.0197 | Average test loss: 0.0093\n",
      "Best Epoch: 198\n"
     ]
    }
   ],
   "source": [
    "transfer_models = []\n",
    "transfer_best_epochs = [0]\n",
    "\n",
    "for i in range(len(training_months)):\n",
    "    transfer_model  = LSTM(input_size,hidden_size,num_layers, forecast_period, dropout).to(device)\n",
    "    transfer_model.load_state_dict(torch.load('../models/AUS/' + data_name + '/model_' + data_name + '_transfer_0'))\n",
    "       \n",
    "    for name, param in transfer_model.lstm.named_parameters():\n",
    "        if any(freezing_name in name for freezing_name in freezing):\n",
    "            param.requires_grad = False\n",
    "\n",
    "    # Initialize the trainer\n",
    "    training = Training(transfer_model, \n",
    "                              X_train_target_list[i], y_train_target_list[i], X_test_target_list[i], y_test_target_list[i], \n",
    "                              epochs=epochs, batch_size = batch_size, learning_rate =learning_rate/100)\n",
    "\n",
    "    # Train the model and return the trained parameters and the best iteration\n",
    "    state_dict_list, best_epoch = training.fit()\n",
    "    \n",
    "    # Load the state dictionary of the best performing model\n",
    "    transfer_model.load_state_dict(state_dict_list[best_epoch])\n",
    "    \n",
    "    transfer_best_epochs.append(best_epoch)\n",
    "    transfer_models.append(transfer_model)"
   ],
   "metadata": {
    "collapsed": false,
    "ExecuteTime": {
     "end_time": "2024-10-21T14:33:25.946872400Z",
     "start_time": "2024-10-21T14:32:00.670896900Z"
    }
   },
   "id": "350c3b23d316dd6c"
  },
  {
   "cell_type": "code",
   "execution_count": 28,
   "outputs": [],
   "source": [
    "transfer_RMSEs = []\n",
    "transfer_MBEs = []\n",
    "transfer_MAEs = []\n",
    "\n",
    "# Evaluate a clean model\n",
    "\n",
    "transfer_model = LSTM(input_size,hidden_size,num_layers, forecast_period, dropout).to(device)\n",
    "transfer_model.load_state_dict(torch.load('../models/AUS/' + data_name + '/model_' + data_name + '_transfer_0'))\n",
    "\n",
    "forecasts = transfer_model(X_eval_target_list[0].to(device))\n",
    "source_eval = Evaluation(y_eval_target_list[0].detach().flatten().numpy(), forecasts.cpu().detach().flatten().numpy())\n",
    "\n",
    "transfer_RMSEs.append(source_eval.metrics()['RMSE'].values[0])\n",
    "transfer_MBEs.append(source_eval.metrics()['MBE'].values[0])\n",
    "transfer_MAEs.append(source_eval.metrics()['MAE'].values[0])\n",
    "\n",
    "for i in range(len(training_months)):\n",
    "    # Forecast with the model\n",
    "    forecasts = transfer_models[i](X_eval_target_list[i].to(device))\n",
    "    # Evaluate the model performance\n",
    "    source_eval = Evaluation(y_eval_target_list[i].detach().flatten().numpy(), forecasts.cpu().detach().flatten().numpy())\n",
    "\n",
    "    # Show the evaluation metrics\n",
    "    transfer_RMSEs.append(source_eval.metrics()['RMSE'].values[0])\n",
    "    transfer_MBEs.append(source_eval.metrics()['MBE'].values[0])\n",
    "    transfer_MAEs.append(source_eval.metrics()['MAE'].values[0])"
   ],
   "metadata": {
    "collapsed": false,
    "ExecuteTime": {
     "end_time": "2024-10-21T14:33:37.839702200Z",
     "start_time": "2024-10-21T14:33:25.943923100Z"
    }
   },
   "id": "ef5a423788b3e209"
  },
  {
   "cell_type": "markdown",
   "source": [
    "# 8. Baseline"
   ],
   "metadata": {
    "collapsed": false
   },
   "id": "fa98825b51380"
  },
  {
   "cell_type": "code",
   "execution_count": 29,
   "outputs": [],
   "source": [
    "baseline_RMSEs = []\n",
    "baseline_MBEs = []\n",
    "baseline_MAEs = []\n",
    "\n",
    "# Evaluate a clean model, our forecast in this case is basically the first feature in our features tensor, as we predict the next day to be the previous one \n",
    "forecasts = X_eval_target_list[0][:,:,0]\n",
    "source_eval = Evaluation(y_eval_target_list[0].detach().flatten().numpy(), forecasts.cpu().detach().flatten().numpy())\n",
    "\n",
    "baseline_RMSEs.append(source_eval.metrics()['RMSE'].values[0])\n",
    "baseline_MBEs.append(source_eval.metrics()['MBE'].values[0])\n",
    "baseline_MAEs.append(source_eval.metrics()['MAE'].values[0])\n",
    "\n",
    "for i in range(len(training_months)):\n",
    "    # Forecast with the model\n",
    "    forecasts = X_eval_target_list[i][:,:,0]\n",
    "    # Evaluate the model performance\n",
    "    source_eval = Evaluation(y_eval_target_list[i].detach().flatten().numpy(), forecasts.cpu().detach().flatten().numpy())\n",
    "\n",
    "    # Show the evaluation metrics\n",
    "    baseline_RMSEs.append(source_eval.metrics()['RMSE'].values[0])\n",
    "    baseline_MBEs.append(source_eval.metrics()['MBE'].values[0])\n",
    "    baseline_MAEs.append(source_eval.metrics()['MAE'].values[0])"
   ],
   "metadata": {
    "collapsed": false,
    "ExecuteTime": {
     "end_time": "2024-10-21T14:33:41.485361400Z",
     "start_time": "2024-10-21T14:33:37.841617400Z"
    }
   },
   "id": "fa9a67df5080bb4a"
  },
  {
   "cell_type": "markdown",
   "source": [
    "# 9. Final visualisation and export"
   ],
   "metadata": {
    "collapsed": false
   },
   "id": "e19632e7bcce954a"
  },
  {
   "cell_type": "code",
   "execution_count": 30,
   "outputs": [
    {
     "data": {
      "text/plain": "<matplotlib.legend.Legend at 0x24d7fb53410>"
     },
     "execution_count": 30,
     "metadata": {},
     "output_type": "execute_result"
    },
    {
     "data": {
      "text/plain": "<Figure size 640x480 with 1 Axes>",
      "image/png": "[encoded data removed]"
     },
     "metadata": {},
     "output_type": "display_data"
    }
   ],
   "source": [
    "plt.plot(target_RMSEs,label='target')\n",
    "plt.plot(transfer_RMSEs,label='transfer')\n",
    "plt.plot(baseline_RMSEs, label='baseline')\n",
    "plt.legend()"
   ],
   "metadata": {
    "collapsed": false,
    "ExecuteTime": {
     "end_time": "2024-10-21T14:33:41.619693700Z",
     "start_time": "2024-10-21T14:33:41.486325800Z"
    }
   },
   "id": "1a796e9ba899736a"
  },
  {
   "cell_type": "code",
   "execution_count": 31,
   "outputs": [],
   "source": [
    "column_names = []\n",
    "\n",
    "for i in range(len(training_months)+1):\n",
    "    column_names.append(str(i) + 'm')"
   ],
   "metadata": {
    "collapsed": false,
    "ExecuteTime": {
     "end_time": "2024-10-21T14:33:41.619693700Z",
     "start_time": "2024-10-21T14:33:41.613888600Z"
    }
   },
   "id": "68f738ffd4e8f96d"
  },
  {
   "cell_type": "code",
   "execution_count": 32,
   "outputs": [
    {
     "data": {
      "text/plain": "     Baseline RMSE  Target RMSE  Transfer RMSE  Baseline MBE  Target MBE  \\\n0m           0.173        0.336          0.142        -0.000       0.176   \n1m           0.173        0.185          0.141        -0.000       0.073   \n2m           0.173        0.188          0.141        -0.000       0.013   \n3m           0.173        0.158          0.140        -0.000       0.023   \n4m           0.173        0.153          0.141        -0.000       0.033   \n5m           0.173        0.152          0.141        -0.000       0.018   \n6m           0.173        0.152          0.142        -0.000       0.023   \n7m           0.173        0.150          0.143        -0.000       0.022   \n8m           0.173        0.149          0.143        -0.000       0.025   \n9m           0.173        0.149          0.144        -0.000       0.018   \n10m          0.173        0.145          0.143        -0.000       0.012   \n11m          0.173        0.144          0.143        -0.000       0.013   \n12m          0.173        0.144          0.143        -0.000       0.019   \n\n     Transfer MBE  Baseline MAE  Target MAE  Transfer MAE  Target epoch  \\\n0m         -0.005         0.077       0.191         0.078             0   \n1m          0.004         0.077       0.100         0.077            29   \n2m          0.007         0.077       0.097         0.076           132   \n3m          0.009         0.077       0.082         0.075            13   \n4m          0.015         0.077       0.082         0.077           129   \n5m          0.012         0.077       0.084         0.077             5   \n6m          0.016         0.077       0.084         0.079           197   \n7m          0.019         0.077       0.083         0.079           171   \n8m          0.018         0.077       0.081         0.079           186   \n9m          0.019         0.077       0.083         0.080           194   \n10m         0.016         0.077       0.080         0.079           190   \n11m         0.018         0.077       0.079         0.078           193   \n12m         0.019         0.077       0.079         0.078           199   \n\n     Transfer epoch  \n0m                0  \n1m              199  \n2m              199  \n3m              199  \n4m              199  \n5m              199  \n6m              199  \n7m              199  \n8m              169  \n9m              165  \n10m             190  \n11m             199  \n12m             198  ",
      "text/html": "<div>\n<style scoped>\n    .dataframe tbody tr th:only-of-type {\n        vertical-align: middle;\n    }\n\n    .dataframe tbody tr th {\n        vertical-align: top;\n    }\n\n    .dataframe thead th {\n        text-align: right;\n    }\n</style>\n<table border=\"1\" class=\"dataframe\">\n  <thead>\n    <tr style=\"text-align: right;\">\n      <th></th>\n      <th>Baseline RMSE</th>\n      <th>Target RMSE</th>\n      <th>Transfer RMSE</th>\n      <th>Baseline MBE</th>\n      <th>Target MBE</th>\n      <th>Transfer MBE</th>\n      <th>Baseline MAE</th>\n      <th>Target MAE</th>\n      <th>Transfer MAE</th>\n      <th>Target epoch</th>\n      <th>Transfer epoch</th>\n    </tr>\n  </thead>\n  <tbody>\n    <tr>\n      <th>0m</th>\n      <td>0.173</td>\n      <td>0.336</td>\n      <td>0.142</td>\n      <td>-0.000</td>\n      <td>0.176</td>\n      <td>-0.005</td>\n      <td>0.077</td>\n      <td>0.191</td>\n      <td>0.078</td>\n      <td>0</td>\n      <td>0</td>\n    </tr>\n    <tr>\n      <th>1m</th>\n      <td>0.173</td>\n      <td>0.185</td>\n      <td>0.141</td>\n      <td>-0.000</td>\n      <td>0.073</td>\n      <td>0.004</td>\n      <td>0.077</td>\n      <td>0.100</td>\n      <td>0.077</td>\n      <td>29</td>\n      <td>199</td>\n    </tr>\n    <tr>\n      <th>2m</th>\n      <td>0.173</td>\n      <td>0.188</td>\n      <td>0.141</td>\n      <td>-0.000</td>\n      <td>0.013</td>\n      <td>0.007</td>\n      <td>0.077</td>\n      <td>0.097</td>\n      <td>0.076</td>\n      <td>132</td>\n      <td>199</td>\n    </tr>\n    <tr>\n      <th>3m</th>\n      <td>0.173</td>\n      <td>0.158</td>\n      <td>0.140</td>\n      <td>-0.000</td>\n      <td>0.023</td>\n      <td>0.009</td>\n      <td>0.077</td>\n      <td>0.082</td>\n      <td>0.075</td>\n      <td>13</td>\n      <td>199</td>\n    </tr>\n    <tr>\n      <th>4m</th>\n      <td>0.173</td>\n      <td>0.153</td>\n      <td>0.141</td>\n      <td>-0.000</td>\n      <td>0.033</td>\n      <td>0.015</td>\n      <td>0.077</td>\n      <td>0.082</td>\n      <td>0.077</td>\n      <td>129</td>\n      <td>199</td>\n    </tr>\n    <tr>\n      <th>5m</th>\n      <td>0.173</td>\n      <td>0.152</td>\n      <td>0.141</td>\n      <td>-0.000</td>\n      <td>0.018</td>\n      <td>0.012</td>\n      <td>0.077</td>\n      <td>0.084</td>\n      <td>0.077</td>\n      <td>5</td>\n      <td>199</td>\n    </tr>\n    <tr>\n      <th>6m</th>\n      <td>0.173</td>\n      <td>0.152</td>\n      <td>0.142</td>\n      <td>-0.000</td>\n      <td>0.023</td>\n      <td>0.016</td>\n      <td>0.077</td>\n      <td>0.084</td>\n      <td>0.079</td>\n      <td>197</td>\n      <td>199</td>\n    </tr>\n    <tr>\n      <th>7m</th>\n      <td>0.173</td>\n      <td>0.150</td>\n      <td>0.143</td>\n      <td>-0.000</td>\n      <td>0.022</td>\n      <td>0.019</td>\n      <td>0.077</td>\n      <td>0.083</td>\n      <td>0.079</td>\n      <td>171</td>\n      <td>199</td>\n    </tr>\n    <tr>\n      <th>8m</th>\n      <td>0.173</td>\n      <td>0.149</td>\n      <td>0.143</td>\n      <td>-0.000</td>\n      <td>0.025</td>\n      <td>0.018</td>\n      <td>0.077</td>\n      <td>0.081</td>\n      <td>0.079</td>\n      <td>186</td>\n      <td>169</td>\n    </tr>\n    <tr>\n      <th>9m</th>\n      <td>0.173</td>\n      <td>0.149</td>\n      <td>0.144</td>\n      <td>-0.000</td>\n      <td>0.018</td>\n      <td>0.019</td>\n      <td>0.077</td>\n      <td>0.083</td>\n      <td>0.080</td>\n      <td>194</td>\n      <td>165</td>\n    </tr>\n    <tr>\n      <th>10m</th>\n      <td>0.173</td>\n      <td>0.145</td>\n      <td>0.143</td>\n      <td>-0.000</td>\n      <td>0.012</td>\n      <td>0.016</td>\n      <td>0.077</td>\n      <td>0.080</td>\n      <td>0.079</td>\n      <td>190</td>\n      <td>190</td>\n    </tr>\n    <tr>\n      <th>11m</th>\n      <td>0.173</td>\n      <td>0.144</td>\n      <td>0.143</td>\n      <td>-0.000</td>\n      <td>0.013</td>\n      <td>0.018</td>\n      <td>0.077</td>\n      <td>0.079</td>\n      <td>0.078</td>\n      <td>193</td>\n      <td>199</td>\n    </tr>\n    <tr>\n      <th>12m</th>\n      <td>0.173</td>\n      <td>0.144</td>\n      <td>0.143</td>\n      <td>-0.000</td>\n      <td>0.019</td>\n      <td>0.019</td>\n      <td>0.077</td>\n      <td>0.079</td>\n      <td>0.078</td>\n      <td>199</td>\n      <td>198</td>\n    </tr>\n  </tbody>\n</table>\n</div>"
     },
     "execution_count": 32,
     "metadata": {},
     "output_type": "execute_result"
    }
   ],
   "source": [
    "all_metrics = pd.DataFrame([baseline_RMSEs, target_RMSEs, transfer_RMSEs,\n",
    "                            baseline_MBEs, target_MBEs, transfer_MBEs,\n",
    "                            baseline_MAEs, target_MAEs, transfer_MAEs, \n",
    "                            target_best_epochs, transfer_best_epochs],\n",
    "                           columns=column_names, index=['Baseline RMSE', 'Target RMSE', 'Transfer RMSE', \n",
    "                                                        'Baseline MBE', 'Target MBE', 'Transfer MBE', \n",
    "                                                        'Baseline MAE', 'Target MAE', 'Transfer MAE', \n",
    "                                                        'Target epoch', 'Transfer epoch']).transpose()\n",
    "\n",
    "all_metrics['Target epoch'] = all_metrics['Target epoch'].astype(int)\n",
    "all_metrics['Transfer epoch'] = all_metrics['Transfer epoch'].astype(int)\n",
    "all_metrics"
   ],
   "metadata": {
    "collapsed": false,
    "ExecuteTime": {
     "end_time": "2024-10-21T14:33:41.640505100Z",
     "start_time": "2024-10-21T14:33:41.618746700Z"
    }
   },
   "id": "74cc8e6ba8e067e2"
  },
  {
   "cell_type": "code",
   "execution_count": 33,
   "outputs": [],
   "source": [
    "all_metrics.to_csv('../results/AUS/' + 'summary_table_' + data_name + '.csv')"
   ],
   "metadata": {
    "collapsed": false,
    "ExecuteTime": {
     "end_time": "2024-10-21T14:33:41.683337800Z",
     "start_time": "2024-10-21T14:33:41.637467600Z"
    }
   },
   "id": "4e911dfa55c19f92"
  },
  {
   "cell_type": "code",
   "execution_count": 34,
   "outputs": [
    {
     "data": {
      "text/plain": "'australia_1'"
     },
     "execution_count": 34,
     "metadata": {},
     "output_type": "execute_result"
    }
   ],
   "source": [
    "data_name"
   ],
   "metadata": {
    "collapsed": false,
    "ExecuteTime": {
     "end_time": "2024-10-21T14:33:41.683337800Z",
     "start_time": "2024-10-21T14:33:41.652326700Z"
    }
   },
   "id": "62ad32304b2e2f"
  }
 ],
 "metadata": {
  "kernelspec": {
   "display_name": "Python 3",
   "language": "python",
   "name": "python3"
  },
  "language_info": {
   "codemirror_mode": {
    "name": "ipython",
    "version": 2
   },
   "file_extension": ".py",
   "mimetype": "text/x-python",
   "name": "python",
   "nbconvert_exporter": "python",
   "pygments_lexer": "ipython2",
   "version": "2.7.6"
  }
 },
 "nbformat": 4,
 "nbformat_minor": 5
}
